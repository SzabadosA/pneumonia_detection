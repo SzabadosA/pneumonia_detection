{
 "cells": [
  {
   "cell_type": "markdown",
   "id": "edef74c71e6ebce5",
   "metadata": {},
   "source": [
    "# Import Libraries"
   ]
  },
  {
   "cell_type": "code",
   "execution_count": null,
   "id": "initial_id",
   "metadata": {
    "ExecuteTime": {
     "end_time": "2025-01-13T18:39:42.545051Z",
     "start_time": "2025-01-13T18:39:33.357300Z"
    },
    "collapsed": true,
    "execution": {
     "iopub.execute_input": "2025-01-18T06:19:25.158206Z",
     "iopub.status.busy": "2025-01-18T06:19:25.158206Z",
     "iopub.status.idle": "2025-01-18T06:19:35.519394Z",
     "shell.execute_reply": "2025-01-18T06:19:35.518379Z"
    }
   },
   "outputs": [],
   "source": [
    "\n",
    "import os\n",
    "from IPython import get_ipython\n",
    "get_ipython().run_line_magic(\"matplotlib\", \"inline\")\n",
    "from torchvision.transforms import Compose, Resize, InterpolationMode, ToTensor, Normalize, RandomCrop, RandomHorizontalFlip\n",
    "import torch\n",
    "from code.classifier import CNNPneumoniaClassifier, Config\n",
    "from code.plot_random_image import plot_random_image_from_loader\n",
    "from code.classify_random_images import plot_random_images_with_labels\n",
    "from sklearn.metrics import ConfusionMatrixDisplay, confusion_matrix\n",
    "import matplotlib.pyplot as plt\n",
    "\n"
   ]
  },
  {
   "cell_type": "code",
   "execution_count": null,
   "id": "4376ace1b8695239",
   "metadata": {
    "ExecuteTime": {
     "end_time": "2025-01-13T18:39:42.575283Z",
     "start_time": "2025-01-13T18:39:42.555051Z"
    },
    "execution": {
     "iopub.execute_input": "2025-01-18T06:19:35.523418Z",
     "iopub.status.busy": "2025-01-18T06:19:35.522415Z",
     "iopub.status.idle": "2025-01-18T06:19:35.543306Z",
     "shell.execute_reply": "2025-01-18T06:19:35.542291Z"
    }
   },
   "outputs": [],
   "source": [
    "\n",
    "# Load the TensorBoard\n",
    "%reload_ext tensorboard\n",
    "%load_ext tensorboard\n"
   ]
  },
  {
   "cell_type": "code",
   "execution_count": null,
   "id": "69e053f3a82f28da",
   "metadata": {
    "ExecuteTime": {
     "end_time": "2025-01-13T18:39:44.112306Z",
     "start_time": "2025-01-13T18:39:44.107056Z"
    },
    "execution": {
     "iopub.execute_input": "2025-01-18T06:19:35.546347Z",
     "iopub.status.busy": "2025-01-18T06:19:35.546347Z",
     "iopub.status.idle": "2025-01-18T06:19:35.551394Z",
     "shell.execute_reply": "2025-01-18T06:19:35.550360Z"
    }
   },
   "outputs": [],
   "source": [
    "# Enable CUDA Launch Blocking\n",
    "os.environ['CUDA_LAUNCH_BLOCKING'] = '1'\n",
    "# Set float32 matrix multiplication precision to 'medium' to utilize Tensor Cores\n",
    "torch.set_float32_matmul_precision('medium')\n",
    "torch.serialization.add_safe_globals([Compose, Resize, set, Config, InterpolationMode, ToTensor, Normalize, RandomHorizontalFlip])"
   ]
  },
  {
   "cell_type": "markdown",
   "id": "c4e73085475698cb",
   "metadata": {},
   "source": [
    "# Check GPU Availability"
   ]
  },
  {
   "cell_type": "code",
   "execution_count": null,
   "id": "ba465dcd3a376771",
   "metadata": {
    "ExecuteTime": {
     "end_time": "2025-01-13T18:39:44.552585Z",
     "start_time": "2025-01-13T18:39:44.350443Z"
    },
    "execution": {
     "iopub.execute_input": "2025-01-18T06:19:35.554402Z",
     "iopub.status.busy": "2025-01-18T06:19:35.554402Z",
     "iopub.status.idle": "2025-01-18T06:19:35.736681Z",
     "shell.execute_reply": "2025-01-18T06:19:35.735669Z"
    }
   },
   "outputs": [],
   "source": [
    "gpu_info = !nvidia-smi\n",
    "gpu_info = '\\n'.join(gpu_info)\n",
    "if gpu_info.find('failed') >= 0:\n",
    "    print('Not connected to a GPU')\n",
    "else:\n",
    "    print(gpu_info)"
   ]
  },
  {
   "cell_type": "markdown",
   "id": "72000018a252c38",
   "metadata": {},
   "source": [
    "# Setup Model"
   ]
  },
  {
   "cell_type": "code",
   "execution_count": null,
   "id": "4014586acf1f2311",
   "metadata": {
    "ExecuteTime": {
     "end_time": "2025-01-13T18:39:45.484579Z",
     "start_time": "2025-01-13T18:39:44.787624Z"
    },
    "execution": {
     "iopub.execute_input": "2025-01-18T06:19:35.739679Z",
     "iopub.status.busy": "2025-01-18T06:19:35.739679Z",
     "iopub.status.idle": "2025-01-18T06:19:36.414616Z",
     "shell.execute_reply": "2025-01-18T06:19:36.414075Z"
    }
   },
   "outputs": [],
   "source": [
    "config = Config(\n",
    "    backbone_name=\"resnet18\",\n",
    "    transfer_learning=True,\n",
    "    learning_rate=1e-4,\n",
    "    batch_size=20,\n",
    "    max_epochs=50,\n",
    "    weight_decay=1e-4,\n",
    "    dropout=0.2,\n",
    "    num_workers=16,\n",
    "    model_name=\"ResNet18_reordered_weighted\",\n",
    "    version=\"001\",\n",
    "    optimizer_name = \"sgd\",\n",
    "    use_class_weights=True,\n",
    "    image_res=224,\n",
    "    patience = 10,\n",
    "    image_type=1\n",
    ")\n",
    "model = CNNPneumoniaClassifier(config)\n",
    "device = torch.device(\"cuda\" if torch.cuda.is_available() else \"cpu\")\n",
    "model = model.to(device)\n"
   ]
  },
  {
   "cell_type": "markdown",
   "id": "f9fad1c4b6515630",
   "metadata": {},
   "source": [
    "# Plot random images from all datasets"
   ]
  },
  {
   "cell_type": "code",
   "execution_count": null,
   "id": "484a34133e6799cb",
   "metadata": {
    "ExecuteTime": {
     "end_time": "2024-12-07T20:15:11.095380Z",
     "start_time": "2024-12-07T20:15:10.812381Z"
    },
    "execution": {
     "iopub.execute_input": "2025-01-18T06:19:36.418628Z",
     "iopub.status.busy": "2025-01-18T06:19:36.418628Z",
     "iopub.status.idle": "2025-01-18T06:19:36.702846Z",
     "shell.execute_reply": "2025-01-18T06:19:36.701818Z"
    }
   },
   "outputs": [],
   "source": [
    "plot_random_image_from_loader(model.train_loader.dataset, \"Train Dataset\")"
   ]
  },
  {
   "cell_type": "code",
   "execution_count": null,
   "id": "8fd665ef08dafd7f",
   "metadata": {
    "ExecuteTime": {
     "end_time": "2024-12-07T20:15:11.652938Z",
     "start_time": "2024-12-07T20:15:11.350420Z"
    },
    "execution": {
     "iopub.execute_input": "2025-01-18T06:19:36.706817Z",
     "iopub.status.busy": "2025-01-18T06:19:36.705818Z",
     "iopub.status.idle": "2025-01-18T06:19:36.951217Z",
     "shell.execute_reply": "2025-01-18T06:19:36.950221Z"
    }
   },
   "outputs": [],
   "source": [
    "plot_random_image_from_loader(model.val_loader.dataset, \"Validation Dataset\")"
   ]
  },
  {
   "cell_type": "code",
   "execution_count": null,
   "id": "c3529628b6269dc4",
   "metadata": {
    "ExecuteTime": {
     "end_time": "2024-12-07T19:22:39.899160Z",
     "start_time": "2024-12-07T19:22:39.107174Z"
    },
    "execution": {
     "iopub.execute_input": "2025-01-18T06:19:36.955220Z",
     "iopub.status.busy": "2025-01-18T06:19:36.954217Z",
     "iopub.status.idle": "2025-01-18T06:19:37.222782Z",
     "shell.execute_reply": "2025-01-18T06:19:37.221789Z"
    }
   },
   "outputs": [],
   "source": [
    "plot_random_image_from_loader(model.test_loader.dataset, \"Test Dataset\")"
   ]
  },
  {
   "cell_type": "markdown",
   "id": "9f803b343bf2619b",
   "metadata": {},
   "source": [
    "# Train Model"
   ]
  },
  {
   "cell_type": "code",
   "execution_count": null,
   "id": "d08c054aa7b21aa",
   "metadata": {
    "ExecuteTime": {
     "end_time": "2024-12-02T19:25:35.872984Z",
     "start_time": "2024-12-02T19:05:52.940511Z"
    },
    "execution": {
     "iopub.execute_input": "2025-01-18T06:19:37.226785Z",
     "iopub.status.busy": "2025-01-18T06:19:37.225784Z",
     "iopub.status.idle": "2025-01-18T06:35:05.608958Z",
     "shell.execute_reply": "2025-01-18T06:35:05.607963Z"
    }
   },
   "outputs": [],
   "source": [
    "\n",
    "# Train Model - Uncomment to train model\n",
    "#model.train_model()\n",
    "#torch.save({\n",
    "#    \"state_dict\": model.state_dict(),\n",
    "#    \"config\": vars(config)\n",
    "#}, f\"../models/{config.model_name}_final.pt\")"
   ]
  },
  {
   "cell_type": "markdown",
   "id": "389fe2c9d480ef8b",
   "metadata": {},
   "source": [
    "# Load Model"
   ]
  },
  {
   "cell_type": "code",
   "execution_count": null,
   "id": "1fa424496604d224",
   "metadata": {
    "ExecuteTime": {
     "end_time": "2025-01-13T18:39:46.239348Z",
     "start_time": "2025-01-13T18:39:45.715103Z"
    },
    "execution": {
     "iopub.execute_input": "2025-01-18T06:35:05.611961Z",
     "iopub.status.busy": "2025-01-18T06:35:05.611961Z",
     "iopub.status.idle": "2025-01-18T06:35:06.125807Z",
     "shell.execute_reply": "2025-01-18T06:35:06.124807Z"
    }
   },
   "outputs": [],
   "source": [
    "\n",
    "checkpoint = torch.load(f\"../models/{config.model_name}_final.pt\")\n",
    "loaded_config = Config(**checkpoint[\"config\"])\n",
    "model = CNNPneumoniaClassifier(loaded_config)\n",
    "model.load_state_dict(checkpoint[\"state_dict\"])\n",
    "model.eval()\n",
    "model = model.to(device)"
   ]
  },
  {
   "cell_type": "markdown",
   "id": "8b74b21135f88787",
   "metadata": {},
   "source": [
    "# Test Model"
   ]
  },
  {
   "cell_type": "code",
   "execution_count": null,
   "id": "b3ada03ddef1ef1a",
   "metadata": {
    "ExecuteTime": {
     "end_time": "2024-12-07T20:15:38.378838Z",
     "start_time": "2024-12-07T20:15:12.797646Z"
    },
    "execution": {
     "iopub.execute_input": "2025-01-18T06:35:06.130807Z",
     "iopub.status.busy": "2025-01-18T06:35:06.129807Z",
     "iopub.status.idle": "2025-01-18T06:38:16.256785Z",
     "shell.execute_reply": "2025-01-18T06:38:16.255783Z"
    }
   },
   "outputs": [],
   "source": [
    "# Run testing\n",
    "print(\"Testing the model...\")\n",
    "checkpoint_path = f\"../checkpoints/{config.model_name}.ckpt\"\n",
    "test_metadata = model.test_model(checkpoint_path)  # Ensure this uses the correct test_loader"
   ]
  },
  {
   "cell_type": "markdown",
   "id": "980063058cafcab9",
   "metadata": {},
   "source": [
    "# Plot Confusion Matrix"
   ]
  },
  {
   "cell_type": "code",
   "execution_count": null,
   "id": "d1339a78e765a1d",
   "metadata": {
    "ExecuteTime": {
     "end_time": "2024-12-07T20:16:23.984594Z",
     "start_time": "2024-12-07T20:15:38.874136Z"
    },
    "execution": {
     "iopub.execute_input": "2025-01-18T06:38:16.260805Z",
     "iopub.status.busy": "2025-01-18T06:38:16.260805Z",
     "iopub.status.idle": "2025-01-18T06:41:23.630184Z",
     "shell.execute_reply": "2025-01-18T06:41:23.629189Z"
    }
   },
   "outputs": [],
   "source": [
    "def plot_confusion_matrix(model, dataloader, class_names):\n",
    "    all_preds = []\n",
    "    all_labels = []\n",
    "\n",
    "    # Get predictions and true labels\n",
    "    device = torch.device(\"cuda\" if torch.cuda.is_available() else \"cpu\")\n",
    "    model = model.to(device)\n",
    "    model.eval()\n",
    "    with torch.no_grad():\n",
    "        for data, labels, _ in dataloader:\n",
    "            data = data.cuda()  # Move data to GPU if available\n",
    "            labels = labels.cuda()\n",
    "            preds = torch.argmax(model(data), dim=1)\n",
    "            all_preds.extend(preds.cpu().numpy())\n",
    "            all_labels.extend(labels.cpu().numpy())\n",
    "\n",
    "    # Compute confusion matrix\n",
    "    cm = confusion_matrix(all_labels, all_preds)\n",
    "    disp = ConfusionMatrixDisplay(cm, display_labels=class_names)\n",
    "    disp.plot(cmap=\"Blues\")\n",
    "    plt.title(\"Confusion Matrix\")\n",
    "    plt.show()\n",
    "\n",
    "# Call this after training/testing\n",
    "plot_confusion_matrix(model, model.test_loader, class_names=[\"Normal\", \"Pneumonia\"])"
   ]
  },
  {
   "cell_type": "markdown",
   "id": "dcfca44f0df1056b",
   "metadata": {},
   "source": [
    "# Plot ROC/AUC Score"
   ]
  },
  {
   "cell_type": "code",
   "execution_count": null,
   "id": "e76ce3f3a224e341",
   "metadata": {
    "ExecuteTime": {
     "end_time": "2024-12-07T20:16:30.503371Z",
     "start_time": "2024-12-07T20:16:24.581405Z"
    },
    "execution": {
     "iopub.execute_input": "2025-01-18T06:41:23.634186Z",
     "iopub.status.busy": "2025-01-18T06:41:23.634186Z",
     "iopub.status.idle": "2025-01-18T06:41:27.000640Z",
     "shell.execute_reply": "2025-01-18T06:41:26.999644Z"
    }
   },
   "outputs": [],
   "source": [
    "from sklearn.metrics import roc_curve, roc_auc_score\n",
    "\n",
    "def plot_roc_auc(model, dataloader):\n",
    "    all_preds = []\n",
    "    all_labels = []\n",
    "\n",
    "    # Get predictions and true labels\n",
    "    model.eval()\n",
    "    with torch.no_grad():\n",
    "        for data, labels, _ in dataloader:\n",
    "            data = data.cuda()\n",
    "            labels = labels.cuda()\n",
    "            preds = model(data)\n",
    "            probs = torch.softmax(preds, dim=1)[:, 1]  # Probabilities for class 1\n",
    "            all_preds.extend(probs.cpu().numpy())\n",
    "            all_labels.extend(labels.cpu().numpy())\n",
    "\n",
    "    # Compute ROC curve and AUC\n",
    "    fpr, tpr, _ = roc_curve(all_labels, all_preds)\n",
    "    auc = roc_auc_score(all_labels, all_preds)\n",
    "\n",
    "    # Plot ROC curve\n",
    "    plt.figure()\n",
    "    plt.plot(fpr, tpr, color='darkorange', lw=2, label=f'ROC curve (AUC = {auc:.2f})')\n",
    "    plt.plot([0, 1], [0, 1], color='navy', lw=2, linestyle='--')\n",
    "    plt.xlabel('False Positive Rate')\n",
    "    plt.ylabel('True Positive Rate')\n",
    "    plt.title('ROC Curve')\n",
    "    plt.legend(loc=\"lower right\")\n",
    "    plt.show()\n",
    "\n",
    "plot_roc_auc(model, model.test_loader)"
   ]
  },
  {
   "cell_type": "markdown",
   "id": "7ede0abe2194aaec",
   "metadata": {},
   "source": [
    "# Plot Gradcam"
   ]
  },
  {
   "cell_type": "code",
   "execution_count": null,
   "id": "f63382fe6cdfe619",
   "metadata": {
    "ExecuteTime": {
     "end_time": "2025-01-13T18:40:34.710997Z",
     "start_time": "2025-01-13T18:40:33.701097Z"
    },
    "execution": {
     "iopub.execute_input": "2025-01-18T06:41:27.004640Z",
     "iopub.status.busy": "2025-01-18T06:41:27.004640Z",
     "iopub.status.idle": "2025-01-18T06:41:28.286727Z",
     "shell.execute_reply": "2025-01-18T06:41:28.285863Z"
    }
   },
   "outputs": [],
   "source": [
    "for param in model.feature_extractor.parameters():\n",
    "    param.requires_grad = True\n",
    "model.visualize_gradcam(num_samples=4, target_layer=7, class_names=[\"Normal\", \"Pneumonia\"], threshold=0.6)\n"
   ]
  },
  {
   "cell_type": "markdown",
   "id": "1f602b5c09fdb60",
   "metadata": {},
   "source": [
    "# Evaluate Metrics in Tensorboard"
   ]
  },
  {
   "cell_type": "code",
   "execution_count": null,
   "id": "41a571c74fefdaeb",
   "metadata": {
    "ExecuteTime": {
     "end_time": "2024-12-07T20:16:35.159617Z",
     "start_time": "2024-12-07T20:16:35.103670Z"
    },
    "execution": {
     "iopub.execute_input": "2025-01-18T06:41:28.290727Z",
     "iopub.status.busy": "2025-01-18T06:41:28.289753Z",
     "iopub.status.idle": "2025-01-18T06:41:33.872136Z",
     "shell.execute_reply": "2025-01-18T06:41:33.871083Z"
    }
   },
   "outputs": [],
   "source": [
    "# Load TensorBoard extension\n",
    "%load_ext tensorboard\n",
    "\n",
    "# Specify the log directory\n",
    "log_dir = f\"tb_logs/{config.model_name}\"\n",
    "\n",
    "# Start TensorBoard\n",
    "%tensorboard --logdir {log_dir}"
   ]
  },
  {
   "cell_type": "markdown",
   "id": "dd4ed1a3bb63373a",
   "metadata": {},
   "source": [
    "# Classify random images"
   ]
  },
  {
   "cell_type": "code",
   "execution_count": null,
   "id": "dd1605ee6782ad12",
   "metadata": {
    "ExecuteTime": {
     "end_time": "2024-12-07T20:16:54.136823Z",
     "start_time": "2024-12-07T20:16:36.380315Z"
    },
    "execution": {
     "iopub.execute_input": "2025-01-18T06:41:33.876119Z",
     "iopub.status.busy": "2025-01-18T06:41:33.875098Z",
     "iopub.status.idle": "2025-01-18T06:41:38.265777Z",
     "shell.execute_reply": "2025-01-18T06:41:38.264781Z"
    }
   },
   "outputs": [],
   "source": [
    "plot_random_images_with_labels(model, model.test_loader, num_images=20)"
   ]
  }
 ],
 "metadata": {
  "kernelspec": {
   "display_name": "Python 3",
   "language": "python",
   "name": "python3"
  },
  "language_info": {
   "codemirror_mode": {
    "name": "ipython",
    "version": 3
   },
   "file_extension": ".py",
   "mimetype": "text/x-python",
   "name": "python",
   "nbconvert_exporter": "python",
   "pygments_lexer": "ipython3",
   "version": "3.12.8"
  }
 },
 "nbformat": 4,
 "nbformat_minor": 5
}
