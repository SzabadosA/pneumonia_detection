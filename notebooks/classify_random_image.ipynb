{
 "cells": [
  {
   "metadata": {},
   "cell_type": "markdown",
   "source": "# Classify Random Image with given model",
   "id": "f0cd231c9c39a676"
  },
  {
   "metadata": {},
   "cell_type": "code",
   "outputs": [],
   "execution_count": null,
   "source": [
    "import random\n",
    "from PIL import Image\n",
    "import torch\n",
    "import os"
   ],
   "id": "391a7b280791584a"
  },
  {
   "metadata": {},
   "cell_type": "code",
   "outputs": [],
   "execution_count": null,
   "source": [
    "def classify_random_image(model, dataset_dir, transform):\n",
    "    # Pick a random image from the dataset directory\n",
    "    pneumonia_dir = os.path.join(dataset_dir, \"PNEUMONIA\")\n",
    "    normal_dir = os.path.join(dataset_dir, \"NORMAL\")\n",
    "    all_images = [\n",
    "        os.path.join(pneumonia_dir, img) for img in os.listdir(pneumonia_dir)\n",
    "    ] + [\n",
    "        os.path.join(normal_dir, img) for img in os.listdir(normal_dir)\n",
    "    ]\n",
    "    random_image_path = random.choice(all_images)\n",
    "    print(f\"Classifying image: {random_image_path}\")\n",
    "\n",
    "    # Load and preprocess the image\n",
    "    image = Image.open(random_image_path).convert(\"RGB\")\n",
    "    image = transform(image).unsqueeze(0)  # Add batch dimension\n",
    "\n",
    "    # Put the model in evaluation mode\n",
    "    model.eval()\n",
    "    with torch.no_grad():\n",
    "        logits = model(image)  # Get raw logits\n",
    "        probabilities = torch.softmax(logits, dim=1)  # Convert to probabilities\n",
    "        predicted_class = torch.argmax(probabilities, dim=1).item()  # Get predicted class index\n",
    "\n",
    "    # Map the predicted class index to label\n",
    "    class_map = {0: \"NORMAL\", 1: \"PNEUMONIA\"}\n",
    "    print(f\"Predicted: {class_map[predicted_class]} with probability {probabilities[0, predicted_class].item():.2f}\")"
   ],
   "id": "f30b8bc0fdd85e57"
  }
 ],
 "metadata": {
  "kernelspec": {
   "display_name": "Python 3",
   "language": "python",
   "name": "python3"
  },
  "language_info": {
   "codemirror_mode": {
    "name": "ipython",
    "version": 2
   },
   "file_extension": ".py",
   "mimetype": "text/x-python",
   "name": "python",
   "nbconvert_exporter": "python",
   "pygments_lexer": "ipython2",
   "version": "2.7.6"
  }
 },
 "nbformat": 4,
 "nbformat_minor": 5
}
