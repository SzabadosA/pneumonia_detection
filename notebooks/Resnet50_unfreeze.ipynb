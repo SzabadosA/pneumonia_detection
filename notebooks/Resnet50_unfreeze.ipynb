{
 "cells": [
  {
   "cell_type": "markdown",
   "id": "edef74c71e6ebce5",
   "metadata": {},
   "source": [
    "# Import Libraries"
   ]
  },
  {
   "cell_type": "code",
   "execution_count": null,
   "id": "initial_id",
   "metadata": {
    "ExecuteTime": {
     "end_time": "2025-01-13T18:44:31.927823Z",
     "start_time": "2025-01-13T18:44:22.021643Z"
    },
    "collapsed": true,
    "execution": {
     "iopub.execute_input": "2025-01-18T10:25:13.236171Z",
     "iopub.status.busy": "2025-01-18T10:25:13.236171Z",
     "iopub.status.idle": "2025-01-18T10:25:23.820163Z",
     "shell.execute_reply": "2025-01-18T10:25:23.819244Z"
    }
   },
   "outputs": [],
   "source": [
    "\n",
    "import os\n",
    "from IPython import get_ipython\n",
    "get_ipython().run_line_magic(\"matplotlib\", \"inline\")\n",
    "from torchvision.transforms import Compose, Resize, InterpolationMode, ToTensor, Normalize, RandomCrop, RandomHorizontalFlip\n",
    "import torch\n",
    "from code.classifier import CNNPneumoniaClassifier, Config\n",
    "from code.plot_random_image import plot_random_image_from_loader\n",
    "from code.classify_random_images import plot_random_images_with_labels\n",
    "from sklearn.metrics import ConfusionMatrixDisplay, confusion_matrix\n",
    "import matplotlib.pyplot as plt\n",
    "\n"
   ]
  },
  {
   "cell_type": "code",
   "execution_count": null,
   "id": "4376ace1b8695239",
   "metadata": {
    "ExecuteTime": {
     "end_time": "2025-01-13T18:44:31.980955Z",
     "start_time": "2025-01-13T18:44:31.950633Z"
    },
    "execution": {
     "iopub.execute_input": "2025-01-18T10:25:23.825190Z",
     "iopub.status.busy": "2025-01-18T10:25:23.824171Z",
     "iopub.status.idle": "2025-01-18T10:25:23.843681Z",
     "shell.execute_reply": "2025-01-18T10:25:23.843681Z"
    }
   },
   "outputs": [],
   "source": [
    "\n",
    "# Load the TensorBoard\n",
    "%reload_ext tensorboard\n",
    "%load_ext tensorboard\n"
   ]
  },
  {
   "cell_type": "code",
   "execution_count": null,
   "id": "69e053f3a82f28da",
   "metadata": {
    "ExecuteTime": {
     "end_time": "2025-01-13T18:44:33.855099Z",
     "start_time": "2025-01-13T18:44:33.849872Z"
    },
    "execution": {
     "iopub.execute_input": "2025-01-18T10:25:23.846707Z",
     "iopub.status.busy": "2025-01-18T10:25:23.846707Z",
     "iopub.status.idle": "2025-01-18T10:25:23.851522Z",
     "shell.execute_reply": "2025-01-18T10:25:23.851522Z"
    }
   },
   "outputs": [],
   "source": [
    "# Enable CUDA Launch Blocking\n",
    "os.environ['CUDA_LAUNCH_BLOCKING'] = '1'\n",
    "# Set float32 matrix multiplication precision to 'medium' to utilize Tensor Cores\n",
    "torch.set_float32_matmul_precision('medium')\n",
    "torch.serialization.add_safe_globals([Compose, Resize, set, Config, InterpolationMode, ToTensor, Normalize, RandomHorizontalFlip])"
   ]
  },
  {
   "cell_type": "markdown",
   "id": "c4e73085475698cb",
   "metadata": {},
   "source": [
    "# Check GPU Availability"
   ]
  },
  {
   "cell_type": "code",
   "execution_count": null,
   "id": "ba465dcd3a376771",
   "metadata": {
    "ExecuteTime": {
     "end_time": "2025-01-13T18:44:34.312263Z",
     "start_time": "2025-01-13T18:44:34.119854Z"
    },
    "execution": {
     "iopub.execute_input": "2025-01-18T10:25:23.855540Z",
     "iopub.status.busy": "2025-01-18T10:25:23.854549Z",
     "iopub.status.idle": "2025-01-18T10:25:24.045617Z",
     "shell.execute_reply": "2025-01-18T10:25:24.045617Z"
    }
   },
   "outputs": [],
   "source": [
    "gpu_info = !nvidia-smi\n",
    "gpu_info = '\\n'.join(gpu_info)\n",
    "if gpu_info.find('failed') >= 0:\n",
    "    print('Not connected to a GPU')\n",
    "else:\n",
    "    print(gpu_info)"
   ]
  },
  {
   "cell_type": "markdown",
   "id": "72000018a252c38",
   "metadata": {},
   "source": [
    "# Setup Model"
   ]
  },
  {
   "cell_type": "code",
   "execution_count": null,
   "id": "4014586acf1f2311",
   "metadata": {
    "ExecuteTime": {
     "end_time": "2025-01-13T18:44:35.589497Z",
     "start_time": "2025-01-13T18:44:34.573175Z"
    },
    "execution": {
     "iopub.execute_input": "2025-01-18T10:25:24.049648Z",
     "iopub.status.busy": "2025-01-18T10:25:24.049648Z",
     "iopub.status.idle": "2025-01-18T10:25:25.112478Z",
     "shell.execute_reply": "2025-01-18T10:25:25.111468Z"
    }
   },
   "outputs": [],
   "source": [
    "config = Config(\n",
    "    backbone_name=\"resnet50\",\n",
    "    transfer_learning=False,\n",
    "    learning_rate=1e-4,\n",
    "    batch_size=20,\n",
    "    max_epochs=50,\n",
    "    weight_decay=1e-4,\n",
    "    dropout=0.2,\n",
    "    num_workers=16,\n",
    "    model_name=\"ResNet50_unfreeze\",\n",
    "    version=\"001\",\n",
    "    optimizer_name = \"sgd\",\n",
    "    use_class_weights=True,\n",
    "    image_res=224,\n",
    "    patience = 10,\n",
    "    image_type=3\n",
    ")\n",
    "model = CNNPneumoniaClassifier(config)\n",
    "device = torch.device(\"cuda\" if torch.cuda.is_available() else \"cpu\")\n",
    "model = model.to(device)\n"
   ]
  },
  {
   "cell_type": "markdown",
   "id": "f9fad1c4b6515630",
   "metadata": {},
   "source": [
    "# Plot random images from all datasets"
   ]
  },
  {
   "cell_type": "code",
   "execution_count": null,
   "id": "484a34133e6799cb",
   "metadata": {
    "ExecuteTime": {
     "end_time": "2024-12-07T20:33:34.665691500Z",
     "start_time": "2024-12-07T20:17:38.233097Z"
    },
    "execution": {
     "iopub.execute_input": "2025-01-18T10:25:25.116478Z",
     "iopub.status.busy": "2025-01-18T10:25:25.115480Z",
     "iopub.status.idle": "2025-01-18T10:25:25.428566Z",
     "shell.execute_reply": "2025-01-18T10:25:25.428013Z"
    }
   },
   "outputs": [],
   "source": [
    "plot_random_image_from_loader(model.train_loader.dataset, \"Train Dataset\")"
   ]
  },
  {
   "cell_type": "code",
   "execution_count": null,
   "id": "8fd665ef08dafd7f",
   "metadata": {
    "ExecuteTime": {
     "end_time": "2024-12-07T20:33:34.666691900Z",
     "start_time": "2024-12-07T20:17:39.596285Z"
    },
    "execution": {
     "iopub.execute_input": "2025-01-18T10:25:25.432578Z",
     "iopub.status.busy": "2025-01-18T10:25:25.432578Z",
     "iopub.status.idle": "2025-01-18T10:25:25.700624Z",
     "shell.execute_reply": "2025-01-18T10:25:25.700081Z"
    }
   },
   "outputs": [],
   "source": [
    "plot_random_image_from_loader(model.val_loader.dataset, \"Validation Dataset\")"
   ]
  },
  {
   "cell_type": "code",
   "execution_count": null,
   "id": "c3529628b6269dc4",
   "metadata": {
    "ExecuteTime": {
     "end_time": "2024-12-07T20:34:35.659160Z",
     "start_time": "2024-12-07T20:34:35.402110Z"
    },
    "execution": {
     "iopub.execute_input": "2025-01-18T10:25:25.704612Z",
     "iopub.status.busy": "2025-01-18T10:25:25.703613Z",
     "iopub.status.idle": "2025-01-18T10:25:25.968828Z",
     "shell.execute_reply": "2025-01-18T10:25:25.967832Z"
    }
   },
   "outputs": [],
   "source": [
    "plot_random_image_from_loader(model.test_loader.dataset, \"Test Dataset\")"
   ]
  },
  {
   "cell_type": "markdown",
   "id": "9f803b343bf2619b",
   "metadata": {},
   "source": [
    "# Train Model"
   ]
  },
  {
   "cell_type": "code",
   "execution_count": null,
   "id": "d08c054aa7b21aa",
   "metadata": {
    "ExecuteTime": {
     "end_time": "2024-12-07T20:33:11.624328100Z",
     "start_time": "2024-12-02T23:13:02.322487Z"
    },
    "execution": {
     "iopub.execute_input": "2025-01-18T10:25:25.971828Z",
     "iopub.status.busy": "2025-01-18T10:25:25.971828Z",
     "iopub.status.idle": "2025-01-18T10:53:31.237245Z",
     "shell.execute_reply": "2025-01-18T10:53:31.237245Z"
    }
   },
   "outputs": [],
   "source": [
    "\n",
    "# Train Model - Uncomment to train model\n",
    "#model.train_model()\n",
    "#torch.save({\n",
    "#    \"state_dict\": model.state_dict(),\n",
    "#    \"config\": vars(config)\n",
    "#}, f\"../models/{config.model_name}_final.pt\")"
   ]
  },
  {
   "cell_type": "markdown",
   "id": "389fe2c9d480ef8b",
   "metadata": {},
   "source": [
    "# Load Model"
   ]
  },
  {
   "cell_type": "code",
   "execution_count": null,
   "id": "1fa424496604d224",
   "metadata": {
    "ExecuteTime": {
     "end_time": "2025-01-13T18:44:36.864584Z",
     "start_time": "2025-01-13T18:44:35.864230Z"
    },
    "execution": {
     "iopub.execute_input": "2025-01-18T10:53:31.242290Z",
     "iopub.status.busy": "2025-01-18T10:53:31.242290Z",
     "iopub.status.idle": "2025-01-18T10:53:32.175894Z",
     "shell.execute_reply": "2025-01-18T10:53:32.174969Z"
    }
   },
   "outputs": [],
   "source": [
    "\n",
    "checkpoint = torch.load(f\"../models/{config.model_name}_final.pt\")\n",
    "loaded_config = Config(**checkpoint[\"config\"])\n",
    "model = CNNPneumoniaClassifier(loaded_config)\n",
    "model.load_state_dict(checkpoint[\"state_dict\"])\n",
    "model.eval()\n",
    "model = model.to(device)"
   ]
  },
  {
   "cell_type": "markdown",
   "id": "8b74b21135f88787",
   "metadata": {},
   "source": [
    "# Test Model"
   ]
  },
  {
   "cell_type": "code",
   "execution_count": null,
   "id": "b3ada03ddef1ef1a",
   "metadata": {
    "ExecuteTime": {
     "end_time": "2024-12-07T20:35:04.881184Z",
     "start_time": "2024-12-07T20:34:40.343885Z"
    },
    "execution": {
     "iopub.execute_input": "2025-01-18T10:53:32.181894Z",
     "iopub.status.busy": "2025-01-18T10:53:32.180894Z",
     "iopub.status.idle": "2025-01-18T10:56:48.569625Z",
     "shell.execute_reply": "2025-01-18T10:56:48.568601Z"
    }
   },
   "outputs": [],
   "source": [
    "# Run testing\n",
    "print(\"Testing the model...\")\n",
    "checkpoint_path = f\"../checkpoints/{config.model_name}.ckpt\"\n",
    "test_metadata = model.test_model(checkpoint_path)  # Ensure this uses the correct test_loader"
   ]
  },
  {
   "cell_type": "markdown",
   "id": "980063058cafcab9",
   "metadata": {},
   "source": [
    "# Plot Confusion Matrix"
   ]
  },
  {
   "cell_type": "code",
   "execution_count": null,
   "id": "d1339a78e765a1d",
   "metadata": {
    "ExecuteTime": {
     "end_time": "2024-12-07T20:35:27.432017Z",
     "start_time": "2024-12-07T20:35:05.193191Z"
    },
    "execution": {
     "iopub.execute_input": "2025-01-18T10:56:48.573624Z",
     "iopub.status.busy": "2025-01-18T10:56:48.572624Z",
     "iopub.status.idle": "2025-01-18T11:00:00.643153Z",
     "shell.execute_reply": "2025-01-18T11:00:00.642155Z"
    }
   },
   "outputs": [],
   "source": [
    "def plot_confusion_matrix(model, dataloader, class_names):\n",
    "    all_preds = []\n",
    "    all_labels = []\n",
    "\n",
    "    # Get predictions and true labels\n",
    "    device = torch.device(\"cuda\" if torch.cuda.is_available() else \"cpu\")\n",
    "    model = model.to(device)\n",
    "    model.eval()\n",
    "    with torch.no_grad():\n",
    "        for data, labels, _ in dataloader:\n",
    "            data = data.cuda()  # Move data to GPU if available\n",
    "            labels = labels.cuda()\n",
    "            preds = torch.argmax(model(data), dim=1)\n",
    "            all_preds.extend(preds.cpu().numpy())\n",
    "            all_labels.extend(labels.cpu().numpy())\n",
    "\n",
    "    # Compute confusion matrix\n",
    "    cm = confusion_matrix(all_labels, all_preds)\n",
    "    disp = ConfusionMatrixDisplay(cm, display_labels=class_names)\n",
    "    disp.plot(cmap=\"Blues\")\n",
    "    plt.title(\"Confusion Matrix\")\n",
    "    plt.show()\n",
    "\n",
    "# Call this after training/testing\n",
    "plot_confusion_matrix(model, model.test_loader, class_names=[\"Normal\", \"Pneumonia\"])"
   ]
  },
  {
   "cell_type": "markdown",
   "id": "dcfca44f0df1056b",
   "metadata": {},
   "source": [
    "# Plot ROC/AUC Score"
   ]
  },
  {
   "cell_type": "code",
   "execution_count": null,
   "id": "e76ce3f3a224e341",
   "metadata": {
    "ExecuteTime": {
     "end_time": "2024-12-07T20:35:32.082112Z",
     "start_time": "2024-12-07T20:35:27.672581Z"
    },
    "execution": {
     "iopub.execute_input": "2025-01-18T11:00:00.647152Z",
     "iopub.status.busy": "2025-01-18T11:00:00.646168Z",
     "iopub.status.idle": "2025-01-18T11:00:04.845122Z",
     "shell.execute_reply": "2025-01-18T11:00:04.844124Z"
    }
   },
   "outputs": [],
   "source": [
    "from sklearn.metrics import roc_curve, roc_auc_score\n",
    "\n",
    "def plot_roc_auc(model, dataloader):\n",
    "    all_preds = []\n",
    "    all_labels = []\n",
    "\n",
    "    # Get predictions and true labels\n",
    "    model.eval()\n",
    "    with torch.no_grad():\n",
    "        for data, labels, _ in dataloader:\n",
    "            data = data.cuda()\n",
    "            labels = labels.cuda()\n",
    "            preds = model(data)\n",
    "            probs = torch.softmax(preds, dim=1)[:, 1]  # Probabilities for class 1\n",
    "            all_preds.extend(probs.cpu().numpy())\n",
    "            all_labels.extend(labels.cpu().numpy())\n",
    "\n",
    "    # Compute ROC curve and AUC\n",
    "    fpr, tpr, _ = roc_curve(all_labels, all_preds)\n",
    "    auc = roc_auc_score(all_labels, all_preds)\n",
    "\n",
    "    # Plot ROC curve\n",
    "    plt.figure()\n",
    "    plt.plot(fpr, tpr, color='darkorange', lw=2, label=f'ROC curve (AUC = {auc:.2f})')\n",
    "    plt.plot([0, 1], [0, 1], color='navy', lw=2, linestyle='--')\n",
    "    plt.xlabel('False Positive Rate')\n",
    "    plt.ylabel('True Positive Rate')\n",
    "    plt.title('ROC Curve')\n",
    "    plt.legend(loc=\"lower right\")\n",
    "    plt.show()\n",
    "\n",
    "plot_roc_auc(model, model.test_loader)"
   ]
  },
  {
   "cell_type": "markdown",
   "id": "7ede0abe2194aaec",
   "metadata": {},
   "source": [
    "# Plot Gradcam"
   ]
  },
  {
   "cell_type": "code",
   "execution_count": null,
   "id": "f63382fe6cdfe619",
   "metadata": {
    "ExecuteTime": {
     "end_time": "2024-12-07T20:35:33.853993Z",
     "start_time": "2024-12-07T20:35:32.366986Z"
    },
    "execution": {
     "iopub.execute_input": "2025-01-18T11:00:04.848121Z",
     "iopub.status.busy": "2025-01-18T11:00:04.848121Z",
     "iopub.status.idle": "2025-01-18T11:00:06.060945Z",
     "shell.execute_reply": "2025-01-18T11:00:06.059944Z"
    }
   },
   "outputs": [],
   "source": [
    "for param in model.feature_extractor.parameters():\n",
    "    param.requires_grad = True\n",
    "model.visualize_gradcam(num_samples=4, target_layer=7, class_names=[\"Normal\", \"Pneumonia\"], threshold=0.6)\n"
   ]
  },
  {
   "cell_type": "markdown",
   "id": "1f602b5c09fdb60",
   "metadata": {},
   "source": [
    "# Evaluate Metrics in Tensorboard"
   ]
  },
  {
   "cell_type": "code",
   "execution_count": null,
   "id": "41a571c74fefdaeb",
   "metadata": {
    "ExecuteTime": {
     "end_time": "2024-12-07T20:35:34.202849Z",
     "start_time": "2024-12-07T20:35:34.176566Z"
    },
    "execution": {
     "iopub.execute_input": "2025-01-18T11:00:06.064942Z",
     "iopub.status.busy": "2025-01-18T11:00:06.064942Z",
     "iopub.status.idle": "2025-01-18T11:00:12.672808Z",
     "shell.execute_reply": "2025-01-18T11:00:12.671792Z"
    }
   },
   "outputs": [],
   "source": [
    "# Load TensorBoard extension\n",
    "%load_ext tensorboard\n",
    "\n",
    "# Specify the log directory\n",
    "log_dir = f\"tb_logs/{config.model_name}\"\n",
    "\n",
    "# Start TensorBoard\n",
    "%tensorboard --logdir {log_dir}"
   ]
  },
  {
   "cell_type": "markdown",
   "id": "dd4ed1a3bb63373a",
   "metadata": {},
   "source": [
    "# Classify random images"
   ]
  },
  {
   "cell_type": "code",
   "execution_count": null,
   "id": "dd1605ee6782ad12",
   "metadata": {
    "ExecuteTime": {
     "end_time": "2024-12-07T20:35:39.183318Z",
     "start_time": "2024-12-07T20:35:34.484828Z"
    },
    "execution": {
     "iopub.execute_input": "2025-01-18T11:00:12.676823Z",
     "iopub.status.busy": "2025-01-18T11:00:12.676823Z",
     "iopub.status.idle": "2025-01-18T11:00:17.226612Z",
     "shell.execute_reply": "2025-01-18T11:00:17.225568Z"
    }
   },
   "outputs": [],
   "source": [
    "plot_random_images_with_labels(model, model.test_loader, num_images=20)"
   ]
  }
 ],
 "metadata": {
  "kernelspec": {
   "display_name": "Python 3",
   "language": "python",
   "name": "python3"
  },
  "language_info": {
   "codemirror_mode": {
    "name": "ipython",
    "version": 3
   },
   "file_extension": ".py",
   "mimetype": "text/x-python",
   "name": "python",
   "nbconvert_exporter": "python",
   "pygments_lexer": "ipython3",
   "version": "3.12.8"
  }
 },
 "nbformat": 4,
 "nbformat_minor": 5
}
