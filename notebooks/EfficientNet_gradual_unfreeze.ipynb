{
 "cells": [
  {
   "cell_type": "markdown",
   "id": "edef74c71e6ebce5",
   "metadata": {},
   "source": [
    "# Import Libraries"
   ]
  },
  {
   "cell_type": "code",
   "execution_count": null,
   "id": "initial_id",
   "metadata": {
    "ExecuteTime": {
     "end_time": "2024-12-07T20:06:41.151876Z",
     "start_time": "2024-12-07T20:06:31.969472Z"
    },
    "collapsed": true,
    "execution": {
     "iopub.execute_input": "2025-01-18T00:21:21.576974Z",
     "iopub.status.busy": "2025-01-18T00:21:21.576974Z",
     "iopub.status.idle": "2025-01-18T00:21:32.054061Z",
     "shell.execute_reply": "2025-01-18T00:21:32.053057Z"
    }
   },
   "outputs": [],
   "source": [
    "\n",
    "import os\n",
    "from IPython import get_ipython\n",
    "get_ipython().run_line_magic(\"matplotlib\", \"inline\")\n",
    "from torchvision.transforms import Compose, Resize, InterpolationMode, ToTensor, Normalize, RandomCrop, RandomHorizontalFlip\n",
    "import torch\n",
    "from code.classifier import CNNPneumoniaClassifier, Config\n",
    "from code.plot_random_image import plot_random_image_from_loader\n",
    "from code.classify_random_images import plot_random_images_with_labels\n",
    "from sklearn.metrics import ConfusionMatrixDisplay, confusion_matrix\n",
    "import matplotlib.pyplot as plt\n",
    "\n"
   ]
  },
  {
   "cell_type": "code",
   "execution_count": null,
   "id": "4376ace1b8695239",
   "metadata": {
    "ExecuteTime": {
     "end_time": "2024-12-07T20:06:41.178449Z",
     "start_time": "2024-12-07T20:06:41.158869Z"
    },
    "execution": {
     "iopub.execute_input": "2025-01-18T00:21:32.059057Z",
     "iopub.status.busy": "2025-01-18T00:21:32.058060Z",
     "iopub.status.idle": "2025-01-18T00:21:32.079251Z",
     "shell.execute_reply": "2025-01-18T00:21:32.079251Z"
    }
   },
   "outputs": [],
   "source": [
    "\n",
    "# Load the TensorBoard\n",
    "%reload_ext tensorboard\n",
    "%load_ext tensorboard\n"
   ]
  },
  {
   "cell_type": "code",
   "execution_count": null,
   "id": "69e053f3a82f28da",
   "metadata": {
    "ExecuteTime": {
     "end_time": "2024-12-07T20:06:42.731060Z",
     "start_time": "2024-12-07T20:06:42.726066Z"
    },
    "execution": {
     "iopub.execute_input": "2025-01-18T00:21:32.083248Z",
     "iopub.status.busy": "2025-01-18T00:21:32.083248Z",
     "iopub.status.idle": "2025-01-18T00:21:32.088314Z",
     "shell.execute_reply": "2025-01-18T00:21:32.087316Z"
    }
   },
   "outputs": [],
   "source": [
    "# Enable CUDA Launch Blocking\n",
    "os.environ['CUDA_LAUNCH_BLOCKING'] = '1'\n",
    "# Set float32 matrix multiplication precision to 'medium' to utilize Tensor Cores\n",
    "torch.set_float32_matmul_precision('medium')\n",
    "torch.serialization.add_safe_globals([Compose, Resize, set, Config, InterpolationMode, ToTensor, Normalize, RandomHorizontalFlip])"
   ]
  },
  {
   "cell_type": "markdown",
   "id": "c4e73085475698cb",
   "metadata": {},
   "source": [
    "# Check GPU Availability"
   ]
  },
  {
   "cell_type": "code",
   "execution_count": null,
   "id": "ba465dcd3a376771",
   "metadata": {
    "ExecuteTime": {
     "end_time": "2024-12-07T20:06:43.162038Z",
     "start_time": "2024-12-07T20:06:42.969984Z"
    },
    "execution": {
     "iopub.execute_input": "2025-01-18T00:21:32.091314Z",
     "iopub.status.busy": "2025-01-18T00:21:32.091314Z",
     "iopub.status.idle": "2025-01-18T00:21:32.274314Z",
     "shell.execute_reply": "2025-01-18T00:21:32.273314Z"
    }
   },
   "outputs": [],
   "source": [
    "gpu_info = !nvidia-smi\n",
    "gpu_info = '\\n'.join(gpu_info)\n",
    "if gpu_info.find('failed') >= 0:\n",
    "    print('Not connected to a GPU')\n",
    "else:\n",
    "    print(gpu_info)"
   ]
  },
  {
   "cell_type": "markdown",
   "id": "72000018a252c38",
   "metadata": {},
   "source": [
    "# Setup Model"
   ]
  },
  {
   "cell_type": "code",
   "execution_count": null,
   "id": "4014586acf1f2311",
   "metadata": {
    "ExecuteTime": {
     "end_time": "2024-12-07T20:06:44.148026Z",
     "start_time": "2024-12-07T20:06:43.401451Z"
    },
    "execution": {
     "iopub.execute_input": "2025-01-18T00:21:32.277313Z",
     "iopub.status.busy": "2025-01-18T00:21:32.277313Z",
     "iopub.status.idle": "2025-01-18T00:21:33.147918Z",
     "shell.execute_reply": "2025-01-18T00:21:33.146895Z"
    }
   },
   "outputs": [],
   "source": [
    "config = Config(\n",
    "    backbone_name=\"efficientnet_b3\",\n",
    "    transfer_learning=True,\n",
    "    learning_rate=1e-4,\n",
    "    frozen_lr=1e-5,  # Learning rate for frozen layers\n",
    "    unfrozen_lr=1e-4,  # Learning rate for unfrozen layers\n",
    "    batch_size=20,\n",
    "    max_epochs=50,\n",
    "    weight_decay=1e-4,\n",
    "    dropout=0.2,\n",
    "    num_workers=16,\n",
    "    model_name=\"EfficientNetB3_gradual_unfreeze\",\n",
    "    version=\"001\",\n",
    "    optimizer_name=\"adam\",\n",
    "    use_class_weights=True,\n",
    "    image_res=300,\n",
    "    patience=5,\n",
    "    image_type=3,\n",
    "    gradually_unfreeze=True,\n",
    "    unfreeze_interval=5,\n",
    "    num_layers_to_unfreeze=2,\n",
    ")\n",
    "\n",
    "model = CNNPneumoniaClassifier(config)\n",
    "device = torch.device(\"cuda\" if torch.cuda.is_available() else \"cpu\")\n",
    "model = model.to(device)\n"
   ]
  },
  {
   "cell_type": "markdown",
   "id": "f9fad1c4b6515630",
   "metadata": {},
   "source": [
    "# Plot random images from all datasets"
   ]
  },
  {
   "cell_type": "code",
   "execution_count": null,
   "id": "484a34133e6799cb",
   "metadata": {
    "ExecuteTime": {
     "end_time": "2024-12-07T20:06:44.639594Z",
     "start_time": "2024-12-07T20:06:44.383518Z"
    },
    "execution": {
     "iopub.execute_input": "2025-01-18T00:21:33.151940Z",
     "iopub.status.busy": "2025-01-18T00:21:33.150919Z",
     "iopub.status.idle": "2025-01-18T00:21:33.426783Z",
     "shell.execute_reply": "2025-01-18T00:21:33.425787Z"
    }
   },
   "outputs": [],
   "source": [
    "plot_random_image_from_loader(model.train_loader.dataset, \"Train Dataset\")"
   ]
  },
  {
   "cell_type": "code",
   "execution_count": null,
   "id": "8fd665ef08dafd7f",
   "metadata": {
    "ExecuteTime": {
     "end_time": "2024-12-07T20:06:10.374133Z",
     "start_time": "2024-12-07T20:06:10.123184Z"
    },
    "execution": {
     "iopub.execute_input": "2025-01-18T00:21:33.430782Z",
     "iopub.status.busy": "2025-01-18T00:21:33.429784Z",
     "iopub.status.idle": "2025-01-18T00:21:33.673936Z",
     "shell.execute_reply": "2025-01-18T00:21:33.672951Z"
    }
   },
   "outputs": [],
   "source": [
    "plot_random_image_from_loader(model.val_loader.dataset, \"Validation Dataset\")"
   ]
  },
  {
   "cell_type": "code",
   "execution_count": null,
   "id": "c3529628b6269dc4",
   "metadata": {
    "ExecuteTime": {
     "end_time": "2024-12-07T19:26:27.803547Z",
     "start_time": "2024-12-07T19:26:26.700476Z"
    },
    "execution": {
     "iopub.execute_input": "2025-01-18T00:21:33.677939Z",
     "iopub.status.busy": "2025-01-18T00:21:33.676938Z",
     "iopub.status.idle": "2025-01-18T00:21:33.905465Z",
     "shell.execute_reply": "2025-01-18T00:21:33.904470Z"
    }
   },
   "outputs": [],
   "source": [
    "plot_random_image_from_loader(model.test_loader.dataset, \"Test Dataset\")"
   ]
  },
  {
   "cell_type": "markdown",
   "id": "9f803b343bf2619b",
   "metadata": {},
   "source": [
    "# Train Model"
   ]
  },
  {
   "cell_type": "code",
   "execution_count": null,
   "id": "d08c054aa7b21aa",
   "metadata": {
    "ExecuteTime": {
     "end_time": "2024-12-03T20:30:15.179937Z",
     "start_time": "2024-12-03T19:56:07.664353Z"
    },
    "execution": {
     "iopub.execute_input": "2025-01-18T00:21:33.909464Z",
     "iopub.status.busy": "2025-01-18T00:21:33.908465Z",
     "iopub.status.idle": "2025-01-18T00:53:00.305921Z",
     "shell.execute_reply": "2025-01-18T00:53:00.304911Z"
    }
   },
   "outputs": [],
   "source": [
    "\n",
    "# Train Model - Uncomment to train model\n",
    "#model.train_model()\n",
    "#torch.save({\n",
    "#    \"state_dict\": model.state_dict(),\n",
    "#    \"config\": vars(config)\n",
    "#}, f\"../models/{config.model_name}_final.pt\")"
   ]
  },
  {
   "cell_type": "markdown",
   "id": "389fe2c9d480ef8b",
   "metadata": {},
   "source": [
    "# Load Model"
   ]
  },
  {
   "cell_type": "code",
   "execution_count": null,
   "id": "1fa424496604d224",
   "metadata": {
    "ExecuteTime": {
     "end_time": "2024-12-07T20:06:45.566608Z",
     "start_time": "2024-12-07T20:06:44.884712Z"
    },
    "execution": {
     "iopub.execute_input": "2025-01-18T00:53:00.309912Z",
     "iopub.status.busy": "2025-01-18T00:53:00.308932Z",
     "iopub.status.idle": "2025-01-18T00:53:01.022935Z",
     "shell.execute_reply": "2025-01-18T00:53:01.021938Z"
    }
   },
   "outputs": [],
   "source": [
    "\n",
    "checkpoint = torch.load(f\"../models/{config.model_name}_final.pt\")\n",
    "loaded_config = Config(**checkpoint[\"config\"])\n",
    "model = CNNPneumoniaClassifier(loaded_config)\n",
    "model.load_state_dict(checkpoint[\"state_dict\"])\n",
    "model.eval()\n",
    "model = model.to(device)"
   ]
  },
  {
   "cell_type": "markdown",
   "id": "8b74b21135f88787",
   "metadata": {},
   "source": [
    "# Test Model"
   ]
  },
  {
   "cell_type": "code",
   "execution_count": null,
   "id": "b3ada03ddef1ef1a",
   "metadata": {
    "ExecuteTime": {
     "end_time": "2024-12-07T19:52:00.879563Z",
     "start_time": "2024-12-07T19:51:27.542022Z"
    },
    "execution": {
     "iopub.execute_input": "2025-01-18T00:53:01.028936Z",
     "iopub.status.busy": "2025-01-18T00:53:01.027936Z",
     "iopub.status.idle": "2025-01-18T00:56:15.601834Z",
     "shell.execute_reply": "2025-01-18T00:56:15.600836Z"
    }
   },
   "outputs": [],
   "source": [
    "# Run testing\n",
    "print(\"Testing the model...\")\n",
    "checkpoint_path = f\"../checkpoints/{config.model_name}.ckpt\"\n",
    "test_metadata = model.test_model(checkpoint_path)  # Ensure this uses the correct test_loader"
   ]
  },
  {
   "cell_type": "markdown",
   "id": "980063058cafcab9",
   "metadata": {},
   "source": [
    "# Plot Confusion Matrix"
   ]
  },
  {
   "cell_type": "code",
   "execution_count": null,
   "id": "d1339a78e765a1d",
   "metadata": {
    "ExecuteTime": {
     "end_time": "2024-12-07T19:52:44.965831Z",
     "start_time": "2024-12-07T19:52:02.027642Z"
    },
    "execution": {
     "iopub.execute_input": "2025-01-18T00:56:15.605833Z",
     "iopub.status.busy": "2025-01-18T00:56:15.604841Z",
     "iopub.status.idle": "2025-01-18T00:59:25.184749Z",
     "shell.execute_reply": "2025-01-18T00:59:25.183747Z"
    }
   },
   "outputs": [],
   "source": [
    "def plot_confusion_matrix(model, dataloader, class_names):\n",
    "    all_preds = []\n",
    "    all_labels = []\n",
    "\n",
    "    # Get predictions and true labels\n",
    "    device = torch.device(\"cuda\" if torch.cuda.is_available() else \"cpu\")\n",
    "    model = model.to(device)\n",
    "    model.eval()\n",
    "    with torch.no_grad():\n",
    "        for data, labels, _ in dataloader:\n",
    "            data = data.cuda()  # Move data to GPU if available\n",
    "            labels = labels.cuda()\n",
    "            preds = torch.argmax(model(data), dim=1)\n",
    "            all_preds.extend(preds.cpu().numpy())\n",
    "            all_labels.extend(labels.cpu().numpy())\n",
    "\n",
    "    # Compute confusion matrix\n",
    "    cm = confusion_matrix(all_labels, all_preds)\n",
    "    disp = ConfusionMatrixDisplay(cm, display_labels=class_names)\n",
    "    disp.plot(cmap=\"Blues\")\n",
    "    plt.title(\"Confusion Matrix\")\n",
    "    plt.show()\n",
    "\n",
    "# Call this after training/testing\n",
    "plot_confusion_matrix(model, model.test_loader, class_names=[\"Normal\", \"Pneumonia\"])"
   ]
  },
  {
   "cell_type": "markdown",
   "id": "dcfca44f0df1056b",
   "metadata": {},
   "source": [
    "# Plot ROC/AUC Score"
   ]
  },
  {
   "cell_type": "code",
   "execution_count": null,
   "id": "e76ce3f3a224e341",
   "metadata": {
    "ExecuteTime": {
     "end_time": "2024-12-07T19:53:00.530730Z",
     "start_time": "2024-12-07T19:52:44.973745Z"
    },
    "execution": {
     "iopub.execute_input": "2025-01-18T00:59:25.189752Z",
     "iopub.status.busy": "2025-01-18T00:59:25.188729Z",
     "iopub.status.idle": "2025-01-18T00:59:31.342299Z",
     "shell.execute_reply": "2025-01-18T00:59:31.341287Z"
    }
   },
   "outputs": [],
   "source": [
    "from sklearn.metrics import roc_curve, roc_auc_score\n",
    "\n",
    "def plot_roc_auc(model, dataloader):\n",
    "    all_preds = []\n",
    "    all_labels = []\n",
    "\n",
    "    # Get predictions and true labels\n",
    "    model.eval()\n",
    "    with torch.no_grad():\n",
    "        for data, labels, _ in dataloader:\n",
    "            data = data.cuda()\n",
    "            labels = labels.cuda()\n",
    "            preds = model(data)\n",
    "            probs = torch.softmax(preds, dim=1)[:, 1]  # Probabilities for class 1\n",
    "            all_preds.extend(probs.cpu().numpy())\n",
    "            all_labels.extend(labels.cpu().numpy())\n",
    "\n",
    "    # Compute ROC curve and AUC\n",
    "    fpr, tpr, _ = roc_curve(all_labels, all_preds)\n",
    "    auc = roc_auc_score(all_labels, all_preds)\n",
    "\n",
    "    # Plot ROC curve\n",
    "    plt.figure()\n",
    "    plt.plot(fpr, tpr, color='darkorange', lw=2, label=f'ROC curve (AUC = {auc:.2f})')\n",
    "    plt.plot([0, 1], [0, 1], color='navy', lw=2, linestyle='--')\n",
    "    plt.xlabel('False Positive Rate')\n",
    "    plt.ylabel('True Positive Rate')\n",
    "    plt.title('ROC Curve')\n",
    "    plt.legend(loc=\"lower right\")\n",
    "    plt.show()\n",
    "\n",
    "plot_roc_auc(model, model.test_loader)"
   ]
  },
  {
   "cell_type": "markdown",
   "id": "7ede0abe2194aaec",
   "metadata": {},
   "source": [
    "# Plot Gradcam"
   ]
  },
  {
   "cell_type": "code",
   "execution_count": null,
   "id": "f63382fe6cdfe619",
   "metadata": {
    "ExecuteTime": {
     "end_time": "2024-12-07T20:06:47.951926Z",
     "start_time": "2024-12-07T20:06:45.858209Z"
    },
    "execution": {
     "iopub.execute_input": "2025-01-18T00:59:31.346316Z",
     "iopub.status.busy": "2025-01-18T00:59:31.345275Z",
     "iopub.status.idle": "2025-01-18T00:59:33.217356Z",
     "shell.execute_reply": "2025-01-18T00:59:33.216352Z"
    }
   },
   "outputs": [],
   "source": [
    "for param in model.feature_extractor.parameters():\n",
    "    param.requires_grad = True\n",
    "target_layer = model.feature_extractor[0][8][0]\n",
    "model.visualize_gradcam(num_samples=4, target_layer=target_layer, class_names=[\"Normal\", \"Pneumonia\"], threshold=0.6)\n"
   ]
  },
  {
   "cell_type": "markdown",
   "id": "1f602b5c09fdb60",
   "metadata": {},
   "source": [
    "# Evaluate Metrics in Tensorboard"
   ]
  },
  {
   "cell_type": "code",
   "execution_count": null,
   "id": "41a571c74fefdaeb",
   "metadata": {
    "ExecuteTime": {
     "end_time": "2024-12-07T19:53:01.695768Z",
     "start_time": "2024-12-02T23:01:37.063720Z"
    },
    "execution": {
     "iopub.execute_input": "2025-01-18T00:59:33.221364Z",
     "iopub.status.busy": "2025-01-18T00:59:33.220333Z",
     "iopub.status.idle": "2025-01-18T00:59:38.775669Z",
     "shell.execute_reply": "2025-01-18T00:59:38.774627Z"
    }
   },
   "outputs": [],
   "source": [
    "# Load TensorBoard extension\n",
    "%load_ext tensorboard\n",
    "\n",
    "# Specify the log directory\n",
    "log_dir = f\"tb_logs/{config.model_name}\"\n",
    "\n",
    "# Start TensorBoard\n",
    "%tensorboard --logdir {log_dir}"
   ]
  },
  {
   "cell_type": "markdown",
   "id": "dd4ed1a3bb63373a",
   "metadata": {},
   "source": [
    "# Classify random images"
   ]
  },
  {
   "cell_type": "code",
   "execution_count": null,
   "id": "dd1605ee6782ad12",
   "metadata": {
    "ExecuteTime": {
     "end_time": "2024-12-07T20:06:57.364825Z",
     "start_time": "2024-12-07T20:06:52.093726Z"
    },
    "execution": {
     "iopub.execute_input": "2025-01-18T00:59:38.779668Z",
     "iopub.status.busy": "2025-01-18T00:59:38.779668Z",
     "iopub.status.idle": "2025-01-18T00:59:43.919040Z",
     "shell.execute_reply": "2025-01-18T00:59:43.918040Z"
    }
   },
   "outputs": [],
   "source": [
    "plot_random_images_with_labels(model, model.test_loader, num_images=20)"
   ]
  }
 ],
 "metadata": {
  "kernelspec": {
   "display_name": "Python 3",
   "language": "python",
   "name": "python3"
  },
  "language_info": {
   "codemirror_mode": {
    "name": "ipython",
    "version": 3
   },
   "file_extension": ".py",
   "mimetype": "text/x-python",
   "name": "python",
   "nbconvert_exporter": "python",
   "pygments_lexer": "ipython3",
   "version": "3.12.8"
  }
 },
 "nbformat": 4,
 "nbformat_minor": 5
}
