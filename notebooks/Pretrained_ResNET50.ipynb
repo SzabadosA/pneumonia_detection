{
 "cells": [
  {
   "metadata": {
    "ExecuteTime": {
     "end_time": "2024-11-19T18:26:13.601806Z",
     "start_time": "2024-11-19T18:26:13.595276Z"
    }
   },
   "cell_type": "code",
   "source": [
    "from torchvision.transforms.v2 import ToTensor\n",
    "\n",
    "VERSION = '001'\n",
    "BATCHSIZE = 32\n",
    "MAX_EPOCHS = 50\n",
    "BACKBONE = \"resnet50\"\n",
    "MODEL_NAME = \"ResNet50_transfer\"\n",
    "NUM_WORKERS = 31"
   ],
   "id": "f790a96942638855",
   "outputs": [],
   "execution_count": 1
  },
  {
   "metadata": {
    "collapsed": true,
    "ExecuteTime": {
     "end_time": "2024-11-19T18:26:25.143182Z",
     "start_time": "2024-11-19T18:26:13.612322Z"
    }
   },
   "cell_type": "code",
   "source": [
    "import torch\n",
    "from torchvision import transforms\n",
    "import torch.nn as nn\n",
    "import os\n",
    "import pytorch_lightning as pl  # Add this import\n",
    "from pytorch_lightning.callbacks.early_stopping import EarlyStopping\n",
    "from pytorch_lightning.loggers import TensorBoardLogger\n",
    "from code.dataloader import PneumoniaDataset\n",
    "from code.custom_checkpoint import CustomModelCheckpoint\n",
    "from code.project_globals import TEST_DIR, TRAIN_DIR, VAL_DIR\n"
   ],
   "id": "initial_id",
   "outputs": [],
   "execution_count": 2
  },
  {
   "metadata": {
    "ExecuteTime": {
     "end_time": "2024-11-19T18:26:27.524907Z",
     "start_time": "2024-11-19T18:26:27.517904Z"
    }
   },
   "cell_type": "code",
   "source": [
    "# Enable CUDA Launch Blocking\n",
    "os.environ['CUDA_LAUNCH_BLOCKING'] = '1'\n",
    "# Set float32 matrix multiplication precision to 'medium' to utilize Tensor Cores\n",
    "torch.set_float32_matmul_precision('medium')"
   ],
   "id": "69e053f3a82f28da",
   "outputs": [],
   "execution_count": 3
  },
  {
   "metadata": {
    "ExecuteTime": {
     "end_time": "2024-11-19T18:26:28.245613Z",
     "start_time": "2024-11-19T18:26:27.967402Z"
    }
   },
   "cell_type": "code",
   "source": [
    "gpu_info = !nvidia-smi\n",
    "gpu_info = '\\n'.join(gpu_info)\n",
    "if gpu_info.find('failed') >= 0:\n",
    "    print('Not connected to a GPU')\n",
    "else:\n",
    "    print(gpu_info)"
   ],
   "id": "ba465dcd3a376771",
   "outputs": [
    {
     "name": "stdout",
     "output_type": "stream",
     "text": [
      "Tue Nov 19 19:26:28 2024       \n",
      "+-----------------------------------------------------------------------------------------+\n",
      "| NVIDIA-SMI 565.90                 Driver Version: 565.90         CUDA Version: 12.7     |\n",
      "|-----------------------------------------+------------------------+----------------------+\n",
      "| GPU  Name                  Driver-Model | Bus-Id          Disp.A | Volatile Uncorr. ECC |\n",
      "| Fan  Temp   Perf          Pwr:Usage/Cap |           Memory-Usage | GPU-Util  Compute M. |\n",
      "|                                         |                        |               MIG M. |\n",
      "|=========================================+========================+======================|\n",
      "|   0  NVIDIA GeForce RTX 4070 Ti   WDDM  |   00000000:02:00.0  On |                  N/A |\n",
      "|  0%   44C    P8             14W /  285W |    8486MiB /  12282MiB |     13%      Default |\n",
      "|                                         |                        |                  N/A |\n",
      "+-----------------------------------------+------------------------+----------------------+\n",
      "                                                                                         \n",
      "+-----------------------------------------------------------------------------------------+\n",
      "| Processes:                                                                              |\n",
      "|  GPU   GI   CI        PID   Type   Process name                              GPU Memory |\n",
      "|        ID   ID                                                               Usage      |\n",
      "|=========================================================================================|\n",
      "|    0   N/A  N/A      1744    C+G   ...les\\Microsoft OneDrive\\OneDrive.exe      N/A      |\n",
      "|    0   N/A  N/A      4980    C+G   ...on\\130.0.2849.80\\msedgewebview2.exe      N/A      |\n",
      "|    0   N/A  N/A      6272    C+G   ...CBS_cw5n1h2txyewy\\TextInputHost.exe      N/A      |\n",
      "|    0   N/A  N/A      9068    C+G   C:\\Windows\\explorer.exe                     N/A      |\n",
      "|    0   N/A  N/A     10212    C+G   ...on\\130.0.2849.80\\msedgewebview2.exe      N/A      |\n",
      "|    0   N/A  N/A     11180    C+G   ....Search_cw5n1h2txyewy\\SearchApp.exe      N/A      |\n",
      "|    0   N/A  N/A     11864    C+G   ...t.LockApp_cw5n1h2txyewy\\LockApp.exe      N/A      |\n",
      "|    0   N/A  N/A     12256    C+G   ...5n1h2txyewy\\ShellExperienceHost.exe      N/A      |\n",
      "|    0   N/A  N/A     13508    C+G   ...804_x64__8wekyb3d8bbwe\\ms-teams.exe      N/A      |\n",
      "|    0   N/A  N/A     14096    C+G   ...siveControlPanel\\SystemSettings.exe      N/A      |\n",
      "|    0   N/A  N/A     14644    C+G   C:\\Program Files\\NordVPN\\NordVPN.exe        N/A      |\n",
      "|    0   N/A  N/A     15936    C+G   ..._x64__kzf8qxf38zg5c\\Skype\\Skype.exe      N/A      |\n",
      "|    0   N/A  N/A     16976    C+G   ...oogle\\Chrome\\Application\\chrome.exe      N/A      |\n",
      "|    0   N/A  N/A     18984    C+G   ...al\\Programs\\SideQuest\\SideQuest.exe      N/A      |\n",
      "|    0   N/A  N/A     19048    C+G   ....Search_cw5n1h2txyewy\\SearchApp.exe      N/A      |\n",
      "|    0   N/A  N/A     20756    C+G   ... Design\\DaVinci Resolve\\Resolve.exe      N/A      |\n",
      "|    0   N/A  N/A     23248    C+G   ...ogram Files\\Notepad++\\notepad++.exe      N/A      |\n",
      "|    0   N/A  N/A     23256    C+G   ...oogle\\Chrome\\Application\\chrome.exe      N/A      |\n",
      "|    0   N/A  N/A     23492    C+G   ...ekyb3d8bbwe\\PhoneExperienceHost.exe      N/A      |\n",
      "|    0   N/A  N/A     32888    C+G   ...\\cef\\cef.win7x64\\steamwebhelper.exe      N/A      |\n",
      "|    0   N/A  N/A     34056      C   ...ab\\miniconda3\\envs\\facef\\python.exe      N/A      |\n",
      "|    0   N/A  N/A     35728    C+G   ...35.0_x64__zpdnekdrzrea0\\Spotify.exe      N/A      |\n",
      "|    0   N/A  N/A     39972    C+G   ...harm 243.21155.22\\bin\\pycharm64.exe      N/A      |\n",
      "+-----------------------------------------------------------------------------------------+\n"
     ]
    }
   ],
   "execution_count": 4
  },
  {
   "metadata": {
    "ExecuteTime": {
     "end_time": "2024-11-19T18:36:52.860398Z",
     "start_time": "2024-11-19T18:26:28.778890Z"
    }
   },
   "cell_type": "code",
   "source": [
    "import torch\n",
    "from torchvision import transforms\n",
    "from code.classifier import PneumoniaClassifier, Config\n",
    "\n",
    "transform = transforms.Compose([\n",
    "    transforms.Resize((224, 224)),\n",
    "    transforms.ToTensor(),\n",
    "    transforms.Normalize(mean=[0.485, 0.456, 0.406], std=[0.229, 0.224, 0.225])\n",
    "])\n",
    "\n",
    "config = Config(\n",
    "    backbone_name=\"resnet50\",\n",
    "    transfer_learning=True,\n",
    "    learning_rate=1e-3,\n",
    "    batch_size=32,\n",
    "    max_epochs=50,\n",
    "    weight_decay=1e-4,\n",
    "    dropout=0.5,\n",
    "    num_workers=31,\n",
    "    model_name=\"ResNet50_transfer\",\n",
    "    version=\"001\"\n",
    ")\n",
    "\n",
    "model = PneumoniaClassifier(config, transform)\n",
    "model.train_model()\n"
   ],
   "id": "d08c054aa7b21aa",
   "outputs": [
    {
     "name": "stderr",
     "output_type": "stream",
     "text": [
      "Using 16bit Automatic Mixed Precision (AMP)\n",
      "GPU available: True (cuda), used: True\n",
      "TPU available: False, using: 0 TPU cores\n",
      "HPU available: False, using: 0 HPUs\n",
      "LOCAL_RANK: 0 - CUDA_VISIBLE_DEVICES: [0]\n",
      "C:\\Users\\aszab\\miniconda3\\envs\\pneumonia_detection\\Lib\\site-packages\\torch\\optim\\lr_scheduler.py:62: UserWarning: The verbose parameter is deprecated. Please use get_last_lr() to access the learning rate.\n",
      "  warnings.warn(\n",
      "\n",
      "  | Name              | Type            | Params | Mode \n",
      "--------------------------------------------------------------\n",
      "0 | accuracy          | BinaryAccuracy  | 0      | train\n",
      "1 | precision         | BinaryPrecision | 0      | train\n",
      "2 | recall            | BinaryRecall    | 0      | train\n",
      "3 | f1                | BinaryF1Score   | 0      | train\n",
      "4 | feature_extractor | Sequential      | 23.5 M | train\n",
      "5 | dropout           | Dropout         | 0      | train\n",
      "6 | classifier        | Linear          | 4.1 K  | train\n",
      "--------------------------------------------------------------\n",
      "4.1 K     Trainable params\n",
      "23.5 M    Non-trainable params\n",
      "23.5 M    Total params\n",
      "94.049    Total estimated model params size (MB)\n",
      "156       Modules in train mode\n",
      "0         Modules in eval mode\n"
     ]
    },
    {
     "name": "stdout",
     "output_type": "stream",
     "text": [
      "Epoch 0: 100%|██████████| 163/163 [00:26<00:00,  6.22it/s, v_num=2, train_acc_step=0.879, train_precision_step=0.888, train_recall_step=0.958, train_f1_step=0.922]\n",
      "Validation: |          | 0/? [00:00<?, ?it/s]\u001B[A\n",
      "Validation:   0%|          | 0/1 [00:00<?, ?it/s]\u001B[A\n",
      "Validation DataLoader 0:   0%|          | 0/1 [00:00<?, ?it/s]\u001B[A\n",
      "Validation DataLoader 0: 100%|██████████| 1/1 [00:00<00:00, 12.77it/s]\u001B[A\n",
      "Epoch 0: 100%|██████████| 163/163 [00:26<00:00,  6.07it/s, v_num=2, train_acc_step=0.879, train_precision_step=0.888, train_recall_step=0.958, train_f1_step=0.922, val_acc_step=0.879, val_precision_step=0.888, val_recall_step=0.958, val_f1_step=0.921, val_acc_epoch=0.879, val_precision_epoch=0.888, val_recall_epoch=0.958, val_f1_epoch=0.921]"
     ]
    },
    {
     "name": "stderr",
     "output_type": "stream",
     "text": [
      "C:\\Users\\aszab\\miniconda3\\envs\\pneumonia_detection\\Lib\\site-packages\\torchmetrics\\utilities\\prints.py:43: UserWarning: The ``compute`` method of metric BinaryAccuracy was called before the ``update`` method which may lead to errors, as metric states have not yet been updated.\n",
      "  warnings.warn(*args, **kwargs)  # noqa: B028\n",
      "C:\\Users\\aszab\\miniconda3\\envs\\pneumonia_detection\\Lib\\site-packages\\torchmetrics\\utilities\\prints.py:43: UserWarning: The ``compute`` method of metric BinaryPrecision was called before the ``update`` method which may lead to errors, as metric states have not yet been updated.\n",
      "  warnings.warn(*args, **kwargs)  # noqa: B028\n",
      "C:\\Users\\aszab\\miniconda3\\envs\\pneumonia_detection\\Lib\\site-packages\\torchmetrics\\utilities\\prints.py:43: UserWarning: The ``compute`` method of metric BinaryRecall was called before the ``update`` method which may lead to errors, as metric states have not yet been updated.\n",
      "  warnings.warn(*args, **kwargs)  # noqa: B028\n",
      "C:\\Users\\aszab\\miniconda3\\envs\\pneumonia_detection\\Lib\\site-packages\\torchmetrics\\utilities\\prints.py:43: UserWarning: The ``compute`` method of metric BinaryF1Score was called before the ``update`` method which may lead to errors, as metric states have not yet been updated.\n",
      "  warnings.warn(*args, **kwargs)  # noqa: B028\n",
      "Metric val_loss improved. New best score: 0.367\n"
     ]
    },
    {
     "name": "stdout",
     "output_type": "stream",
     "text": [
      "Epoch 1: 100%|██████████| 163/163 [00:26<00:00,  6.26it/s, v_num=2, train_acc_step=0.938, train_precision_step=0.954, train_recall_step=0.962, train_f1_step=0.958, val_acc_step=0.879, val_precision_step=0.888, val_recall_step=0.958, val_f1_step=0.921, val_acc_epoch=0.879, val_precision_epoch=0.888, val_recall_epoch=0.958, val_f1_epoch=0.921, train_acc_epoch=0.000, train_precision_epoch=0.000, train_recall_epoch=0.000, train_f1_epoch=0.000]\n",
      "Validation: |          | 0/? [00:00<?, ?it/s]\u001B[A\n",
      "Validation:   0%|          | 0/1 [00:00<?, ?it/s]\u001B[A\n",
      "Validation DataLoader 0:   0%|          | 0/1 [00:00<?, ?it/s]\u001B[A\n",
      "Validation DataLoader 0: 100%|██████████| 1/1 [00:00<00:00, 14.29it/s]\u001B[A\n",
      "Epoch 1: 100%|██████████| 163/163 [00:26<00:00,  6.10it/s, v_num=2, train_acc_step=0.938, train_precision_step=0.954, train_recall_step=0.962, train_f1_step=0.958, val_acc_step=0.937, val_precision_step=0.954, val_recall_step=0.962, val_f1_step=0.958, val_acc_epoch=0.937, val_precision_epoch=0.954, val_recall_epoch=0.962, val_f1_epoch=0.958, train_acc_epoch=0.000, train_precision_epoch=0.000, train_recall_epoch=0.000, train_f1_epoch=0.000]"
     ]
    },
    {
     "name": "stderr",
     "output_type": "stream",
     "text": [
      "Metric val_loss improved by 0.030 >= min_delta = 0.0. New best score: 0.337\n"
     ]
    },
    {
     "name": "stdout",
     "output_type": "stream",
     "text": [
      "Epoch 2: 100%|██████████| 163/163 [00:26<00:00,  6.27it/s, v_num=2, train_acc_step=0.945, train_precision_step=0.957, train_recall_step=0.969, train_f1_step=0.963, val_acc_step=0.937, val_precision_step=0.954, val_recall_step=0.962, val_f1_step=0.958, val_acc_epoch=0.937, val_precision_epoch=0.954, val_recall_epoch=0.962, val_f1_epoch=0.958, train_acc_epoch=0.000, train_precision_epoch=0.000, train_recall_epoch=0.000, train_f1_epoch=0.000]\n",
      "Validation: |          | 0/? [00:00<?, ?it/s]\u001B[A\n",
      "Validation:   0%|          | 0/1 [00:00<?, ?it/s]\u001B[A\n",
      "Validation DataLoader 0:   0%|          | 0/1 [00:00<?, ?it/s]\u001B[A\n",
      "Validation DataLoader 0: 100%|██████████| 1/1 [00:00<00:00,  8.84it/s]\u001B[A\n",
      "Epoch 2: 100%|██████████| 163/163 [00:26<00:00,  6.10it/s, v_num=2, train_acc_step=0.945, train_precision_step=0.957, train_recall_step=0.969, train_f1_step=0.963, val_acc_step=0.945, val_precision_step=0.957, val_recall_step=0.969, val_f1_step=0.963, val_acc_epoch=0.945, val_precision_epoch=0.957, val_recall_epoch=0.969, val_f1_epoch=0.963, train_acc_epoch=0.000, train_precision_epoch=0.000, train_recall_epoch=0.000, train_f1_epoch=0.000]"
     ]
    },
    {
     "name": "stderr",
     "output_type": "stream",
     "text": [
      "Metric val_loss improved by 0.053 >= min_delta = 0.0. New best score: 0.285\n"
     ]
    },
    {
     "name": "stdout",
     "output_type": "stream",
     "text": [
      "Epoch 3: 100%|██████████| 163/163 [00:28<00:00,  5.80it/s, v_num=2, train_acc_step=0.951, train_precision_step=0.964, train_recall_step=0.970, train_f1_step=0.967, val_acc_step=0.945, val_precision_step=0.957, val_recall_step=0.969, val_f1_step=0.963, val_acc_epoch=0.945, val_precision_epoch=0.957, val_recall_epoch=0.969, val_f1_epoch=0.963, train_acc_epoch=0.000, train_precision_epoch=0.000, train_recall_epoch=0.000, train_f1_epoch=0.000]\n",
      "Validation: |          | 0/? [00:00<?, ?it/s]\u001B[A\n",
      "Validation:   0%|          | 0/1 [00:00<?, ?it/s]\u001B[A\n",
      "Validation DataLoader 0:   0%|          | 0/1 [00:00<?, ?it/s]\u001B[A\n",
      "Validation DataLoader 0: 100%|██████████| 1/1 [00:00<00:00, 10.36it/s]\u001B[A\n",
      "Epoch 3: 100%|██████████| 163/163 [00:28<00:00,  5.63it/s, v_num=2, train_acc_step=0.951, train_precision_step=0.964, train_recall_step=0.970, train_f1_step=0.967, val_acc_step=0.950, val_precision_step=0.963, val_recall_step=0.970, val_f1_step=0.967, val_acc_epoch=0.950, val_precision_epoch=0.963, val_recall_epoch=0.970, val_f1_epoch=0.967, train_acc_epoch=0.000, train_precision_epoch=0.000, train_recall_epoch=0.000, train_f1_epoch=0.000]"
     ]
    },
    {
     "name": "stderr",
     "output_type": "stream",
     "text": [
      "Metric val_loss improved by 0.064 >= min_delta = 0.0. New best score: 0.220\n"
     ]
    },
    {
     "name": "stdout",
     "output_type": "stream",
     "text": [
      "Epoch 4: 100%|██████████| 163/163 [00:27<00:00,  5.90it/s, v_num=2, train_acc_step=0.952, train_precision_step=0.966, train_recall_step=0.970, train_f1_step=0.968, val_acc_step=0.950, val_precision_step=0.963, val_recall_step=0.970, val_f1_step=0.967, val_acc_epoch=0.950, val_precision_epoch=0.963, val_recall_epoch=0.970, val_f1_epoch=0.967, train_acc_epoch=0.000, train_precision_epoch=0.000, train_recall_epoch=0.000, train_f1_epoch=0.000]\n",
      "Validation: |          | 0/? [00:00<?, ?it/s]\u001B[A\n",
      "Validation:   0%|          | 0/1 [00:00<?, ?it/s]\u001B[A\n",
      "Validation DataLoader 0:   0%|          | 0/1 [00:00<?, ?it/s]\u001B[A\n",
      "Validation DataLoader 0: 100%|██████████| 1/1 [00:00<00:00, 10.63it/s]\u001B[A\n",
      "Epoch 5: 100%|██████████| 163/163 [00:28<00:00,  5.72it/s, v_num=2, train_acc_step=0.954, train_precision_step=0.968, train_recall_step=0.970, train_f1_step=0.969, val_acc_step=0.952, val_precision_step=0.966, val_recall_step=0.970, val_f1_step=0.968, val_acc_epoch=0.952, val_precision_epoch=0.966, val_recall_epoch=0.970, val_f1_epoch=0.968, train_acc_epoch=0.000, train_precision_epoch=0.000, train_recall_epoch=0.000, train_f1_epoch=0.000]\n",
      "Validation: |          | 0/? [00:00<?, ?it/s]\u001B[A\n",
      "Validation:   0%|          | 0/1 [00:00<?, ?it/s]\u001B[A\n",
      "Validation DataLoader 0:   0%|          | 0/1 [00:00<?, ?it/s]\u001B[A\n",
      "Validation DataLoader 0: 100%|██████████| 1/1 [00:00<00:00, 10.87it/s]\u001B[A\n",
      "Epoch 6: 100%|██████████| 163/163 [00:28<00:00,  5.72it/s, v_num=2, train_acc_step=0.955, train_precision_step=0.970, train_recall_step=0.970, train_f1_step=0.970, val_acc_step=0.954, val_precision_step=0.967, val_recall_step=0.970, val_f1_step=0.969, val_acc_epoch=0.954, val_precision_epoch=0.967, val_recall_epoch=0.970, val_f1_epoch=0.969, train_acc_epoch=0.000, train_precision_epoch=0.000, train_recall_epoch=0.000, train_f1_epoch=0.000]\n",
      "Validation: |          | 0/? [00:00<?, ?it/s]\u001B[A\n",
      "Validation:   0%|          | 0/1 [00:00<?, ?it/s]\u001B[A\n",
      "Validation DataLoader 0:   0%|          | 0/1 [00:00<?, ?it/s]\u001B[A\n",
      "Validation DataLoader 0: 100%|██████████| 1/1 [00:00<00:00, 12.82it/s]\u001B[A\n",
      "Epoch 6: 100%|██████████| 163/163 [00:29<00:00,  5.58it/s, v_num=2, train_acc_step=0.955, train_precision_step=0.970, train_recall_step=0.970, train_f1_step=0.970, val_acc_step=0.955, val_precision_step=0.970, val_recall_step=0.970, val_f1_step=0.970, val_acc_epoch=0.955, val_precision_epoch=0.970, val_recall_epoch=0.970, val_f1_epoch=0.970, train_acc_epoch=0.000, train_precision_epoch=0.000, train_recall_epoch=0.000, train_f1_epoch=0.000]"
     ]
    },
    {
     "name": "stderr",
     "output_type": "stream",
     "text": [
      "Metric val_loss improved by 0.029 >= min_delta = 0.0. New best score: 0.191\n"
     ]
    },
    {
     "name": "stdout",
     "output_type": "stream",
     "text": [
      "Epoch 7: 100%|██████████| 163/163 [00:25<00:00,  6.30it/s, v_num=2, train_acc_step=0.960, train_precision_step=0.971, train_recall_step=0.975, train_f1_step=0.973, val_acc_step=0.955, val_precision_step=0.970, val_recall_step=0.970, val_f1_step=0.970, val_acc_epoch=0.955, val_precision_epoch=0.970, val_recall_epoch=0.970, val_f1_epoch=0.970, train_acc_epoch=0.000, train_precision_epoch=0.000, train_recall_epoch=0.000, train_f1_epoch=0.000]\n",
      "Validation: |          | 0/? [00:00<?, ?it/s]\u001B[A\n",
      "Validation:   0%|          | 0/1 [00:00<?, ?it/s]\u001B[A\n",
      "Validation DataLoader 0:   0%|          | 0/1 [00:00<?, ?it/s]\u001B[A\n",
      "Validation DataLoader 0: 100%|██████████| 1/1 [00:00<00:00, 10.00it/s]\u001B[A\n",
      "Epoch 8: 100%|██████████| 163/163 [00:25<00:00,  6.34it/s, v_num=2, train_acc_step=0.960, train_precision_step=0.970, train_recall_step=0.975, train_f1_step=0.973, val_acc_step=0.959, val_precision_step=0.970, val_recall_step=0.975, val_f1_step=0.973, val_acc_epoch=0.959, val_precision_epoch=0.970, val_recall_epoch=0.975, val_f1_epoch=0.973, train_acc_epoch=0.000, train_precision_epoch=0.000, train_recall_epoch=0.000, train_f1_epoch=0.000]\n",
      "Validation: |          | 0/? [00:00<?, ?it/s]\u001B[A\n",
      "Validation:   0%|          | 0/1 [00:00<?, ?it/s]\u001B[A\n",
      "Validation DataLoader 0:   0%|          | 0/1 [00:00<?, ?it/s]\u001B[A\n",
      "Validation DataLoader 0: 100%|██████████| 1/1 [00:00<00:00, 11.73it/s]\u001B[A\n",
      "Epoch 8: 100%|██████████| 163/163 [00:26<00:00,  6.19it/s, v_num=2, train_acc_step=0.960, train_precision_step=0.970, train_recall_step=0.975, train_f1_step=0.973, val_acc_step=0.959, val_precision_step=0.970, val_recall_step=0.975, val_f1_step=0.973, val_acc_epoch=0.959, val_precision_epoch=0.970, val_recall_epoch=0.975, val_f1_epoch=0.973, train_acc_epoch=0.000, train_precision_epoch=0.000, train_recall_epoch=0.000, train_f1_epoch=0.000]"
     ]
    },
    {
     "name": "stderr",
     "output_type": "stream",
     "text": [
      "Metric val_loss improved by 0.037 >= min_delta = 0.0. New best score: 0.154\n"
     ]
    },
    {
     "name": "stdout",
     "output_type": "stream",
     "text": [
      "Epoch 9: 100%|██████████| 163/163 [00:25<00:00,  6.37it/s, v_num=2, train_acc_step=0.960, train_precision_step=0.974, train_recall_step=0.973, train_f1_step=0.973, val_acc_step=0.959, val_precision_step=0.970, val_recall_step=0.975, val_f1_step=0.973, val_acc_epoch=0.959, val_precision_epoch=0.970, val_recall_epoch=0.975, val_f1_epoch=0.973, train_acc_epoch=0.000, train_precision_epoch=0.000, train_recall_epoch=0.000, train_f1_epoch=0.000]\n",
      "Validation: |          | 0/? [00:00<?, ?it/s]\u001B[A\n",
      "Validation:   0%|          | 0/1 [00:00<?, ?it/s]\u001B[A\n",
      "Validation DataLoader 0:   0%|          | 0/1 [00:00<?, ?it/s]\u001B[A\n",
      "Validation DataLoader 0: 100%|██████████| 1/1 [00:00<00:00, 12.82it/s]\u001B[A\n",
      "Epoch 10: 100%|██████████| 163/163 [00:25<00:00,  6.40it/s, v_num=2, train_acc_step=0.960, train_precision_step=0.972, train_recall_step=0.974, train_f1_step=0.973, val_acc_step=0.960, val_precision_step=0.973, val_recall_step=0.973, val_f1_step=0.973, val_acc_epoch=0.960, val_precision_epoch=0.973, val_recall_epoch=0.973, val_f1_epoch=0.973, train_acc_epoch=0.000, train_precision_epoch=0.000, train_recall_epoch=0.000, train_f1_epoch=0.000]\n",
      "Validation: |          | 0/? [00:00<?, ?it/s]\u001B[A\n",
      "Validation:   0%|          | 0/1 [00:00<?, ?it/s]\u001B[A\n",
      "Validation DataLoader 0:   0%|          | 0/1 [00:00<?, ?it/s]\u001B[A\n",
      "Validation DataLoader 0: 100%|██████████| 1/1 [00:00<00:00, 13.51it/s]\u001B[A\n",
      "Epoch 11: 100%|██████████| 163/163 [00:24<00:00,  6.53it/s, v_num=2, train_acc_step=0.960, train_precision_step=0.972, train_recall_step=0.975, train_f1_step=0.973, val_acc_step=0.960, val_precision_step=0.971, val_recall_step=0.974, val_f1_step=0.973, val_acc_epoch=0.960, val_precision_epoch=0.971, val_recall_epoch=0.974, val_f1_epoch=0.973, train_acc_epoch=0.000, train_precision_epoch=0.000, train_recall_epoch=0.000, train_f1_epoch=0.000]\n",
      "Validation: |          | 0/? [00:00<?, ?it/s]\u001B[A\n",
      "Validation:   0%|          | 0/1 [00:00<?, ?it/s]\u001B[A\n",
      "Validation DataLoader 0:   0%|          | 0/1 [00:00<?, ?it/s]\u001B[A\n",
      "Validation DataLoader 0: 100%|██████████| 1/1 [00:00<00:00, 13.16it/s]\u001B[A\n",
      "Epoch 11: 100%|██████████| 163/163 [00:25<00:00,  6.36it/s, v_num=2, train_acc_step=0.960, train_precision_step=0.972, train_recall_step=0.975, train_f1_step=0.973, val_acc_step=0.960, val_precision_step=0.971, val_recall_step=0.975, val_f1_step=0.973, val_acc_epoch=0.960, val_precision_epoch=0.971, val_recall_epoch=0.975, val_f1_epoch=0.973, train_acc_epoch=0.000, train_precision_epoch=0.000, train_recall_epoch=0.000, train_f1_epoch=0.000]"
     ]
    },
    {
     "name": "stderr",
     "output_type": "stream",
     "text": [
      "Monitored metric val_loss did not improve in the last 3 records. Best score: 0.154. Signaling Trainer to stop.\n"
     ]
    },
    {
     "name": "stdout",
     "output_type": "stream",
     "text": [
      "Epoch 11: 100%|██████████| 163/163 [00:25<00:00,  6.35it/s, v_num=2, train_acc_step=0.960, train_precision_step=0.972, train_recall_step=0.975, train_f1_step=0.973, val_acc_step=0.960, val_precision_step=0.971, val_recall_step=0.975, val_f1_step=0.973, val_acc_epoch=0.960, val_precision_epoch=0.971, val_recall_epoch=0.975, val_f1_epoch=0.973, train_acc_epoch=0.000, train_precision_epoch=0.000, train_recall_epoch=0.000, train_f1_epoch=0.000]\n"
     ]
    }
   ],
   "execution_count": 5
  },
  {
   "metadata": {
    "ExecuteTime": {
     "end_time": "2024-11-19T18:43:14.415166Z",
     "start_time": "2024-11-19T18:43:13.994864Z"
    }
   },
   "cell_type": "code",
   "source": [
    "from torchvision.transforms import Compose, Resize, InterpolationMode, ToTensor, Normalize\n",
    "import torch\n",
    "\n",
    "# Add Compose to the safe globals list\n",
    "torch.serialization.add_safe_globals([Compose, Resize, set, Config, InterpolationMode, ToTensor, Normalize])\n",
    "\n",
    "# Load the checkpoint with weights_only=True\n",
    "checkpoint_path = '../checkpoints/ResNet50_transfer-epoch=08-val_loss=0.15_v001.ckpt'\n",
    "checkpoint = torch.load(checkpoint_path, weights_only=True)\n",
    "\n",
    "# Access the metadata\n",
    "metadata = checkpoint.get(\"metadata\", {})"
   ],
   "id": "d6b8db71d352177f",
   "outputs": [],
   "execution_count": 17
  },
  {
   "metadata": {
    "ExecuteTime": {
     "end_time": "2024-11-19T18:55:14.076025Z",
     "start_time": "2024-11-19T18:53:41.794708Z"
    }
   },
   "cell_type": "code",
   "source": [
    "# Initialize the model\n",
    "model = PneumoniaClassifier(config, transform)\n",
    "\n",
    "# Path to the checkpoint\n",
    "checkpoint_path = '../checkpoints/ResNet50_transfer-epoch=08-val_loss=0.15_v001.ckpt'\n",
    "\n",
    "# Test the model\n",
    "metadata = model.test_model(checkpoint_path)\n",
    "\n",
    "# Print the metadata\n",
    "print(metadata)"
   ],
   "id": "b3ada03ddef1ef1a",
   "outputs": [
    {
     "name": "stderr",
     "output_type": "stream",
     "text": [
      "Using 16bit Automatic Mixed Precision (AMP)\n",
      "GPU available: True (cuda), used: True\n",
      "TPU available: False, using: 0 TPU cores\n",
      "HPU available: False, using: 0 HPUs\n",
      "LOCAL_RANK: 0 - CUDA_VISIBLE_DEVICES: [0]\n"
     ]
    },
    {
     "name": "stdout",
     "output_type": "stream",
     "text": [
      "Testing DataLoader 0: 100%|██████████| 20/20 [00:18<00:00,  1.10it/s]\n",
      "────────────────────────────────────────────────────────────────────────────────────────────────────────────────────────\r\n",
      "       Test metric             DataLoader 0\r\n",
      "────────────────────────────────────────────────────────────────────────────────────────────────────────────────────────\r\n",
      "     test_acc_epoch         0.48076921701431274\r\n",
      "      test_acc_step         0.6751185059547424\r\n",
      "      test_f1_epoch         0.38167938590049744\r\n",
      "      test_f1_step          0.2445952147245407\r\n",
      "        test_loss           0.7132286429405212\r\n",
      "  test_precision_epoch       0.746268630027771\r\n",
      "   test_precision_step      0.37489965558052063\r\n",
      "    test_recall_epoch       0.25641027092933655\r\n",
      "    test_recall_step        0.19538259506225586\r\n",
      "────────────────────────────────────────────────────────────────────────────────────────────────────────────────────────\n",
      "None\n"
     ]
    }
   ],
   "execution_count": 20
  },
  {
   "metadata": {
    "ExecuteTime": {
     "end_time": "2024-11-19T18:43:28.151326Z",
     "start_time": "2024-11-19T18:43:28.127075Z"
    }
   },
   "cell_type": "code",
   "source": [
    "\n",
    "# Load the TensorBoard extension\n",
    "%load_ext tensorboard\n",
    "\n",
    "# Start TensorBoard and point it to the log directory\n",
    "%tensorboard --logdir tb_logs/ResNet50_transfer/version_2"
   ],
   "id": "ef3158b5a2ae5988",
   "outputs": [
    {
     "name": "stdout",
     "output_type": "stream",
     "text": [
      "The tensorboard extension is already loaded. To reload it, use:\n",
      "  %reload_ext tensorboard\n"
     ]
    },
    {
     "data": {
      "text/plain": [
       "Reusing TensorBoard on port 6007 (pid 39112), started 2 days, 4:06:44 ago. (Use '!kill 39112' to kill it.)"
      ]
     },
     "metadata": {},
     "output_type": "display_data"
    },
    {
     "data": {
      "text/plain": [
       "<IPython.core.display.HTML object>"
      ],
      "text/html": [
       "\n",
       "      <iframe id=\"tensorboard-frame-23f40109614d52b7\" width=\"100%\" height=\"800\" frameborder=\"0\">\n",
       "      </iframe>\n",
       "      <script>\n",
       "        (function() {\n",
       "          const frame = document.getElementById(\"tensorboard-frame-23f40109614d52b7\");\n",
       "          const url = new URL(\"/\", window.location);\n",
       "          const port = 6007;\n",
       "          if (port) {\n",
       "            url.port = port;\n",
       "          }\n",
       "          frame.src = url;\n",
       "        })();\n",
       "      </script>\n",
       "    "
      ]
     },
     "metadata": {},
     "output_type": "display_data"
    }
   ],
   "execution_count": 19
  },
  {
   "metadata": {},
   "cell_type": "markdown",
   "source": "# Add Regularization",
   "id": "e934eec0c876e1ae"
  },
  {
   "metadata": {},
   "cell_type": "code",
   "outputs": [],
   "execution_count": null,
   "source": "",
   "id": "66c72093ed0d46c4"
  }
 ],
 "metadata": {
  "kernelspec": {
   "display_name": "Python 3",
   "language": "python",
   "name": "python3"
  },
  "language_info": {
   "codemirror_mode": {
    "name": "ipython",
    "version": 2
   },
   "file_extension": ".py",
   "mimetype": "text/x-python",
   "name": "python",
   "nbconvert_exporter": "python",
   "pygments_lexer": "ipython2",
   "version": "2.7.6"
  }
 },
 "nbformat": 4,
 "nbformat_minor": 5
}
