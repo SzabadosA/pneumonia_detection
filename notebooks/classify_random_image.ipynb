{
 "cells": [
  {
   "metadata": {},
   "cell_type": "markdown",
   "source": "# Classify Random Image with given model",
   "id": "f0cd231c9c39a676"
  },
  {
   "metadata": {
    "ExecuteTime": {
     "end_time": "2024-11-24T18:20:46.177845Z",
     "start_time": "2024-11-24T18:20:46.171741Z"
    }
   },
   "cell_type": "code",
   "source": [
    "import random\n",
    "from PIL import Image\n",
    "import torch\n",
    "import os\n",
    "import os\n",
    "from torchvision.transforms import Compose, Resize, InterpolationMode, ToTensor, Normalize\n",
    "import torch\n",
    "from torchvision import transforms\n",
    "from code.classifier import PneumoniaClassifier, Config"
   ],
   "id": "391a7b280791584a",
   "outputs": [],
   "execution_count": 7
  },
  {
   "metadata": {
    "ExecuteTime": {
     "end_time": "2024-11-24T18:20:46.197482Z",
     "start_time": "2024-11-24T18:20:46.184845Z"
    }
   },
   "cell_type": "code",
   "source": [
    "def classify_random_image(model, dataset_dir, transform):\n",
    "    # Pick a random image from the dataset directory\n",
    "    pneumonia_dir = os.path.join(dataset_dir, \"PNEUMONIA\")\n",
    "    normal_dir = os.path.join(dataset_dir, \"NORMAL\")\n",
    "    all_images = [\n",
    "        os.path.join(pneumonia_dir, img) for img in os.listdir(pneumonia_dir)\n",
    "    ] + [\n",
    "        os.path.join(normal_dir, img) for img in os.listdir(normal_dir)\n",
    "    ]\n",
    "    random_image_path = random.choice(all_images)\n",
    "    print(f\"Classifying image: {random_image_path}\")\n",
    "\n",
    "    # Load and preprocess the image\n",
    "    image = Image.open(random_image_path).convert(\"RGB\")\n",
    "    image = transform(image).unsqueeze(0)  # Add batch dimension\n",
    "\n",
    "    # Put the models in evaluation mode\n",
    "    model.eval()\n",
    "    with torch.no_grad():\n",
    "        logits = model(image)  # Get raw logits\n",
    "        probabilities = torch.softmax(logits, dim=1)  # Convert to probabilities\n",
    "        predicted_class = torch.argmax(probabilities, dim=1).item()  # Get predicted class index\n",
    "\n",
    "    # Map the predicted class index to label\n",
    "    class_map = {0: \"NORMAL\", 1: \"PNEUMONIA\"}\n",
    "    print(f\"Predicted: {class_map[predicted_class]} with probability {probabilities[0, predicted_class].item():.2f}\")"
   ],
   "id": "f30b8bc0fdd85e57",
   "outputs": [],
   "execution_count": 8
  },
  {
   "metadata": {
    "ExecuteTime": {
     "end_time": "2024-11-24T18:21:07.867034Z",
     "start_time": "2024-11-24T18:21:07.474980Z"
    }
   },
   "cell_type": "code",
   "source": [
    "checkpoint_path = \"../checkpoints/ResNet50_transfer.ckpt\"\n",
    "model = PneumoniaClassifier.load_from_checkpoint(checkpoint_path)\n",
    "model.eval()"
   ],
   "id": "5e88674370014302",
   "outputs": [
    {
     "name": "stderr",
     "output_type": "stream",
     "text": [
      "C:\\Users\\aszab\\AppData\\Local\\Temp\\ipykernel_40264\\378009413.py:7: FutureWarning: You are using `torch.load` with `weights_only=False` (the current default value), which uses the default pickle module implicitly. It is possible to construct malicious pickle data which will execute arbitrary code during unpickling (See https://github.com/pytorch/pytorch/blob/main/SECURITY.md#untrusted-models for more details). In a future release, the default value for `weights_only` will be flipped to `True`. This limits the functions that could be executed during unpickling. Arbitrary objects will no longer be allowed to be loaded via this mode unless they are explicitly allowlisted by the user via `torch.serialization.add_safe_globals`. We recommend you start setting `weights_only=True` for any use case where you don't have full control of the loaded file. Please open an issue on GitHub for any issues related to this experimental feature.\n",
      "  model = torch.load(\"../checkpoints/ResNet50_transfer.ckpt\")\n"
     ]
    },
    {
     "ename": "AttributeError",
     "evalue": "'dict' object has no attribute 'eval'",
     "output_type": "error",
     "traceback": [
      "\u001B[1;31m---------------------------------------------------------------------------\u001B[0m",
      "\u001B[1;31mAttributeError\u001B[0m                            Traceback (most recent call last)",
      "Cell \u001B[1;32mIn[10], line 8\u001B[0m\n\u001B[0;32m      1\u001B[0m transform \u001B[38;5;241m=\u001B[39m transforms\u001B[38;5;241m.\u001B[39mCompose([\n\u001B[0;32m      2\u001B[0m     transforms\u001B[38;5;241m.\u001B[39mResize((\u001B[38;5;241m224\u001B[39m, \u001B[38;5;241m224\u001B[39m)),\n\u001B[0;32m      3\u001B[0m     transforms\u001B[38;5;241m.\u001B[39mToTensor(),\n\u001B[0;32m      4\u001B[0m     transforms\u001B[38;5;241m.\u001B[39mNormalize(mean\u001B[38;5;241m=\u001B[39m[\u001B[38;5;241m0.485\u001B[39m, \u001B[38;5;241m0.456\u001B[39m, \u001B[38;5;241m0.406\u001B[39m], std\u001B[38;5;241m=\u001B[39m[\u001B[38;5;241m0.229\u001B[39m, \u001B[38;5;241m0.224\u001B[39m, \u001B[38;5;241m0.225\u001B[39m])\n\u001B[0;32m      5\u001B[0m ])\n\u001B[0;32m      7\u001B[0m model \u001B[38;5;241m=\u001B[39m torch\u001B[38;5;241m.\u001B[39mload(\u001B[38;5;124m\"\u001B[39m\u001B[38;5;124m../checkpoints/ResNet50_transfer.ckpt\u001B[39m\u001B[38;5;124m\"\u001B[39m)\n\u001B[1;32m----> 8\u001B[0m model\u001B[38;5;241m.\u001B[39meval()\n\u001B[0;32m      9\u001B[0m classify_random_image(model, \u001B[38;5;124m\"\u001B[39m\u001B[38;5;124m../data/raw/test\u001B[39m\u001B[38;5;124m\"\u001B[39m, transform)\n",
      "\u001B[1;31mAttributeError\u001B[0m: 'dict' object has no attribute 'eval'"
     ]
    }
   ],
   "execution_count": 10
  },
  {
   "metadata": {},
   "cell_type": "code",
   "outputs": [],
   "execution_count": null,
   "source": "",
   "id": "626640c87e2b0717"
  }
 ],
 "metadata": {
  "kernelspec": {
   "display_name": "Python 3",
   "language": "python",
   "name": "python3"
  },
  "language_info": {
   "codemirror_mode": {
    "name": "ipython",
    "version": 2
   },
   "file_extension": ".py",
   "mimetype": "text/x-python",
   "name": "python",
   "nbconvert_exporter": "python",
   "pygments_lexer": "ipython2",
   "version": "2.7.6"
  }
 },
 "nbformat": 4,
 "nbformat_minor": 5
}
