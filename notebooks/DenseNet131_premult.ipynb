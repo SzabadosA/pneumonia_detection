{
 "cells": [
  {
   "cell_type": "markdown",
   "id": "edef74c71e6ebce5",
   "metadata": {},
   "source": [
    "# Import Libraries"
   ]
  },
  {
   "cell_type": "code",
   "execution_count": null,
   "id": "initial_id",
   "metadata": {
    "ExecuteTime": {
     "end_time": "2025-01-13T18:32:48.434296Z",
     "start_time": "2025-01-13T18:32:38.926215Z"
    },
    "collapsed": true,
    "execution": {
     "iopub.execute_input": "2025-01-17T23:26:14.314552Z",
     "iopub.status.busy": "2025-01-17T23:26:14.313561Z",
     "iopub.status.idle": "2025-01-17T23:26:24.658836Z",
     "shell.execute_reply": "2025-01-17T23:26:24.657791Z"
    }
   },
   "outputs": [],
   "source": [
    "\n",
    "import os\n",
    "from IPython import get_ipython\n",
    "get_ipython().run_line_magic(\"matplotlib\", \"inline\")\n",
    "from torchvision.transforms import Compose, Resize, InterpolationMode, ToTensor, Normalize, RandomCrop, RandomHorizontalFlip\n",
    "import torch\n",
    "from code.classifier import CNNPneumoniaClassifier, Config\n",
    "from code.plot_random_image import plot_random_image_from_loader\n",
    "from code.classify_random_images import plot_random_images_with_labels\n",
    "from sklearn.metrics import ConfusionMatrixDisplay, confusion_matrix\n",
    "import matplotlib.pyplot as plt\n",
    "\n"
   ]
  },
  {
   "cell_type": "code",
   "execution_count": null,
   "id": "4376ace1b8695239",
   "metadata": {
    "ExecuteTime": {
     "end_time": "2025-01-13T18:32:48.461640Z",
     "start_time": "2025-01-13T18:32:48.441312Z"
    },
    "execution": {
     "iopub.execute_input": "2025-01-17T23:26:24.662833Z",
     "iopub.status.busy": "2025-01-17T23:26:24.662833Z",
     "iopub.status.idle": "2025-01-17T23:26:24.682744Z",
     "shell.execute_reply": "2025-01-17T23:26:24.682744Z"
    }
   },
   "outputs": [],
   "source": [
    "\n",
    "# Load the TensorBoard\n",
    "%reload_ext tensorboard\n",
    "%load_ext tensorboard\n"
   ]
  },
  {
   "cell_type": "code",
   "execution_count": null,
   "id": "69e053f3a82f28da",
   "metadata": {
    "ExecuteTime": {
     "end_time": "2025-01-13T18:32:50.055067Z",
     "start_time": "2025-01-13T18:32:50.049887Z"
    },
    "execution": {
     "iopub.execute_input": "2025-01-17T23:26:24.686802Z",
     "iopub.status.busy": "2025-01-17T23:26:24.685777Z",
     "iopub.status.idle": "2025-01-17T23:26:24.691447Z",
     "shell.execute_reply": "2025-01-17T23:26:24.690390Z"
    }
   },
   "outputs": [],
   "source": [
    "# Enable CUDA Launch Blocking\n",
    "os.environ['CUDA_LAUNCH_BLOCKING'] = '1'\n",
    "# Set float32 matrix multiplication precision to 'medium' to utilize Tensor Cores\n",
    "torch.set_float32_matmul_precision('medium')\n",
    "torch.serialization.add_safe_globals([Compose, Resize, set, Config, InterpolationMode, ToTensor, Normalize, RandomHorizontalFlip])"
   ]
  },
  {
   "cell_type": "markdown",
   "id": "c4e73085475698cb",
   "metadata": {},
   "source": [
    "# Check GPU Availability"
   ]
  },
  {
   "cell_type": "code",
   "execution_count": null,
   "id": "ba465dcd3a376771",
   "metadata": {
    "ExecuteTime": {
     "end_time": "2025-01-13T18:32:50.477043Z",
     "start_time": "2025-01-13T18:32:50.296643Z"
    },
    "execution": {
     "iopub.execute_input": "2025-01-17T23:26:24.695445Z",
     "iopub.status.busy": "2025-01-17T23:26:24.694426Z",
     "iopub.status.idle": "2025-01-17T23:26:24.901383Z",
     "shell.execute_reply": "2025-01-17T23:26:24.901383Z"
    }
   },
   "outputs": [],
   "source": [
    "gpu_info = !nvidia-smi\n",
    "gpu_info = '\\n'.join(gpu_info)\n",
    "if gpu_info.find('failed') >= 0:\n",
    "    print('Not connected to a GPU')\n",
    "else:\n",
    "    print(gpu_info)"
   ]
  },
  {
   "cell_type": "markdown",
   "id": "72000018a252c38",
   "metadata": {},
   "source": [
    "# Setup Model"
   ]
  },
  {
   "cell_type": "code",
   "execution_count": null,
   "id": "4014586acf1f2311",
   "metadata": {
    "ExecuteTime": {
     "end_time": "2025-01-13T18:32:51.379269Z",
     "start_time": "2025-01-13T18:32:50.717631Z"
    },
    "execution": {
     "iopub.execute_input": "2025-01-17T23:26:24.905414Z",
     "iopub.status.busy": "2025-01-17T23:26:24.904417Z",
     "iopub.status.idle": "2025-01-17T23:26:25.644481Z",
     "shell.execute_reply": "2025-01-17T23:26:25.643922Z"
    }
   },
   "outputs": [],
   "source": [
    "config = Config(\n",
    "    backbone_name=\"densenet121\",\n",
    "    transfer_learning=True,\n",
    "    learning_rate=1e-4,\n",
    "    batch_size=20,\n",
    "    max_epochs=50,\n",
    "    weight_decay=1e-4,\n",
    "    dropout=0.2,\n",
    "    num_workers=16,\n",
    "    model_name=\"densenet131_premult\",\n",
    "    version=\"001\",\n",
    "    optimizer_name = \"sgd\",\n",
    "    use_class_weights=True,\n",
    "    image_res=224,\n",
    "    patience = 10,\n",
    "    image_type=3\n",
    ")\n",
    "model = CNNPneumoniaClassifier(config)\n",
    "device = torch.device(\"cuda\" if torch.cuda.is_available() else \"cpu\")\n",
    "model = model.to(device)\n"
   ]
  },
  {
   "cell_type": "markdown",
   "id": "f9fad1c4b6515630",
   "metadata": {},
   "source": [
    "# Plot random images from all datasets"
   ]
  },
  {
   "cell_type": "code",
   "execution_count": null,
   "id": "484a34133e6799cb",
   "metadata": {
    "ExecuteTime": {
     "end_time": "2024-12-07T19:48:27.138401Z",
     "start_time": "2024-12-07T19:48:26.814655Z"
    },
    "execution": {
     "iopub.execute_input": "2025-01-17T23:26:25.648466Z",
     "iopub.status.busy": "2025-01-17T23:26:25.648466Z",
     "iopub.status.idle": "2025-01-17T23:26:25.968490Z",
     "shell.execute_reply": "2025-01-17T23:26:25.967489Z"
    }
   },
   "outputs": [],
   "source": [
    "plot_random_image_from_loader(model.train_loader.dataset, \"Train Dataset\")"
   ]
  },
  {
   "cell_type": "code",
   "execution_count": null,
   "id": "8fd665ef08dafd7f",
   "metadata": {
    "ExecuteTime": {
     "end_time": "2024-12-07T19:48:27.923237Z",
     "start_time": "2024-12-07T19:48:27.644238Z"
    },
    "execution": {
     "iopub.execute_input": "2025-01-17T23:26:25.972512Z",
     "iopub.status.busy": "2025-01-17T23:26:25.971519Z",
     "iopub.status.idle": "2025-01-17T23:26:26.227571Z",
     "shell.execute_reply": "2025-01-17T23:26:26.227019Z"
    }
   },
   "outputs": [],
   "source": [
    "plot_random_image_from_loader(model.val_loader.dataset, \"Validation Dataset\")"
   ]
  },
  {
   "cell_type": "code",
   "execution_count": null,
   "id": "c3529628b6269dc4",
   "metadata": {
    "ExecuteTime": {
     "end_time": "2024-12-07T19:26:19.027775Z",
     "start_time": "2024-12-07T19:26:18.392325Z"
    },
    "execution": {
     "iopub.execute_input": "2025-01-17T23:26:26.231559Z",
     "iopub.status.busy": "2025-01-17T23:26:26.231559Z",
     "iopub.status.idle": "2025-01-17T23:26:26.477642Z",
     "shell.execute_reply": "2025-01-17T23:26:26.476614Z"
    }
   },
   "outputs": [],
   "source": [
    "plot_random_image_from_loader(model.test_loader.dataset, \"Test Dataset\")"
   ]
  },
  {
   "cell_type": "markdown",
   "id": "9f803b343bf2619b",
   "metadata": {},
   "source": [
    "# Train Model"
   ]
  },
  {
   "cell_type": "code",
   "execution_count": null,
   "id": "d08c054aa7b21aa",
   "metadata": {
    "ExecuteTime": {
     "start_time": "2024-12-07T10:34:42.656443Z"
    },
    "execution": {
     "iopub.execute_input": "2025-01-17T23:26:26.480641Z",
     "iopub.status.busy": "2025-01-17T23:26:26.480641Z",
     "iopub.status.idle": "2025-01-17T23:48:00.418781Z",
     "shell.execute_reply": "2025-01-17T23:48:00.417755Z"
    }
   },
   "outputs": [],
   "source": [
    "\n",
    "# Train Model - Uncomment to train model\n",
    "#model.train_model()\n",
    "#torch.save({\n",
    "#    \"state_dict\": model.state_dict(),\n",
    "#    \"config\": vars(config)\n",
    "#}, f\"../models/{config.model_name}_final.pt\")"
   ]
  },
  {
   "cell_type": "markdown",
   "id": "389fe2c9d480ef8b",
   "metadata": {},
   "source": [
    "# Load Model"
   ]
  },
  {
   "cell_type": "code",
   "execution_count": null,
   "id": "1fa424496604d224",
   "metadata": {
    "ExecuteTime": {
     "end_time": "2025-01-13T18:32:59.846010Z",
     "start_time": "2025-01-13T18:32:59.094187Z"
    },
    "execution": {
     "iopub.execute_input": "2025-01-17T23:48:00.422776Z",
     "iopub.status.busy": "2025-01-17T23:48:00.421779Z",
     "iopub.status.idle": "2025-01-17T23:48:01.047622Z",
     "shell.execute_reply": "2025-01-17T23:48:01.047622Z"
    }
   },
   "outputs": [],
   "source": [
    "\n",
    "checkpoint = torch.load(f\"../models/{config.model_name}_final.pt\")\n",
    "loaded_config = Config(**checkpoint[\"config\"])\n",
    "model = CNNPneumoniaClassifier(loaded_config)\n",
    "model.load_state_dict(checkpoint[\"state_dict\"])\n",
    "model.eval()\n",
    "model = model.to(device)"
   ]
  },
  {
   "cell_type": "markdown",
   "id": "8b74b21135f88787",
   "metadata": {},
   "source": [
    "# Test Model"
   ]
  },
  {
   "cell_type": "code",
   "execution_count": null,
   "id": "b3ada03ddef1ef1a",
   "metadata": {
    "ExecuteTime": {
     "end_time": "2024-12-07T19:49:08.628537Z",
     "start_time": "2024-12-07T19:48:28.974905Z"
    },
    "execution": {
     "iopub.execute_input": "2025-01-17T23:48:01.052618Z",
     "iopub.status.busy": "2025-01-17T23:48:01.051618Z",
     "iopub.status.idle": "2025-01-17T23:51:14.743340Z",
     "shell.execute_reply": "2025-01-17T23:51:14.742342Z"
    }
   },
   "outputs": [],
   "source": [
    "# Run testing\n",
    "print(\"Testing the model...\")\n",
    "checkpoint_path = f\"../checkpoints/{config.model_name}.ckpt\"\n",
    "test_metadata = model.test_model(checkpoint_path)  # Ensure this uses the correct test_loader"
   ]
  },
  {
   "cell_type": "markdown",
   "id": "980063058cafcab9",
   "metadata": {},
   "source": [
    "# Plot Confusion Matrix"
   ]
  },
  {
   "cell_type": "code",
   "execution_count": null,
   "id": "d1339a78e765a1d",
   "metadata": {
    "ExecuteTime": {
     "end_time": "2024-12-07T19:49:43.709759Z",
     "start_time": "2024-12-07T19:49:08.948532Z"
    },
    "execution": {
     "iopub.execute_input": "2025-01-17T23:51:14.747349Z",
     "iopub.status.busy": "2025-01-17T23:51:14.747349Z",
     "iopub.status.idle": "2025-01-17T23:54:22.892304Z",
     "shell.execute_reply": "2025-01-17T23:54:22.891272Z"
    }
   },
   "outputs": [],
   "source": [
    "def plot_confusion_matrix(model, dataloader, class_names):\n",
    "    all_preds = []\n",
    "    all_labels = []\n",
    "\n",
    "    # Get predictions and true labels\n",
    "    device = torch.device(\"cuda\" if torch.cuda.is_available() else \"cpu\")\n",
    "    model = model.to(device)\n",
    "    model.eval()\n",
    "    with torch.no_grad():\n",
    "        for data, labels, _ in dataloader:\n",
    "            data = data.cuda()  # Move data to GPU if available\n",
    "            labels = labels.cuda()\n",
    "            preds = torch.argmax(model(data), dim=1)\n",
    "            all_preds.extend(preds.cpu().numpy())\n",
    "            all_labels.extend(labels.cpu().numpy())\n",
    "\n",
    "    # Compute confusion matrix\n",
    "    cm = confusion_matrix(all_labels, all_preds)\n",
    "    disp = ConfusionMatrixDisplay(cm, display_labels=class_names)\n",
    "    disp.plot(cmap=\"Blues\")\n",
    "    plt.title(\"Confusion Matrix\")\n",
    "    plt.show()\n",
    "\n",
    "# Call this after training/testing\n",
    "plot_confusion_matrix(model, model.test_loader, class_names=[\"Normal\", \"Pneumonia\"])"
   ]
  },
  {
   "cell_type": "markdown",
   "id": "dcfca44f0df1056b",
   "metadata": {},
   "source": [
    "# Plot ROC/AUC Score"
   ]
  },
  {
   "cell_type": "code",
   "execution_count": null,
   "id": "e76ce3f3a224e341",
   "metadata": {
    "ExecuteTime": {
     "end_time": "2024-12-07T19:49:54.004854Z",
     "start_time": "2024-12-07T19:49:44.110302Z"
    },
    "execution": {
     "iopub.execute_input": "2025-01-17T23:54:22.897297Z",
     "iopub.status.busy": "2025-01-17T23:54:22.897297Z",
     "iopub.status.idle": "2025-01-17T23:54:28.680811Z",
     "shell.execute_reply": "2025-01-17T23:54:28.679812Z"
    }
   },
   "outputs": [],
   "source": [
    "from sklearn.metrics import roc_curve, roc_auc_score\n",
    "\n",
    "def plot_roc_auc(model, dataloader):\n",
    "    all_preds = []\n",
    "    all_labels = []\n",
    "\n",
    "    # Get predictions and true labels\n",
    "    model.eval()\n",
    "    with torch.no_grad():\n",
    "        for data, labels, _ in dataloader:\n",
    "            data = data.cuda()\n",
    "            labels = labels.cuda()\n",
    "            preds = model(data)\n",
    "            probs = torch.softmax(preds, dim=1)[:, 1]  # Probabilities for class 1\n",
    "            all_preds.extend(probs.cpu().numpy())\n",
    "            all_labels.extend(labels.cpu().numpy())\n",
    "\n",
    "    # Compute ROC curve and AUC\n",
    "    fpr, tpr, _ = roc_curve(all_labels, all_preds)\n",
    "    auc = roc_auc_score(all_labels, all_preds)\n",
    "\n",
    "    # Plot ROC curve\n",
    "    plt.figure()\n",
    "    plt.plot(fpr, tpr, color='darkorange', lw=2, label=f'ROC curve (AUC = {auc:.2f})')\n",
    "    plt.plot([0, 1], [0, 1], color='navy', lw=2, linestyle='--')\n",
    "    plt.xlabel('False Positive Rate')\n",
    "    plt.ylabel('True Positive Rate')\n",
    "    plt.title('ROC Curve')\n",
    "    plt.legend(loc=\"lower right\")\n",
    "    plt.show()\n",
    "\n",
    "plot_roc_auc(model, model.test_loader)"
   ]
  },
  {
   "cell_type": "markdown",
   "id": "7ede0abe2194aaec",
   "metadata": {},
   "source": [
    "# Plot Gradcam"
   ]
  },
  {
   "cell_type": "code",
   "execution_count": null,
   "id": "f63382fe6cdfe619",
   "metadata": {
    "ExecuteTime": {
     "end_time": "2025-01-13T18:33:28.014570Z",
     "start_time": "2025-01-13T18:33:26.829419Z"
    },
    "execution": {
     "iopub.execute_input": "2025-01-17T23:54:28.684810Z",
     "iopub.status.busy": "2025-01-17T23:54:28.683810Z",
     "iopub.status.idle": "2025-01-17T23:54:30.391370Z",
     "shell.execute_reply": "2025-01-17T23:54:30.390352Z"
    }
   },
   "outputs": [],
   "source": [
    "for param in model.feature_extractor.parameters():\n",
    "    param.requires_grad = True\n",
    "model.visualize_gradcam(num_samples=4, target_layer=8, class_names=[\"Normal\", \"Pneumonia\"], threshold=0.6)\n"
   ]
  },
  {
   "cell_type": "markdown",
   "id": "1f602b5c09fdb60",
   "metadata": {},
   "source": [
    "# Evaluate Metrics in Tensorboard"
   ]
  },
  {
   "cell_type": "code",
   "execution_count": null,
   "id": "41a571c74fefdaeb",
   "metadata": {
    "ExecuteTime": {
     "end_time": "2024-12-07T19:50:00.954667Z",
     "start_time": "2024-12-07T19:49:56.334770Z"
    },
    "execution": {
     "iopub.execute_input": "2025-01-17T23:54:30.395371Z",
     "iopub.status.busy": "2025-01-17T23:54:30.394375Z",
     "iopub.status.idle": "2025-01-17T23:54:35.937554Z",
     "shell.execute_reply": "2025-01-17T23:54:35.936568Z"
    }
   },
   "outputs": [],
   "source": [
    "# Load TensorBoard extension\n",
    "%load_ext tensorboard\n",
    "\n",
    "# Specify the log directory\n",
    "log_dir = f\"tb_logs/{config.model_name}\"\n",
    "\n",
    "# Start TensorBoard\n",
    "%tensorboard --logdir {log_dir}"
   ]
  },
  {
   "cell_type": "markdown",
   "id": "dd4ed1a3bb63373a",
   "metadata": {},
   "source": [
    "# Classify random images"
   ]
  },
  {
   "cell_type": "code",
   "execution_count": null,
   "id": "dd1605ee6782ad12",
   "metadata": {
    "ExecuteTime": {
     "end_time": "2024-12-07T19:50:07.318794Z",
     "start_time": "2024-12-07T19:50:01.222156Z"
    },
    "execution": {
     "iopub.execute_input": "2025-01-17T23:54:35.940555Z",
     "iopub.status.busy": "2025-01-17T23:54:35.940555Z",
     "iopub.status.idle": "2025-01-17T23:54:41.086151Z",
     "shell.execute_reply": "2025-01-17T23:54:41.085150Z"
    }
   },
   "outputs": [],
   "source": [
    "plot_random_images_with_labels(model, model.test_loader, num_images=20)"
   ]
  }
 ],
 "metadata": {
  "kernelspec": {
   "display_name": "Python 3",
   "language": "python",
   "name": "python3"
  },
  "language_info": {
   "codemirror_mode": {
    "name": "ipython",
    "version": 3
   },
   "file_extension": ".py",
   "mimetype": "text/x-python",
   "name": "python",
   "nbconvert_exporter": "python",
   "pygments_lexer": "ipython3",
   "version": "3.12.8"
  }
 },
 "nbformat": 4,
 "nbformat_minor": 5
}
