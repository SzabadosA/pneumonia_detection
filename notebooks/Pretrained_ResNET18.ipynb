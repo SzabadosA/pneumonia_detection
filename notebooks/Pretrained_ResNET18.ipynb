{
 "cells": [
  {
   "metadata": {
    "ExecuteTime": {
     "end_time": "2024-11-26T22:04:58.842891Z",
     "start_time": "2024-11-26T22:04:53.760581Z"
    }
   },
   "cell_type": "code",
   "source": [
    "from torchvision.transforms.v2 import ToTensor\n",
    "\n",
    "VERSION = '001'\n",
    "BATCHSIZE = 32\n",
    "MAX_EPOCHS = 50\n",
    "BACKBONE = \"resnet50\"\n",
    "MODEL_NAME = \"ResNet50_transfer\"\n",
    "NUM_WORKERS = 31"
   ],
   "id": "f790a96942638855",
   "outputs": [],
   "execution_count": 1
  },
  {
   "metadata": {
    "collapsed": true,
    "ExecuteTime": {
     "end_time": "2024-11-26T22:05:01.034867Z",
     "start_time": "2024-11-26T22:04:58.849938Z"
    }
   },
   "cell_type": "code",
   "source": [
    "\n",
    "import os\n",
    "from torchvision.transforms import Compose, Resize, InterpolationMode, ToTensor, Normalize, RandomCrop, RandomHorizontalFlip\n",
    "import torch\n",
    "from torchvision import transforms\n",
    "from code.classifier import PneumoniaClassifier, Config\n",
    "import matplotlib.pyplot as plt\n",
    "import numpy as np\n",
    "\n"
   ],
   "id": "initial_id",
   "outputs": [],
   "execution_count": 2
  },
  {
   "metadata": {
    "ExecuteTime": {
     "end_time": "2024-11-26T22:05:02.378794Z",
     "start_time": "2024-11-26T22:05:02.357790Z"
    }
   },
   "cell_type": "code",
   "source": [
    "\n",
    "# Load the TensorBoard extension\n",
    "%reload_ext tensorboard\n",
    "%load_ext tensorboard\n"
   ],
   "id": "4376ace1b8695239",
   "outputs": [
    {
     "name": "stdout",
     "output_type": "stream",
     "text": [
      "The tensorboard extension is already loaded. To reload it, use:\n",
      "  %reload_ext tensorboard\n"
     ]
    }
   ],
   "execution_count": 3
  },
  {
   "metadata": {
    "ExecuteTime": {
     "end_time": "2024-11-26T22:05:02.845357Z",
     "start_time": "2024-11-26T22:05:02.840999Z"
    }
   },
   "cell_type": "code",
   "source": [
    "# Enable CUDA Launch Blocking\n",
    "os.environ['CUDA_LAUNCH_BLOCKING'] = '1'\n",
    "# Set float32 matrix multiplication precision to 'medium' to utilize Tensor Cores\n",
    "torch.set_float32_matmul_precision('medium')\n",
    "torch.serialization.add_safe_globals([Compose, Resize, set, Config, InterpolationMode, ToTensor, Normalize, RandomHorizontalFlip])"
   ],
   "id": "69e053f3a82f28da",
   "outputs": [],
   "execution_count": 4
  },
  {
   "metadata": {
    "ExecuteTime": {
     "end_time": "2024-11-26T22:05:03.115373Z",
     "start_time": "2024-11-26T22:05:02.923793Z"
    }
   },
   "cell_type": "code",
   "source": [
    "gpu_info = !nvidia-smi\n",
    "gpu_info = '\\n'.join(gpu_info)\n",
    "if gpu_info.find('failed') >= 0:\n",
    "    print('Not connected to a GPU')\n",
    "else:\n",
    "    print(gpu_info)"
   ],
   "id": "ba465dcd3a376771",
   "outputs": [
    {
     "name": "stdout",
     "output_type": "stream",
     "text": [
      "Tue Nov 26 23:05:02 2024       \n",
      "+-----------------------------------------------------------------------------------------+\n",
      "| NVIDIA-SMI 565.90                 Driver Version: 565.90         CUDA Version: 12.7     |\n",
      "|-----------------------------------------+------------------------+----------------------+\n",
      "| GPU  Name                  Driver-Model | Bus-Id          Disp.A | Volatile Uncorr. ECC |\n",
      "| Fan  Temp   Perf          Pwr:Usage/Cap |           Memory-Usage | GPU-Util  Compute M. |\n",
      "|                                         |                        |               MIG M. |\n",
      "|=========================================+========================+======================|\n",
      "|   0  NVIDIA GeForce RTX 4070 Ti   WDDM  |   00000000:02:00.0  On |                  N/A |\n",
      "|  0%   45C    P8             13W /  285W |    1554MiB /  12282MiB |      1%      Default |\n",
      "|                                         |                        |                  N/A |\n",
      "+-----------------------------------------+------------------------+----------------------+\n",
      "                                                                                         \n",
      "+-----------------------------------------------------------------------------------------+\n",
      "| Processes:                                                                              |\n",
      "|  GPU   GI   CI        PID   Type   Process name                              GPU Memory |\n",
      "|        ID   ID                                                               Usage      |\n",
      "|=========================================================================================|\n",
      "|    0   N/A  N/A      1116    C+G   ..._x64__kzf8qxf38zg5c\\Skype\\Skype.exe      N/A      |\n",
      "|    0   N/A  N/A      1720    C+G   ...45.0_x64__zpdnekdrzrea0\\Spotify.exe      N/A      |\n",
      "|    0   N/A  N/A      2292    C+G   ...804_x64__8wekyb3d8bbwe\\ms-teams.exe      N/A      |\n",
      "|    0   N/A  N/A      3008      C   ...envs\\pneumonia_detection\\python.exe      N/A      |\n",
      "|    0   N/A  N/A      7204    C+G   ...les\\Microsoft OneDrive\\OneDrive.exe      N/A      |\n",
      "|    0   N/A  N/A      8348    C+G   ...2txyewy\\StartMenuExperienceHost.exe      N/A      |\n",
      "|    0   N/A  N/A      8472    C+G   C:\\Windows\\explorer.exe                     N/A      |\n",
      "|    0   N/A  N/A      8932    C+G   ...oogle\\Chrome\\Application\\chrome.exe      N/A      |\n",
      "|    0   N/A  N/A      9132    C+G   ....Search_cw5n1h2txyewy\\SearchApp.exe      N/A      |\n",
      "|    0   N/A  N/A     14284    C+G   ...t.LockApp_cw5n1h2txyewy\\LockApp.exe      N/A      |\n",
      "|    0   N/A  N/A     14296    C+G   C:\\Program Files\\NordVPN\\NordVPN.exe        N/A      |\n",
      "|    0   N/A  N/A     15120    C+G   ...5n1h2txyewy\\ShellExperienceHost.exe      N/A      |\n",
      "|    0   N/A  N/A     16040    C+G   ...\\cef\\cef.win7x64\\steamwebhelper.exe      N/A      |\n",
      "|    0   N/A  N/A     16808    C+G   ...804_x64__8wekyb3d8bbwe\\ms-teams.exe      N/A      |\n",
      "|    0   N/A  N/A     16860    C+G   ..._x64__kzf8qxf38zg5c\\Skype\\Skype.exe      N/A      |\n",
      "|    0   N/A  N/A     17756    C+G   ...on\\131.0.2903.63\\msedgewebview2.exe      N/A      |\n",
      "|    0   N/A  N/A     19728    C+G   ...ekyb3d8bbwe\\PhoneExperienceHost.exe      N/A      |\n",
      "|    0   N/A  N/A     20864    C+G   ....Search_cw5n1h2txyewy\\SearchApp.exe      N/A      |\n",
      "|    0   N/A  N/A     21304    C+G   ...on\\131.0.2903.63\\msedgewebview2.exe      N/A      |\n",
      "|    0   N/A  N/A     24184    C+G   ...ns\\PyCharm 2024.3\\bin\\pycharm64.exe      N/A      |\n",
      "|    0   N/A  N/A     24396    C+G   ...CBS_cw5n1h2txyewy\\TextInputHost.exe      N/A      |\n",
      "+-----------------------------------------------------------------------------------------+\n"
     ]
    }
   ],
   "execution_count": 5
  },
  {
   "metadata": {
    "ExecuteTime": {
     "end_time": "2024-11-26T22:33:37.191175Z",
     "start_time": "2024-11-26T22:05:03.352465Z"
    }
   },
   "cell_type": "code",
   "source": [
    "from torchvision import transforms\n",
    "\n",
    "\n",
    "config = Config(\n",
    "    backbone_name=\"resnet18\",\n",
    "    transfer_learning=True,\n",
    "    learning_rate=1e-4,\n",
    "    batch_size=20,\n",
    "    max_epochs=100,\n",
    "    weight_decay=1e-4,\n",
    "    dropout=0.5,\n",
    "    num_workers=31,\n",
    "    model_name=\"ResNet18_transfer\",\n",
    "    version=\"001\",\n",
    "    optimizer_name = \"sgd\"\n",
    ")\n",
    "\n",
    "model = PneumoniaClassifier(config)\n",
    "model.train_model()"
   ],
   "id": "d08c054aa7b21aa",
   "outputs": [
    {
     "name": "stderr",
     "output_type": "stream",
     "text": [
      "Using 16bit Automatic Mixed Precision (AMP)\n",
      "GPU available: True (cuda), used: True\n",
      "TPU available: False, using: 0 TPU cores\n",
      "HPU available: False, using: 0 HPUs\n",
      "LOCAL_RANK: 0 - CUDA_VISIBLE_DEVICES: [0]\n",
      "C:\\Users\\aszab\\miniconda3\\envs\\pneumonia_detection\\Lib\\site-packages\\torch\\optim\\lr_scheduler.py:62: UserWarning: The verbose parameter is deprecated. Please use get_last_lr() to access the learning rate.\n",
      "  warnings.warn(\n",
      "\n",
      "  | Name              | Type            | Params | Mode \n",
      "--------------------------------------------------------------\n",
      "0 | accuracy          | BinaryAccuracy  | 0      | train\n",
      "1 | precision         | BinaryPrecision | 0      | train\n",
      "2 | recall            | BinaryRecall    | 0      | train\n",
      "3 | f1                | BinaryF1Score   | 0      | train\n",
      "4 | feature_extractor | Sequential      | 11.2 M | train\n",
      "5 | dropout           | Dropout         | 0      | train\n",
      "6 | classifier        | Linear          | 1.0 K  | train\n",
      "--------------------------------------------------------------\n",
      "1.0 K     Trainable params\n",
      "11.2 M    Non-trainable params\n",
      "11.2 M    Total params\n",
      "44.710    Total estimated model params size (MB)\n",
      "73        Modules in train mode\n",
      "0         Modules in eval mode\n"
     ]
    },
    {
     "name": "stdout",
     "output_type": "stream",
     "text": [
      "Epoch 0: 100%|██████████| 261/261 [01:36<00:00,  2.70it/s, v_num=0, train_loss_step=0.482, train_acc_step=0.680, train_precision_step=0.750, train_recall_step=0.854, train_f1_step=0.799]\n",
      "Validation: |          | 0/? [00:00<?, ?it/s]\u001B[A\n",
      "Validation:   0%|          | 0/1 [00:00<?, ?it/s]\u001B[A\n",
      "Validation DataLoader 0:   0%|          | 0/1 [00:00<?, ?it/s]\u001B[A\n",
      "Validation DataLoader 0: 100%|██████████| 1/1 [00:00<00:00, 13.51it/s]\u001B[A\n",
      "Epoch 0: 100%|██████████| 261/261 [01:37<00:00,  2.67it/s, v_num=0, train_loss_step=0.482, train_acc_step=0.680, train_precision_step=0.750, train_recall_step=0.854, train_f1_step=0.799, val_acc_epoch=0.680, val_precision_epoch=0.749, val_recall_epoch=0.854, val_f1_epoch=0.798]"
     ]
    },
    {
     "name": "stderr",
     "output_type": "stream",
     "text": [
      "Metric val_loss improved. New best score: 0.660\n"
     ]
    },
    {
     "name": "stdout",
     "output_type": "stream",
     "text": [
      "Epoch 1: 100%|██████████| 261/261 [01:33<00:00,  2.78it/s, v_num=0, train_loss_step=0.443, train_acc_step=0.789, train_precision_step=0.804, train_recall_step=0.946, train_f1_step=0.869, val_acc_epoch=0.680, val_precision_epoch=0.749, val_recall_epoch=0.854, val_f1_epoch=0.798]\n",
      "Validation: |          | 0/? [00:00<?, ?it/s]\u001B[A\n",
      "Validation:   0%|          | 0/1 [00:00<?, ?it/s]\u001B[A\n",
      "Validation DataLoader 0:   0%|          | 0/1 [00:00<?, ?it/s]\u001B[A\n",
      "Validation DataLoader 0: 100%|██████████| 1/1 [00:00<00:00, 13.89it/s]\u001B[A\n",
      "Epoch 1: 100%|██████████| 261/261 [01:35<00:00,  2.74it/s, v_num=0, train_loss_step=0.443, train_acc_step=0.789, train_precision_step=0.804, train_recall_step=0.946, train_f1_step=0.869, val_acc_epoch=0.788, val_precision_epoch=0.804, val_recall_epoch=0.946, val_f1_epoch=0.869]"
     ]
    },
    {
     "name": "stderr",
     "output_type": "stream",
     "text": [
      "Metric val_loss improved by 0.111 >= min_delta = 0.0. New best score: 0.549\n"
     ]
    },
    {
     "name": "stdout",
     "output_type": "stream",
     "text": [
      "Epoch 2: 100%|██████████| 261/261 [01:34<00:00,  2.75it/s, v_num=0, train_loss_step=0.799, train_acc_step=0.819, train_precision_step=0.837, train_recall_step=0.940, train_f1_step=0.885, val_acc_epoch=0.788, val_precision_epoch=0.804, val_recall_epoch=0.946, val_f1_epoch=0.869]\n",
      "Validation: |          | 0/? [00:00<?, ?it/s]\u001B[A\n",
      "Validation:   0%|          | 0/1 [00:00<?, ?it/s]\u001B[A\n",
      "Validation DataLoader 0:   0%|          | 0/1 [00:00<?, ?it/s]\u001B[A\n",
      "Validation DataLoader 0: 100%|██████████| 1/1 [00:00<00:00, 13.70it/s]\u001B[A\n",
      "Epoch 2: 100%|██████████| 261/261 [01:36<00:00,  2.71it/s, v_num=0, train_loss_step=0.799, train_acc_step=0.819, train_precision_step=0.837, train_recall_step=0.940, train_f1_step=0.885, val_acc_epoch=0.819, val_precision_epoch=0.836, val_recall_epoch=0.940, val_f1_epoch=0.885]"
     ]
    },
    {
     "name": "stderr",
     "output_type": "stream",
     "text": [
      "Metric val_loss improved by 0.045 >= min_delta = 0.0. New best score: 0.504\n"
     ]
    },
    {
     "name": "stdout",
     "output_type": "stream",
     "text": [
      "Epoch 3: 100%|██████████| 261/261 [01:34<00:00,  2.77it/s, v_num=0, train_loss_step=0.260, train_acc_step=0.835, train_precision_step=0.858, train_recall_step=0.932, train_f1_step=0.894, val_acc_epoch=0.819, val_precision_epoch=0.836, val_recall_epoch=0.940, val_f1_epoch=0.885]\n",
      "Validation: |          | 0/? [00:00<?, ?it/s]\u001B[A\n",
      "Validation:   0%|          | 0/1 [00:00<?, ?it/s]\u001B[A\n",
      "Validation DataLoader 0:   0%|          | 0/1 [00:00<?, ?it/s]\u001B[A\n",
      "Validation DataLoader 0: 100%|██████████| 1/1 [00:00<00:00, 14.08it/s]\u001B[A\n",
      "Epoch 3: 100%|██████████| 261/261 [01:35<00:00,  2.73it/s, v_num=0, train_loss_step=0.260, train_acc_step=0.835, train_precision_step=0.858, train_recall_step=0.932, train_f1_step=0.894, val_acc_epoch=0.834, val_precision_epoch=0.857, val_recall_epoch=0.932, val_f1_epoch=0.893]"
     ]
    },
    {
     "name": "stderr",
     "output_type": "stream",
     "text": [
      "Metric val_loss improved by 0.011 >= min_delta = 0.0. New best score: 0.493\n"
     ]
    },
    {
     "name": "stdout",
     "output_type": "stream",
     "text": [
      "Epoch 4: 100%|██████████| 261/261 [01:35<00:00,  2.75it/s, v_num=0, train_loss_step=0.271, train_acc_step=0.854, train_precision_step=0.875, train_recall_step=0.936, train_f1_step=0.905, val_acc_epoch=0.834, val_precision_epoch=0.857, val_recall_epoch=0.932, val_f1_epoch=0.893]\n",
      "Validation: |          | 0/? [00:00<?, ?it/s]\u001B[A\n",
      "Validation:   0%|          | 0/1 [00:00<?, ?it/s]\u001B[A\n",
      "Validation DataLoader 0:   0%|          | 0/1 [00:00<?, ?it/s]\u001B[A\n",
      "Validation DataLoader 0: 100%|██████████| 1/1 [00:00<00:00, 13.88it/s]\u001B[A\n",
      "Epoch 4: 100%|██████████| 261/261 [01:36<00:00,  2.71it/s, v_num=0, train_loss_step=0.271, train_acc_step=0.854, train_precision_step=0.875, train_recall_step=0.936, train_f1_step=0.905, val_acc_epoch=0.853, val_precision_epoch=0.875, val_recall_epoch=0.936, val_f1_epoch=0.904]"
     ]
    },
    {
     "name": "stderr",
     "output_type": "stream",
     "text": [
      "Metric val_loss improved by 0.003 >= min_delta = 0.0. New best score: 0.491\n"
     ]
    },
    {
     "name": "stdout",
     "output_type": "stream",
     "text": [
      "Epoch 5: 100%|██████████| 261/261 [01:34<00:00,  2.77it/s, v_num=0, train_loss_step=0.148, train_acc_step=0.848, train_precision_step=0.871, train_recall_step=0.934, train_f1_step=0.902, val_acc_epoch=0.853, val_precision_epoch=0.875, val_recall_epoch=0.936, val_f1_epoch=0.904]\n",
      "Validation: |          | 0/? [00:00<?, ?it/s]\u001B[A\n",
      "Validation:   0%|          | 0/1 [00:00<?, ?it/s]\u001B[A\n",
      "Validation DataLoader 0:   0%|          | 0/1 [00:00<?, ?it/s]\u001B[A\n",
      "Validation DataLoader 0: 100%|██████████| 1/1 [00:00<00:00, 13.70it/s]\u001B[A\n",
      "Epoch 5: 100%|██████████| 261/261 [01:35<00:00,  2.73it/s, v_num=0, train_loss_step=0.148, train_acc_step=0.848, train_precision_step=0.871, train_recall_step=0.934, train_f1_step=0.902, val_acc_epoch=0.848, val_precision_epoch=0.870, val_recall_epoch=0.935, val_f1_epoch=0.901]"
     ]
    },
    {
     "name": "stderr",
     "output_type": "stream",
     "text": [
      "Metric val_loss improved by 0.038 >= min_delta = 0.0. New best score: 0.453\n"
     ]
    },
    {
     "name": "stdout",
     "output_type": "stream",
     "text": [
      "Epoch 6: 100%|██████████| 261/261 [01:34<00:00,  2.76it/s, v_num=0, train_loss_step=0.163, train_acc_step=0.866, train_precision_step=0.886, train_recall_step=0.940, train_f1_step=0.913, val_acc_epoch=0.848, val_precision_epoch=0.870, val_recall_epoch=0.935, val_f1_epoch=0.901] \n",
      "Validation: |          | 0/? [00:00<?, ?it/s]\u001B[A\n",
      "Validation:   0%|          | 0/1 [00:00<?, ?it/s]\u001B[A\n",
      "Validation DataLoader 0:   0%|          | 0/1 [00:00<?, ?it/s]\u001B[A\n",
      "Validation DataLoader 0: 100%|██████████| 1/1 [00:00<00:00, 13.89it/s]\u001B[A\n",
      "Epoch 6: 100%|██████████| 261/261 [01:35<00:00,  2.72it/s, v_num=0, train_loss_step=0.163, train_acc_step=0.866, train_precision_step=0.886, train_recall_step=0.940, train_f1_step=0.913, val_acc_epoch=0.866, val_precision_epoch=0.886, val_recall_epoch=0.941, val_f1_epoch=0.912]"
     ]
    },
    {
     "name": "stderr",
     "output_type": "stream",
     "text": [
      "Metric val_loss improved by 0.001 >= min_delta = 0.0. New best score: 0.451\n"
     ]
    },
    {
     "name": "stdout",
     "output_type": "stream",
     "text": [
      "Epoch 7: 100%|██████████| 261/261 [01:34<00:00,  2.76it/s, v_num=0, train_loss_step=0.303, train_acc_step=0.858, train_precision_step=0.888, train_recall_step=0.926, train_f1_step=0.906, val_acc_epoch=0.866, val_precision_epoch=0.886, val_recall_epoch=0.941, val_f1_epoch=0.912]\n",
      "Validation: |          | 0/? [00:00<?, ?it/s]\u001B[A\n",
      "Validation:   0%|          | 0/1 [00:00<?, ?it/s]\u001B[A\n",
      "Validation DataLoader 0:   0%|          | 0/1 [00:00<?, ?it/s]\u001B[A\n",
      "Validation DataLoader 0: 100%|██████████| 1/1 [00:00<00:00,  8.40it/s]\u001B[A\n",
      "Epoch 7: 100%|██████████| 261/261 [01:36<00:00,  2.72it/s, v_num=0, train_loss_step=0.303, train_acc_step=0.858, train_precision_step=0.888, train_recall_step=0.926, train_f1_step=0.906, val_acc_epoch=0.858, val_precision_epoch=0.887, val_recall_epoch=0.926, val_f1_epoch=0.906]"
     ]
    },
    {
     "name": "stderr",
     "output_type": "stream",
     "text": [
      "Metric val_loss improved by 0.007 >= min_delta = 0.0. New best score: 0.444\n"
     ]
    },
    {
     "name": "stdout",
     "output_type": "stream",
     "text": [
      "Epoch 8: 100%|██████████| 261/261 [01:33<00:00,  2.79it/s, v_num=0, train_loss_step=0.272, train_acc_step=0.869, train_precision_step=0.897, train_recall_step=0.930, train_f1_step=0.913, val_acc_epoch=0.858, val_precision_epoch=0.887, val_recall_epoch=0.926, val_f1_epoch=0.906]\n",
      "Validation: |          | 0/? [00:00<?, ?it/s]\u001B[A\n",
      "Validation:   0%|          | 0/1 [00:00<?, ?it/s]\u001B[A\n",
      "Validation DataLoader 0:   0%|          | 0/1 [00:00<?, ?it/s]\u001B[A\n",
      "Validation DataLoader 0: 100%|██████████| 1/1 [00:00<00:00, 14.08it/s]\u001B[A\n",
      "Epoch 9: 100%|██████████| 261/261 [01:34<00:00,  2.77it/s, v_num=0, train_loss_step=0.186, train_acc_step=0.876, train_precision_step=0.901, train_recall_step=0.936, train_f1_step=0.918, val_acc_epoch=0.869, val_precision_epoch=0.897, val_recall_epoch=0.930, val_f1_epoch=0.913] \n",
      "Validation: |          | 0/? [00:00<?, ?it/s]\u001B[A\n",
      "Validation:   0%|          | 0/1 [00:00<?, ?it/s]\u001B[A\n",
      "Validation DataLoader 0:   0%|          | 0/1 [00:00<?, ?it/s]\u001B[A\n",
      "Validation DataLoader 0: 100%|██████████| 1/1 [00:00<00:00, 11.11it/s]\u001B[A\n",
      "Epoch 9: 100%|██████████| 261/261 [01:35<00:00,  2.74it/s, v_num=0, train_loss_step=0.186, train_acc_step=0.876, train_precision_step=0.901, train_recall_step=0.936, train_f1_step=0.918, val_acc_epoch=0.875, val_precision_epoch=0.900, val_recall_epoch=0.936, val_f1_epoch=0.918]"
     ]
    },
    {
     "name": "stderr",
     "output_type": "stream",
     "text": [
      "Metric val_loss improved by 0.002 >= min_delta = 0.0. New best score: 0.443\n"
     ]
    },
    {
     "name": "stdout",
     "output_type": "stream",
     "text": [
      "Epoch 10: 100%|██████████| 261/261 [01:32<00:00,  2.81it/s, v_num=0, train_loss_step=0.477, train_acc_step=0.877, train_precision_step=0.905, train_recall_step=0.931, train_f1_step=0.918, val_acc_epoch=0.875, val_precision_epoch=0.900, val_recall_epoch=0.936, val_f1_epoch=0.918]\n",
      "Validation: |          | 0/? [00:00<?, ?it/s]\u001B[A\n",
      "Validation:   0%|          | 0/1 [00:00<?, ?it/s]\u001B[A\n",
      "Validation DataLoader 0:   0%|          | 0/1 [00:00<?, ?it/s]\u001B[A\n",
      "Validation DataLoader 0: 100%|██████████| 1/1 [00:00<00:00, 14.09it/s]\u001B[A\n",
      "Epoch 11: 100%|██████████| 261/261 [01:34<00:00,  2.77it/s, v_num=0, train_loss_step=0.347, train_acc_step=0.880, train_precision_step=0.904, train_recall_step=0.939, train_f1_step=0.921, val_acc_epoch=0.876, val_precision_epoch=0.904, val_recall_epoch=0.931, val_f1_epoch=0.918] \n",
      "Validation: |          | 0/? [00:00<?, ?it/s]\u001B[A\n",
      "Validation:   0%|          | 0/1 [00:00<?, ?it/s]\u001B[A\n",
      "Validation DataLoader 0:   0%|          | 0/1 [00:00<?, ?it/s]\u001B[A\n",
      "Validation DataLoader 0: 100%|██████████| 1/1 [00:00<00:00, 14.08it/s]\u001B[A\n",
      "Epoch 12: 100%|██████████| 261/261 [01:32<00:00,  2.82it/s, v_num=0, train_loss_step=0.219, train_acc_step=0.881, train_precision_step=0.905, train_recall_step=0.938, train_f1_step=0.921, val_acc_epoch=0.880, val_precision_epoch=0.903, val_recall_epoch=0.939, val_f1_epoch=0.921]\n",
      "Validation: |          | 0/? [00:00<?, ?it/s]\u001B[A\n",
      "Validation:   0%|          | 0/1 [00:00<?, ?it/s]\u001B[A\n",
      "Validation DataLoader 0:   0%|          | 0/1 [00:00<?, ?it/s]\u001B[A\n",
      "Validation DataLoader 0: 100%|██████████| 1/1 [00:00<00:00, 10.87it/s]\u001B[A\n",
      "Epoch 12: 100%|██████████| 261/261 [01:33<00:00,  2.78it/s, v_num=0, train_loss_step=0.219, train_acc_step=0.881, train_precision_step=0.905, train_recall_step=0.938, train_f1_step=0.921, val_acc_epoch=0.881, val_precision_epoch=0.904, val_recall_epoch=0.938, val_f1_epoch=0.921]"
     ]
    },
    {
     "name": "stderr",
     "output_type": "stream",
     "text": [
      "Metric val_loss improved by 0.016 >= min_delta = 0.0. New best score: 0.426\n"
     ]
    },
    {
     "name": "stdout",
     "output_type": "stream",
     "text": [
      "Epoch 13: 100%|██████████| 261/261 [01:32<00:00,  2.81it/s, v_num=0, train_loss_step=0.214, train_acc_step=0.881, train_precision_step=0.910, train_recall_step=0.932, train_f1_step=0.921, val_acc_epoch=0.881, val_precision_epoch=0.904, val_recall_epoch=0.938, val_f1_epoch=0.921]\n",
      "Validation: |          | 0/? [00:00<?, ?it/s]\u001B[A\n",
      "Validation:   0%|          | 0/1 [00:00<?, ?it/s]\u001B[A\n",
      "Validation DataLoader 0:   0%|          | 0/1 [00:00<?, ?it/s]\u001B[A\n",
      "Validation DataLoader 0: 100%|██████████| 1/1 [00:00<00:00, 13.51it/s]\u001B[A\n",
      "Epoch 14: 100%|██████████| 261/261 [01:33<00:00,  2.78it/s, v_num=0, train_loss_step=0.512, train_acc_step=0.876, train_precision_step=0.907, train_recall_step=0.927, train_f1_step=0.917, val_acc_epoch=0.880, val_precision_epoch=0.909, val_recall_epoch=0.932, val_f1_epoch=0.920] \n",
      "Validation: |          | 0/? [00:00<?, ?it/s]\u001B[A\n",
      "Validation:   0%|          | 0/1 [00:00<?, ?it/s]\u001B[A\n",
      "Validation DataLoader 0:   0%|          | 0/1 [00:00<?, ?it/s]\u001B[A\n",
      "Validation DataLoader 0: 100%|██████████| 1/1 [00:00<00:00, 13.70it/s]\u001B[A\n",
      "Epoch 15: 100%|██████████| 261/261 [01:33<00:00,  2.78it/s, v_num=0, train_loss_step=0.463, train_acc_step=0.892, train_precision_step=0.917, train_recall_step=0.940, train_f1_step=0.928, val_acc_epoch=0.875, val_precision_epoch=0.906, val_recall_epoch=0.928, val_f1_epoch=0.917] \n",
      "Validation: |          | 0/? [00:00<?, ?it/s]\u001B[A\n",
      "Validation:   0%|          | 0/1 [00:00<?, ?it/s]\u001B[A\n",
      "Validation DataLoader 0:   0%|          | 0/1 [00:00<?, ?it/s]\u001B[A\n",
      "Validation DataLoader 0: 100%|██████████| 1/1 [00:00<00:00, 13.70it/s]\u001B[A\n",
      "Epoch 15: 100%|██████████| 261/261 [01:35<00:00,  2.74it/s, v_num=0, train_loss_step=0.463, train_acc_step=0.892, train_precision_step=0.917, train_recall_step=0.940, train_f1_step=0.928, val_acc_epoch=0.892, val_precision_epoch=0.916, val_recall_epoch=0.940, val_f1_epoch=0.928]"
     ]
    },
    {
     "name": "stderr",
     "output_type": "stream",
     "text": [
      "Monitored metric val_loss did not improve in the last 3 records. Best score: 0.426. Signaling Trainer to stop.\n"
     ]
    },
    {
     "name": "stdout",
     "output_type": "stream",
     "text": [
      "Epoch 15: 100%|██████████| 261/261 [01:35<00:00,  2.74it/s, v_num=0, train_loss_step=0.463, train_acc_step=0.892, train_precision_step=0.917, train_recall_step=0.940, train_f1_step=0.928, val_acc_epoch=0.892, val_precision_epoch=0.916, val_recall_epoch=0.940, val_f1_epoch=0.928]\n"
     ]
    }
   ],
   "execution_count": 6
  },
  {
   "metadata": {
    "ExecuteTime": {
     "end_time": "2024-11-26T22:33:37.878216Z",
     "start_time": "2024-11-26T22:33:37.739215Z"
    }
   },
   "cell_type": "code",
   "source": [
    "checkpoint = torch.load(f\"../checkpoints/{config.model_name}.ckpt\", weights_only=True)\n",
    "\n",
    "# Access the metadata\n",
    "metadata = checkpoint.get(\"metadata\", {})"
   ],
   "id": "d6b8db71d352177f",
   "outputs": [],
   "execution_count": 7
  },
  {
   "metadata": {
    "ExecuteTime": {
     "end_time": "2024-11-27T18:42:34.834662Z",
     "start_time": "2024-11-27T18:42:08.780111Z"
    }
   },
   "cell_type": "code",
   "source": [
    "# Initialize the model\n",
    "#model = PneumoniaClassifier(config, transform)\n",
    "# Test the model\n",
    "metadata = model.test_model(f\"../checkpoints/{config.model_name}.ckpt\")\n",
    "\n",
    "# Print the metadata\n",
    "print(metadata)"
   ],
   "id": "b3ada03ddef1ef1a",
   "outputs": [
    {
     "name": "stderr",
     "output_type": "stream",
     "text": [
      "LOCAL_RANK: 0 - CUDA_VISIBLE_DEVICES: [0]\n"
     ]
    },
    {
     "name": "stdout",
     "output_type": "stream",
     "text": [
      "Testing DataLoader 0: 100%|██████████| 32/32 [00:09<00:00,  3.27it/s]\n",
      "────────────────────────────────────────────────────────────────────────────────────────────────────────────────────────\r\n",
      "       Test metric             DataLoader 0\r\n",
      "────────────────────────────────────────────────────────────────────────────────────────────────────────────────────────\r\n",
      "     test_acc_epoch         0.7868589758872986\r\n",
      "      test_acc_step         0.6271810531616211\r\n",
      "      test_f1_epoch         0.8497174978256226\r\n",
      "      test_f1_step          0.43944916129112244\r\n",
      "        test_loss           0.40907812118530273\r\n",
      "  test_precision_epoch      0.7595959305763245\r\n",
      "   test_precision_step      0.3570745587348938\r\n",
      "    test_recall_epoch        0.964102566242218\r\n",
      "    test_recall_step        0.6322962641716003\r\n",
      "────────────────────────────────────────────────────────────────────────────────────────────────────────────────────────\n",
      "None\n"
     ]
    }
   ],
   "execution_count": 9
  },
  {
   "metadata": {
    "ExecuteTime": {
     "end_time": "2024-11-27T19:01:37.814139Z",
     "start_time": "2024-11-27T19:01:19.934122Z"
    }
   },
   "cell_type": "code",
   "source": [
    "from sklearn.metrics import ConfusionMatrixDisplay, confusion_matrix\n",
    "import matplotlib.pyplot as plt\n",
    "\n",
    "def plot_confusion_matrix(model, dataloader, class_names):\n",
    "    all_preds = []\n",
    "    all_labels = []\n",
    "\n",
    "    # Get predictions and true labels\n",
    "    device = torch.device(\"cuda\" if torch.cuda.is_available() else \"cpu\")\n",
    "    model = model.to(device)\n",
    "    model.eval()\n",
    "    with torch.no_grad():\n",
    "        for data, labels in dataloader:\n",
    "            data = data.cuda()  # Move data to GPU if available\n",
    "            labels = labels.cuda()\n",
    "            preds = torch.argmax(model(data), dim=1)\n",
    "            all_preds.extend(preds.cpu().numpy())\n",
    "            all_labels.extend(labels.cpu().numpy())\n",
    "\n",
    "    # Compute confusion matrix\n",
    "    cm = confusion_matrix(all_labels, all_preds)\n",
    "    disp = ConfusionMatrixDisplay(cm, display_labels=class_names)\n",
    "    disp.plot(cmap=\"Blues\")\n",
    "    plt.title(\"Confusion Matrix\")\n",
    "    plt.show()\n",
    "\n",
    "# Call this after training/testing\n",
    "plot_confusion_matrix(model, model.test_loader, class_names=[\"Normal\", \"Pneumonia\"])"
   ],
   "id": "d1339a78e765a1d",
   "outputs": [
    {
     "data": {
      "text/plain": [
       "<Figure size 640x480 with 2 Axes>"
      ],
      "image/png": "[encoded data removed]"
     },
     "metadata": {},
     "output_type": "display_data"
    }
   ],
   "execution_count": 11
  },
  {
   "metadata": {
    "ExecuteTime": {
     "end_time": "2024-11-27T19:02:19.589412Z",
     "start_time": "2024-11-27T19:02:04.530503Z"
    }
   },
   "cell_type": "code",
   "source": [
    "from sklearn.metrics import roc_curve, roc_auc_score\n",
    "\n",
    "def plot_roc_auc(model, dataloader):\n",
    "    all_preds = []\n",
    "    all_labels = []\n",
    "\n",
    "    # Get predictions and true labels\n",
    "    model.eval()\n",
    "    with torch.no_grad():\n",
    "        for data, labels in dataloader:\n",
    "            data = data.cuda()\n",
    "            labels = labels.cuda()\n",
    "            preds = model(data)\n",
    "            probs = torch.softmax(preds, dim=1)[:, 1]  # Probabilities for class 1\n",
    "            all_preds.extend(probs.cpu().numpy())\n",
    "            all_labels.extend(labels.cpu().numpy())\n",
    "\n",
    "    # Compute ROC curve and AUC\n",
    "    fpr, tpr, _ = roc_curve(all_labels, all_preds)\n",
    "    auc = roc_auc_score(all_labels, all_preds)\n",
    "\n",
    "    # Plot ROC curve\n",
    "    plt.figure()\n",
    "    plt.plot(fpr, tpr, color='darkorange', lw=2, label=f'ROC curve (AUC = {auc:.2f})')\n",
    "    plt.plot([0, 1], [0, 1], color='navy', lw=2, linestyle='--')\n",
    "    plt.xlabel('False Positive Rate')\n",
    "    plt.ylabel('True Positive Rate')\n",
    "    plt.title('ROC Curve')\n",
    "    plt.legend(loc=\"lower right\")\n",
    "    plt.show()\n",
    "\n",
    "# Call this after training/testing\n",
    "plot_roc_auc(model, model.test_loader)"
   ],
   "id": "e76ce3f3a224e341",
   "outputs": [
    {
     "data": {
      "text/plain": [
       "<Figure size 640x480 with 1 Axes>"
      ],
      "image/png": "[encoded data removed]"
     },
     "metadata": {},
     "output_type": "display_data"
    }
   ],
   "execution_count": 12
  },
  {
   "metadata": {
    "ExecuteTime": {
     "end_time": "2024-11-27T19:07:11.363405Z",
     "start_time": "2024-11-27T19:07:11.059251Z"
    }
   },
   "cell_type": "code",
   "source": [
    "from torchcam.methods import SmoothGradCAMpp\n",
    "from torchcam.utils import overlay_mask\n",
    "from torchvision.transforms.functional import to_pil_image\n",
    "import matplotlib.pyplot as plt\n",
    "\n",
    "def visualize_gradcam(model, dataloader, target_layer=\"feature_extractor.7\"):\n",
    "    model.eval()\n",
    "\n",
    "    # Initialize Grad-CAM\n",
    "    cam_extractor = SmoothGradCAMpp(model, target_layer=target_layer)\n",
    "\n",
    "    # Pick one image from the dataloader\n",
    "    data, labels = next(iter(dataloader))\n",
    "    data = data.cuda()\n",
    "    labels = labels.cuda()\n",
    "\n",
    "    # Get predictions and CAM\n",
    "    preds = model(data)\n",
    "    class_idx = preds.argmax(dim=1).item()  # Predicted class index for the first image\n",
    "\n",
    "    # Generate CAM for the predicted class\n",
    "    cams = cam_extractor(class_idx, preds)\n",
    "\n",
    "    # Overlay CAM on the original image\n",
    "    for i in range(len(data)):\n",
    "        heatmap = cams[target_layer][i]\n",
    "        original_image = to_pil_image(data[i].cpu())\n",
    "        heatmap_image = to_pil_image(heatmap, mode=\"F\")\n",
    "\n",
    "        # Overlay heatmap on the original image\n",
    "        result = overlay_mask(original_image, heatmap_image, alpha=0.5)\n",
    "        plt.imshow(result)\n",
    "        plt.title(f\"Grad-CAM for label {labels[i].item()} (Pred: {class_idx})\")\n",
    "        plt.axis(\"off\")\n",
    "        plt.show()\n",
    "\n",
    "# Call this after training\n",
    "visualize_gradcam(model, model.test_loader)\n"
   ],
   "id": "f63382fe6cdfe619",
   "outputs": [
    {
     "name": "stdout",
     "output_type": "stream",
     "text": [
      "PneumoniaClassifier(\n",
      "  (accuracy): BinaryAccuracy()\n",
      "  (precision): BinaryPrecision()\n",
      "  (recall): BinaryRecall()\n",
      "  (f1): BinaryF1Score()\n",
      "  (feature_extractor): Sequential(\n",
      "    (0): Conv2d(3, 64, kernel_size=(7, 7), stride=(2, 2), padding=(3, 3), bias=False)\n",
      "    (1): BatchNorm2d(64, eps=1e-05, momentum=0.1, affine=True, track_running_stats=True)\n",
      "    (2): ReLU(inplace=True)\n",
      "    (3): MaxPool2d(kernel_size=3, stride=2, padding=1, dilation=1, ceil_mode=False)\n",
      "    (4): Sequential(\n",
      "      (0): BasicBlock(\n",
      "        (conv1): Conv2d(64, 64, kernel_size=(3, 3), stride=(1, 1), padding=(1, 1), bias=False)\n",
      "        (bn1): BatchNorm2d(64, eps=1e-05, momentum=0.1, affine=True, track_running_stats=True)\n",
      "        (relu): ReLU(inplace=True)\n",
      "        (conv2): Conv2d(64, 64, kernel_size=(3, 3), stride=(1, 1), padding=(1, 1), bias=False)\n",
      "        (bn2): BatchNorm2d(64, eps=1e-05, momentum=0.1, affine=True, track_running_stats=True)\n",
      "      )\n",
      "      (1): BasicBlock(\n",
      "        (conv1): Conv2d(64, 64, kernel_size=(3, 3), stride=(1, 1), padding=(1, 1), bias=False)\n",
      "        (bn1): BatchNorm2d(64, eps=1e-05, momentum=0.1, affine=True, track_running_stats=True)\n",
      "        (relu): ReLU(inplace=True)\n",
      "        (conv2): Conv2d(64, 64, kernel_size=(3, 3), stride=(1, 1), padding=(1, 1), bias=False)\n",
      "        (bn2): BatchNorm2d(64, eps=1e-05, momentum=0.1, affine=True, track_running_stats=True)\n",
      "      )\n",
      "    )\n",
      "    (5): Sequential(\n",
      "      (0): BasicBlock(\n",
      "        (conv1): Conv2d(64, 128, kernel_size=(3, 3), stride=(2, 2), padding=(1, 1), bias=False)\n",
      "        (bn1): BatchNorm2d(128, eps=1e-05, momentum=0.1, affine=True, track_running_stats=True)\n",
      "        (relu): ReLU(inplace=True)\n",
      "        (conv2): Conv2d(128, 128, kernel_size=(3, 3), stride=(1, 1), padding=(1, 1), bias=False)\n",
      "        (bn2): BatchNorm2d(128, eps=1e-05, momentum=0.1, affine=True, track_running_stats=True)\n",
      "        (downsample): Sequential(\n",
      "          (0): Conv2d(64, 128, kernel_size=(1, 1), stride=(2, 2), bias=False)\n",
      "          (1): BatchNorm2d(128, eps=1e-05, momentum=0.1, affine=True, track_running_stats=True)\n",
      "        )\n",
      "      )\n",
      "      (1): BasicBlock(\n",
      "        (conv1): Conv2d(128, 128, kernel_size=(3, 3), stride=(1, 1), padding=(1, 1), bias=False)\n",
      "        (bn1): BatchNorm2d(128, eps=1e-05, momentum=0.1, affine=True, track_running_stats=True)\n",
      "        (relu): ReLU(inplace=True)\n",
      "        (conv2): Conv2d(128, 128, kernel_size=(3, 3), stride=(1, 1), padding=(1, 1), bias=False)\n",
      "        (bn2): BatchNorm2d(128, eps=1e-05, momentum=0.1, affine=True, track_running_stats=True)\n",
      "      )\n",
      "    )\n",
      "    (6): Sequential(\n",
      "      (0): BasicBlock(\n",
      "        (conv1): Conv2d(128, 256, kernel_size=(3, 3), stride=(2, 2), padding=(1, 1), bias=False)\n",
      "        (bn1): BatchNorm2d(256, eps=1e-05, momentum=0.1, affine=True, track_running_stats=True)\n",
      "        (relu): ReLU(inplace=True)\n",
      "        (conv2): Conv2d(256, 256, kernel_size=(3, 3), stride=(1, 1), padding=(1, 1), bias=False)\n",
      "        (bn2): BatchNorm2d(256, eps=1e-05, momentum=0.1, affine=True, track_running_stats=True)\n",
      "        (downsample): Sequential(\n",
      "          (0): Conv2d(128, 256, kernel_size=(1, 1), stride=(2, 2), bias=False)\n",
      "          (1): BatchNorm2d(256, eps=1e-05, momentum=0.1, affine=True, track_running_stats=True)\n",
      "        )\n",
      "      )\n",
      "      (1): BasicBlock(\n",
      "        (conv1): Conv2d(256, 256, kernel_size=(3, 3), stride=(1, 1), padding=(1, 1), bias=False)\n",
      "        (bn1): BatchNorm2d(256, eps=1e-05, momentum=0.1, affine=True, track_running_stats=True)\n",
      "        (relu): ReLU(inplace=True)\n",
      "        (conv2): Conv2d(256, 256, kernel_size=(3, 3), stride=(1, 1), padding=(1, 1), bias=False)\n",
      "        (bn2): BatchNorm2d(256, eps=1e-05, momentum=0.1, affine=True, track_running_stats=True)\n",
      "      )\n",
      "    )\n",
      "    (7): Sequential(\n",
      "      (0): BasicBlock(\n",
      "        (conv1): Conv2d(256, 512, kernel_size=(3, 3), stride=(2, 2), padding=(1, 1), bias=False)\n",
      "        (bn1): BatchNorm2d(512, eps=1e-05, momentum=0.1, affine=True, track_running_stats=True)\n",
      "        (relu): ReLU(inplace=True)\n",
      "        (conv2): Conv2d(512, 512, kernel_size=(3, 3), stride=(1, 1), padding=(1, 1), bias=False)\n",
      "        (bn2): BatchNorm2d(512, eps=1e-05, momentum=0.1, affine=True, track_running_stats=True)\n",
      "        (downsample): Sequential(\n",
      "          (0): Conv2d(256, 512, kernel_size=(1, 1), stride=(2, 2), bias=False)\n",
      "          (1): BatchNorm2d(512, eps=1e-05, momentum=0.1, affine=True, track_running_stats=True)\n",
      "        )\n",
      "      )\n",
      "      (1): BasicBlock(\n",
      "        (conv1): Conv2d(512, 512, kernel_size=(3, 3), stride=(1, 1), padding=(1, 1), bias=False)\n",
      "        (bn1): BatchNorm2d(512, eps=1e-05, momentum=0.1, affine=True, track_running_stats=True)\n",
      "        (relu): ReLU(inplace=True)\n",
      "        (conv2): Conv2d(512, 512, kernel_size=(3, 3), stride=(1, 1), padding=(1, 1), bias=False)\n",
      "        (bn2): BatchNorm2d(512, eps=1e-05, momentum=0.1, affine=True, track_running_stats=True)\n",
      "      )\n",
      "    )\n",
      "    (8): AdaptiveAvgPool2d(output_size=(1, 1))\n",
      "  )\n",
      "  (dropout): Dropout(p=0.5, inplace=False)\n",
      "  (classifier): Linear(in_features=512, out_features=2, bias=True)\n",
      ")\n"
     ]
    },
    {
     "ename": "RuntimeError",
     "evalue": "cannot register a hook on a tensor that doesn't require gradient",
     "output_type": "error",
     "traceback": [
      "\u001B[1;31m---------------------------------------------------------------------------\u001B[0m",
      "\u001B[1;31mRuntimeError\u001B[0m                              Traceback (most recent call last)",
      "Cell \u001B[1;32mIn[15], line 42\u001B[0m\n\u001B[0;32m     39\u001B[0m         plt\u001B[38;5;241m.\u001B[39mshow()\n\u001B[0;32m     41\u001B[0m \u001B[38;5;66;03m# Call this after training\u001B[39;00m\n\u001B[1;32m---> 42\u001B[0m visualize_gradcam(model, model\u001B[38;5;241m.\u001B[39mtest_loader, target_layer\u001B[38;5;241m=\u001B[39m\u001B[38;5;124m\"\u001B[39m\u001B[38;5;124mfeature_extractor.6\u001B[39m\u001B[38;5;124m\"\u001B[39m)\n",
      "Cell \u001B[1;32mIn[15], line 12\u001B[0m, in \u001B[0;36mvisualize_gradcam\u001B[1;34m(model, dataloader, target_layer)\u001B[0m\n\u001B[0;32m      9\u001B[0m model\u001B[38;5;241m.\u001B[39meval()\n\u001B[0;32m     11\u001B[0m \u001B[38;5;66;03m# Grad-CAM setup\u001B[39;00m\n\u001B[1;32m---> 12\u001B[0m cam_extractor \u001B[38;5;241m=\u001B[39m SmoothGradCAMpp(model)\n\u001B[0;32m     14\u001B[0m \u001B[38;5;66;03m# Pick one image from the dataloader\u001B[39;00m\n\u001B[0;32m     15\u001B[0m data, labels \u001B[38;5;241m=\u001B[39m \u001B[38;5;28mnext\u001B[39m(\u001B[38;5;28miter\u001B[39m(dataloader))\n",
      "File \u001B[1;32m~\\miniconda3\\envs\\pneumonia_detection\\Lib\\site-packages\\torchcam\\methods\\gradient.py:235\u001B[0m, in \u001B[0;36mSmoothGradCAMpp.__init__\u001B[1;34m(self, model, target_layer, num_samples, std, input_shape, **kwargs)\u001B[0m\n\u001B[0;32m    226\u001B[0m \u001B[38;5;28;01mdef\u001B[39;00m \u001B[38;5;21m__init__\u001B[39m(\n\u001B[0;32m    227\u001B[0m     \u001B[38;5;28mself\u001B[39m,\n\u001B[0;32m    228\u001B[0m     model: nn\u001B[38;5;241m.\u001B[39mModule,\n\u001B[1;32m   (...)\u001B[0m\n\u001B[0;32m    233\u001B[0m     \u001B[38;5;241m*\u001B[39m\u001B[38;5;241m*\u001B[39mkwargs: Any,\n\u001B[0;32m    234\u001B[0m ) \u001B[38;5;241m-\u001B[39m\u001B[38;5;241m>\u001B[39m \u001B[38;5;28;01mNone\u001B[39;00m:\n\u001B[1;32m--> 235\u001B[0m     \u001B[38;5;28msuper\u001B[39m()\u001B[38;5;241m.\u001B[39m\u001B[38;5;21m__init__\u001B[39m(model, target_layer, input_shape, \u001B[38;5;241m*\u001B[39m\u001B[38;5;241m*\u001B[39mkwargs)\n\u001B[0;32m    236\u001B[0m     \u001B[38;5;66;03m# Model scores is not used by the extractor\u001B[39;00m\n\u001B[0;32m    237\u001B[0m     \u001B[38;5;28mself\u001B[39m\u001B[38;5;241m.\u001B[39m_score_used \u001B[38;5;241m=\u001B[39m \u001B[38;5;28;01mFalse\u001B[39;00m\n",
      "File \u001B[1;32m~\\miniconda3\\envs\\pneumonia_detection\\Lib\\site-packages\\torchcam\\methods\\gradient.py:33\u001B[0m, in \u001B[0;36m_GradCAM.__init__\u001B[1;34m(self, model, target_layer, input_shape, **kwargs)\u001B[0m\n\u001B[0;32m     26\u001B[0m \u001B[38;5;28;01mdef\u001B[39;00m \u001B[38;5;21m__init__\u001B[39m(\n\u001B[0;32m     27\u001B[0m     \u001B[38;5;28mself\u001B[39m,\n\u001B[0;32m     28\u001B[0m     model: nn\u001B[38;5;241m.\u001B[39mModule,\n\u001B[1;32m   (...)\u001B[0m\n\u001B[0;32m     31\u001B[0m     \u001B[38;5;241m*\u001B[39m\u001B[38;5;241m*\u001B[39mkwargs: Any,\n\u001B[0;32m     32\u001B[0m ) \u001B[38;5;241m-\u001B[39m\u001B[38;5;241m>\u001B[39m \u001B[38;5;28;01mNone\u001B[39;00m:\n\u001B[1;32m---> 33\u001B[0m     \u001B[38;5;28msuper\u001B[39m()\u001B[38;5;241m.\u001B[39m\u001B[38;5;21m__init__\u001B[39m(model, target_layer, input_shape, \u001B[38;5;241m*\u001B[39m\u001B[38;5;241m*\u001B[39mkwargs)\n\u001B[0;32m     34\u001B[0m     \u001B[38;5;66;03m# Ensure ReLU is applied before normalization\u001B[39;00m\n\u001B[0;32m     35\u001B[0m     \u001B[38;5;28mself\u001B[39m\u001B[38;5;241m.\u001B[39m_relu \u001B[38;5;241m=\u001B[39m \u001B[38;5;28;01mTrue\u001B[39;00m\n",
      "File \u001B[1;32m~\\miniconda3\\envs\\pneumonia_detection\\Lib\\site-packages\\torchcam\\methods\\core.py:54\u001B[0m, in \u001B[0;36m_CAM.__init__\u001B[1;34m(self, model, target_layer, input_shape, enable_hooks)\u001B[0m\n\u001B[0;32m     49\u001B[0m     target_names \u001B[38;5;241m=\u001B[39m [\n\u001B[0;32m     50\u001B[0m         \u001B[38;5;28mself\u001B[39m\u001B[38;5;241m.\u001B[39m_resolve_layer_name(layer) \u001B[38;5;28;01mif\u001B[39;00m \u001B[38;5;28misinstance\u001B[39m(layer, nn\u001B[38;5;241m.\u001B[39mModule) \u001B[38;5;28;01melse\u001B[39;00m layer \u001B[38;5;28;01mfor\u001B[39;00m layer \u001B[38;5;129;01min\u001B[39;00m target_layer\n\u001B[0;32m     51\u001B[0m     ]\n\u001B[0;32m     52\u001B[0m \u001B[38;5;28;01melif\u001B[39;00m target_layer \u001B[38;5;129;01mis\u001B[39;00m \u001B[38;5;28;01mNone\u001B[39;00m:\n\u001B[0;32m     53\u001B[0m     \u001B[38;5;66;03m# If the layer is not specified, try automatic resolution\u001B[39;00m\n\u001B[1;32m---> 54\u001B[0m     target_name \u001B[38;5;241m=\u001B[39m locate_candidate_layer(model, input_shape)\n\u001B[0;32m     55\u001B[0m     \u001B[38;5;66;03m# Warn the user of the choice\u001B[39;00m\n\u001B[0;32m     56\u001B[0m     \u001B[38;5;28;01mif\u001B[39;00m \u001B[38;5;28misinstance\u001B[39m(target_name, \u001B[38;5;28mstr\u001B[39m):\n",
      "File \u001B[1;32m~\\miniconda3\\envs\\pneumonia_detection\\Lib\\site-packages\\torchcam\\methods\\_utils.py:42\u001B[0m, in \u001B[0;36mlocate_candidate_layer\u001B[1;34m(mod, input_shape)\u001B[0m\n\u001B[0;32m     40\u001B[0m \u001B[38;5;66;03m# forward empty\u001B[39;00m\n\u001B[0;32m     41\u001B[0m \u001B[38;5;28;01mwith\u001B[39;00m torch\u001B[38;5;241m.\u001B[39mno_grad():\n\u001B[1;32m---> 42\u001B[0m     _ \u001B[38;5;241m=\u001B[39m mod(torch\u001B[38;5;241m.\u001B[39mzeros((\u001B[38;5;241m1\u001B[39m, \u001B[38;5;241m*\u001B[39minput_shape), device\u001B[38;5;241m=\u001B[39m\u001B[38;5;28mnext\u001B[39m(mod\u001B[38;5;241m.\u001B[39mparameters())\u001B[38;5;241m.\u001B[39mdata\u001B[38;5;241m.\u001B[39mdevice))\n\u001B[0;32m     44\u001B[0m \u001B[38;5;66;03m# Remove all temporary hooks\u001B[39;00m\n\u001B[0;32m     45\u001B[0m \u001B[38;5;28;01mfor\u001B[39;00m handle \u001B[38;5;129;01min\u001B[39;00m hook_handles:\n",
      "File \u001B[1;32m~\\miniconda3\\envs\\pneumonia_detection\\Lib\\site-packages\\torch\\nn\\modules\\module.py:1736\u001B[0m, in \u001B[0;36mModule._wrapped_call_impl\u001B[1;34m(self, *args, **kwargs)\u001B[0m\n\u001B[0;32m   1734\u001B[0m     \u001B[38;5;28;01mreturn\u001B[39;00m \u001B[38;5;28mself\u001B[39m\u001B[38;5;241m.\u001B[39m_compiled_call_impl(\u001B[38;5;241m*\u001B[39margs, \u001B[38;5;241m*\u001B[39m\u001B[38;5;241m*\u001B[39mkwargs)  \u001B[38;5;66;03m# type: ignore[misc]\u001B[39;00m\n\u001B[0;32m   1735\u001B[0m \u001B[38;5;28;01melse\u001B[39;00m:\n\u001B[1;32m-> 1736\u001B[0m     \u001B[38;5;28;01mreturn\u001B[39;00m \u001B[38;5;28mself\u001B[39m\u001B[38;5;241m.\u001B[39m_call_impl(\u001B[38;5;241m*\u001B[39margs, \u001B[38;5;241m*\u001B[39m\u001B[38;5;241m*\u001B[39mkwargs)\n",
      "File \u001B[1;32m~\\miniconda3\\envs\\pneumonia_detection\\Lib\\site-packages\\torch\\nn\\modules\\module.py:1844\u001B[0m, in \u001B[0;36mModule._call_impl\u001B[1;34m(self, *args, **kwargs)\u001B[0m\n\u001B[0;32m   1841\u001B[0m     \u001B[38;5;28;01mreturn\u001B[39;00m inner()\n\u001B[0;32m   1843\u001B[0m \u001B[38;5;28;01mtry\u001B[39;00m:\n\u001B[1;32m-> 1844\u001B[0m     \u001B[38;5;28;01mreturn\u001B[39;00m inner()\n\u001B[0;32m   1845\u001B[0m \u001B[38;5;28;01mexcept\u001B[39;00m \u001B[38;5;167;01mException\u001B[39;00m:\n\u001B[0;32m   1846\u001B[0m     \u001B[38;5;66;03m# run always called hooks if they have not already been run\u001B[39;00m\n\u001B[0;32m   1847\u001B[0m     \u001B[38;5;66;03m# For now only forward hooks have the always_call option but perhaps\u001B[39;00m\n\u001B[0;32m   1848\u001B[0m     \u001B[38;5;66;03m# this functionality should be added to full backward hooks as well.\u001B[39;00m\n\u001B[0;32m   1849\u001B[0m     \u001B[38;5;28;01mfor\u001B[39;00m hook_id, hook \u001B[38;5;129;01min\u001B[39;00m _global_forward_hooks\u001B[38;5;241m.\u001B[39mitems():\n",
      "File \u001B[1;32m~\\miniconda3\\envs\\pneumonia_detection\\Lib\\site-packages\\torch\\nn\\modules\\module.py:1790\u001B[0m, in \u001B[0;36mModule._call_impl.<locals>.inner\u001B[1;34m()\u001B[0m\n\u001B[0;32m   1787\u001B[0m     bw_hook \u001B[38;5;241m=\u001B[39m BackwardHook(\u001B[38;5;28mself\u001B[39m, full_backward_hooks, backward_pre_hooks)\n\u001B[0;32m   1788\u001B[0m     args \u001B[38;5;241m=\u001B[39m bw_hook\u001B[38;5;241m.\u001B[39msetup_input_hook(args)\n\u001B[1;32m-> 1790\u001B[0m result \u001B[38;5;241m=\u001B[39m forward_call(\u001B[38;5;241m*\u001B[39margs, \u001B[38;5;241m*\u001B[39m\u001B[38;5;241m*\u001B[39mkwargs)\n\u001B[0;32m   1791\u001B[0m \u001B[38;5;28;01mif\u001B[39;00m _global_forward_hooks \u001B[38;5;129;01mor\u001B[39;00m \u001B[38;5;28mself\u001B[39m\u001B[38;5;241m.\u001B[39m_forward_hooks:\n\u001B[0;32m   1792\u001B[0m     \u001B[38;5;28;01mfor\u001B[39;00m hook_id, hook \u001B[38;5;129;01min\u001B[39;00m (\n\u001B[0;32m   1793\u001B[0m         \u001B[38;5;241m*\u001B[39m_global_forward_hooks\u001B[38;5;241m.\u001B[39mitems(),\n\u001B[0;32m   1794\u001B[0m         \u001B[38;5;241m*\u001B[39m\u001B[38;5;28mself\u001B[39m\u001B[38;5;241m.\u001B[39m_forward_hooks\u001B[38;5;241m.\u001B[39mitems(),\n\u001B[0;32m   1795\u001B[0m     ):\n\u001B[0;32m   1796\u001B[0m         \u001B[38;5;66;03m# mark that always called hook is run\u001B[39;00m\n",
      "File \u001B[1;32m~\\Documents\\Studium\\Modules\\ComputerScienceProject\\MedicalImaging\\pneumonia_detection\\code\\classifier.py:110\u001B[0m, in \u001B[0;36mPneumoniaClassifier.forward\u001B[1;34m(self, x)\u001B[0m\n\u001B[0;32m    108\u001B[0m \u001B[38;5;28mself\u001B[39m\u001B[38;5;241m.\u001B[39mfeature_extractor\u001B[38;5;241m.\u001B[39meval()\n\u001B[0;32m    109\u001B[0m \u001B[38;5;28;01mwith\u001B[39;00m torch\u001B[38;5;241m.\u001B[39mno_grad():\n\u001B[1;32m--> 110\u001B[0m     representations \u001B[38;5;241m=\u001B[39m \u001B[38;5;28mself\u001B[39m\u001B[38;5;241m.\u001B[39mfeature_extractor(x)\u001B[38;5;241m.\u001B[39mflatten(\u001B[38;5;241m1\u001B[39m)\n\u001B[0;32m    111\u001B[0m representations \u001B[38;5;241m=\u001B[39m \u001B[38;5;28mself\u001B[39m\u001B[38;5;241m.\u001B[39mdropout(representations)\n\u001B[0;32m    112\u001B[0m \u001B[38;5;28;01mreturn\u001B[39;00m \u001B[38;5;28mself\u001B[39m\u001B[38;5;241m.\u001B[39mclassifier(representations)\n",
      "File \u001B[1;32m~\\miniconda3\\envs\\pneumonia_detection\\Lib\\site-packages\\torch\\nn\\modules\\module.py:1736\u001B[0m, in \u001B[0;36mModule._wrapped_call_impl\u001B[1;34m(self, *args, **kwargs)\u001B[0m\n\u001B[0;32m   1734\u001B[0m     \u001B[38;5;28;01mreturn\u001B[39;00m \u001B[38;5;28mself\u001B[39m\u001B[38;5;241m.\u001B[39m_compiled_call_impl(\u001B[38;5;241m*\u001B[39margs, \u001B[38;5;241m*\u001B[39m\u001B[38;5;241m*\u001B[39mkwargs)  \u001B[38;5;66;03m# type: ignore[misc]\u001B[39;00m\n\u001B[0;32m   1735\u001B[0m \u001B[38;5;28;01melse\u001B[39;00m:\n\u001B[1;32m-> 1736\u001B[0m     \u001B[38;5;28;01mreturn\u001B[39;00m \u001B[38;5;28mself\u001B[39m\u001B[38;5;241m.\u001B[39m_call_impl(\u001B[38;5;241m*\u001B[39margs, \u001B[38;5;241m*\u001B[39m\u001B[38;5;241m*\u001B[39mkwargs)\n",
      "File \u001B[1;32m~\\miniconda3\\envs\\pneumonia_detection\\Lib\\site-packages\\torch\\nn\\modules\\module.py:1844\u001B[0m, in \u001B[0;36mModule._call_impl\u001B[1;34m(self, *args, **kwargs)\u001B[0m\n\u001B[0;32m   1841\u001B[0m     \u001B[38;5;28;01mreturn\u001B[39;00m inner()\n\u001B[0;32m   1843\u001B[0m \u001B[38;5;28;01mtry\u001B[39;00m:\n\u001B[1;32m-> 1844\u001B[0m     \u001B[38;5;28;01mreturn\u001B[39;00m inner()\n\u001B[0;32m   1845\u001B[0m \u001B[38;5;28;01mexcept\u001B[39;00m \u001B[38;5;167;01mException\u001B[39;00m:\n\u001B[0;32m   1846\u001B[0m     \u001B[38;5;66;03m# run always called hooks if they have not already been run\u001B[39;00m\n\u001B[0;32m   1847\u001B[0m     \u001B[38;5;66;03m# For now only forward hooks have the always_call option but perhaps\u001B[39;00m\n\u001B[0;32m   1848\u001B[0m     \u001B[38;5;66;03m# this functionality should be added to full backward hooks as well.\u001B[39;00m\n\u001B[0;32m   1849\u001B[0m     \u001B[38;5;28;01mfor\u001B[39;00m hook_id, hook \u001B[38;5;129;01min\u001B[39;00m _global_forward_hooks\u001B[38;5;241m.\u001B[39mitems():\n",
      "File \u001B[1;32m~\\miniconda3\\envs\\pneumonia_detection\\Lib\\site-packages\\torch\\nn\\modules\\module.py:1790\u001B[0m, in \u001B[0;36mModule._call_impl.<locals>.inner\u001B[1;34m()\u001B[0m\n\u001B[0;32m   1787\u001B[0m     bw_hook \u001B[38;5;241m=\u001B[39m BackwardHook(\u001B[38;5;28mself\u001B[39m, full_backward_hooks, backward_pre_hooks)\n\u001B[0;32m   1788\u001B[0m     args \u001B[38;5;241m=\u001B[39m bw_hook\u001B[38;5;241m.\u001B[39msetup_input_hook(args)\n\u001B[1;32m-> 1790\u001B[0m result \u001B[38;5;241m=\u001B[39m forward_call(\u001B[38;5;241m*\u001B[39margs, \u001B[38;5;241m*\u001B[39m\u001B[38;5;241m*\u001B[39mkwargs)\n\u001B[0;32m   1791\u001B[0m \u001B[38;5;28;01mif\u001B[39;00m _global_forward_hooks \u001B[38;5;129;01mor\u001B[39;00m \u001B[38;5;28mself\u001B[39m\u001B[38;5;241m.\u001B[39m_forward_hooks:\n\u001B[0;32m   1792\u001B[0m     \u001B[38;5;28;01mfor\u001B[39;00m hook_id, hook \u001B[38;5;129;01min\u001B[39;00m (\n\u001B[0;32m   1793\u001B[0m         \u001B[38;5;241m*\u001B[39m_global_forward_hooks\u001B[38;5;241m.\u001B[39mitems(),\n\u001B[0;32m   1794\u001B[0m         \u001B[38;5;241m*\u001B[39m\u001B[38;5;28mself\u001B[39m\u001B[38;5;241m.\u001B[39m_forward_hooks\u001B[38;5;241m.\u001B[39mitems(),\n\u001B[0;32m   1795\u001B[0m     ):\n\u001B[0;32m   1796\u001B[0m         \u001B[38;5;66;03m# mark that always called hook is run\u001B[39;00m\n",
      "File \u001B[1;32m~\\miniconda3\\envs\\pneumonia_detection\\Lib\\site-packages\\torch\\nn\\modules\\container.py:250\u001B[0m, in \u001B[0;36mSequential.forward\u001B[1;34m(self, input)\u001B[0m\n\u001B[0;32m    248\u001B[0m \u001B[38;5;28;01mdef\u001B[39;00m \u001B[38;5;21mforward\u001B[39m(\u001B[38;5;28mself\u001B[39m, \u001B[38;5;28minput\u001B[39m):\n\u001B[0;32m    249\u001B[0m     \u001B[38;5;28;01mfor\u001B[39;00m module \u001B[38;5;129;01min\u001B[39;00m \u001B[38;5;28mself\u001B[39m:\n\u001B[1;32m--> 250\u001B[0m         \u001B[38;5;28minput\u001B[39m \u001B[38;5;241m=\u001B[39m module(\u001B[38;5;28minput\u001B[39m)\n\u001B[0;32m    251\u001B[0m     \u001B[38;5;28;01mreturn\u001B[39;00m \u001B[38;5;28minput\u001B[39m\n",
      "File \u001B[1;32m~\\miniconda3\\envs\\pneumonia_detection\\Lib\\site-packages\\torch\\nn\\modules\\module.py:1736\u001B[0m, in \u001B[0;36mModule._wrapped_call_impl\u001B[1;34m(self, *args, **kwargs)\u001B[0m\n\u001B[0;32m   1734\u001B[0m     \u001B[38;5;28;01mreturn\u001B[39;00m \u001B[38;5;28mself\u001B[39m\u001B[38;5;241m.\u001B[39m_compiled_call_impl(\u001B[38;5;241m*\u001B[39margs, \u001B[38;5;241m*\u001B[39m\u001B[38;5;241m*\u001B[39mkwargs)  \u001B[38;5;66;03m# type: ignore[misc]\u001B[39;00m\n\u001B[0;32m   1735\u001B[0m \u001B[38;5;28;01melse\u001B[39;00m:\n\u001B[1;32m-> 1736\u001B[0m     \u001B[38;5;28;01mreturn\u001B[39;00m \u001B[38;5;28mself\u001B[39m\u001B[38;5;241m.\u001B[39m_call_impl(\u001B[38;5;241m*\u001B[39margs, \u001B[38;5;241m*\u001B[39m\u001B[38;5;241m*\u001B[39mkwargs)\n",
      "File \u001B[1;32m~\\miniconda3\\envs\\pneumonia_detection\\Lib\\site-packages\\torch\\nn\\modules\\module.py:1844\u001B[0m, in \u001B[0;36mModule._call_impl\u001B[1;34m(self, *args, **kwargs)\u001B[0m\n\u001B[0;32m   1841\u001B[0m     \u001B[38;5;28;01mreturn\u001B[39;00m inner()\n\u001B[0;32m   1843\u001B[0m \u001B[38;5;28;01mtry\u001B[39;00m:\n\u001B[1;32m-> 1844\u001B[0m     \u001B[38;5;28;01mreturn\u001B[39;00m inner()\n\u001B[0;32m   1845\u001B[0m \u001B[38;5;28;01mexcept\u001B[39;00m \u001B[38;5;167;01mException\u001B[39;00m:\n\u001B[0;32m   1846\u001B[0m     \u001B[38;5;66;03m# run always called hooks if they have not already been run\u001B[39;00m\n\u001B[0;32m   1847\u001B[0m     \u001B[38;5;66;03m# For now only forward hooks have the always_call option but perhaps\u001B[39;00m\n\u001B[0;32m   1848\u001B[0m     \u001B[38;5;66;03m# this functionality should be added to full backward hooks as well.\u001B[39;00m\n\u001B[0;32m   1849\u001B[0m     \u001B[38;5;28;01mfor\u001B[39;00m hook_id, hook \u001B[38;5;129;01min\u001B[39;00m _global_forward_hooks\u001B[38;5;241m.\u001B[39mitems():\n",
      "File \u001B[1;32m~\\miniconda3\\envs\\pneumonia_detection\\Lib\\site-packages\\torch\\nn\\modules\\module.py:1803\u001B[0m, in \u001B[0;36mModule._call_impl.<locals>.inner\u001B[1;34m()\u001B[0m\n\u001B[0;32m   1801\u001B[0m     hook_result \u001B[38;5;241m=\u001B[39m hook(\u001B[38;5;28mself\u001B[39m, args, kwargs, result)\n\u001B[0;32m   1802\u001B[0m \u001B[38;5;28;01melse\u001B[39;00m:\n\u001B[1;32m-> 1803\u001B[0m     hook_result \u001B[38;5;241m=\u001B[39m hook(\u001B[38;5;28mself\u001B[39m, args, result)\n\u001B[0;32m   1805\u001B[0m \u001B[38;5;28;01mif\u001B[39;00m hook_result \u001B[38;5;129;01mis\u001B[39;00m \u001B[38;5;129;01mnot\u001B[39;00m \u001B[38;5;28;01mNone\u001B[39;00m:\n\u001B[0;32m   1806\u001B[0m     result \u001B[38;5;241m=\u001B[39m hook_result\n",
      "File \u001B[1;32m~\\miniconda3\\envs\\pneumonia_detection\\Lib\\site-packages\\torchcam\\methods\\gradient.py:49\u001B[0m, in \u001B[0;36m_GradCAM._hook_g\u001B[1;34m(self, module, input, output, idx)\u001B[0m\n\u001B[0;32m     47\u001B[0m \u001B[38;5;250m\u001B[39m\u001B[38;5;124;03m\"\"\"Gradient hook\"\"\"\u001B[39;00m\n\u001B[0;32m     48\u001B[0m \u001B[38;5;28;01mif\u001B[39;00m \u001B[38;5;28mself\u001B[39m\u001B[38;5;241m.\u001B[39m_hooks_enabled:\n\u001B[1;32m---> 49\u001B[0m     \u001B[38;5;28mself\u001B[39m\u001B[38;5;241m.\u001B[39mhook_handles\u001B[38;5;241m.\u001B[39mappend(output\u001B[38;5;241m.\u001B[39mregister_hook(partial(\u001B[38;5;28mself\u001B[39m\u001B[38;5;241m.\u001B[39m_store_grad, idx\u001B[38;5;241m=\u001B[39midx)))\n",
      "File \u001B[1;32m~\\miniconda3\\envs\\pneumonia_detection\\Lib\\site-packages\\torch\\_tensor.py:621\u001B[0m, in \u001B[0;36mTensor.register_hook\u001B[1;34m(self, hook)\u001B[0m\n\u001B[0;32m    619\u001B[0m     \u001B[38;5;28;01mreturn\u001B[39;00m handle_torch_function(Tensor\u001B[38;5;241m.\u001B[39mregister_hook, (\u001B[38;5;28mself\u001B[39m,), \u001B[38;5;28mself\u001B[39m, hook)\n\u001B[0;32m    620\u001B[0m \u001B[38;5;28;01mif\u001B[39;00m \u001B[38;5;129;01mnot\u001B[39;00m \u001B[38;5;28mself\u001B[39m\u001B[38;5;241m.\u001B[39mrequires_grad:\n\u001B[1;32m--> 621\u001B[0m     \u001B[38;5;28;01mraise\u001B[39;00m \u001B[38;5;167;01mRuntimeError\u001B[39;00m(\n\u001B[0;32m    622\u001B[0m         \u001B[38;5;124m\"\u001B[39m\u001B[38;5;124mcannot register a hook on a tensor that doesn\u001B[39m\u001B[38;5;124m'\u001B[39m\u001B[38;5;124mt require gradient\u001B[39m\u001B[38;5;124m\"\u001B[39m\n\u001B[0;32m    623\u001B[0m     )\n\u001B[0;32m    624\u001B[0m \u001B[38;5;28;01mif\u001B[39;00m \u001B[38;5;28mself\u001B[39m\u001B[38;5;241m.\u001B[39m_backward_hooks \u001B[38;5;129;01mis\u001B[39;00m \u001B[38;5;28;01mNone\u001B[39;00m:\n\u001B[0;32m    625\u001B[0m     \u001B[38;5;28mself\u001B[39m\u001B[38;5;241m.\u001B[39m_backward_hooks \u001B[38;5;241m=\u001B[39m OrderedDict()\n",
      "\u001B[1;31mRuntimeError\u001B[0m: cannot register a hook on a tensor that doesn't require gradient"
     ]
    }
   ],
   "execution_count": 15
  }
 ],
 "metadata": {
  "kernelspec": {
   "display_name": "Python 3",
   "language": "python",
   "name": "python3"
  },
  "language_info": {
   "codemirror_mode": {
    "name": "ipython",
    "version": 2
   },
   "file_extension": ".py",
   "mimetype": "text/x-python",
   "name": "python",
   "nbconvert_exporter": "python",
   "pygments_lexer": "ipython2",
   "version": "2.7.6"
  }
 },
 "nbformat": 4,
 "nbformat_minor": 5
}
