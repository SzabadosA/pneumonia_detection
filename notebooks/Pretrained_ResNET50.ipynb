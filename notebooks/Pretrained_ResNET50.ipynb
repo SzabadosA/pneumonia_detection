{
 "cells": [
  {
   "metadata": {
    "ExecuteTime": {
     "end_time": "2024-11-25T07:16:04.189751500Z",
     "start_time": "2024-11-24T18:27:15.654956Z"
    }
   },
   "cell_type": "code",
   "source": [
    "from torchvision.transforms.v2 import ToTensor\n",
    "\n",
    "VERSION = '001'\n",
    "BATCHSIZE = 32\n",
    "MAX_EPOCHS = 50\n",
    "BACKBONE = \"resnet50\"\n",
    "MODEL_NAME = \"ResNet50_transfer\"\n",
    "NUM_WORKERS = 31"
   ],
   "id": "f790a96942638855",
   "outputs": [],
   "execution_count": 1
  },
  {
   "metadata": {
    "collapsed": true,
    "ExecuteTime": {
     "end_time": "2024-11-25T07:16:04.191726400Z",
     "start_time": "2024-11-24T18:27:21.308947Z"
    }
   },
   "cell_type": "code",
   "source": [
    "\n",
    "import os\n",
    "from torchvision.transforms import Compose, Resize, InterpolationMode, ToTensor, Normalize\n",
    "import torch\n",
    "from torchvision import transforms\n",
    "from code.classifier import PneumoniaClassifier, Config\n",
    "\n"
   ],
   "id": "initial_id",
   "outputs": [],
   "execution_count": 2
  },
  {
   "metadata": {
    "ExecuteTime": {
     "end_time": "2024-11-24T18:27:25.242200Z",
     "start_time": "2024-11-24T18:27:25.218789Z"
    }
   },
   "cell_type": "code",
   "source": [
    "\n",
    "# Load the TensorBoard extension\n",
    "%reload_ext tensorboard\n",
    "%load_ext tensorboard\n"
   ],
   "id": "4376ace1b8695239",
   "outputs": [
    {
     "name": "stdout",
     "output_type": "stream",
     "text": [
      "The tensorboard extension is already loaded. To reload it, use:\n",
      "  %reload_ext tensorboard\n"
     ]
    }
   ],
   "execution_count": 3
  },
  {
   "metadata": {
    "ExecuteTime": {
     "end_time": "2024-11-24T18:27:25.784574Z",
     "start_time": "2024-11-24T18:27:25.779350Z"
    }
   },
   "cell_type": "code",
   "source": [
    "# Enable CUDA Launch Blocking\n",
    "os.environ['CUDA_LAUNCH_BLOCKING'] = '1'\n",
    "# Set float32 matrix multiplication precision to 'medium' to utilize Tensor Cores\n",
    "torch.set_float32_matmul_precision('medium')\n",
    "torch.serialization.add_safe_globals([Compose, Resize, set, Config, InterpolationMode, ToTensor, Normalize])"
   ],
   "id": "69e053f3a82f28da",
   "outputs": [],
   "execution_count": 4
  },
  {
   "metadata": {
    "ExecuteTime": {
     "end_time": "2024-11-24T18:27:26.086824Z",
     "start_time": "2024-11-24T18:27:25.795591Z"
    }
   },
   "cell_type": "code",
   "source": [
    "gpu_info = !nvidia-smi\n",
    "gpu_info = '\\n'.join(gpu_info)\n",
    "if gpu_info.find('failed') >= 0:\n",
    "    print('Not connected to a GPU')\n",
    "else:\n",
    "    print(gpu_info)"
   ],
   "id": "ba465dcd3a376771",
   "outputs": [
    {
     "name": "stdout",
     "output_type": "stream",
     "text": [
      "Sun Nov 24 19:27:25 2024       \n",
      "+-----------------------------------------------------------------------------------------+\n",
      "| NVIDIA-SMI 565.90                 Driver Version: 565.90         CUDA Version: 12.7     |\n",
      "|-----------------------------------------+------------------------+----------------------+\n",
      "| GPU  Name                  Driver-Model | Bus-Id          Disp.A | Volatile Uncorr. ECC |\n",
      "| Fan  Temp   Perf          Pwr:Usage/Cap |           Memory-Usage | GPU-Util  Compute M. |\n",
      "|                                         |                        |               MIG M. |\n",
      "|=========================================+========================+======================|\n",
      "|   0  NVIDIA GeForce RTX 4070 Ti   WDDM  |   00000000:02:00.0  On |                  N/A |\n",
      "|  0%   62C    P2             76W /  285W |   11518MiB /  12282MiB |    100%      Default |\n",
      "|                                         |                        |                  N/A |\n",
      "+-----------------------------------------+------------------------+----------------------+\n",
      "                                                                                         \n",
      "+-----------------------------------------------------------------------------------------+\n",
      "| Processes:                                                                              |\n",
      "|  GPU   GI   CI        PID   Type   Process name                              GPU Memory |\n",
      "|        ID   ID                                                               Usage      |\n",
      "|=========================================================================================|\n",
      "|    0   N/A  N/A      4980    C+G   ...on\\130.0.2849.80\\msedgewebview2.exe      N/A      |\n",
      "|    0   N/A  N/A      6272    C+G   ...CBS_cw5n1h2txyewy\\TextInputHost.exe      N/A      |\n",
      "|    0   N/A  N/A      8776    C+G   ...009.0_x64__8wekyb3d8bbwe\\Photos.exe      N/A      |\n",
      "|    0   N/A  N/A      9068    C+G   C:\\Windows\\explorer.exe                     N/A      |\n",
      "|    0   N/A  N/A     10212    C+G   ...on\\130.0.2849.80\\msedgewebview2.exe      N/A      |\n",
      "|    0   N/A  N/A     11180    C+G   ....Search_cw5n1h2txyewy\\SearchApp.exe      N/A      |\n",
      "|    0   N/A  N/A     11864    C+G   ...t.LockApp_cw5n1h2txyewy\\LockApp.exe      N/A      |\n",
      "|    0   N/A  N/A     12256    C+G   ...5n1h2txyewy\\ShellExperienceHost.exe      N/A      |\n",
      "|    0   N/A  N/A     13508    C+G   ...804_x64__8wekyb3d8bbwe\\ms-teams.exe      N/A      |\n",
      "|    0   N/A  N/A     14096    C+G   ...siveControlPanel\\SystemSettings.exe      N/A      |\n",
      "|    0   N/A  N/A     14244    C+G   ...ns\\PyCharm 2024.3\\bin\\pycharm64.exe      N/A      |\n",
      "|    0   N/A  N/A     14644    C+G   C:\\Program Files\\NordVPN\\NordVPN.exe        N/A      |\n",
      "|    0   N/A  N/A     15936    C+G   ..._x64__kzf8qxf38zg5c\\Skype\\Skype.exe      N/A      |\n",
      "|    0   N/A  N/A     16976    C+G   ...oogle\\Chrome\\Application\\chrome.exe      N/A      |\n",
      "|    0   N/A  N/A     18096    C+G   ... Design\\DaVinci Resolve\\Resolve.exe      N/A      |\n",
      "|    0   N/A  N/A     18320    C+G   ...009.0_x64__8wekyb3d8bbwe\\Photos.exe      N/A      |\n",
      "|    0   N/A  N/A     18748    C+G   ...Mozilla Thunderbird\\thunderbird.exe      N/A      |\n",
      "|    0   N/A  N/A     19048    C+G   ....Search_cw5n1h2txyewy\\SearchApp.exe      N/A      |\n",
      "|    0   N/A  N/A     21960    C+G   ...009.0_x64__8wekyb3d8bbwe\\Photos.exe      N/A      |\n",
      "|    0   N/A  N/A     22536    C+G   ...ekyb3d8bbwe\\PhoneExperienceHost.exe      N/A      |\n",
      "|    0   N/A  N/A     23248    C+G   ...ogram Files\\Notepad++\\notepad++.exe      N/A      |\n",
      "|    0   N/A  N/A     23256    C+G   ...oogle\\Chrome\\Application\\chrome.exe      N/A      |\n",
      "|    0   N/A  N/A     33676    C+G   ...009.0_x64__8wekyb3d8bbwe\\Photos.exe      N/A      |\n",
      "|    0   N/A  N/A     35728    C+G   ...35.0_x64__zpdnekdrzrea0\\Spotify.exe      N/A      |\n",
      "|    0   N/A  N/A     36068      C   ...envs\\pneumonia_detection\\python.exe      N/A      |\n",
      "|    0   N/A  N/A     37228    C+G   ...\\cef\\cef.win7x64\\steamwebhelper.exe      N/A      |\n",
      "|    0   N/A  N/A     39940    C+G   ...les\\Microsoft OneDrive\\OneDrive.exe      N/A      |\n",
      "|    0   N/A  N/A     40264      C   ...envs\\pneumonia_detection\\python.exe      N/A      |\n",
      "|    0   N/A  N/A     40648    C+G   ...009.0_x64__8wekyb3d8bbwe\\Photos.exe      N/A      |\n",
      "+-----------------------------------------------------------------------------------------+\n"
     ]
    }
   ],
   "execution_count": 5
  },
  {
   "metadata": {
    "ExecuteTime": {
     "end_time": "2024-11-24T19:04:57.879848Z",
     "start_time": "2024-11-24T18:27:26.410821Z"
    }
   },
   "cell_type": "code",
   "source": [
    "transform = transforms.Compose([\n",
    "    transforms.Resize((224, 224)),\n",
    "    transforms.ToTensor(),\n",
    "    transforms.Normalize(mean=[0.485, 0.456, 0.406], std=[0.229, 0.224, 0.225])\n",
    "])\n",
    "\n",
    "config = Config(\n",
    "    backbone_name=\"resnet50\",\n",
    "    transfer_learning=True,\n",
    "    learning_rate=1e-4,\n",
    "    batch_size=20,\n",
    "    max_epochs=100,\n",
    "    weight_decay=1e-4,\n",
    "    dropout=0.5,\n",
    "    num_workers=31,\n",
    "    model_name=\"ResNet50_transfer\",\n",
    "    version=\"001\",\n",
    "    optimizer_name = \"sgd\"\n",
    ")\n",
    "\n",
    "model = PneumoniaClassifier(config, transform)\n",
    "model.train_model()\n"
   ],
   "id": "d08c054aa7b21aa",
   "outputs": [
    {
     "name": "stderr",
     "output_type": "stream",
     "text": [
      "Using 16bit Automatic Mixed Precision (AMP)\n",
      "GPU available: True (cuda), used: True\n",
      "TPU available: False, using: 0 TPU cores\n",
      "HPU available: False, using: 0 HPUs\n",
      "LOCAL_RANK: 0 - CUDA_VISIBLE_DEVICES: [0]\n",
      "C:\\Users\\aszab\\miniconda3\\envs\\pneumonia_detection\\Lib\\site-packages\\torch\\optim\\lr_scheduler.py:62: UserWarning: The verbose parameter is deprecated. Please use get_last_lr() to access the learning rate.\n",
      "  warnings.warn(\n",
      "\n",
      "  | Name              | Type            | Params | Mode \n",
      "--------------------------------------------------------------\n",
      "0 | accuracy          | BinaryAccuracy  | 0      | train\n",
      "1 | precision         | BinaryPrecision | 0      | train\n",
      "2 | recall            | BinaryRecall    | 0      | train\n",
      "3 | f1                | BinaryF1Score   | 0      | train\n",
      "4 | feature_extractor | Sequential      | 23.5 M | train\n",
      "5 | dropout           | Dropout         | 0      | train\n",
      "6 | classifier        | Linear          | 4.1 K  | train\n",
      "--------------------------------------------------------------\n",
      "4.1 K     Trainable params\n",
      "23.5 M    Non-trainable params\n",
      "23.5 M    Total params\n",
      "94.049    Total estimated model params size (MB)\n",
      "156       Modules in train mode\n",
      "0         Modules in eval mode\n"
     ]
    },
    {
     "name": "stdout",
     "output_type": "stream",
     "text": [
      "Epoch 0: 100%|██████████| 261/261 [01:20<00:00,  3.22it/s, v_num=0]        \n",
      "Validation: |          | 0/? [00:00<?, ?it/s]\u001B[A\n",
      "Validation:   0%|          | 0/1 [00:00<?, ?it/s]\u001B[A\n",
      "Validation DataLoader 0:   0%|          | 0/1 [00:00<?, ?it/s]\u001B[A\n",
      "Validation DataLoader 0: 100%|██████████| 1/1 [00:00<00:00,  3.27it/s]\u001B[A\n",
      "Epoch 0: 100%|██████████| 261/261 [01:21<00:00,  3.19it/s, v_num=0, val_acc_epoch=0.735, val_precision_epoch=0.749, val_recall_epoch=0.967, val_f1_epoch=0.844]"
     ]
    },
    {
     "name": "stderr",
     "output_type": "stream",
     "text": [
      "C:\\Users\\aszab\\miniconda3\\envs\\pneumonia_detection\\Lib\\site-packages\\torchmetrics\\utilities\\prints.py:43: UserWarning: The ``compute`` method of metric BinaryAccuracy was called before the ``update`` method which may lead to errors, as metric states have not yet been updated.\n",
      "  warnings.warn(*args, **kwargs)  # noqa: B028\n",
      "C:\\Users\\aszab\\miniconda3\\envs\\pneumonia_detection\\Lib\\site-packages\\torchmetrics\\utilities\\prints.py:43: UserWarning: The ``compute`` method of metric BinaryPrecision was called before the ``update`` method which may lead to errors, as metric states have not yet been updated.\n",
      "  warnings.warn(*args, **kwargs)  # noqa: B028\n",
      "C:\\Users\\aszab\\miniconda3\\envs\\pneumonia_detection\\Lib\\site-packages\\torchmetrics\\utilities\\prints.py:43: UserWarning: The ``compute`` method of metric BinaryRecall was called before the ``update`` method which may lead to errors, as metric states have not yet been updated.\n",
      "  warnings.warn(*args, **kwargs)  # noqa: B028\n",
      "C:\\Users\\aszab\\miniconda3\\envs\\pneumonia_detection\\Lib\\site-packages\\torchmetrics\\utilities\\prints.py:43: UserWarning: The ``compute`` method of metric BinaryF1Score was called before the ``update`` method which may lead to errors, as metric states have not yet been updated.\n",
      "  warnings.warn(*args, **kwargs)  # noqa: B028\n",
      "Metric val_loss improved. New best score: 0.691\n"
     ]
    },
    {
     "name": "stdout",
     "output_type": "stream",
     "text": [
      "Epoch 1: 100%|██████████| 261/261 [01:25<00:00,  3.06it/s, v_num=0, val_acc_epoch=0.735, val_precision_epoch=0.749, val_recall_epoch=0.967, val_f1_epoch=0.844, train_acc_epoch=0.000, train_precision_epoch=0.000, train_recall_epoch=0.000, train_f1_epoch=0.000]\n",
      "Validation: |          | 0/? [00:00<?, ?it/s]\u001B[A\n",
      "Validation:   0%|          | 0/1 [00:00<?, ?it/s]\u001B[A\n",
      "Validation DataLoader 0:   0%|          | 0/1 [00:00<?, ?it/s]\u001B[A\n",
      "Validation DataLoader 0: 100%|██████████| 1/1 [00:00<00:00,  2.73it/s]\u001B[A\n",
      "Epoch 1: 100%|██████████| 261/261 [01:26<00:00,  3.03it/s, v_num=0, val_acc_epoch=0.808, val_precision_epoch=0.803, val_recall_epoch=0.983, val_f1_epoch=0.884, train_acc_epoch=0.000, train_precision_epoch=0.000, train_recall_epoch=0.000, train_f1_epoch=0.000]"
     ]
    },
    {
     "name": "stderr",
     "output_type": "stream",
     "text": [
      "Metric val_loss improved by 0.054 >= min_delta = 0.0. New best score: 0.636\n"
     ]
    },
    {
     "name": "stdout",
     "output_type": "stream",
     "text": [
      "Epoch 2: 100%|██████████| 261/261 [01:25<00:00,  3.06it/s, v_num=0, val_acc_epoch=0.808, val_precision_epoch=0.803, val_recall_epoch=0.983, val_f1_epoch=0.884, train_acc_epoch=0.000, train_precision_epoch=0.000, train_recall_epoch=0.000, train_f1_epoch=0.000]\n",
      "Validation: |          | 0/? [00:00<?, ?it/s]\u001B[A\n",
      "Validation:   0%|          | 0/1 [00:00<?, ?it/s]\u001B[A\n",
      "Validation DataLoader 0:   0%|          | 0/1 [00:00<?, ?it/s]\u001B[A\n",
      "Validation DataLoader 0: 100%|██████████| 1/1 [00:00<00:00,  3.15it/s]\u001B[A\n",
      "Epoch 2: 100%|██████████| 261/261 [01:26<00:00,  3.03it/s, v_num=0, val_acc_epoch=0.853, val_precision_epoch=0.852, val_recall_epoch=0.971, val_f1_epoch=0.908, train_acc_epoch=0.000, train_precision_epoch=0.000, train_recall_epoch=0.000, train_f1_epoch=0.000]"
     ]
    },
    {
     "name": "stderr",
     "output_type": "stream",
     "text": [
      "Metric val_loss improved by 0.065 >= min_delta = 0.0. New best score: 0.571\n"
     ]
    },
    {
     "name": "stdout",
     "output_type": "stream",
     "text": [
      "Epoch 3: 100%|██████████| 261/261 [01:23<00:00,  3.12it/s, v_num=0, val_acc_epoch=0.853, val_precision_epoch=0.852, val_recall_epoch=0.971, val_f1_epoch=0.908, train_acc_epoch=0.000, train_precision_epoch=0.000, train_recall_epoch=0.000, train_f1_epoch=0.000]\n",
      "Validation: |          | 0/? [00:00<?, ?it/s]\u001B[A\n",
      "Validation:   0%|          | 0/1 [00:00<?, ?it/s]\u001B[A\n",
      "Validation DataLoader 0:   0%|          | 0/1 [00:00<?, ?it/s]\u001B[A\n",
      "Validation DataLoader 0: 100%|██████████| 1/1 [00:00<00:00,  2.79it/s]\u001B[A\n",
      "Epoch 3: 100%|██████████| 261/261 [01:24<00:00,  3.09it/s, v_num=0, val_acc_epoch=0.874, val_precision_epoch=0.883, val_recall_epoch=0.957, val_f1_epoch=0.918, train_acc_epoch=0.000, train_precision_epoch=0.000, train_recall_epoch=0.000, train_f1_epoch=0.000]"
     ]
    },
    {
     "name": "stderr",
     "output_type": "stream",
     "text": [
      "Metric val_loss improved by 0.016 >= min_delta = 0.0. New best score: 0.555\n"
     ]
    },
    {
     "name": "stdout",
     "output_type": "stream",
     "text": [
      "Epoch 4: 100%|██████████| 261/261 [01:24<00:00,  3.10it/s, v_num=0, val_acc_epoch=0.874, val_precision_epoch=0.883, val_recall_epoch=0.957, val_f1_epoch=0.918, train_acc_epoch=0.000, train_precision_epoch=0.000, train_recall_epoch=0.000, train_f1_epoch=0.000]\n",
      "Validation: |          | 0/? [00:00<?, ?it/s]\u001B[A\n",
      "Validation:   0%|          | 0/1 [00:00<?, ?it/s]\u001B[A\n",
      "Validation DataLoader 0:   0%|          | 0/1 [00:00<?, ?it/s]\u001B[A\n",
      "Validation DataLoader 0: 100%|██████████| 1/1 [00:00<00:00,  2.84it/s]\u001B[A\n",
      "Epoch 4: 100%|██████████| 261/261 [01:25<00:00,  3.07it/s, v_num=0, val_acc_epoch=0.888, val_precision_epoch=0.896, val_recall_epoch=0.961, val_f1_epoch=0.927, train_acc_epoch=0.000, train_precision_epoch=0.000, train_recall_epoch=0.000, train_f1_epoch=0.000]"
     ]
    },
    {
     "name": "stderr",
     "output_type": "stream",
     "text": [
      "Metric val_loss improved by 0.029 >= min_delta = 0.0. New best score: 0.526\n"
     ]
    },
    {
     "name": "stdout",
     "output_type": "stream",
     "text": [
      "Epoch 5: 100%|██████████| 261/261 [01:24<00:00,  3.10it/s, v_num=0, val_acc_epoch=0.888, val_precision_epoch=0.896, val_recall_epoch=0.961, val_f1_epoch=0.927, train_acc_epoch=0.000, train_precision_epoch=0.000, train_recall_epoch=0.000, train_f1_epoch=0.000]\n",
      "Validation: |          | 0/? [00:00<?, ?it/s]\u001B[A\n",
      "Validation:   0%|          | 0/1 [00:00<?, ?it/s]\u001B[A\n",
      "Validation DataLoader 0:   0%|          | 0/1 [00:00<?, ?it/s]\u001B[A\n",
      "Validation DataLoader 0: 100%|██████████| 1/1 [00:00<00:00,  3.10it/s]\u001B[A\n",
      "Epoch 5: 100%|██████████| 261/261 [01:25<00:00,  3.07it/s, v_num=0, val_acc_epoch=0.897, val_precision_epoch=0.909, val_recall_epoch=0.958, val_f1_epoch=0.933, train_acc_epoch=0.000, train_precision_epoch=0.000, train_recall_epoch=0.000, train_f1_epoch=0.000]"
     ]
    },
    {
     "name": "stderr",
     "output_type": "stream",
     "text": [
      "Metric val_loss improved by 0.017 >= min_delta = 0.0. New best score: 0.508\n"
     ]
    },
    {
     "name": "stdout",
     "output_type": "stream",
     "text": [
      "Epoch 6: 100%|██████████| 261/261 [01:24<00:00,  3.10it/s, v_num=0, val_acc_epoch=0.897, val_precision_epoch=0.909, val_recall_epoch=0.958, val_f1_epoch=0.933, train_acc_epoch=0.000, train_precision_epoch=0.000, train_recall_epoch=0.000, train_f1_epoch=0.000]\n",
      "Validation: |          | 0/? [00:00<?, ?it/s]\u001B[A\n",
      "Validation:   0%|          | 0/1 [00:00<?, ?it/s]\u001B[A\n",
      "Validation DataLoader 0:   0%|          | 0/1 [00:00<?, ?it/s]\u001B[A\n",
      "Validation DataLoader 0: 100%|██████████| 1/1 [00:00<00:00,  3.45it/s]\u001B[A\n",
      "Epoch 6: 100%|██████████| 261/261 [01:24<00:00,  3.08it/s, v_num=0, val_acc_epoch=0.903, val_precision_epoch=0.914, val_recall_epoch=0.959, val_f1_epoch=0.936, train_acc_epoch=0.000, train_precision_epoch=0.000, train_recall_epoch=0.000, train_f1_epoch=0.000]"
     ]
    },
    {
     "name": "stderr",
     "output_type": "stream",
     "text": [
      "Metric val_loss improved by 0.015 >= min_delta = 0.0. New best score: 0.493\n"
     ]
    },
    {
     "name": "stdout",
     "output_type": "stream",
     "text": [
      "Epoch 7: 100%|██████████| 261/261 [01:25<00:00,  3.04it/s, v_num=0, val_acc_epoch=0.903, val_precision_epoch=0.914, val_recall_epoch=0.959, val_f1_epoch=0.936, train_acc_epoch=0.000, train_precision_epoch=0.000, train_recall_epoch=0.000, train_f1_epoch=0.000]\n",
      "Validation: |          | 0/? [00:00<?, ?it/s]\u001B[A\n",
      "Validation:   0%|          | 0/1 [00:00<?, ?it/s]\u001B[A\n",
      "Validation DataLoader 0:   0%|          | 0/1 [00:00<?, ?it/s]\u001B[A\n",
      "Validation DataLoader 0: 100%|██████████| 1/1 [00:00<00:00,  3.22it/s]\u001B[A\n",
      "Epoch 7: 100%|██████████| 261/261 [01:26<00:00,  3.02it/s, v_num=0, val_acc_epoch=0.902, val_precision_epoch=0.915, val_recall_epoch=0.957, val_f1_epoch=0.936, train_acc_epoch=0.000, train_precision_epoch=0.000, train_recall_epoch=0.000, train_f1_epoch=0.000]"
     ]
    },
    {
     "name": "stderr",
     "output_type": "stream",
     "text": [
      "Metric val_loss improved by 0.012 >= min_delta = 0.0. New best score: 0.482\n"
     ]
    },
    {
     "name": "stdout",
     "output_type": "stream",
     "text": [
      "Epoch 8: 100%|██████████| 261/261 [01:26<00:00,  3.01it/s, v_num=0, val_acc_epoch=0.902, val_precision_epoch=0.915, val_recall_epoch=0.957, val_f1_epoch=0.936, train_acc_epoch=0.000, train_precision_epoch=0.000, train_recall_epoch=0.000, train_f1_epoch=0.000]\n",
      "Validation: |          | 0/? [00:00<?, ?it/s]\u001B[A\n",
      "Validation:   0%|          | 0/1 [00:00<?, ?it/s]\u001B[A\n",
      "Validation DataLoader 0:   0%|          | 0/1 [00:00<?, ?it/s]\u001B[A\n",
      "Validation DataLoader 0: 100%|██████████| 1/1 [00:00<00:00,  2.99it/s]\u001B[A\n",
      "Epoch 8: 100%|██████████| 261/261 [01:27<00:00,  2.98it/s, v_num=0, val_acc_epoch=0.907, val_precision_epoch=0.921, val_recall_epoch=0.956, val_f1_epoch=0.938, train_acc_epoch=0.000, train_precision_epoch=0.000, train_recall_epoch=0.000, train_f1_epoch=0.000]"
     ]
    },
    {
     "name": "stderr",
     "output_type": "stream",
     "text": [
      "Metric val_loss improved by 0.003 >= min_delta = 0.0. New best score: 0.479\n"
     ]
    },
    {
     "name": "stdout",
     "output_type": "stream",
     "text": [
      "Epoch 9: 100%|██████████| 261/261 [01:22<00:00,  3.16it/s, v_num=0, val_acc_epoch=0.907, val_precision_epoch=0.921, val_recall_epoch=0.956, val_f1_epoch=0.938, train_acc_epoch=0.000, train_precision_epoch=0.000, train_recall_epoch=0.000, train_f1_epoch=0.000]\n",
      "Validation: |          | 0/? [00:00<?, ?it/s]\u001B[A\n",
      "Validation:   0%|          | 0/1 [00:00<?, ?it/s]\u001B[A\n",
      "Validation DataLoader 0:   0%|          | 0/1 [00:00<?, ?it/s]\u001B[A\n",
      "Validation DataLoader 0: 100%|██████████| 1/1 [00:00<00:00,  2.78it/s]\u001B[A\n",
      "Epoch 9: 100%|██████████| 261/261 [01:23<00:00,  3.13it/s, v_num=0, val_acc_epoch=0.909, val_precision_epoch=0.924, val_recall_epoch=0.955, val_f1_epoch=0.939, train_acc_epoch=0.000, train_precision_epoch=0.000, train_recall_epoch=0.000, train_f1_epoch=0.000]"
     ]
    },
    {
     "name": "stderr",
     "output_type": "stream",
     "text": [
      "Metric val_loss improved by 0.011 >= min_delta = 0.0. New best score: 0.468\n"
     ]
    },
    {
     "name": "stdout",
     "output_type": "stream",
     "text": [
      "Epoch 10: 100%|██████████| 261/261 [01:24<00:00,  3.08it/s, v_num=0, val_acc_epoch=0.909, val_precision_epoch=0.924, val_recall_epoch=0.955, val_f1_epoch=0.939, train_acc_epoch=0.000, train_precision_epoch=0.000, train_recall_epoch=0.000, train_f1_epoch=0.000]\n",
      "Validation: |          | 0/? [00:00<?, ?it/s]\u001B[A\n",
      "Validation:   0%|          | 0/1 [00:00<?, ?it/s]\u001B[A\n",
      "Validation DataLoader 0:   0%|          | 0/1 [00:00<?, ?it/s]\u001B[A\n",
      "Validation DataLoader 0: 100%|██████████| 1/1 [00:00<00:00,  2.76it/s]\u001B[A\n",
      "Epoch 10: 100%|██████████| 261/261 [01:25<00:00,  3.06it/s, v_num=0, val_acc_epoch=0.909, val_precision_epoch=0.926, val_recall_epoch=0.954, val_f1_epoch=0.940, train_acc_epoch=0.000, train_precision_epoch=0.000, train_recall_epoch=0.000, train_f1_epoch=0.000]"
     ]
    },
    {
     "name": "stderr",
     "output_type": "stream",
     "text": [
      "Metric val_loss improved by 0.013 >= min_delta = 0.0. New best score: 0.455\n"
     ]
    },
    {
     "name": "stdout",
     "output_type": "stream",
     "text": [
      "Epoch 11: 100%|██████████| 261/261 [01:24<00:00,  3.10it/s, v_num=0, val_acc_epoch=0.909, val_precision_epoch=0.926, val_recall_epoch=0.954, val_f1_epoch=0.940, train_acc_epoch=0.000, train_precision_epoch=0.000, train_recall_epoch=0.000, train_f1_epoch=0.000]\n",
      "Validation: |          | 0/? [00:00<?, ?it/s]\u001B[A\n",
      "Validation:   0%|          | 0/1 [00:00<?, ?it/s]\u001B[A\n",
      "Validation DataLoader 0:   0%|          | 0/1 [00:00<?, ?it/s]\u001B[A\n",
      "Validation DataLoader 0: 100%|██████████| 1/1 [00:00<00:00,  3.38it/s]\u001B[A\n",
      "Epoch 11: 100%|██████████| 261/261 [01:25<00:00,  3.07it/s, v_num=0, val_acc_epoch=0.912, val_precision_epoch=0.925, val_recall_epoch=0.959, val_f1_epoch=0.942, train_acc_epoch=0.000, train_precision_epoch=0.000, train_recall_epoch=0.000, train_f1_epoch=0.000]"
     ]
    },
    {
     "name": "stderr",
     "output_type": "stream",
     "text": [
      "Metric val_loss improved by 0.009 >= min_delta = 0.0. New best score: 0.446\n"
     ]
    },
    {
     "name": "stdout",
     "output_type": "stream",
     "text": [
      "Epoch 12: 100%|██████████| 261/261 [01:24<00:00,  3.08it/s, v_num=0, val_acc_epoch=0.912, val_precision_epoch=0.925, val_recall_epoch=0.959, val_f1_epoch=0.942, train_acc_epoch=0.000, train_precision_epoch=0.000, train_recall_epoch=0.000, train_f1_epoch=0.000]\n",
      "Validation: |          | 0/? [00:00<?, ?it/s]\u001B[A\n",
      "Validation:   0%|          | 0/1 [00:00<?, ?it/s]\u001B[A\n",
      "Validation DataLoader 0:   0%|          | 0/1 [00:00<?, ?it/s]\u001B[A\n",
      "Validation DataLoader 0: 100%|██████████| 1/1 [00:00<00:00,  3.32it/s]\u001B[A\n",
      "Epoch 13: 100%|██████████| 261/261 [01:23<00:00,  3.13it/s, v_num=0, val_acc_epoch=0.915, val_precision_epoch=0.932, val_recall_epoch=0.955, val_f1_epoch=0.943, train_acc_epoch=0.000, train_precision_epoch=0.000, train_recall_epoch=0.000, train_f1_epoch=0.000]\n",
      "Validation: |          | 0/? [00:00<?, ?it/s]\u001B[A\n",
      "Validation:   0%|          | 0/1 [00:00<?, ?it/s]\u001B[A\n",
      "Validation DataLoader 0:   0%|          | 0/1 [00:00<?, ?it/s]\u001B[A\n",
      "Validation DataLoader 0: 100%|██████████| 1/1 [00:00<00:00,  3.22it/s]\u001B[A\n",
      "Epoch 13: 100%|██████████| 261/261 [01:24<00:00,  3.10it/s, v_num=0, val_acc_epoch=0.916, val_precision_epoch=0.932, val_recall_epoch=0.956, val_f1_epoch=0.944, train_acc_epoch=0.000, train_precision_epoch=0.000, train_recall_epoch=0.000, train_f1_epoch=0.000]"
     ]
    },
    {
     "name": "stderr",
     "output_type": "stream",
     "text": [
      "Metric val_loss improved by 0.004 >= min_delta = 0.0. New best score: 0.442\n"
     ]
    },
    {
     "name": "stdout",
     "output_type": "stream",
     "text": [
      "Epoch 14: 100%|██████████| 261/261 [01:24<00:00,  3.10it/s, v_num=0, val_acc_epoch=0.916, val_precision_epoch=0.932, val_recall_epoch=0.956, val_f1_epoch=0.944, train_acc_epoch=0.000, train_precision_epoch=0.000, train_recall_epoch=0.000, train_f1_epoch=0.000]\n",
      "Validation: |          | 0/? [00:00<?, ?it/s]\u001B[A\n",
      "Validation:   0%|          | 0/1 [00:00<?, ?it/s]\u001B[A\n",
      "Validation DataLoader 0:   0%|          | 0/1 [00:00<?, ?it/s]\u001B[A\n",
      "Validation DataLoader 0: 100%|██████████| 1/1 [00:00<00:00,  3.39it/s]\u001B[A\n",
      "Epoch 14: 100%|██████████| 261/261 [01:24<00:00,  3.07it/s, v_num=0, val_acc_epoch=0.916, val_precision_epoch=0.933, val_recall_epoch=0.956, val_f1_epoch=0.944, train_acc_epoch=0.000, train_precision_epoch=0.000, train_recall_epoch=0.000, train_f1_epoch=0.000]"
     ]
    },
    {
     "name": "stderr",
     "output_type": "stream",
     "text": [
      "Metric val_loss improved by 0.010 >= min_delta = 0.0. New best score: 0.432\n"
     ]
    },
    {
     "name": "stdout",
     "output_type": "stream",
     "text": [
      "Epoch 15: 100%|██████████| 261/261 [01:24<00:00,  3.08it/s, v_num=0, val_acc_epoch=0.916, val_precision_epoch=0.933, val_recall_epoch=0.956, val_f1_epoch=0.944, train_acc_epoch=0.000, train_precision_epoch=0.000, train_recall_epoch=0.000, train_f1_epoch=0.000]\n",
      "Validation: |          | 0/? [00:00<?, ?it/s]\u001B[A\n",
      "Validation:   0%|          | 0/1 [00:00<?, ?it/s]\u001B[A\n",
      "Validation DataLoader 0:   0%|          | 0/1 [00:00<?, ?it/s]\u001B[A\n",
      "Validation DataLoader 0: 100%|██████████| 1/1 [00:00<00:00,  3.40it/s]\u001B[A\n",
      "Epoch 16: 100%|██████████| 261/261 [01:24<00:00,  3.10it/s, v_num=0, val_acc_epoch=0.918, val_precision_epoch=0.936, val_recall_epoch=0.955, val_f1_epoch=0.946, train_acc_epoch=0.000, train_precision_epoch=0.000, train_recall_epoch=0.000, train_f1_epoch=0.000]\n",
      "Validation: |          | 0/? [00:00<?, ?it/s]\u001B[A\n",
      "Validation:   0%|          | 0/1 [00:00<?, ?it/s]\u001B[A\n",
      "Validation DataLoader 0:   0%|          | 0/1 [00:00<?, ?it/s]\u001B[A\n",
      "Validation DataLoader 0: 100%|██████████| 1/1 [00:00<00:00,  2.89it/s]\u001B[A\n",
      "Epoch 16: 100%|██████████| 261/261 [01:25<00:00,  3.07it/s, v_num=0, val_acc_epoch=0.918, val_precision_epoch=0.935, val_recall_epoch=0.957, val_f1_epoch=0.946, train_acc_epoch=0.000, train_precision_epoch=0.000, train_recall_epoch=0.000, train_f1_epoch=0.000]"
     ]
    },
    {
     "name": "stderr",
     "output_type": "stream",
     "text": [
      "Metric val_loss improved by 0.013 >= min_delta = 0.0. New best score: 0.420\n"
     ]
    },
    {
     "name": "stdout",
     "output_type": "stream",
     "text": [
      "Epoch 17: 100%|██████████| 261/261 [01:25<00:00,  3.07it/s, v_num=0, val_acc_epoch=0.918, val_precision_epoch=0.935, val_recall_epoch=0.957, val_f1_epoch=0.946, train_acc_epoch=0.000, train_precision_epoch=0.000, train_recall_epoch=0.000, train_f1_epoch=0.000]\n",
      "Validation: |          | 0/? [00:00<?, ?it/s]\u001B[A\n",
      "Validation:   0%|          | 0/1 [00:00<?, ?it/s]\u001B[A\n",
      "Validation DataLoader 0:   0%|          | 0/1 [00:00<?, ?it/s]\u001B[A\n",
      "Validation DataLoader 0: 100%|██████████| 1/1 [00:00<00:00,  2.76it/s]\u001B[A\n",
      "Epoch 17: 100%|██████████| 261/261 [01:25<00:00,  3.04it/s, v_num=0, val_acc_epoch=0.920, val_precision_epoch=0.938, val_recall_epoch=0.955, val_f1_epoch=0.947, train_acc_epoch=0.000, train_precision_epoch=0.000, train_recall_epoch=0.000, train_f1_epoch=0.000]"
     ]
    },
    {
     "name": "stderr",
     "output_type": "stream",
     "text": [
      "Metric val_loss improved by 0.005 >= min_delta = 0.0. New best score: 0.414\n"
     ]
    },
    {
     "name": "stdout",
     "output_type": "stream",
     "text": [
      "Epoch 18: 100%|██████████| 261/261 [01:24<00:00,  3.10it/s, v_num=0, val_acc_epoch=0.920, val_precision_epoch=0.938, val_recall_epoch=0.955, val_f1_epoch=0.947, train_acc_epoch=0.000, train_precision_epoch=0.000, train_recall_epoch=0.000, train_f1_epoch=0.000]\n",
      "Validation: |          | 0/? [00:00<?, ?it/s]\u001B[A\n",
      "Validation:   0%|          | 0/1 [00:00<?, ?it/s]\u001B[A\n",
      "Validation DataLoader 0:   0%|          | 0/1 [00:00<?, ?it/s]\u001B[A\n",
      "Validation DataLoader 0: 100%|██████████| 1/1 [00:00<00:00,  3.30it/s]\u001B[A\n",
      "Epoch 19: 100%|██████████| 261/261 [01:23<00:00,  3.14it/s, v_num=0, val_acc_epoch=0.919, val_precision_epoch=0.936, val_recall_epoch=0.956, val_f1_epoch=0.946, train_acc_epoch=0.000, train_precision_epoch=0.000, train_recall_epoch=0.000, train_f1_epoch=0.000]\n",
      "Validation: |          | 0/? [00:00<?, ?it/s]\u001B[A\n",
      "Validation:   0%|          | 0/1 [00:00<?, ?it/s]\u001B[A\n",
      "Validation DataLoader 0:   0%|          | 0/1 [00:00<?, ?it/s]\u001B[A\n",
      "Validation DataLoader 0: 100%|██████████| 1/1 [00:00<00:00,  2.76it/s]\u001B[A\n",
      "Epoch 20: 100%|██████████| 261/261 [01:23<00:00,  3.12it/s, v_num=0, val_acc_epoch=0.922, val_precision_epoch=0.939, val_recall_epoch=0.957, val_f1_epoch=0.948, train_acc_epoch=0.000, train_precision_epoch=0.000, train_recall_epoch=0.000, train_f1_epoch=0.000]\n",
      "Validation: |          | 0/? [00:00<?, ?it/s]\u001B[A\n",
      "Validation:   0%|          | 0/1 [00:00<?, ?it/s]\u001B[A\n",
      "Validation DataLoader 0:   0%|          | 0/1 [00:00<?, ?it/s]\u001B[A\n",
      "Validation DataLoader 0: 100%|██████████| 1/1 [00:00<00:00,  3.70it/s]\u001B[A\n",
      "Epoch 20: 100%|██████████| 261/261 [01:24<00:00,  3.09it/s, v_num=0, val_acc_epoch=0.923, val_precision_epoch=0.940, val_recall_epoch=0.958, val_f1_epoch=0.949, train_acc_epoch=0.000, train_precision_epoch=0.000, train_recall_epoch=0.000, train_f1_epoch=0.000]"
     ]
    },
    {
     "name": "stderr",
     "output_type": "stream",
     "text": [
      "Metric val_loss improved by 0.012 >= min_delta = 0.0. New best score: 0.403\n"
     ]
    },
    {
     "name": "stdout",
     "output_type": "stream",
     "text": [
      "Epoch 21: 100%|██████████| 261/261 [01:23<00:00,  3.14it/s, v_num=0, val_acc_epoch=0.923, val_precision_epoch=0.940, val_recall_epoch=0.958, val_f1_epoch=0.949, train_acc_epoch=0.000, train_precision_epoch=0.000, train_recall_epoch=0.000, train_f1_epoch=0.000]\n",
      "Validation: |          | 0/? [00:00<?, ?it/s]\u001B[A\n",
      "Validation:   0%|          | 0/1 [00:00<?, ?it/s]\u001B[A\n",
      "Validation DataLoader 0:   0%|          | 0/1 [00:00<?, ?it/s]\u001B[A\n",
      "Validation DataLoader 0: 100%|██████████| 1/1 [00:00<00:00,  3.45it/s]\u001B[A\n",
      "Epoch 22: 100%|██████████| 261/261 [01:23<00:00,  3.12it/s, v_num=0, val_acc_epoch=0.924, val_precision_epoch=0.941, val_recall_epoch=0.958, val_f1_epoch=0.949, train_acc_epoch=0.000, train_precision_epoch=0.000, train_recall_epoch=0.000, train_f1_epoch=0.000]\n",
      "Validation: |          | 0/? [00:00<?, ?it/s]\u001B[A\n",
      "Validation:   0%|          | 0/1 [00:00<?, ?it/s]\u001B[A\n",
      "Validation DataLoader 0:   0%|          | 0/1 [00:00<?, ?it/s]\u001B[A\n",
      "Validation DataLoader 0: 100%|██████████| 1/1 [00:00<00:00,  5.62it/s]\u001B[A\n",
      "Epoch 23: 100%|██████████| 261/261 [01:23<00:00,  3.14it/s, v_num=0, val_acc_epoch=0.930, val_precision_epoch=0.946, val_recall_epoch=0.961, val_f1_epoch=0.953, train_acc_epoch=0.000, train_precision_epoch=0.000, train_recall_epoch=0.000, train_f1_epoch=0.000]\n",
      "Validation: |          | 0/? [00:00<?, ?it/s]\u001B[A\n",
      "Validation:   0%|          | 0/1 [00:00<?, ?it/s]\u001B[A\n",
      "Validation DataLoader 0:   0%|          | 0/1 [00:00<?, ?it/s]\u001B[A\n",
      "Validation DataLoader 0: 100%|██████████| 1/1 [00:00<00:00,  3.40it/s]\u001B[A\n",
      "Epoch 23: 100%|██████████| 261/261 [01:23<00:00,  3.11it/s, v_num=0, val_acc_epoch=0.918, val_precision_epoch=0.937, val_recall_epoch=0.953, val_f1_epoch=0.945, train_acc_epoch=0.000, train_precision_epoch=0.000, train_recall_epoch=0.000, train_f1_epoch=0.000]"
     ]
    },
    {
     "name": "stderr",
     "output_type": "stream",
     "text": [
      "Monitored metric val_loss did not improve in the last 3 records. Best score: 0.403. Signaling Trainer to stop.\n"
     ]
    },
    {
     "name": "stdout",
     "output_type": "stream",
     "text": [
      "Epoch 23: 100%|██████████| 261/261 [01:23<00:00,  3.11it/s, v_num=0, val_acc_epoch=0.918, val_precision_epoch=0.937, val_recall_epoch=0.953, val_f1_epoch=0.945, train_acc_epoch=0.000, train_precision_epoch=0.000, train_recall_epoch=0.000, train_f1_epoch=0.000]\n"
     ]
    }
   ],
   "execution_count": 6
  },
  {
   "metadata": {
    "ExecuteTime": {
     "end_time": "2024-11-24T19:04:58.839042Z",
     "start_time": "2024-11-24T19:04:58.458040Z"
    }
   },
   "cell_type": "code",
   "source": [
    "checkpoint = torch.load(f\"../checkpoints/{config.model_name}.ckpt\", weights_only=True)\n",
    "\n",
    "# Access the metadata\n",
    "metadata = checkpoint.get(\"metadata\", {})"
   ],
   "id": "d6b8db71d352177f",
   "outputs": [],
   "execution_count": 7
  },
  {
   "metadata": {
    "ExecuteTime": {
     "end_time": "2024-11-24T19:05:26.111074Z",
     "start_time": "2024-11-24T19:04:58.849060Z"
    }
   },
   "cell_type": "code",
   "source": [
    "# Initialize the models\n",
    "model = PneumoniaClassifier(config, transform)\n",
    "# Test the models\n",
    "metadata = model.test_model(f\"../checkpoints/{config.model_name}.ckpt\")\n",
    "\n",
    "# Print the metadata\n",
    "print(metadata)"
   ],
   "id": "b3ada03ddef1ef1a",
   "outputs": [
    {
     "name": "stderr",
     "output_type": "stream",
     "text": [
      "Using 16bit Automatic Mixed Precision (AMP)\n",
      "GPU available: True (cuda), used: True\n",
      "TPU available: False, using: 0 TPU cores\n",
      "HPU available: False, using: 0 HPUs\n",
      "LOCAL_RANK: 0 - CUDA_VISIBLE_DEVICES: [0]\n"
     ]
    },
    {
     "name": "stdout",
     "output_type": "stream",
     "text": [
      "Testing DataLoader 0: 100%|██████████| 32/32 [00:11<00:00,  2.76it/s]\n",
      "────────────────────────────────────────────────────────────────────────────────────────────────────────────────────────\r\n",
      "       Test metric             DataLoader 0\r\n",
      "────────────────────────────────────────────────────────────────────────────────────────────────────────────────────────\r\n",
      "     test_acc_epoch         0.4166666567325592\r\n",
      "      test_acc_step          0.664646327495575\r\n",
      "      test_f1_epoch         0.2540983557701111\r\n",
      "      test_f1_step          0.11128944903612137\r\n",
      "        test_loss           0.7113064527511597\r\n",
      "  test_precision_epoch      0.6326530575752258\r\n",
      "   test_precision_step      0.2386043816804886\r\n",
      "    test_recall_epoch       0.15897436439990997\r\n",
      "    test_recall_step        0.07374874502420425\r\n",
      "────────────────────────────────────────────────────────────────────────────────────────────────────────────────────────\n",
      "None\n"
     ]
    }
   ],
   "execution_count": 8
  },
  {
   "metadata": {
    "ExecuteTime": {
     "end_time": "2024-11-24T20:14:32.609068Z",
     "start_time": "2024-11-24T19:05:26.367256Z"
    }
   },
   "cell_type": "code",
   "source": [
    "transform = transforms.Compose([\n",
    "    transforms.Resize((224, 224)),\n",
    "    transforms.ToTensor(),\n",
    "    transforms.Normalize(mean=[0.485, 0.456, 0.406], std=[0.229, 0.224, 0.225])\n",
    "])\n",
    "\n",
    "config = Config(\n",
    "    backbone_name=\"resnet50\",\n",
    "    transfer_learning=False,\n",
    "    learning_rate=1e-4,\n",
    "    batch_size=20,\n",
    "    max_epochs=100,\n",
    "    weight_decay=1e-4,\n",
    "    dropout=0.5,\n",
    "    num_workers=31,\n",
    "    model_name=\"ResNet50\",\n",
    "    version=\"001\",\n",
    "    optimizer_name = \"sgd\"\n",
    ")\n",
    "\n",
    "model = PneumoniaClassifier(config, transform)\n",
    "model.train_model()\n",
    "\n",
    "checkpoint = torch.load(f\"../checkpoints/{config.model_name}.ckpt\", weights_only=True)\n",
    "\n",
    "# Access the metadata\n",
    "metadata = checkpoint.get(\"metadata\", {})\n",
    "\n",
    "# Initialize the models\n",
    "model = PneumoniaClassifier(config, transform)\n",
    "# Test the models\n",
    "metadata = model.test_model(f\"../checkpoints/{config.model_name}.ckpt\")\n",
    "\n",
    "# Print the metadata\n",
    "print(metadata)"
   ],
   "id": "d56b7a0491598a0a",
   "outputs": [
    {
     "name": "stderr",
     "output_type": "stream",
     "text": [
      "Using 16bit Automatic Mixed Precision (AMP)\n",
      "GPU available: True (cuda), used: True\n",
      "TPU available: False, using: 0 TPU cores\n",
      "HPU available: False, using: 0 HPUs\n",
      "C:\\Users\\aszab\\miniconda3\\envs\\pneumonia_detection\\Lib\\site-packages\\pytorch_lightning\\callbacks\\model_checkpoint.py:654: Checkpoint directory C:\\Users\\aszab\\Documents\\Studium\\Modules\\ComputerScienceProject\\MedicalImaging\\pneumonia_detection\\checkpoints exists and is not empty.\n",
      "LOCAL_RANK: 0 - CUDA_VISIBLE_DEVICES: [0]\n",
      "\n",
      "  | Name              | Type            | Params | Mode \n",
      "--------------------------------------------------------------\n",
      "0 | accuracy          | BinaryAccuracy  | 0      | train\n",
      "1 | precision         | BinaryPrecision | 0      | train\n",
      "2 | recall            | BinaryRecall    | 0      | train\n",
      "3 | f1                | BinaryF1Score   | 0      | train\n",
      "4 | feature_extractor | Sequential      | 23.5 M | train\n",
      "5 | dropout           | Dropout         | 0      | train\n",
      "6 | classifier        | Linear          | 4.1 K  | train\n",
      "--------------------------------------------------------------\n",
      "23.5 M    Trainable params\n",
      "0         Non-trainable params\n",
      "23.5 M    Total params\n",
      "94.049    Total estimated model params size (MB)\n",
      "156       Modules in train mode\n",
      "0         Modules in eval mode\n"
     ]
    },
    {
     "name": "stdout",
     "output_type": "stream",
     "text": [
      "Epoch 0: 100%|██████████| 261/261 [01:30<00:00,  2.90it/s, v_num=0]        \n",
      "Validation: |          | 0/? [00:00<?, ?it/s]\u001B[A\n",
      "Validation:   0%|          | 0/1 [00:00<?, ?it/s]\u001B[A\n",
      "Validation DataLoader 0:   0%|          | 0/1 [00:00<?, ?it/s]\u001B[A\n",
      "Validation DataLoader 0: 100%|██████████| 1/1 [00:00<00:00, 21.74it/s]\u001B[A\n",
      "Epoch 0: 100%|██████████| 261/261 [01:30<00:00,  2.88it/s, v_num=0, val_acc_epoch=0.733, val_precision_epoch=0.749, val_recall_epoch=0.964, val_f1_epoch=0.843]"
     ]
    },
    {
     "name": "stderr",
     "output_type": "stream",
     "text": [
      "Metric val_loss improved. New best score: 0.751\n"
     ]
    },
    {
     "name": "stdout",
     "output_type": "stream",
     "text": [
      "Epoch 1: 100%|██████████| 261/261 [01:30<00:00,  2.87it/s, v_num=0, val_acc_epoch=0.733, val_precision_epoch=0.749, val_recall_epoch=0.964, val_f1_epoch=0.843, train_acc_epoch=0.000, train_precision_epoch=0.000, train_recall_epoch=0.000, train_f1_epoch=0.000]\n",
      "Validation: |          | 0/? [00:00<?, ?it/s]\u001B[A\n",
      "Validation:   0%|          | 0/1 [00:00<?, ?it/s]\u001B[A\n",
      "Validation DataLoader 0:   0%|          | 0/1 [00:00<?, ?it/s]\u001B[A\n",
      "Validation DataLoader 0: 100%|██████████| 1/1 [00:00<00:00,  2.62it/s]\u001B[A\n",
      "Epoch 1: 100%|██████████| 261/261 [01:31<00:00,  2.85it/s, v_num=0, val_acc_epoch=0.806, val_precision_epoch=0.801, val_recall_epoch=0.983, val_f1_epoch=0.882, train_acc_epoch=0.000, train_precision_epoch=0.000, train_recall_epoch=0.000, train_f1_epoch=0.000]"
     ]
    },
    {
     "name": "stderr",
     "output_type": "stream",
     "text": [
      "Metric val_loss improved by 0.089 >= min_delta = 0.0. New best score: 0.662\n"
     ]
    },
    {
     "name": "stdout",
     "output_type": "stream",
     "text": [
      "Epoch 2: 100%|██████████| 261/261 [01:29<00:00,  2.91it/s, v_num=0, val_acc_epoch=0.806, val_precision_epoch=0.801, val_recall_epoch=0.983, val_f1_epoch=0.882, train_acc_epoch=0.000, train_precision_epoch=0.000, train_recall_epoch=0.000, train_f1_epoch=0.000]\n",
      "Validation: |          | 0/? [00:00<?, ?it/s]\u001B[A\n",
      "Validation:   0%|          | 0/1 [00:00<?, ?it/s]\u001B[A\n",
      "Validation DataLoader 0:   0%|          | 0/1 [00:00<?, ?it/s]\u001B[A\n",
      "Validation DataLoader 0: 100%|██████████| 1/1 [00:00<00:00,  2.53it/s]\u001B[A\n",
      "Epoch 2: 100%|██████████| 261/261 [01:30<00:00,  2.88it/s, v_num=0, val_acc_epoch=0.850, val_precision_epoch=0.851, val_recall_epoch=0.968, val_f1_epoch=0.905, train_acc_epoch=0.000, train_precision_epoch=0.000, train_recall_epoch=0.000, train_f1_epoch=0.000]"
     ]
    },
    {
     "name": "stderr",
     "output_type": "stream",
     "text": [
      "Metric val_loss improved by 0.041 >= min_delta = 0.0. New best score: 0.621\n"
     ]
    },
    {
     "name": "stdout",
     "output_type": "stream",
     "text": [
      "Epoch 3: 100%|██████████| 261/261 [01:29<00:00,  2.90it/s, v_num=0, val_acc_epoch=0.850, val_precision_epoch=0.851, val_recall_epoch=0.968, val_f1_epoch=0.905, train_acc_epoch=0.000, train_precision_epoch=0.000, train_recall_epoch=0.000, train_f1_epoch=0.000]\n",
      "Validation: |          | 0/? [00:00<?, ?it/s]\u001B[A\n",
      "Validation:   0%|          | 0/1 [00:00<?, ?it/s]\u001B[A\n",
      "Validation DataLoader 0:   0%|          | 0/1 [00:00<?, ?it/s]\u001B[A\n",
      "Validation DataLoader 0: 100%|██████████| 1/1 [00:00<00:00,  2.58it/s]\u001B[A\n",
      "Epoch 3: 100%|██████████| 261/261 [01:30<00:00,  2.87it/s, v_num=0, val_acc_epoch=0.883, val_precision_epoch=0.891, val_recall_epoch=0.960, val_f1_epoch=0.924, train_acc_epoch=0.000, train_precision_epoch=0.000, train_recall_epoch=0.000, train_f1_epoch=0.000]"
     ]
    },
    {
     "name": "stderr",
     "output_type": "stream",
     "text": [
      "Metric val_loss improved by 0.015 >= min_delta = 0.0. New best score: 0.607\n"
     ]
    },
    {
     "name": "stdout",
     "output_type": "stream",
     "text": [
      "Epoch 4: 100%|██████████| 261/261 [01:29<00:00,  2.91it/s, v_num=0, val_acc_epoch=0.883, val_precision_epoch=0.891, val_recall_epoch=0.960, val_f1_epoch=0.924, train_acc_epoch=0.000, train_precision_epoch=0.000, train_recall_epoch=0.000, train_f1_epoch=0.000]\n",
      "Validation: |          | 0/? [00:00<?, ?it/s]\u001B[A\n",
      "Validation:   0%|          | 0/1 [00:00<?, ?it/s]\u001B[A\n",
      "Validation DataLoader 0:   0%|          | 0/1 [00:00<?, ?it/s]\u001B[A\n",
      "Validation DataLoader 0: 100%|██████████| 1/1 [00:00<00:00,  2.38it/s]\u001B[A\n",
      "Epoch 4: 100%|██████████| 261/261 [01:30<00:00,  2.88it/s, v_num=0, val_acc_epoch=0.882, val_precision_epoch=0.893, val_recall_epoch=0.955, val_f1_epoch=0.923, train_acc_epoch=0.000, train_precision_epoch=0.000, train_recall_epoch=0.000, train_f1_epoch=0.000]"
     ]
    },
    {
     "name": "stderr",
     "output_type": "stream",
     "text": [
      "Metric val_loss improved by 0.049 >= min_delta = 0.0. New best score: 0.558\n"
     ]
    },
    {
     "name": "stdout",
     "output_type": "stream",
     "text": [
      "Epoch 5: 100%|██████████| 261/261 [01:29<00:00,  2.91it/s, v_num=0, val_acc_epoch=0.882, val_precision_epoch=0.893, val_recall_epoch=0.955, val_f1_epoch=0.923, train_acc_epoch=0.000, train_precision_epoch=0.000, train_recall_epoch=0.000, train_f1_epoch=0.000]\n",
      "Validation: |          | 0/? [00:00<?, ?it/s]\u001B[A\n",
      "Validation:   0%|          | 0/1 [00:00<?, ?it/s]\u001B[A\n",
      "Validation DataLoader 0:   0%|          | 0/1 [00:00<?, ?it/s]\u001B[A\n",
      "Validation DataLoader 0: 100%|██████████| 1/1 [00:00<00:00,  2.96it/s]\u001B[A\n",
      "Epoch 5: 100%|██████████| 261/261 [01:30<00:00,  2.88it/s, v_num=0, val_acc_epoch=0.895, val_precision_epoch=0.905, val_recall_epoch=0.960, val_f1_epoch=0.931, train_acc_epoch=0.000, train_precision_epoch=0.000, train_recall_epoch=0.000, train_f1_epoch=0.000]"
     ]
    },
    {
     "name": "stderr",
     "output_type": "stream",
     "text": [
      "Metric val_loss improved by 0.011 >= min_delta = 0.0. New best score: 0.546\n"
     ]
    },
    {
     "name": "stdout",
     "output_type": "stream",
     "text": [
      "Epoch 6: 100%|██████████| 261/261 [01:30<00:00,  2.89it/s, v_num=0, val_acc_epoch=0.895, val_precision_epoch=0.905, val_recall_epoch=0.960, val_f1_epoch=0.931, train_acc_epoch=0.000, train_precision_epoch=0.000, train_recall_epoch=0.000, train_f1_epoch=0.000]\n",
      "Validation: |          | 0/? [00:00<?, ?it/s]\u001B[A\n",
      "Validation:   0%|          | 0/1 [00:00<?, ?it/s]\u001B[A\n",
      "Validation DataLoader 0:   0%|          | 0/1 [00:00<?, ?it/s]\u001B[A\n",
      "Validation DataLoader 0: 100%|██████████| 1/1 [00:00<00:00,  3.51it/s]\u001B[A\n",
      "Epoch 6: 100%|██████████| 261/261 [01:30<00:00,  2.87it/s, v_num=0, val_acc_epoch=0.900, val_precision_epoch=0.912, val_recall_epoch=0.958, val_f1_epoch=0.934, train_acc_epoch=0.000, train_precision_epoch=0.000, train_recall_epoch=0.000, train_f1_epoch=0.000]"
     ]
    },
    {
     "name": "stderr",
     "output_type": "stream",
     "text": [
      "Metric val_loss improved by 0.021 >= min_delta = 0.0. New best score: 0.525\n"
     ]
    },
    {
     "name": "stdout",
     "output_type": "stream",
     "text": [
      "Epoch 7: 100%|██████████| 261/261 [01:29<00:00,  2.92it/s, v_num=0, val_acc_epoch=0.900, val_precision_epoch=0.912, val_recall_epoch=0.958, val_f1_epoch=0.934, train_acc_epoch=0.000, train_precision_epoch=0.000, train_recall_epoch=0.000, train_f1_epoch=0.000]\n",
      "Validation: |          | 0/? [00:00<?, ?it/s]\u001B[A\n",
      "Validation:   0%|          | 0/1 [00:00<?, ?it/s]\u001B[A\n",
      "Validation DataLoader 0:   0%|          | 0/1 [00:00<?, ?it/s]\u001B[A\n",
      "Validation DataLoader 0: 100%|██████████| 1/1 [00:00<00:00,  2.88it/s]\u001B[A\n",
      "Epoch 8: 100%|██████████| 261/261 [01:28<00:00,  2.94it/s, v_num=0, val_acc_epoch=0.905, val_precision_epoch=0.920, val_recall_epoch=0.954, val_f1_epoch=0.937, train_acc_epoch=0.000, train_precision_epoch=0.000, train_recall_epoch=0.000, train_f1_epoch=0.000]\n",
      "Validation: |          | 0/? [00:00<?, ?it/s]\u001B[A\n",
      "Validation:   0%|          | 0/1 [00:00<?, ?it/s]\u001B[A\n",
      "Validation DataLoader 0:   0%|          | 0/1 [00:00<?, ?it/s]\u001B[A\n",
      "Validation DataLoader 0: 100%|██████████| 1/1 [00:00<00:00, 15.38it/s]\u001B[A\n",
      "Epoch 8: 100%|██████████| 261/261 [01:29<00:00,  2.93it/s, v_num=0, val_acc_epoch=0.903, val_precision_epoch=0.916, val_recall_epoch=0.958, val_f1_epoch=0.936, train_acc_epoch=0.000, train_precision_epoch=0.000, train_recall_epoch=0.000, train_f1_epoch=0.000]"
     ]
    },
    {
     "name": "stderr",
     "output_type": "stream",
     "text": [
      "Metric val_loss improved by 0.022 >= min_delta = 0.0. New best score: 0.503\n"
     ]
    },
    {
     "name": "stdout",
     "output_type": "stream",
     "text": [
      "Epoch 9: 100%|██████████| 261/261 [01:29<00:00,  2.91it/s, v_num=0, val_acc_epoch=0.903, val_precision_epoch=0.916, val_recall_epoch=0.958, val_f1_epoch=0.936, train_acc_epoch=0.000, train_precision_epoch=0.000, train_recall_epoch=0.000, train_f1_epoch=0.000]\n",
      "Validation: |          | 0/? [00:00<?, ?it/s]\u001B[A\n",
      "Validation:   0%|          | 0/1 [00:00<?, ?it/s]\u001B[A\n",
      "Validation DataLoader 0:   0%|          | 0/1 [00:00<?, ?it/s]\u001B[A\n",
      "Validation DataLoader 0: 100%|██████████| 1/1 [00:00<00:00,  3.07it/s]\u001B[A\n",
      "Epoch 9: 100%|██████████| 261/261 [01:30<00:00,  2.89it/s, v_num=0, val_acc_epoch=0.911, val_precision_epoch=0.927, val_recall_epoch=0.956, val_f1_epoch=0.941, train_acc_epoch=0.000, train_precision_epoch=0.000, train_recall_epoch=0.000, train_f1_epoch=0.000]"
     ]
    },
    {
     "name": "stderr",
     "output_type": "stream",
     "text": [
      "Metric val_loss improved by 0.018 >= min_delta = 0.0. New best score: 0.485\n"
     ]
    },
    {
     "name": "stdout",
     "output_type": "stream",
     "text": [
      "Epoch 10: 100%|██████████| 261/261 [01:30<00:00,  2.87it/s, v_num=0, val_acc_epoch=0.911, val_precision_epoch=0.927, val_recall_epoch=0.956, val_f1_epoch=0.941, train_acc_epoch=0.000, train_precision_epoch=0.000, train_recall_epoch=0.000, train_f1_epoch=0.000]\n",
      "Validation: |          | 0/? [00:00<?, ?it/s]\u001B[A\n",
      "Validation:   0%|          | 0/1 [00:00<?, ?it/s]\u001B[A\n",
      "Validation DataLoader 0:   0%|          | 0/1 [00:00<?, ?it/s]\u001B[A\n",
      "Validation DataLoader 0: 100%|██████████| 1/1 [00:00<00:00,  3.12it/s]\u001B[A\n",
      "Epoch 10: 100%|██████████| 261/261 [01:31<00:00,  2.85it/s, v_num=0, val_acc_epoch=0.906, val_precision_epoch=0.922, val_recall_epoch=0.954, val_f1_epoch=0.938, train_acc_epoch=0.000, train_precision_epoch=0.000, train_recall_epoch=0.000, train_f1_epoch=0.000]"
     ]
    },
    {
     "name": "stderr",
     "output_type": "stream",
     "text": [
      "Metric val_loss improved by 0.014 >= min_delta = 0.0. New best score: 0.471\n"
     ]
    },
    {
     "name": "stdout",
     "output_type": "stream",
     "text": [
      "Epoch 11: 100%|██████████| 261/261 [01:29<00:00,  2.91it/s, v_num=0, val_acc_epoch=0.906, val_precision_epoch=0.922, val_recall_epoch=0.954, val_f1_epoch=0.938, train_acc_epoch=0.000, train_precision_epoch=0.000, train_recall_epoch=0.000, train_f1_epoch=0.000]\n",
      "Validation: |          | 0/? [00:00<?, ?it/s]\u001B[A\n",
      "Validation:   0%|          | 0/1 [00:00<?, ?it/s]\u001B[A\n",
      "Validation DataLoader 0:   0%|          | 0/1 [00:00<?, ?it/s]\u001B[A\n",
      "Validation DataLoader 0: 100%|██████████| 1/1 [00:00<00:00,  3.43it/s]\u001B[A\n",
      "Epoch 12: 100%|██████████| 261/261 [01:29<00:00,  2.91it/s, v_num=0, val_acc_epoch=0.913, val_precision_epoch=0.928, val_recall_epoch=0.958, val_f1_epoch=0.943, train_acc_epoch=0.000, train_precision_epoch=0.000, train_recall_epoch=0.000, train_f1_epoch=0.000]\n",
      "Validation: |          | 0/? [00:00<?, ?it/s]\u001B[A\n",
      "Validation:   0%|          | 0/1 [00:00<?, ?it/s]\u001B[A\n",
      "Validation DataLoader 0:   0%|          | 0/1 [00:00<?, ?it/s]\u001B[A\n",
      "Validation DataLoader 0: 100%|██████████| 1/1 [00:00<00:00,  2.45it/s]\u001B[A\n",
      "Epoch 13: 100%|██████████| 261/261 [01:29<00:00,  2.90it/s, v_num=0, val_acc_epoch=0.919, val_precision_epoch=0.933, val_recall_epoch=0.960, val_f1_epoch=0.946, train_acc_epoch=0.000, train_precision_epoch=0.000, train_recall_epoch=0.000, train_f1_epoch=0.000]\n",
      "Validation: |          | 0/? [00:00<?, ?it/s]\u001B[A\n",
      "Validation:   0%|          | 0/1 [00:00<?, ?it/s]\u001B[A\n",
      "Validation DataLoader 0:   0%|          | 0/1 [00:00<?, ?it/s]\u001B[A\n",
      "Validation DataLoader 0: 100%|██████████| 1/1 [00:00<00:00,  2.67it/s]\u001B[A\n",
      "Epoch 13: 100%|██████████| 261/261 [01:30<00:00,  2.88it/s, v_num=0, val_acc_epoch=0.914, val_precision_epoch=0.931, val_recall_epoch=0.955, val_f1_epoch=0.943, train_acc_epoch=0.000, train_precision_epoch=0.000, train_recall_epoch=0.000, train_f1_epoch=0.000]"
     ]
    },
    {
     "name": "stderr",
     "output_type": "stream",
     "text": [
      "Metric val_loss improved by 0.011 >= min_delta = 0.0. New best score: 0.460\n"
     ]
    },
    {
     "name": "stdout",
     "output_type": "stream",
     "text": [
      "Epoch 14: 100%|██████████| 261/261 [01:29<00:00,  2.91it/s, v_num=0, val_acc_epoch=0.914, val_precision_epoch=0.931, val_recall_epoch=0.955, val_f1_epoch=0.943, train_acc_epoch=0.000, train_precision_epoch=0.000, train_recall_epoch=0.000, train_f1_epoch=0.000]\n",
      "Validation: |          | 0/? [00:00<?, ?it/s]\u001B[A\n",
      "Validation:   0%|          | 0/1 [00:00<?, ?it/s]\u001B[A\n",
      "Validation DataLoader 0:   0%|          | 0/1 [00:00<?, ?it/s]\u001B[A\n",
      "Validation DataLoader 0: 100%|██████████| 1/1 [00:00<00:00,  2.54it/s]\u001B[A\n",
      "Epoch 15: 100%|██████████| 261/261 [01:29<00:00,  2.92it/s, v_num=0, val_acc_epoch=0.921, val_precision_epoch=0.936, val_recall_epoch=0.959, val_f1_epoch=0.947, train_acc_epoch=0.000, train_precision_epoch=0.000, train_recall_epoch=0.000, train_f1_epoch=0.000]\n",
      "Validation: |          | 0/? [00:00<?, ?it/s]\u001B[A\n",
      "Validation:   0%|          | 0/1 [00:00<?, ?it/s]\u001B[A\n",
      "Validation DataLoader 0:   0%|          | 0/1 [00:00<?, ?it/s]\u001B[A\n",
      "Validation DataLoader 0: 100%|██████████| 1/1 [00:00<00:00,  3.27it/s]\u001B[A\n",
      "Epoch 15: 100%|██████████| 261/261 [01:30<00:00,  2.89it/s, v_num=0, val_acc_epoch=0.917, val_precision_epoch=0.931, val_recall_epoch=0.960, val_f1_epoch=0.945, train_acc_epoch=0.000, train_precision_epoch=0.000, train_recall_epoch=0.000, train_f1_epoch=0.000]"
     ]
    },
    {
     "name": "stderr",
     "output_type": "stream",
     "text": [
      "Metric val_loss improved by 0.023 >= min_delta = 0.0. New best score: 0.437\n"
     ]
    },
    {
     "name": "stdout",
     "output_type": "stream",
     "text": [
      "Epoch 16: 100%|██████████| 261/261 [01:29<00:00,  2.91it/s, v_num=0, val_acc_epoch=0.917, val_precision_epoch=0.931, val_recall_epoch=0.960, val_f1_epoch=0.945, train_acc_epoch=0.000, train_precision_epoch=0.000, train_recall_epoch=0.000, train_f1_epoch=0.000]\n",
      "Validation: |          | 0/? [00:00<?, ?it/s]\u001B[A\n",
      "Validation:   0%|          | 0/1 [00:00<?, ?it/s]\u001B[A\n",
      "Validation DataLoader 0:   0%|          | 0/1 [00:00<?, ?it/s]\u001B[A\n",
      "Validation DataLoader 0: 100%|██████████| 1/1 [00:00<00:00,  2.67it/s]\u001B[A\n",
      "Epoch 17: 100%|██████████| 261/261 [01:30<00:00,  2.88it/s, v_num=0, val_acc_epoch=0.920, val_precision_epoch=0.938, val_recall_epoch=0.954, val_f1_epoch=0.946, train_acc_epoch=0.000, train_precision_epoch=0.000, train_recall_epoch=0.000, train_f1_epoch=0.000]\n",
      "Validation: |          | 0/? [00:00<?, ?it/s]\u001B[A\n",
      "Validation:   0%|          | 0/1 [00:00<?, ?it/s]\u001B[A\n",
      "Validation DataLoader 0:   0%|          | 0/1 [00:00<?, ?it/s]\u001B[A\n",
      "Validation DataLoader 0: 100%|██████████| 1/1 [00:00<00:00,  2.65it/s]\u001B[A\n",
      "Epoch 18: 100%|██████████| 261/261 [01:29<00:00,  2.92it/s, v_num=0, val_acc_epoch=0.917, val_precision_epoch=0.935, val_recall_epoch=0.954, val_f1_epoch=0.945, train_acc_epoch=0.000, train_precision_epoch=0.000, train_recall_epoch=0.000, train_f1_epoch=0.000]\n",
      "Validation: |          | 0/? [00:00<?, ?it/s]\u001B[A\n",
      "Validation:   0%|          | 0/1 [00:00<?, ?it/s]\u001B[A\n",
      "Validation DataLoader 0:   0%|          | 0/1 [00:00<?, ?it/s]\u001B[A\n",
      "Validation DataLoader 0: 100%|██████████| 1/1 [00:00<00:00,  2.60it/s]\u001B[A\n",
      "Epoch 18: 100%|██████████| 261/261 [01:30<00:00,  2.89it/s, v_num=0, val_acc_epoch=0.918, val_precision_epoch=0.934, val_recall_epoch=0.958, val_f1_epoch=0.945, train_acc_epoch=0.000, train_precision_epoch=0.000, train_recall_epoch=0.000, train_f1_epoch=0.000]"
     ]
    },
    {
     "name": "stderr",
     "output_type": "stream",
     "text": [
      "Metric val_loss improved by 0.005 >= min_delta = 0.0. New best score: 0.432\n"
     ]
    },
    {
     "name": "stdout",
     "output_type": "stream",
     "text": [
      "Epoch 19: 100%|██████████| 261/261 [01:30<00:00,  2.90it/s, v_num=0, val_acc_epoch=0.918, val_precision_epoch=0.934, val_recall_epoch=0.958, val_f1_epoch=0.945, train_acc_epoch=0.000, train_precision_epoch=0.000, train_recall_epoch=0.000, train_f1_epoch=0.000]\n",
      "Validation: |          | 0/? [00:00<?, ?it/s]\u001B[A\n",
      "Validation:   0%|          | 0/1 [00:00<?, ?it/s]\u001B[A\n",
      "Validation DataLoader 0:   0%|          | 0/1 [00:00<?, ?it/s]\u001B[A\n",
      "Validation DataLoader 0: 100%|██████████| 1/1 [00:00<00:00,  6.94it/s]\u001B[A\n",
      "Epoch 20: 100%|██████████| 261/261 [01:30<00:00,  2.87it/s, v_num=0, val_acc_epoch=0.923, val_precision_epoch=0.942, val_recall_epoch=0.955, val_f1_epoch=0.948, train_acc_epoch=0.000, train_precision_epoch=0.000, train_recall_epoch=0.000, train_f1_epoch=0.000]\n",
      "Validation: |          | 0/? [00:00<?, ?it/s]\u001B[A\n",
      "Validation:   0%|          | 0/1 [00:00<?, ?it/s]\u001B[A\n",
      "Validation DataLoader 0:   0%|          | 0/1 [00:00<?, ?it/s]\u001B[A\n",
      "Validation DataLoader 0: 100%|██████████| 1/1 [00:00<00:00,  3.39it/s]\u001B[A\n",
      "Epoch 20: 100%|██████████| 261/261 [01:31<00:00,  2.85it/s, v_num=0, val_acc_epoch=0.920, val_precision_epoch=0.940, val_recall_epoch=0.954, val_f1_epoch=0.947, train_acc_epoch=0.000, train_precision_epoch=0.000, train_recall_epoch=0.000, train_f1_epoch=0.000]"
     ]
    },
    {
     "name": "stderr",
     "output_type": "stream",
     "text": [
      "Metric val_loss improved by 0.005 >= min_delta = 0.0. New best score: 0.427\n"
     ]
    },
    {
     "name": "stdout",
     "output_type": "stream",
     "text": [
      "Epoch 21: 100%|██████████| 261/261 [01:30<00:00,  2.89it/s, v_num=0, val_acc_epoch=0.920, val_precision_epoch=0.940, val_recall_epoch=0.954, val_f1_epoch=0.947, train_acc_epoch=0.000, train_precision_epoch=0.000, train_recall_epoch=0.000, train_f1_epoch=0.000]\n",
      "Validation: |          | 0/? [00:00<?, ?it/s]\u001B[A\n",
      "Validation:   0%|          | 0/1 [00:00<?, ?it/s]\u001B[A\n",
      "Validation DataLoader 0:   0%|          | 0/1 [00:00<?, ?it/s]\u001B[A\n",
      "Validation DataLoader 0: 100%|██████████| 1/1 [00:00<00:00,  3.35it/s]\u001B[A\n",
      "Epoch 21: 100%|██████████| 261/261 [01:30<00:00,  2.87it/s, v_num=0, val_acc_epoch=0.919, val_precision_epoch=0.934, val_recall_epoch=0.958, val_f1_epoch=0.946, train_acc_epoch=0.000, train_precision_epoch=0.000, train_recall_epoch=0.000, train_f1_epoch=0.000]"
     ]
    },
    {
     "name": "stderr",
     "output_type": "stream",
     "text": [
      "Metric val_loss improved by 0.012 >= min_delta = 0.0. New best score: 0.415\n"
     ]
    },
    {
     "name": "stdout",
     "output_type": "stream",
     "text": [
      "Epoch 22: 100%|██████████| 261/261 [01:29<00:00,  2.93it/s, v_num=0, val_acc_epoch=0.919, val_precision_epoch=0.934, val_recall_epoch=0.958, val_f1_epoch=0.946, train_acc_epoch=0.000, train_precision_epoch=0.000, train_recall_epoch=0.000, train_f1_epoch=0.000]\n",
      "Validation: |          | 0/? [00:00<?, ?it/s]\u001B[A\n",
      "Validation:   0%|          | 0/1 [00:00<?, ?it/s]\u001B[A\n",
      "Validation DataLoader 0:   0%|          | 0/1 [00:00<?, ?it/s]\u001B[A\n",
      "Validation DataLoader 0: 100%|██████████| 1/1 [00:00<00:00,  3.56it/s]\u001B[A\n",
      "Epoch 23: 100%|██████████| 261/261 [01:30<00:00,  2.89it/s, v_num=0, val_acc_epoch=0.921, val_precision_epoch=0.942, val_recall_epoch=0.952, val_f1_epoch=0.947, train_acc_epoch=0.000, train_precision_epoch=0.000, train_recall_epoch=0.000, train_f1_epoch=0.000]\n",
      "Validation: |          | 0/? [00:00<?, ?it/s]\u001B[A\n",
      "Validation:   0%|          | 0/1 [00:00<?, ?it/s]\u001B[A\n",
      "Validation DataLoader 0:   0%|          | 0/1 [00:00<?, ?it/s]\u001B[A\n",
      "Validation DataLoader 0: 100%|██████████| 1/1 [00:00<00:00,  2.94it/s]\u001B[A\n",
      "Epoch 24: 100%|██████████| 261/261 [01:30<00:00,  2.89it/s, v_num=0, val_acc_epoch=0.925, val_precision_epoch=0.941, val_recall_epoch=0.958, val_f1_epoch=0.950, train_acc_epoch=0.000, train_precision_epoch=0.000, train_recall_epoch=0.000, train_f1_epoch=0.000]\n",
      "Validation: |          | 0/? [00:00<?, ?it/s]\u001B[A\n",
      "Validation:   0%|          | 0/1 [00:00<?, ?it/s]\u001B[A\n",
      "Validation DataLoader 0:   0%|          | 0/1 [00:00<?, ?it/s]\u001B[A\n",
      "Validation DataLoader 0: 100%|██████████| 1/1 [00:00<00:00,  3.83it/s]\u001B[A\n",
      "Epoch 24: 100%|██████████| 261/261 [01:30<00:00,  2.87it/s, v_num=0, val_acc_epoch=0.926, val_precision_epoch=0.941, val_recall_epoch=0.960, val_f1_epoch=0.950, train_acc_epoch=0.000, train_precision_epoch=0.000, train_recall_epoch=0.000, train_f1_epoch=0.000]"
     ]
    },
    {
     "name": "stderr",
     "output_type": "stream",
     "text": [
      "Metric val_loss improved by 0.001 >= min_delta = 0.0. New best score: 0.414\n"
     ]
    },
    {
     "name": "stdout",
     "output_type": "stream",
     "text": [
      "Epoch 25: 100%|██████████| 261/261 [01:29<00:00,  2.93it/s, v_num=0, val_acc_epoch=0.926, val_precision_epoch=0.941, val_recall_epoch=0.960, val_f1_epoch=0.950, train_acc_epoch=0.000, train_precision_epoch=0.000, train_recall_epoch=0.000, train_f1_epoch=0.000]\n",
      "Validation: |          | 0/? [00:00<?, ?it/s]\u001B[A\n",
      "Validation:   0%|          | 0/1 [00:00<?, ?it/s]\u001B[A\n",
      "Validation DataLoader 0:   0%|          | 0/1 [00:00<?, ?it/s]\u001B[A\n",
      "Validation DataLoader 0: 100%|██████████| 1/1 [00:00<00:00,  3.19it/s]\u001B[A\n",
      "Epoch 25: 100%|██████████| 261/261 [01:29<00:00,  2.91it/s, v_num=0, val_acc_epoch=0.927, val_precision_epoch=0.942, val_recall_epoch=0.961, val_f1_epoch=0.951, train_acc_epoch=0.000, train_precision_epoch=0.000, train_recall_epoch=0.000, train_f1_epoch=0.000]"
     ]
    },
    {
     "name": "stderr",
     "output_type": "stream",
     "text": [
      "Metric val_loss improved by 0.003 >= min_delta = 0.0. New best score: 0.411\n"
     ]
    },
    {
     "name": "stdout",
     "output_type": "stream",
     "text": [
      "Epoch 26: 100%|██████████| 261/261 [01:30<00:00,  2.90it/s, v_num=0, val_acc_epoch=0.927, val_precision_epoch=0.942, val_recall_epoch=0.961, val_f1_epoch=0.951, train_acc_epoch=0.000, train_precision_epoch=0.000, train_recall_epoch=0.000, train_f1_epoch=0.000]\n",
      "Validation: |          | 0/? [00:00<?, ?it/s]\u001B[A\n",
      "Validation:   0%|          | 0/1 [00:00<?, ?it/s]\u001B[A\n",
      "Validation DataLoader 0:   0%|          | 0/1 [00:00<?, ?it/s]\u001B[A\n",
      "Validation DataLoader 0: 100%|██████████| 1/1 [00:00<00:00,  2.66it/s]\u001B[A\n",
      "Epoch 27: 100%|██████████| 261/261 [01:29<00:00,  2.91it/s, v_num=0, val_acc_epoch=0.927, val_precision_epoch=0.943, val_recall_epoch=0.960, val_f1_epoch=0.951, train_acc_epoch=0.000, train_precision_epoch=0.000, train_recall_epoch=0.000, train_f1_epoch=0.000]\n",
      "Validation: |          | 0/? [00:00<?, ?it/s]\u001B[A\n",
      "Validation:   0%|          | 0/1 [00:00<?, ?it/s]\u001B[A\n",
      "Validation DataLoader 0:   0%|          | 0/1 [00:00<?, ?it/s]\u001B[A\n",
      "Validation DataLoader 0: 100%|██████████| 1/1 [00:00<00:00,  2.78it/s]\u001B[A\n",
      "Epoch 27: 100%|██████████| 261/261 [01:30<00:00,  2.89it/s, v_num=0, val_acc_epoch=0.924, val_precision_epoch=0.939, val_recall_epoch=0.960, val_f1_epoch=0.950, train_acc_epoch=0.000, train_precision_epoch=0.000, train_recall_epoch=0.000, train_f1_epoch=0.000]"
     ]
    },
    {
     "name": "stderr",
     "output_type": "stream",
     "text": [
      "Metric val_loss improved by 0.002 >= min_delta = 0.0. New best score: 0.408\n"
     ]
    },
    {
     "name": "stdout",
     "output_type": "stream",
     "text": [
      "Epoch 28: 100%|██████████| 261/261 [01:30<00:00,  2.87it/s, v_num=0, val_acc_epoch=0.924, val_precision_epoch=0.939, val_recall_epoch=0.960, val_f1_epoch=0.950, train_acc_epoch=0.000, train_precision_epoch=0.000, train_recall_epoch=0.000, train_f1_epoch=0.000]\n",
      "Validation: |          | 0/? [00:00<?, ?it/s]\u001B[A\n",
      "Validation:   0%|          | 0/1 [00:00<?, ?it/s]\u001B[A\n",
      "Validation DataLoader 0:   0%|          | 0/1 [00:00<?, ?it/s]\u001B[A\n",
      "Validation DataLoader 0: 100%|██████████| 1/1 [00:00<00:00,  2.96it/s]\u001B[A\n",
      "Epoch 29: 100%|██████████| 261/261 [01:29<00:00,  2.90it/s, v_num=0, val_acc_epoch=0.923, val_precision_epoch=0.940, val_recall_epoch=0.958, val_f1_epoch=0.949, train_acc_epoch=0.000, train_precision_epoch=0.000, train_recall_epoch=0.000, train_f1_epoch=0.000]\n",
      "Validation: |          | 0/? [00:00<?, ?it/s]\u001B[A\n",
      "Validation:   0%|          | 0/1 [00:00<?, ?it/s]\u001B[A\n",
      "Validation DataLoader 0:   0%|          | 0/1 [00:00<?, ?it/s]\u001B[A\n",
      "Validation DataLoader 0: 100%|██████████| 1/1 [00:00<00:00,  2.63it/s]\u001B[A\n",
      "Epoch 30: 100%|██████████| 261/261 [01:30<00:00,  2.89it/s, v_num=0, val_acc_epoch=0.929, val_precision_epoch=0.945, val_recall_epoch=0.960, val_f1_epoch=0.953, train_acc_epoch=0.000, train_precision_epoch=0.000, train_recall_epoch=0.000, train_f1_epoch=0.000]\n",
      "Validation: |          | 0/? [00:00<?, ?it/s]\u001B[A\n",
      "Validation:   0%|          | 0/1 [00:00<?, ?it/s]\u001B[A\n",
      "Validation DataLoader 0:   0%|          | 0/1 [00:00<?, ?it/s]\u001B[A\n",
      "Validation DataLoader 0: 100%|██████████| 1/1 [00:00<00:00,  6.10it/s]\u001B[A\n",
      "Epoch 30: 100%|██████████| 261/261 [01:30<00:00,  2.87it/s, v_num=0, val_acc_epoch=0.929, val_precision_epoch=0.946, val_recall_epoch=0.959, val_f1_epoch=0.952, train_acc_epoch=0.000, train_precision_epoch=0.000, train_recall_epoch=0.000, train_f1_epoch=0.000]"
     ]
    },
    {
     "name": "stderr",
     "output_type": "stream",
     "text": [
      "Metric val_loss improved by 0.003 >= min_delta = 0.0. New best score: 0.405\n"
     ]
    },
    {
     "name": "stdout",
     "output_type": "stream",
     "text": [
      "Epoch 31: 100%|██████████| 261/261 [01:31<00:00,  2.86it/s, v_num=0, val_acc_epoch=0.929, val_precision_epoch=0.946, val_recall_epoch=0.959, val_f1_epoch=0.952, train_acc_epoch=0.000, train_precision_epoch=0.000, train_recall_epoch=0.000, train_f1_epoch=0.000]\n",
      "Validation: |          | 0/? [00:00<?, ?it/s]\u001B[A\n",
      "Validation:   0%|          | 0/1 [00:00<?, ?it/s]\u001B[A\n",
      "Validation DataLoader 0:   0%|          | 0/1 [00:00<?, ?it/s]\u001B[A\n",
      "Validation DataLoader 0: 100%|██████████| 1/1 [00:00<00:00,  8.70it/s]\u001B[A\n",
      "Epoch 32: 100%|██████████| 261/261 [01:29<00:00,  2.90it/s, v_num=0, val_acc_epoch=0.927, val_precision_epoch=0.945, val_recall_epoch=0.958, val_f1_epoch=0.951, train_acc_epoch=0.000, train_precision_epoch=0.000, train_recall_epoch=0.000, train_f1_epoch=0.000]\n",
      "Validation: |          | 0/? [00:00<?, ?it/s]\u001B[A\n",
      "Validation:   0%|          | 0/1 [00:00<?, ?it/s]\u001B[A\n",
      "Validation DataLoader 0:   0%|          | 0/1 [00:00<?, ?it/s]\u001B[A\n",
      "Validation DataLoader 0: 100%|██████████| 1/1 [00:00<00:00,  2.36it/s]\u001B[A\n",
      "Epoch 32: 100%|██████████| 261/261 [01:30<00:00,  2.88it/s, v_num=0, val_acc_epoch=0.932, val_precision_epoch=0.944, val_recall_epoch=0.966, val_f1_epoch=0.955, train_acc_epoch=0.000, train_precision_epoch=0.000, train_recall_epoch=0.000, train_f1_epoch=0.000]"
     ]
    },
    {
     "name": "stderr",
     "output_type": "stream",
     "text": [
      "Metric val_loss improved by 0.013 >= min_delta = 0.0. New best score: 0.392\n"
     ]
    },
    {
     "name": "stdout",
     "output_type": "stream",
     "text": [
      "Epoch 33: 100%|██████████| 261/261 [01:30<00:00,  2.88it/s, v_num=0, val_acc_epoch=0.932, val_precision_epoch=0.944, val_recall_epoch=0.966, val_f1_epoch=0.955, train_acc_epoch=0.000, train_precision_epoch=0.000, train_recall_epoch=0.000, train_f1_epoch=0.000]\n",
      "Validation: |          | 0/? [00:00<?, ?it/s]\u001B[A\n",
      "Validation:   0%|          | 0/1 [00:00<?, ?it/s]\u001B[A\n",
      "Validation DataLoader 0:   0%|          | 0/1 [00:00<?, ?it/s]\u001B[A\n",
      "Validation DataLoader 0: 100%|██████████| 1/1 [00:00<00:00,  2.94it/s]\u001B[A\n",
      "Epoch 33: 100%|██████████| 261/261 [01:31<00:00,  2.86it/s, v_num=0, val_acc_epoch=0.927, val_precision_epoch=0.946, val_recall_epoch=0.956, val_f1_epoch=0.951, train_acc_epoch=0.000, train_precision_epoch=0.000, train_recall_epoch=0.000, train_f1_epoch=0.000]"
     ]
    },
    {
     "name": "stderr",
     "output_type": "stream",
     "text": [
      "Metric val_loss improved by 0.000 >= min_delta = 0.0. New best score: 0.392\n"
     ]
    },
    {
     "name": "stdout",
     "output_type": "stream",
     "text": [
      "Epoch 34: 100%|██████████| 261/261 [01:30<00:00,  2.88it/s, v_num=0, val_acc_epoch=0.927, val_precision_epoch=0.946, val_recall_epoch=0.956, val_f1_epoch=0.951, train_acc_epoch=0.000, train_precision_epoch=0.000, train_recall_epoch=0.000, train_f1_epoch=0.000]\n",
      "Validation: |          | 0/? [00:00<?, ?it/s]\u001B[A\n",
      "Validation:   0%|          | 0/1 [00:00<?, ?it/s]\u001B[A\n",
      "Validation DataLoader 0:   0%|          | 0/1 [00:00<?, ?it/s]\u001B[A\n",
      "Validation DataLoader 0: 100%|██████████| 1/1 [00:00<00:00,  2.61it/s]\u001B[A\n",
      "Epoch 35: 100%|██████████| 261/261 [01:30<00:00,  2.90it/s, v_num=0, val_acc_epoch=0.930, val_precision_epoch=0.947, val_recall_epoch=0.960, val_f1_epoch=0.953, train_acc_epoch=0.000, train_precision_epoch=0.000, train_recall_epoch=0.000, train_f1_epoch=0.000]\n",
      "Validation: |          | 0/? [00:00<?, ?it/s]\u001B[A\n",
      "Validation:   0%|          | 0/1 [00:00<?, ?it/s]\u001B[A\n",
      "Validation DataLoader 0:   0%|          | 0/1 [00:00<?, ?it/s]\u001B[A\n",
      "Validation DataLoader 0: 100%|██████████| 1/1 [00:00<00:00,  2.92it/s]\u001B[A\n",
      "Epoch 36: 100%|██████████| 261/261 [01:30<00:00,  2.87it/s, v_num=0, val_acc_epoch=0.930, val_precision_epoch=0.947, val_recall_epoch=0.960, val_f1_epoch=0.953, train_acc_epoch=0.000, train_precision_epoch=0.000, train_recall_epoch=0.000, train_f1_epoch=0.000]\n",
      "Validation: |          | 0/? [00:00<?, ?it/s]\u001B[A\n",
      "Validation:   0%|          | 0/1 [00:00<?, ?it/s]\u001B[A\n",
      "Validation DataLoader 0:   0%|          | 0/1 [00:00<?, ?it/s]\u001B[A\n",
      "Validation DataLoader 0: 100%|██████████| 1/1 [00:00<00:00,  3.73it/s]\u001B[A\n",
      "Epoch 36: 100%|██████████| 261/261 [01:31<00:00,  2.85it/s, v_num=0, val_acc_epoch=0.932, val_precision_epoch=0.948, val_recall_epoch=0.962, val_f1_epoch=0.955, train_acc_epoch=0.000, train_precision_epoch=0.000, train_recall_epoch=0.000, train_f1_epoch=0.000]"
     ]
    },
    {
     "name": "stderr",
     "output_type": "stream",
     "text": [
      "Metric val_loss improved by 0.005 >= min_delta = 0.0. New best score: 0.388\n"
     ]
    },
    {
     "name": "stdout",
     "output_type": "stream",
     "text": [
      "Epoch 37: 100%|██████████| 261/261 [01:30<00:00,  2.90it/s, v_num=0, val_acc_epoch=0.932, val_precision_epoch=0.948, val_recall_epoch=0.962, val_f1_epoch=0.955, train_acc_epoch=0.000, train_precision_epoch=0.000, train_recall_epoch=0.000, train_f1_epoch=0.000]\n",
      "Validation: |          | 0/? [00:00<?, ?it/s]\u001B[A\n",
      "Validation:   0%|          | 0/1 [00:00<?, ?it/s]\u001B[A\n",
      "Validation DataLoader 0:   0%|          | 0/1 [00:00<?, ?it/s]\u001B[A\n",
      "Validation DataLoader 0: 100%|██████████| 1/1 [00:00<00:00,  3.04it/s]\u001B[A\n",
      "Epoch 38: 100%|██████████| 261/261 [01:29<00:00,  2.92it/s, v_num=0, val_acc_epoch=0.929, val_precision_epoch=0.946, val_recall_epoch=0.960, val_f1_epoch=0.953, train_acc_epoch=0.000, train_precision_epoch=0.000, train_recall_epoch=0.000, train_f1_epoch=0.000]\n",
      "Validation: |          | 0/? [00:00<?, ?it/s]\u001B[A\n",
      "Validation:   0%|          | 0/1 [00:00<?, ?it/s]\u001B[A\n",
      "Validation DataLoader 0:   0%|          | 0/1 [00:00<?, ?it/s]\u001B[A\n",
      "Validation DataLoader 0: 100%|██████████| 1/1 [00:00<00:00,  2.93it/s]\u001B[A\n",
      "Epoch 38: 100%|██████████| 261/261 [01:30<00:00,  2.89it/s, v_num=0, val_acc_epoch=0.931, val_precision_epoch=0.946, val_recall_epoch=0.962, val_f1_epoch=0.954, train_acc_epoch=0.000, train_precision_epoch=0.000, train_recall_epoch=0.000, train_f1_epoch=0.000]"
     ]
    },
    {
     "name": "stderr",
     "output_type": "stream",
     "text": [
      "Metric val_loss improved by 0.000 >= min_delta = 0.0. New best score: 0.387\n"
     ]
    },
    {
     "name": "stdout",
     "output_type": "stream",
     "text": [
      "Epoch 39: 100%|██████████| 261/261 [01:29<00:00,  2.90it/s, v_num=0, val_acc_epoch=0.931, val_precision_epoch=0.946, val_recall_epoch=0.962, val_f1_epoch=0.954, train_acc_epoch=0.000, train_precision_epoch=0.000, train_recall_epoch=0.000, train_f1_epoch=0.000]\n",
      "Validation: |          | 0/? [00:00<?, ?it/s]\u001B[A\n",
      "Validation:   0%|          | 0/1 [00:00<?, ?it/s]\u001B[A\n",
      "Validation DataLoader 0:   0%|          | 0/1 [00:00<?, ?it/s]\u001B[A\n",
      "Validation DataLoader 0: 100%|██████████| 1/1 [00:00<00:00,  3.29it/s]\u001B[A\n",
      "Epoch 39: 100%|██████████| 261/261 [01:30<00:00,  2.88it/s, v_num=0, val_acc_epoch=0.932, val_precision_epoch=0.947, val_recall_epoch=0.962, val_f1_epoch=0.954, train_acc_epoch=0.000, train_precision_epoch=0.000, train_recall_epoch=0.000, train_f1_epoch=0.000]"
     ]
    },
    {
     "name": "stderr",
     "output_type": "stream",
     "text": [
      "Metric val_loss improved by 0.004 >= min_delta = 0.0. New best score: 0.384\n"
     ]
    },
    {
     "name": "stdout",
     "output_type": "stream",
     "text": [
      "Epoch 40: 100%|██████████| 261/261 [01:30<00:00,  2.90it/s, v_num=0, val_acc_epoch=0.932, val_precision_epoch=0.947, val_recall_epoch=0.962, val_f1_epoch=0.954, train_acc_epoch=0.000, train_precision_epoch=0.000, train_recall_epoch=0.000, train_f1_epoch=0.000]\n",
      "Validation: |          | 0/? [00:00<?, ?it/s]\u001B[A\n",
      "Validation:   0%|          | 0/1 [00:00<?, ?it/s]\u001B[A\n",
      "Validation DataLoader 0:   0%|          | 0/1 [00:00<?, ?it/s]\u001B[A\n",
      "Validation DataLoader 0: 100%|██████████| 1/1 [00:00<00:00,  3.51it/s]\u001B[A\n",
      "Epoch 41: 100%|██████████| 261/261 [01:30<00:00,  2.89it/s, v_num=0, val_acc_epoch=0.932, val_precision_epoch=0.949, val_recall_epoch=0.960, val_f1_epoch=0.954, train_acc_epoch=0.000, train_precision_epoch=0.000, train_recall_epoch=0.000, train_f1_epoch=0.000]\n",
      "Validation: |          | 0/? [00:00<?, ?it/s]\u001B[A\n",
      "Validation:   0%|          | 0/1 [00:00<?, ?it/s]\u001B[A\n",
      "Validation DataLoader 0:   0%|          | 0/1 [00:00<?, ?it/s]\u001B[A\n",
      "Validation DataLoader 0: 100%|██████████| 1/1 [00:00<00:00,  3.62it/s]\u001B[A\n",
      "Epoch 42: 100%|██████████| 261/261 [01:29<00:00,  2.92it/s, v_num=0, val_acc_epoch=0.933, val_precision_epoch=0.948, val_recall_epoch=0.962, val_f1_epoch=0.955, train_acc_epoch=0.000, train_precision_epoch=0.000, train_recall_epoch=0.000, train_f1_epoch=0.000]\n",
      "Validation: |          | 0/? [00:00<?, ?it/s]\u001B[A\n",
      "Validation:   0%|          | 0/1 [00:00<?, ?it/s]\u001B[A\n",
      "Validation DataLoader 0:   0%|          | 0/1 [00:00<?, ?it/s]\u001B[A\n",
      "Validation DataLoader 0: 100%|██████████| 1/1 [00:00<00:00,  2.48it/s]\u001B[A\n",
      "Epoch 42: 100%|██████████| 261/261 [01:30<00:00,  2.89it/s, v_num=0, val_acc_epoch=0.934, val_precision_epoch=0.950, val_recall_epoch=0.962, val_f1_epoch=0.956, train_acc_epoch=0.000, train_precision_epoch=0.000, train_recall_epoch=0.000, train_f1_epoch=0.000]"
     ]
    },
    {
     "name": "stderr",
     "output_type": "stream",
     "text": [
      "Monitored metric val_loss did not improve in the last 3 records. Best score: 0.384. Signaling Trainer to stop.\n"
     ]
    },
    {
     "name": "stdout",
     "output_type": "stream",
     "text": [
      "Epoch 42: 100%|██████████| 261/261 [01:30<00:00,  2.89it/s, v_num=0, val_acc_epoch=0.934, val_precision_epoch=0.950, val_recall_epoch=0.962, val_f1_epoch=0.956, train_acc_epoch=0.000, train_precision_epoch=0.000, train_recall_epoch=0.000, train_f1_epoch=0.000]\n"
     ]
    },
    {
     "name": "stderr",
     "output_type": "stream",
     "text": [
      "Using 16bit Automatic Mixed Precision (AMP)\n",
      "GPU available: True (cuda), used: True\n",
      "TPU available: False, using: 0 TPU cores\n",
      "HPU available: False, using: 0 HPUs\n",
      "LOCAL_RANK: 0 - CUDA_VISIBLE_DEVICES: [0]\n"
     ]
    },
    {
     "name": "stdout",
     "output_type": "stream",
     "text": [
      "Testing DataLoader 0: 100%|██████████| 32/32 [00:12<00:00,  2.50it/s]\n",
      "────────────────────────────────────────────────────────────────────────────────────────────────────────────────────────\r\n",
      "       Test metric             DataLoader 0\r\n",
      "────────────────────────────────────────────────────────────────────────────────────────────────────────────────────────\r\n",
      "     test_acc_epoch         0.37339743971824646\r\n",
      "      test_acc_step         0.7227854132652283\r\n",
      "      test_f1_epoch        0.015113350003957748\r\n",
      "      test_f1_step         0.013151109218597412\r\n",
      "        test_loss           0.7556480765342712\r\n",
      "  test_precision_epoch      0.4285714328289032\r\n",
      "   test_precision_step      0.20604389905929565\r\n",
      "    test_recall_epoch      0.007692307699471712\r\n",
      "    test_recall_step       0.006856540217995644\r\n",
      "────────────────────────────────────────────────────────────────────────────────────────────────────────────────────────\n",
      "None\n"
     ]
    }
   ],
   "execution_count": 9
  },
  {
   "metadata": {
    "ExecuteTime": {
     "end_time": "2024-11-25T02:48:56.260658Z",
     "start_time": "2024-11-24T20:14:33.142701Z"
    }
   },
   "cell_type": "code",
   "source": [
    "transform = transforms.Compose([\n",
    "    transforms.Resize((1000, 1000)),\n",
    "    transforms.ToTensor(),\n",
    "    transforms.Normalize(mean=[0.485, 0.456, 0.406], std=[0.229, 0.224, 0.225])\n",
    "])\n",
    "\n",
    "config = Config(\n",
    "    backbone_name=\"resnet50\",\n",
    "    transfer_learning=True,\n",
    "    learning_rate=1e-4,\n",
    "    batch_size=20,\n",
    "    max_epochs=100,\n",
    "    weight_decay=1e-4,\n",
    "    dropout=0.5,\n",
    "    num_workers=31,\n",
    "    model_name=\"ResNet50_transfer_1k\",\n",
    "    version=\"001\",\n",
    "    optimizer_name = \"sgd\"\n",
    ")\n",
    "\n",
    "model = PneumoniaClassifier(config, transform)\n",
    "model.train_model()\n",
    "\n",
    "checkpoint = torch.load(f\"../checkpoints/{config.model_name}.ckpt\", weights_only=True)\n",
    "\n",
    "# Access the metadata\n",
    "metadata = checkpoint.get(\"metadata\", {})\n",
    "\n",
    "# Initialize the models\n",
    "model = PneumoniaClassifier(config, transform)\n",
    "# Test the models\n",
    "metadata = model.test_model(f\"../checkpoints/{config.model_name}.ckpt\")\n",
    "\n",
    "# Print the metadata\n",
    "print(metadata)"
   ],
   "id": "f0297f5c62f5e471",
   "outputs": [
    {
     "name": "stderr",
     "output_type": "stream",
     "text": [
      "Using 16bit Automatic Mixed Precision (AMP)\n",
      "GPU available: True (cuda), used: True\n",
      "TPU available: False, using: 0 TPU cores\n",
      "HPU available: False, using: 0 HPUs\n",
      "LOCAL_RANK: 0 - CUDA_VISIBLE_DEVICES: [0]\n",
      "\n",
      "  | Name              | Type            | Params | Mode \n",
      "--------------------------------------------------------------\n",
      "0 | accuracy          | BinaryAccuracy  | 0      | train\n",
      "1 | precision         | BinaryPrecision | 0      | train\n",
      "2 | recall            | BinaryRecall    | 0      | train\n",
      "3 | f1                | BinaryF1Score   | 0      | train\n",
      "4 | feature_extractor | Sequential      | 23.5 M | train\n",
      "5 | dropout           | Dropout         | 0      | train\n",
      "6 | classifier        | Linear          | 4.1 K  | train\n",
      "--------------------------------------------------------------\n",
      "4.1 K     Trainable params\n",
      "23.5 M    Non-trainable params\n",
      "23.5 M    Total params\n",
      "94.049    Total estimated model params size (MB)\n",
      "156       Modules in train mode\n",
      "0         Modules in eval mode\n"
     ]
    },
    {
     "name": "stdout",
     "output_type": "stream",
     "text": [
      "Epoch 0: 100%|██████████| 261/261 [17:39<00:00,  0.25it/s, v_num=0]        \n",
      "Validation: |          | 0/? [00:00<?, ?it/s]\u001B[A\n",
      "Validation:   0%|          | 0/1 [00:00<?, ?it/s]\u001B[A\n",
      "Validation DataLoader 0:   0%|          | 0/1 [00:00<?, ?it/s]\u001B[A\n",
      "Validation DataLoader 0: 100%|██████████| 1/1 [00:00<00:00,  2.08it/s]\u001B[A\n",
      "Epoch 0: 100%|██████████| 261/261 [17:44<00:00,  0.25it/s, v_num=0, val_acc_epoch=0.739, val_precision_epoch=0.743, val_recall_epoch=0.992, val_f1_epoch=0.850]"
     ]
    },
    {
     "name": "stderr",
     "output_type": "stream",
     "text": [
      "Metric val_loss improved. New best score: 0.772\n"
     ]
    },
    {
     "name": "stdout",
     "output_type": "stream",
     "text": [
      "Epoch 1: 100%|██████████| 261/261 [17:38<00:00,  0.25it/s, v_num=0, val_acc_epoch=0.739, val_precision_epoch=0.743, val_recall_epoch=0.992, val_f1_epoch=0.850, train_acc_epoch=0.000, train_precision_epoch=0.000, train_recall_epoch=0.000, train_f1_epoch=0.000]\n",
      "Validation: |          | 0/? [00:00<?, ?it/s]\u001B[A\n",
      "Validation:   0%|          | 0/1 [00:00<?, ?it/s]\u001B[A\n",
      "Validation DataLoader 0:   0%|          | 0/1 [00:00<?, ?it/s]\u001B[A\n",
      "Validation DataLoader 0: 100%|██████████| 1/1 [00:00<00:00,  4.13it/s]\u001B[A\n",
      "Epoch 2: 100%|██████████| 261/261 [17:33<00:00,  0.25it/s, v_num=0, val_acc_epoch=0.742, val_precision_epoch=0.742, val_recall_epoch=1.000, val_f1_epoch=0.852, train_acc_epoch=0.000, train_precision_epoch=0.000, train_recall_epoch=0.000, train_f1_epoch=0.000]\n",
      "Validation: |          | 0/? [00:00<?, ?it/s]\u001B[A\n",
      "Validation:   0%|          | 0/1 [00:00<?, ?it/s]\u001B[A\n",
      "Validation DataLoader 0:   0%|          | 0/1 [00:00<?, ?it/s]\u001B[A\n",
      "Validation DataLoader 0: 100%|██████████| 1/1 [00:00<00:00,  4.11it/s]\u001B[A\n",
      "Epoch 2: 100%|██████████| 261/261 [17:37<00:00,  0.25it/s, v_num=0, val_acc_epoch=0.742, val_precision_epoch=0.742, val_recall_epoch=1.000, val_f1_epoch=0.852, train_acc_epoch=0.000, train_precision_epoch=0.000, train_recall_epoch=0.000, train_f1_epoch=0.000]"
     ]
    },
    {
     "name": "stderr",
     "output_type": "stream",
     "text": [
      "Metric val_loss improved by 0.017 >= min_delta = 0.0. New best score: 0.755\n"
     ]
    },
    {
     "name": "stdout",
     "output_type": "stream",
     "text": [
      "Epoch 3: 100%|██████████| 261/261 [17:43<00:00,  0.25it/s, v_num=0, val_acc_epoch=0.742, val_precision_epoch=0.742, val_recall_epoch=1.000, val_f1_epoch=0.852, train_acc_epoch=0.000, train_precision_epoch=0.000, train_recall_epoch=0.000, train_f1_epoch=0.000]\n",
      "Validation: |          | 0/? [00:00<?, ?it/s]\u001B[A\n",
      "Validation:   0%|          | 0/1 [00:00<?, ?it/s]\u001B[A\n",
      "Validation DataLoader 0:   0%|          | 0/1 [00:00<?, ?it/s]\u001B[A\n",
      "Validation DataLoader 0: 100%|██████████| 1/1 [00:00<00:00,  4.03it/s]\u001B[A\n",
      "Epoch 3: 100%|██████████| 261/261 [17:45<00:00,  0.24it/s, v_num=0, val_acc_epoch=0.743, val_precision_epoch=0.743, val_recall_epoch=1.000, val_f1_epoch=0.852, train_acc_epoch=0.000, train_precision_epoch=0.000, train_recall_epoch=0.000, train_f1_epoch=0.000]"
     ]
    },
    {
     "name": "stderr",
     "output_type": "stream",
     "text": [
      "Metric val_loss improved by 0.015 >= min_delta = 0.0. New best score: 0.739\n"
     ]
    },
    {
     "name": "stdout",
     "output_type": "stream",
     "text": [
      "Epoch 4: 100%|██████████| 261/261 [17:36<00:00,  0.25it/s, v_num=0, val_acc_epoch=0.743, val_precision_epoch=0.743, val_recall_epoch=1.000, val_f1_epoch=0.852, train_acc_epoch=0.000, train_precision_epoch=0.000, train_recall_epoch=0.000, train_f1_epoch=0.000]\n",
      "Validation: |          | 0/? [00:00<?, ?it/s]\u001B[A\n",
      "Validation:   0%|          | 0/1 [00:00<?, ?it/s]\u001B[A\n",
      "Validation DataLoader 0:   0%|          | 0/1 [00:00<?, ?it/s]\u001B[A\n",
      "Validation DataLoader 0: 100%|██████████| 1/1 [00:00<00:00,  4.17it/s]\u001B[A\n",
      "Epoch 4: 100%|██████████| 261/261 [17:41<00:00,  0.25it/s, v_num=0, val_acc_epoch=0.749, val_precision_epoch=0.747, val_recall_epoch=0.999, val_f1_epoch=0.855, train_acc_epoch=0.000, train_precision_epoch=0.000, train_recall_epoch=0.000, train_f1_epoch=0.000]"
     ]
    },
    {
     "name": "stderr",
     "output_type": "stream",
     "text": [
      "Metric val_loss improved by 0.017 >= min_delta = 0.0. New best score: 0.722\n"
     ]
    },
    {
     "name": "stdout",
     "output_type": "stream",
     "text": [
      "Epoch 5: 100%|██████████| 261/261 [16:42<00:00,  0.26it/s, v_num=0, val_acc_epoch=0.749, val_precision_epoch=0.747, val_recall_epoch=0.999, val_f1_epoch=0.855, train_acc_epoch=0.000, train_precision_epoch=0.000, train_recall_epoch=0.000, train_f1_epoch=0.000]\n",
      "Validation: |          | 0/? [00:00<?, ?it/s]\u001B[A\n",
      "Validation:   0%|          | 0/1 [00:00<?, ?it/s]\u001B[A\n",
      "Validation DataLoader 0:   0%|          | 0/1 [00:00<?, ?it/s]\u001B[A\n",
      "Validation DataLoader 0: 100%|██████████| 1/1 [00:00<00:00,  4.29it/s]\u001B[A\n",
      "Epoch 5: 100%|██████████| 261/261 [16:44<00:00,  0.26it/s, v_num=0, val_acc_epoch=0.764, val_precision_epoch=0.759, val_recall_epoch=0.999, val_f1_epoch=0.863, train_acc_epoch=0.000, train_precision_epoch=0.000, train_recall_epoch=0.000, train_f1_epoch=0.000]"
     ]
    },
    {
     "name": "stderr",
     "output_type": "stream",
     "text": [
      "Metric val_loss improved by 0.003 >= min_delta = 0.0. New best score: 0.719\n"
     ]
    },
    {
     "name": "stdout",
     "output_type": "stream",
     "text": [
      "Epoch 6: 100%|██████████| 261/261 [18:21<00:00,  0.24it/s, v_num=0, val_acc_epoch=0.764, val_precision_epoch=0.759, val_recall_epoch=0.999, val_f1_epoch=0.863, train_acc_epoch=0.000, train_precision_epoch=0.000, train_recall_epoch=0.000, train_f1_epoch=0.000]\n",
      "Validation: |          | 0/? [00:00<?, ?it/s]\u001B[A\n",
      "Validation:   0%|          | 0/1 [00:00<?, ?it/s]\u001B[A\n",
      "Validation DataLoader 0:   0%|          | 0/1 [00:00<?, ?it/s]\u001B[A\n",
      "Validation DataLoader 0: 100%|██████████| 1/1 [00:00<00:00,  3.94it/s]\u001B[A\n",
      "Epoch 6: 100%|██████████| 261/261 [18:23<00:00,  0.24it/s, v_num=0, val_acc_epoch=0.783, val_precision_epoch=0.775, val_recall_epoch=0.997, val_f1_epoch=0.872, train_acc_epoch=0.000, train_precision_epoch=0.000, train_recall_epoch=0.000, train_f1_epoch=0.000]"
     ]
    },
    {
     "name": "stderr",
     "output_type": "stream",
     "text": [
      "Metric val_loss improved by 0.013 >= min_delta = 0.0. New best score: 0.707\n"
     ]
    },
    {
     "name": "stdout",
     "output_type": "stream",
     "text": [
      "Epoch 7: 100%|██████████| 261/261 [16:53<00:00,  0.26it/s, v_num=0, val_acc_epoch=0.783, val_precision_epoch=0.775, val_recall_epoch=0.997, val_f1_epoch=0.872, train_acc_epoch=0.000, train_precision_epoch=0.000, train_recall_epoch=0.000, train_f1_epoch=0.000]\n",
      "Validation: |          | 0/? [00:00<?, ?it/s]\u001B[A\n",
      "Validation:   0%|          | 0/1 [00:00<?, ?it/s]\u001B[A\n",
      "Validation DataLoader 0:   0%|          | 0/1 [00:00<?, ?it/s]\u001B[A\n",
      "Validation DataLoader 0: 100%|██████████| 1/1 [00:00<00:00,  3.28it/s]\u001B[A\n",
      "Epoch 7: 100%|██████████| 261/261 [16:59<00:00,  0.26it/s, v_num=0, val_acc_epoch=0.802, val_precision_epoch=0.792, val_recall_epoch=0.995, val_f1_epoch=0.882, train_acc_epoch=0.000, train_precision_epoch=0.000, train_recall_epoch=0.000, train_f1_epoch=0.000]"
     ]
    },
    {
     "name": "stderr",
     "output_type": "stream",
     "text": [
      "Metric val_loss improved by 0.008 >= min_delta = 0.0. New best score: 0.699\n"
     ]
    },
    {
     "name": "stdout",
     "output_type": "stream",
     "text": [
      "Epoch 8: 100%|██████████| 261/261 [14:11<00:00,  0.31it/s, v_num=0, val_acc_epoch=0.802, val_precision_epoch=0.792, val_recall_epoch=0.995, val_f1_epoch=0.882, train_acc_epoch=0.000, train_precision_epoch=0.000, train_recall_epoch=0.000, train_f1_epoch=0.000]\n",
      "Validation: |          | 0/? [00:00<?, ?it/s]\u001B[A\n",
      "Validation:   0%|          | 0/1 [00:00<?, ?it/s]\u001B[A\n",
      "Validation DataLoader 0:   0%|          | 0/1 [00:00<?, ?it/s]\u001B[A\n",
      "Validation DataLoader 0: 100%|██████████| 1/1 [00:00<00:00,  4.13it/s]\u001B[A\n",
      "Epoch 8: 100%|██████████| 261/261 [14:18<00:00,  0.30it/s, v_num=0, val_acc_epoch=0.819, val_precision_epoch=0.807, val_recall_epoch=0.994, val_f1_epoch=0.891, train_acc_epoch=0.000, train_precision_epoch=0.000, train_recall_epoch=0.000, train_f1_epoch=0.000]"
     ]
    },
    {
     "name": "stderr",
     "output_type": "stream",
     "text": [
      "Metric val_loss improved by 0.006 >= min_delta = 0.0. New best score: 0.693\n"
     ]
    },
    {
     "name": "stdout",
     "output_type": "stream",
     "text": [
      "Epoch 9: 100%|██████████| 261/261 [14:54<00:00,  0.29it/s, v_num=0, val_acc_epoch=0.819, val_precision_epoch=0.807, val_recall_epoch=0.994, val_f1_epoch=0.891, train_acc_epoch=0.000, train_precision_epoch=0.000, train_recall_epoch=0.000, train_f1_epoch=0.000]\n",
      "Validation: |          | 0/? [00:00<?, ?it/s]\u001B[A\n",
      "Validation:   0%|          | 0/1 [00:00<?, ?it/s]\u001B[A\n",
      "Validation DataLoader 0:   0%|          | 0/1 [00:00<?, ?it/s]\u001B[A\n",
      "Validation DataLoader 0: 100%|██████████| 1/1 [00:07<00:00,  0.13it/s]\u001B[A\n",
      "Epoch 9: 100%|██████████| 261/261 [15:03<00:00,  0.29it/s, v_num=0, val_acc_epoch=0.832, val_precision_epoch=0.820, val_recall_epoch=0.992, val_f1_epoch=0.898, train_acc_epoch=0.000, train_precision_epoch=0.000, train_recall_epoch=0.000, train_f1_epoch=0.000]"
     ]
    },
    {
     "name": "stderr",
     "output_type": "stream",
     "text": [
      "Metric val_loss improved by 0.010 >= min_delta = 0.0. New best score: 0.683\n"
     ]
    },
    {
     "name": "stdout",
     "output_type": "stream",
     "text": [
      "Epoch 10: 100%|██████████| 261/261 [15:33<00:00,  0.28it/s, v_num=0, val_acc_epoch=0.832, val_precision_epoch=0.820, val_recall_epoch=0.992, val_f1_epoch=0.898, train_acc_epoch=0.000, train_precision_epoch=0.000, train_recall_epoch=0.000, train_f1_epoch=0.000]\n",
      "Validation: |          | 0/? [00:00<?, ?it/s]\u001B[A\n",
      "Validation:   0%|          | 0/1 [00:00<?, ?it/s]\u001B[A\n",
      "Validation DataLoader 0:   0%|          | 0/1 [00:00<?, ?it/s]\u001B[A\n",
      "Validation DataLoader 0: 100%|██████████| 1/1 [00:00<00:00,  3.69it/s]\u001B[A\n",
      "Epoch 10: 100%|██████████| 261/261 [15:37<00:00,  0.28it/s, v_num=0, val_acc_epoch=0.846, val_precision_epoch=0.834, val_recall_epoch=0.989, val_f1_epoch=0.905, train_acc_epoch=0.000, train_precision_epoch=0.000, train_recall_epoch=0.000, train_f1_epoch=0.000]"
     ]
    },
    {
     "name": "stderr",
     "output_type": "stream",
     "text": [
      "Metric val_loss improved by 0.000 >= min_delta = 0.0. New best score: 0.683\n"
     ]
    },
    {
     "name": "stdout",
     "output_type": "stream",
     "text": [
      "Epoch 11: 100%|██████████| 261/261 [15:54<00:00,  0.27it/s, v_num=0, val_acc_epoch=0.846, val_precision_epoch=0.834, val_recall_epoch=0.989, val_f1_epoch=0.905, train_acc_epoch=0.000, train_precision_epoch=0.000, train_recall_epoch=0.000, train_f1_epoch=0.000]\n",
      "Validation: |          | 0/? [00:00<?, ?it/s]\u001B[A\n",
      "Validation:   0%|          | 0/1 [00:00<?, ?it/s]\u001B[A\n",
      "Validation DataLoader 0:   0%|          | 0/1 [00:00<?, ?it/s]\u001B[A\n",
      "Validation DataLoader 0: 100%|██████████| 1/1 [00:01<00:00,  0.99it/s]\u001B[A\n",
      "Epoch 11: 100%|██████████| 261/261 [15:59<00:00,  0.27it/s, v_num=0, val_acc_epoch=0.856, val_precision_epoch=0.846, val_recall_epoch=0.986, val_f1_epoch=0.910, train_acc_epoch=0.000, train_precision_epoch=0.000, train_recall_epoch=0.000, train_f1_epoch=0.000]"
     ]
    },
    {
     "name": "stderr",
     "output_type": "stream",
     "text": [
      "Metric val_loss improved by 0.011 >= min_delta = 0.0. New best score: 0.672\n"
     ]
    },
    {
     "name": "stdout",
     "output_type": "stream",
     "text": [
      "Epoch 12: 100%|██████████| 261/261 [14:09<00:00,  0.31it/s, v_num=0, val_acc_epoch=0.856, val_precision_epoch=0.846, val_recall_epoch=0.986, val_f1_epoch=0.910, train_acc_epoch=0.000, train_precision_epoch=0.000, train_recall_epoch=0.000, train_f1_epoch=0.000]\n",
      "Validation: |          | 0/? [00:00<?, ?it/s]\u001B[A\n",
      "Validation:   0%|          | 0/1 [00:00<?, ?it/s]\u001B[A\n",
      "Validation DataLoader 0:   0%|          | 0/1 [00:00<?, ?it/s]\u001B[A\n",
      "Validation DataLoader 0: 100%|██████████| 1/1 [00:00<00:00,  2.58it/s]\u001B[A\n",
      "Epoch 12: 100%|██████████| 261/261 [14:11<00:00,  0.31it/s, v_num=0, val_acc_epoch=0.870, val_precision_epoch=0.861, val_recall_epoch=0.984, val_f1_epoch=0.918, train_acc_epoch=0.000, train_precision_epoch=0.000, train_recall_epoch=0.000, train_f1_epoch=0.000]"
     ]
    },
    {
     "name": "stderr",
     "output_type": "stream",
     "text": [
      "Metric val_loss improved by 0.002 >= min_delta = 0.0. New best score: 0.670\n"
     ]
    },
    {
     "name": "stdout",
     "output_type": "stream",
     "text": [
      "Epoch 13: 100%|██████████| 261/261 [15:24<00:00,  0.28it/s, v_num=0, val_acc_epoch=0.870, val_precision_epoch=0.861, val_recall_epoch=0.984, val_f1_epoch=0.918, train_acc_epoch=0.000, train_precision_epoch=0.000, train_recall_epoch=0.000, train_f1_epoch=0.000]\n",
      "Validation: |          | 0/? [00:00<?, ?it/s]\u001B[A\n",
      "Validation:   0%|          | 0/1 [00:00<?, ?it/s]\u001B[A\n",
      "Validation DataLoader 0:   0%|          | 0/1 [00:00<?, ?it/s]\u001B[A\n",
      "Validation DataLoader 0: 100%|██████████| 1/1 [00:00<00:00,  4.26it/s]\u001B[A\n",
      "Epoch 13: 100%|██████████| 261/261 [15:28<00:00,  0.28it/s, v_num=0, val_acc_epoch=0.881, val_precision_epoch=0.872, val_recall_epoch=0.985, val_f1_epoch=0.925, train_acc_epoch=0.000, train_precision_epoch=0.000, train_recall_epoch=0.000, train_f1_epoch=0.000]"
     ]
    },
    {
     "name": "stderr",
     "output_type": "stream",
     "text": [
      "Metric val_loss improved by 0.001 >= min_delta = 0.0. New best score: 0.669\n"
     ]
    },
    {
     "name": "stdout",
     "output_type": "stream",
     "text": [
      "Epoch 14: 100%|██████████| 261/261 [15:00<00:00,  0.29it/s, v_num=0, val_acc_epoch=0.881, val_precision_epoch=0.872, val_recall_epoch=0.985, val_f1_epoch=0.925, train_acc_epoch=0.000, train_precision_epoch=0.000, train_recall_epoch=0.000, train_f1_epoch=0.000]\n",
      "Validation: |          | 0/? [00:00<?, ?it/s]\u001B[A\n",
      "Validation:   0%|          | 0/1 [00:00<?, ?it/s]\u001B[A\n",
      "Validation DataLoader 0:   0%|          | 0/1 [00:00<?, ?it/s]\u001B[A\n",
      "Validation DataLoader 0: 100%|██████████| 1/1 [00:00<00:00,  4.22it/s]\u001B[A\n",
      "Epoch 14: 100%|██████████| 261/261 [15:09<00:00,  0.29it/s, v_num=0, val_acc_epoch=0.879, val_precision_epoch=0.870, val_recall_epoch=0.985, val_f1_epoch=0.924, train_acc_epoch=0.000, train_precision_epoch=0.000, train_recall_epoch=0.000, train_f1_epoch=0.000]"
     ]
    },
    {
     "name": "stderr",
     "output_type": "stream",
     "text": [
      "Metric val_loss improved by 0.004 >= min_delta = 0.0. New best score: 0.665\n"
     ]
    },
    {
     "name": "stdout",
     "output_type": "stream",
     "text": [
      "Epoch 15: 100%|██████████| 261/261 [15:25<00:00,  0.28it/s, v_num=0, val_acc_epoch=0.879, val_precision_epoch=0.870, val_recall_epoch=0.985, val_f1_epoch=0.924, train_acc_epoch=0.000, train_precision_epoch=0.000, train_recall_epoch=0.000, train_f1_epoch=0.000]\n",
      "Validation: |          | 0/? [00:00<?, ?it/s]\u001B[A\n",
      "Validation:   0%|          | 0/1 [00:00<?, ?it/s]\u001B[A\n",
      "Validation DataLoader 0:   0%|          | 0/1 [00:00<?, ?it/s]\u001B[A\n",
      "Validation DataLoader 0: 100%|██████████| 1/1 [00:04<00:00,  0.24it/s]\u001B[A\n",
      "Epoch 15: 100%|██████████| 261/261 [15:33<00:00,  0.28it/s, v_num=0, val_acc_epoch=0.886, val_precision_epoch=0.879, val_recall_epoch=0.981, val_f1_epoch=0.927, train_acc_epoch=0.000, train_precision_epoch=0.000, train_recall_epoch=0.000, train_f1_epoch=0.000]"
     ]
    },
    {
     "name": "stderr",
     "output_type": "stream",
     "text": [
      "Metric val_loss improved by 0.002 >= min_delta = 0.0. New best score: 0.663\n"
     ]
    },
    {
     "name": "stdout",
     "output_type": "stream",
     "text": [
      "Epoch 16: 100%|██████████| 261/261 [15:03<00:00,  0.29it/s, v_num=0, val_acc_epoch=0.886, val_precision_epoch=0.879, val_recall_epoch=0.981, val_f1_epoch=0.927, train_acc_epoch=0.000, train_precision_epoch=0.000, train_recall_epoch=0.000, train_f1_epoch=0.000]\n",
      "Validation: |          | 0/? [00:00<?, ?it/s]\u001B[A\n",
      "Validation:   0%|          | 0/1 [00:00<?, ?it/s]\u001B[A\n",
      "Validation DataLoader 0:   0%|          | 0/1 [00:00<?, ?it/s]\u001B[A\n",
      "Validation DataLoader 0: 100%|██████████| 1/1 [00:00<00:00,  1.85it/s]\u001B[A\n",
      "Epoch 16: 100%|██████████| 261/261 [15:08<00:00,  0.29it/s, v_num=0, val_acc_epoch=0.889, val_precision_epoch=0.883, val_recall_epoch=0.979, val_f1_epoch=0.929, train_acc_epoch=0.000, train_precision_epoch=0.000, train_recall_epoch=0.000, train_f1_epoch=0.000]"
     ]
    },
    {
     "name": "stderr",
     "output_type": "stream",
     "text": [
      "Metric val_loss improved by 0.003 >= min_delta = 0.0. New best score: 0.660\n"
     ]
    },
    {
     "name": "stdout",
     "output_type": "stream",
     "text": [
      "Epoch 17: 100%|██████████| 261/261 [16:57<00:00,  0.26it/s, v_num=0, val_acc_epoch=0.889, val_precision_epoch=0.883, val_recall_epoch=0.979, val_f1_epoch=0.929, train_acc_epoch=0.000, train_precision_epoch=0.000, train_recall_epoch=0.000, train_f1_epoch=0.000]\n",
      "Validation: |          | 0/? [00:00<?, ?it/s]\u001B[A\n",
      "Validation:   0%|          | 0/1 [00:00<?, ?it/s]\u001B[A\n",
      "Validation DataLoader 0:   0%|          | 0/1 [00:00<?, ?it/s]\u001B[A\n",
      "Validation DataLoader 0: 100%|██████████| 1/1 [00:00<00:00,  4.26it/s]\u001B[A\n",
      "Epoch 17: 100%|██████████| 261/261 [17:00<00:00,  0.26it/s, v_num=0, val_acc_epoch=0.896, val_precision_epoch=0.894, val_recall_epoch=0.976, val_f1_epoch=0.933, train_acc_epoch=0.000, train_precision_epoch=0.000, train_recall_epoch=0.000, train_f1_epoch=0.000]"
     ]
    },
    {
     "name": "stderr",
     "output_type": "stream",
     "text": [
      "Metric val_loss improved by 0.002 >= min_delta = 0.0. New best score: 0.658\n"
     ]
    },
    {
     "name": "stdout",
     "output_type": "stream",
     "text": [
      "Epoch 18: 100%|██████████| 261/261 [15:47<00:00,  0.28it/s, v_num=0, val_acc_epoch=0.896, val_precision_epoch=0.894, val_recall_epoch=0.976, val_f1_epoch=0.933, train_acc_epoch=0.000, train_precision_epoch=0.000, train_recall_epoch=0.000, train_f1_epoch=0.000]\n",
      "Validation: |          | 0/? [00:00<?, ?it/s]\u001B[A\n",
      "Validation:   0%|          | 0/1 [00:00<?, ?it/s]\u001B[A\n",
      "Validation DataLoader 0:   0%|          | 0/1 [00:00<?, ?it/s]\u001B[A\n",
      "Validation DataLoader 0: 100%|██████████| 1/1 [00:00<00:00,  3.52it/s]\u001B[A\n",
      "Epoch 19: 100%|██████████| 261/261 [16:13<00:00,  0.27it/s, v_num=0, val_acc_epoch=0.895, val_precision_epoch=0.894, val_recall_epoch=0.975, val_f1_epoch=0.932, train_acc_epoch=0.000, train_precision_epoch=0.000, train_recall_epoch=0.000, train_f1_epoch=0.000]\n",
      "Validation: |          | 0/? [00:00<?, ?it/s]\u001B[A\n",
      "Validation:   0%|          | 0/1 [00:00<?, ?it/s]\u001B[A\n",
      "Validation DataLoader 0:   0%|          | 0/1 [00:00<?, ?it/s]\u001B[A\n",
      "Validation DataLoader 0: 100%|██████████| 1/1 [00:00<00:00,  3.82it/s]\u001B[A\n",
      "Epoch 19: 100%|██████████| 261/261 [16:16<00:00,  0.27it/s, v_num=0, val_acc_epoch=0.901, val_precision_epoch=0.899, val_recall_epoch=0.976, val_f1_epoch=0.936, train_acc_epoch=0.000, train_precision_epoch=0.000, train_recall_epoch=0.000, train_f1_epoch=0.000]"
     ]
    },
    {
     "name": "stderr",
     "output_type": "stream",
     "text": [
      "Metric val_loss improved by 0.002 >= min_delta = 0.0. New best score: 0.656\n"
     ]
    },
    {
     "name": "stdout",
     "output_type": "stream",
     "text": [
      "Epoch 20: 100%|██████████| 261/261 [14:28<00:00,  0.30it/s, v_num=0, val_acc_epoch=0.901, val_precision_epoch=0.899, val_recall_epoch=0.976, val_f1_epoch=0.936, train_acc_epoch=0.000, train_precision_epoch=0.000, train_recall_epoch=0.000, train_f1_epoch=0.000]\n",
      "Validation: |          | 0/? [00:00<?, ?it/s]\u001B[A\n",
      "Validation:   0%|          | 0/1 [00:00<?, ?it/s]\u001B[A\n",
      "Validation DataLoader 0:   0%|          | 0/1 [00:00<?, ?it/s]\u001B[A\n",
      "Validation DataLoader 0: 100%|██████████| 1/1 [00:05<00:00,  0.18it/s]\u001B[A\n",
      "Epoch 20: 100%|██████████| 261/261 [14:35<00:00,  0.30it/s, v_num=0, val_acc_epoch=0.910, val_precision_epoch=0.909, val_recall_epoch=0.976, val_f1_epoch=0.941, train_acc_epoch=0.000, train_precision_epoch=0.000, train_recall_epoch=0.000, train_f1_epoch=0.000]"
     ]
    },
    {
     "name": "stderr",
     "output_type": "stream",
     "text": [
      "Metric val_loss improved by 0.004 >= min_delta = 0.0. New best score: 0.652\n"
     ]
    },
    {
     "name": "stdout",
     "output_type": "stream",
     "text": [
      "Epoch 21: 100%|██████████| 261/261 [15:59<00:00,  0.27it/s, v_num=0, val_acc_epoch=0.910, val_precision_epoch=0.909, val_recall_epoch=0.976, val_f1_epoch=0.941, train_acc_epoch=0.000, train_precision_epoch=0.000, train_recall_epoch=0.000, train_f1_epoch=0.000]\n",
      "Validation: |          | 0/? [00:00<?, ?it/s]\u001B[A\n",
      "Validation:   0%|          | 0/1 [00:00<?, ?it/s]\u001B[A\n",
      "Validation DataLoader 0:   0%|          | 0/1 [00:00<?, ?it/s]\u001B[A\n",
      "Validation DataLoader 0: 100%|██████████| 1/1 [00:00<00:00,  3.60it/s]\u001B[A\n",
      "Epoch 22: 100%|██████████| 261/261 [15:29<00:00,  0.28it/s, v_num=0, val_acc_epoch=0.905, val_precision_epoch=0.907, val_recall_epoch=0.972, val_f1_epoch=0.938, train_acc_epoch=0.000, train_precision_epoch=0.000, train_recall_epoch=0.000, train_f1_epoch=0.000]\n",
      "Validation: |          | 0/? [00:00<?, ?it/s]\u001B[A\n",
      "Validation:   0%|          | 0/1 [00:00<?, ?it/s]\u001B[A\n",
      "Validation DataLoader 0:   0%|          | 0/1 [00:00<?, ?it/s]\u001B[A\n",
      "Validation DataLoader 0: 100%|██████████| 1/1 [00:00<00:00,  4.08it/s]\u001B[A\n",
      "Epoch 23: 100%|██████████| 261/261 [15:22<00:00,  0.28it/s, v_num=0, val_acc_epoch=0.903, val_precision_epoch=0.904, val_recall_epoch=0.972, val_f1_epoch=0.937, train_acc_epoch=0.000, train_precision_epoch=0.000, train_recall_epoch=0.000, train_f1_epoch=0.000]\n",
      "Validation: |          | 0/? [00:00<?, ?it/s]\u001B[A\n",
      "Validation:   0%|          | 0/1 [00:00<?, ?it/s]\u001B[A\n",
      "Validation DataLoader 0:   0%|          | 0/1 [00:00<?, ?it/s]\u001B[A\n",
      "Validation DataLoader 0: 100%|██████████| 1/1 [00:00<00:00,  4.22it/s]\u001B[A\n",
      "Epoch 23: 100%|██████████| 261/261 [15:24<00:00,  0.28it/s, v_num=0, val_acc_epoch=0.911, val_precision_epoch=0.917, val_recall_epoch=0.968, val_f1_epoch=0.942, train_acc_epoch=0.000, train_precision_epoch=0.000, train_recall_epoch=0.000, train_f1_epoch=0.000]"
     ]
    },
    {
     "name": "stderr",
     "output_type": "stream",
     "text": [
      "Monitored metric val_loss did not improve in the last 3 records. Best score: 0.652. Signaling Trainer to stop.\n"
     ]
    },
    {
     "name": "stdout",
     "output_type": "stream",
     "text": [
      "Epoch 23: 100%|██████████| 261/261 [15:24<00:00,  0.28it/s, v_num=0, val_acc_epoch=0.911, val_precision_epoch=0.917, val_recall_epoch=0.968, val_f1_epoch=0.942, train_acc_epoch=0.000, train_precision_epoch=0.000, train_recall_epoch=0.000, train_f1_epoch=0.000]\n"
     ]
    },
    {
     "name": "stderr",
     "output_type": "stream",
     "text": [
      "Using 16bit Automatic Mixed Precision (AMP)\n",
      "GPU available: True (cuda), used: True\n",
      "TPU available: False, using: 0 TPU cores\n",
      "HPU available: False, using: 0 HPUs\n",
      "LOCAL_RANK: 0 - CUDA_VISIBLE_DEVICES: [0]\n"
     ]
    },
    {
     "name": "stdout",
     "output_type": "stream",
     "text": [
      "Testing DataLoader 0: 100%|██████████| 32/32 [01:05<00:00,  0.49it/s]\n",
      "────────────────────────────────────────────────────────────────────────────────────────────────────────────────────────\r\n",
      "       Test metric             DataLoader 0\r\n",
      "────────────────────────────────────────────────────────────────────────────────────────────────────────────────────────\r\n",
      "     test_acc_epoch                0.375\r\n",
      "      test_acc_step         0.7327309250831604\r\n",
      "      test_f1_epoch                 0.0\r\n",
      "      test_f1_step                  0.0\r\n",
      "        test_loss           0.7160292267799377\r\n",
      "  test_precision_epoch              0.0\r\n",
      "   test_precision_step              0.0\r\n",
      "    test_recall_epoch               0.0\r\n",
      "    test_recall_step                0.0\r\n",
      "────────────────────────────────────────────────────────────────────────────────────────────────────────────────────────\n",
      "None\n"
     ]
    }
   ],
   "execution_count": 10
  },
  {
   "metadata": {
    "ExecuteTime": {
     "end_time": "2024-11-25T07:16:03.991071Z",
     "start_time": "2024-11-25T02:48:56.846363Z"
    }
   },
   "cell_type": "code",
   "source": [
    "transform = transforms.Compose([\n",
    "    transforms.Resize((1000, 1000)),\n",
    "    transforms.ToTensor(),\n",
    "    transforms.Normalize(mean=[0.485, 0.456, 0.406], std=[0.229, 0.224, 0.225])\n",
    "])\n",
    "\n",
    "config = Config(\n",
    "    backbone_name=\"resnet50\",\n",
    "    transfer_learning=False,\n",
    "    learning_rate=1e-4,\n",
    "    batch_size=20,\n",
    "    max_epochs=100,\n",
    "    weight_decay=1e-4,\n",
    "    dropout=0.5,\n",
    "    num_workers=31,\n",
    "    model_name=\"ResNet50_1k\",\n",
    "    version=\"001\",\n",
    "    optimizer_name = \"sgd\"\n",
    ")\n",
    "\n",
    "model = PneumoniaClassifier(config, transform)\n",
    "model.train_model()\n",
    "\n",
    "checkpoint = torch.load(f\"../checkpoints/{config.model_name}.ckpt\", weights_only=True)\n",
    "\n",
    "# Access the metadata\n",
    "metadata = checkpoint.get(\"metadata\", {})\n",
    "\n",
    "# Initialize the models\n",
    "model = PneumoniaClassifier(config, transform)\n",
    "# Test the models\n",
    "metadata = model.test_model(f\"../checkpoints/{config.model_name}.ckpt\")\n",
    "\n",
    "# Print the metadata\n",
    "print(metadata)"
   ],
   "id": "b6dd71f04a19ccd0",
   "outputs": [
    {
     "name": "stderr",
     "output_type": "stream",
     "text": [
      "Using 16bit Automatic Mixed Precision (AMP)\n",
      "GPU available: True (cuda), used: True\n",
      "TPU available: False, using: 0 TPU cores\n",
      "HPU available: False, using: 0 HPUs\n",
      "LOCAL_RANK: 0 - CUDA_VISIBLE_DEVICES: [0]\n",
      "\n",
      "  | Name              | Type            | Params | Mode \n",
      "--------------------------------------------------------------\n",
      "0 | accuracy          | BinaryAccuracy  | 0      | train\n",
      "1 | precision         | BinaryPrecision | 0      | train\n",
      "2 | recall            | BinaryRecall    | 0      | train\n",
      "3 | f1                | BinaryF1Score   | 0      | train\n",
      "4 | feature_extractor | Sequential      | 23.5 M | train\n",
      "5 | dropout           | Dropout         | 0      | train\n",
      "6 | classifier        | Linear          | 4.1 K  | train\n",
      "--------------------------------------------------------------\n",
      "23.5 M    Trainable params\n",
      "0         Non-trainable params\n",
      "23.5 M    Total params\n",
      "94.049    Total estimated model params size (MB)\n",
      "156       Modules in train mode\n",
      "0         Modules in eval mode\n"
     ]
    },
    {
     "name": "stdout",
     "output_type": "stream",
     "text": [
      "Epoch 0: 100%|██████████| 261/261 [13:31<00:00,  0.32it/s, v_num=0]        \n",
      "Validation: |          | 0/? [00:00<?, ?it/s]\u001B[A\n",
      "Validation:   0%|          | 0/1 [00:00<?, ?it/s]\u001B[A\n",
      "Validation DataLoader 0:   0%|          | 0/1 [00:00<?, ?it/s]\u001B[A\n",
      "Validation DataLoader 0: 100%|██████████| 1/1 [00:04<00:00,  0.24it/s]\u001B[A\n",
      "Epoch 0: 100%|██████████| 261/261 [13:37<00:00,  0.32it/s, v_num=0, val_acc_epoch=0.737, val_precision_epoch=0.749, val_recall_epoch=0.970, val_f1_epoch=0.846]"
     ]
    },
    {
     "name": "stderr",
     "output_type": "stream",
     "text": [
      "Metric val_loss improved. New best score: 0.759\n"
     ]
    },
    {
     "name": "stdout",
     "output_type": "stream",
     "text": [
      "Epoch 1: 100%|██████████| 261/261 [15:11<00:00,  0.29it/s, v_num=0, val_acc_epoch=0.737, val_precision_epoch=0.749, val_recall_epoch=0.970, val_f1_epoch=0.846, train_acc_epoch=0.000, train_precision_epoch=0.000, train_recall_epoch=0.000, train_f1_epoch=0.000]\n",
      "Validation: |          | 0/? [00:00<?, ?it/s]\u001B[A\n",
      "Validation:   0%|          | 0/1 [00:00<?, ?it/s]\u001B[A\n",
      "Validation DataLoader 0:   0%|          | 0/1 [00:00<?, ?it/s]\u001B[A\n",
      "Validation DataLoader 0: 100%|██████████| 1/1 [00:00<00:00,  4.22it/s]\u001B[A\n",
      "Epoch 2: 100%|██████████| 261/261 [15:04<00:00,  0.29it/s, v_num=0, val_acc_epoch=0.742, val_precision_epoch=0.742, val_recall_epoch=1.000, val_f1_epoch=0.852, train_acc_epoch=0.000, train_precision_epoch=0.000, train_recall_epoch=0.000, train_f1_epoch=0.000]\n",
      "Validation: |          | 0/? [00:00<?, ?it/s]\u001B[A\n",
      "Validation:   0%|          | 0/1 [00:00<?, ?it/s]\u001B[A\n",
      "Validation DataLoader 0:   0%|          | 0/1 [00:00<?, ?it/s]\u001B[A\n",
      "Validation DataLoader 0: 100%|██████████| 1/1 [00:00<00:00,  3.80it/s]\u001B[A\n",
      "Epoch 2: 100%|██████████| 261/261 [15:06<00:00,  0.29it/s, v_num=0, val_acc_epoch=0.742, val_precision_epoch=0.742, val_recall_epoch=1.000, val_f1_epoch=0.852, train_acc_epoch=0.000, train_precision_epoch=0.000, train_recall_epoch=0.000, train_f1_epoch=0.000]"
     ]
    },
    {
     "name": "stderr",
     "output_type": "stream",
     "text": [
      "Metric val_loss improved by 0.012 >= min_delta = 0.0. New best score: 0.747\n"
     ]
    },
    {
     "name": "stdout",
     "output_type": "stream",
     "text": [
      "Epoch 3: 100%|██████████| 261/261 [16:45<00:00,  0.26it/s, v_num=0, val_acc_epoch=0.742, val_precision_epoch=0.742, val_recall_epoch=1.000, val_f1_epoch=0.852, train_acc_epoch=0.000, train_precision_epoch=0.000, train_recall_epoch=0.000, train_f1_epoch=0.000]\n",
      "Validation: |          | 0/? [00:00<?, ?it/s]\u001B[A\n",
      "Validation:   0%|          | 0/1 [00:00<?, ?it/s]\u001B[A\n",
      "Validation DataLoader 0:   0%|          | 0/1 [00:00<?, ?it/s]\u001B[A\n",
      "Validation DataLoader 0: 100%|██████████| 1/1 [00:00<00:00,  4.05it/s]\u001B[A\n",
      "Epoch 3: 100%|██████████| 261/261 [16:53<00:00,  0.26it/s, v_num=0, val_acc_epoch=0.743, val_precision_epoch=0.743, val_recall_epoch=1.000, val_f1_epoch=0.852, train_acc_epoch=0.000, train_precision_epoch=0.000, train_recall_epoch=0.000, train_f1_epoch=0.000]"
     ]
    },
    {
     "name": "stderr",
     "output_type": "stream",
     "text": [
      "Metric val_loss improved by 0.017 >= min_delta = 0.0. New best score: 0.729\n"
     ]
    },
    {
     "name": "stdout",
     "output_type": "stream",
     "text": [
      "Epoch 4: 100%|██████████| 261/261 [16:46<00:00,  0.26it/s, v_num=0, val_acc_epoch=0.743, val_precision_epoch=0.743, val_recall_epoch=1.000, val_f1_epoch=0.852, train_acc_epoch=0.000, train_precision_epoch=0.000, train_recall_epoch=0.000, train_f1_epoch=0.000]\n",
      "Validation: |          | 0/? [00:00<?, ?it/s]\u001B[A\n",
      "Validation:   0%|          | 0/1 [00:00<?, ?it/s]\u001B[A\n",
      "Validation DataLoader 0:   0%|          | 0/1 [00:00<?, ?it/s]\u001B[A\n",
      "Validation DataLoader 0: 100%|██████████| 1/1 [00:00<00:00,  3.95it/s]\u001B[A\n",
      "Epoch 4: 100%|██████████| 261/261 [16:52<00:00,  0.26it/s, v_num=0, val_acc_epoch=0.751, val_precision_epoch=0.749, val_recall_epoch=1.000, val_f1_epoch=0.856, train_acc_epoch=0.000, train_precision_epoch=0.000, train_recall_epoch=0.000, train_f1_epoch=0.000]"
     ]
    },
    {
     "name": "stderr",
     "output_type": "stream",
     "text": [
      "Metric val_loss improved by 0.012 >= min_delta = 0.0. New best score: 0.718\n"
     ]
    },
    {
     "name": "stdout",
     "output_type": "stream",
     "text": [
      "Epoch 5: 100%|██████████| 261/261 [17:11<00:00,  0.25it/s, v_num=0, val_acc_epoch=0.751, val_precision_epoch=0.749, val_recall_epoch=1.000, val_f1_epoch=0.856, train_acc_epoch=0.000, train_precision_epoch=0.000, train_recall_epoch=0.000, train_f1_epoch=0.000]\n",
      "Validation: |          | 0/? [00:00<?, ?it/s]\u001B[A\n",
      "Validation:   0%|          | 0/1 [00:00<?, ?it/s]\u001B[A\n",
      "Validation DataLoader 0:   0%|          | 0/1 [00:00<?, ?it/s]\u001B[A\n",
      "Validation DataLoader 0: 100%|██████████| 1/1 [00:00<00:00,  4.06it/s]\u001B[A\n",
      "Epoch 5: 100%|██████████| 261/261 [17:15<00:00,  0.25it/s, v_num=0, val_acc_epoch=0.770, val_precision_epoch=0.764, val_recall_epoch=0.999, val_f1_epoch=0.866, train_acc_epoch=0.000, train_precision_epoch=0.000, train_recall_epoch=0.000, train_f1_epoch=0.000]"
     ]
    },
    {
     "name": "stderr",
     "output_type": "stream",
     "text": [
      "Metric val_loss improved by 0.011 >= min_delta = 0.0. New best score: 0.707\n"
     ]
    },
    {
     "name": "stdout",
     "output_type": "stream",
     "text": [
      "Epoch 6: 100%|██████████| 261/261 [15:57<00:00,  0.27it/s, v_num=0, val_acc_epoch=0.770, val_precision_epoch=0.764, val_recall_epoch=0.999, val_f1_epoch=0.866, train_acc_epoch=0.000, train_precision_epoch=0.000, train_recall_epoch=0.000, train_f1_epoch=0.000]\n",
      "Validation: |          | 0/? [00:00<?, ?it/s]\u001B[A\n",
      "Validation:   0%|          | 0/1 [00:00<?, ?it/s]\u001B[A\n",
      "Validation DataLoader 0:   0%|          | 0/1 [00:00<?, ?it/s]\u001B[A\n",
      "Validation DataLoader 0: 100%|██████████| 1/1 [00:00<00:00,  3.70it/s]\u001B[A\n",
      "Epoch 6: 100%|██████████| 261/261 [16:03<00:00,  0.27it/s, v_num=0, val_acc_epoch=0.783, val_precision_epoch=0.775, val_recall_epoch=0.997, val_f1_epoch=0.872, train_acc_epoch=0.000, train_precision_epoch=0.000, train_recall_epoch=0.000, train_f1_epoch=0.000]"
     ]
    },
    {
     "name": "stderr",
     "output_type": "stream",
     "text": [
      "Metric val_loss improved by 0.012 >= min_delta = 0.0. New best score: 0.695\n"
     ]
    },
    {
     "name": "stdout",
     "output_type": "stream",
     "text": [
      "Epoch 7: 100%|██████████| 261/261 [15:26<00:00,  0.28it/s, v_num=0, val_acc_epoch=0.783, val_precision_epoch=0.775, val_recall_epoch=0.997, val_f1_epoch=0.872, train_acc_epoch=0.000, train_precision_epoch=0.000, train_recall_epoch=0.000, train_f1_epoch=0.000]\n",
      "Validation: |          | 0/? [00:00<?, ?it/s]\u001B[A\n",
      "Validation:   0%|          | 0/1 [00:00<?, ?it/s]\u001B[A\n",
      "Validation DataLoader 0:   0%|          | 0/1 [00:00<?, ?it/s]\u001B[A\n",
      "Validation DataLoader 0: 100%|██████████| 1/1 [00:00<00:00,  4.17it/s]\u001B[A\n",
      "Epoch 7: 100%|██████████| 261/261 [15:27<00:00,  0.28it/s, v_num=0, val_acc_epoch=0.810, val_precision_epoch=0.798, val_recall_epoch=0.997, val_f1_epoch=0.886, train_acc_epoch=0.000, train_precision_epoch=0.000, train_recall_epoch=0.000, train_f1_epoch=0.000]"
     ]
    },
    {
     "name": "stderr",
     "output_type": "stream",
     "text": [
      "Metric val_loss improved by 0.003 >= min_delta = 0.0. New best score: 0.692\n"
     ]
    },
    {
     "name": "stdout",
     "output_type": "stream",
     "text": [
      "Epoch 8: 100%|██████████| 261/261 [13:40<00:00,  0.32it/s, v_num=0, val_acc_epoch=0.810, val_precision_epoch=0.798, val_recall_epoch=0.997, val_f1_epoch=0.886, train_acc_epoch=0.000, train_precision_epoch=0.000, train_recall_epoch=0.000, train_f1_epoch=0.000]\n",
      "Validation: |          | 0/? [00:00<?, ?it/s]\u001B[A\n",
      "Validation:   0%|          | 0/1 [00:00<?, ?it/s]\u001B[A\n",
      "Validation DataLoader 0:   0%|          | 0/1 [00:00<?, ?it/s]\u001B[A\n",
      "Validation DataLoader 0: 100%|██████████| 1/1 [00:00<00:00,  4.10it/s]\u001B[A\n",
      "Epoch 8: 100%|██████████| 261/261 [13:45<00:00,  0.32it/s, v_num=0, val_acc_epoch=0.810, val_precision_epoch=0.799, val_recall_epoch=0.994, val_f1_epoch=0.886, train_acc_epoch=0.000, train_precision_epoch=0.000, train_recall_epoch=0.000, train_f1_epoch=0.000]"
     ]
    },
    {
     "name": "stderr",
     "output_type": "stream",
     "text": [
      "Metric val_loss improved by 0.012 >= min_delta = 0.0. New best score: 0.680\n"
     ]
    },
    {
     "name": "stdout",
     "output_type": "stream",
     "text": [
      "Epoch 9: 100%|██████████| 261/261 [17:20<00:00,  0.25it/s, v_num=0, val_acc_epoch=0.810, val_precision_epoch=0.799, val_recall_epoch=0.994, val_f1_epoch=0.886, train_acc_epoch=0.000, train_precision_epoch=0.000, train_recall_epoch=0.000, train_f1_epoch=0.000]\n",
      "Validation: |          | 0/? [00:00<?, ?it/s]\u001B[A\n",
      "Validation:   0%|          | 0/1 [00:00<?, ?it/s]\u001B[A\n",
      "Validation DataLoader 0:   0%|          | 0/1 [00:00<?, ?it/s]\u001B[A\n",
      "Validation DataLoader 0: 100%|██████████| 1/1 [00:00<00:00,  4.20it/s]\u001B[A\n",
      "Epoch 9: 100%|██████████| 261/261 [17:26<00:00,  0.25it/s, v_num=0, val_acc_epoch=0.841, val_precision_epoch=0.828, val_recall_epoch=0.992, val_f1_epoch=0.902, train_acc_epoch=0.000, train_precision_epoch=0.000, train_recall_epoch=0.000, train_f1_epoch=0.000]"
     ]
    },
    {
     "name": "stderr",
     "output_type": "stream",
     "text": [
      "Metric val_loss improved by 0.006 >= min_delta = 0.0. New best score: 0.674\n"
     ]
    },
    {
     "name": "stdout",
     "output_type": "stream",
     "text": [
      "Epoch 10: 100%|██████████| 261/261 [16:23<00:00,  0.27it/s, v_num=0, val_acc_epoch=0.841, val_precision_epoch=0.828, val_recall_epoch=0.992, val_f1_epoch=0.902, train_acc_epoch=0.000, train_precision_epoch=0.000, train_recall_epoch=0.000, train_f1_epoch=0.000]\n",
      "Validation: |          | 0/? [00:00<?, ?it/s]\u001B[A\n",
      "Validation:   0%|          | 0/1 [00:00<?, ?it/s]\u001B[A\n",
      "Validation DataLoader 0:   0%|          | 0/1 [00:00<?, ?it/s]\u001B[A\n",
      "Validation DataLoader 0: 100%|██████████| 1/1 [00:00<00:00,  4.22it/s]\u001B[A\n",
      "Epoch 10: 100%|██████████| 261/261 [16:28<00:00,  0.26it/s, v_num=0, val_acc_epoch=0.847, val_precision_epoch=0.835, val_recall_epoch=0.988, val_f1_epoch=0.905, train_acc_epoch=0.000, train_precision_epoch=0.000, train_recall_epoch=0.000, train_f1_epoch=0.000]"
     ]
    },
    {
     "name": "stderr",
     "output_type": "stream",
     "text": [
      "Metric val_loss improved by 0.003 >= min_delta = 0.0. New best score: 0.671\n"
     ]
    },
    {
     "name": "stdout",
     "output_type": "stream",
     "text": [
      "Epoch 11: 100%|██████████| 261/261 [15:37<00:00,  0.28it/s, v_num=0, val_acc_epoch=0.847, val_precision_epoch=0.835, val_recall_epoch=0.988, val_f1_epoch=0.905, train_acc_epoch=0.000, train_precision_epoch=0.000, train_recall_epoch=0.000, train_f1_epoch=0.000]\n",
      "Validation: |          | 0/? [00:00<?, ?it/s]\u001B[A\n",
      "Validation:   0%|          | 0/1 [00:00<?, ?it/s]\u001B[A\n",
      "Validation DataLoader 0:   0%|          | 0/1 [00:00<?, ?it/s]\u001B[A\n",
      "Validation DataLoader 0: 100%|██████████| 1/1 [00:00<00:00,  4.03it/s]\u001B[A\n",
      "Epoch 11: 100%|██████████| 261/261 [15:43<00:00,  0.28it/s, v_num=0, val_acc_epoch=0.856, val_precision_epoch=0.846, val_recall_epoch=0.986, val_f1_epoch=0.911, train_acc_epoch=0.000, train_precision_epoch=0.000, train_recall_epoch=0.000, train_f1_epoch=0.000]"
     ]
    },
    {
     "name": "stderr",
     "output_type": "stream",
     "text": [
      "Metric val_loss improved by 0.002 >= min_delta = 0.0. New best score: 0.670\n"
     ]
    },
    {
     "name": "stdout",
     "output_type": "stream",
     "text": [
      "Epoch 12: 100%|██████████| 261/261 [17:05<00:00,  0.25it/s, v_num=0, val_acc_epoch=0.856, val_precision_epoch=0.846, val_recall_epoch=0.986, val_f1_epoch=0.911, train_acc_epoch=0.000, train_precision_epoch=0.000, train_recall_epoch=0.000, train_f1_epoch=0.000]\n",
      "Validation: |          | 0/? [00:00<?, ?it/s]\u001B[A\n",
      "Validation:   0%|          | 0/1 [00:00<?, ?it/s]\u001B[A\n",
      "Validation DataLoader 0:   0%|          | 0/1 [00:00<?, ?it/s]\u001B[A\n",
      "Validation DataLoader 0: 100%|██████████| 1/1 [00:00<00:00,  3.91it/s]\u001B[A\n",
      "Epoch 12: 100%|██████████| 261/261 [17:06<00:00,  0.25it/s, v_num=0, val_acc_epoch=0.864, val_precision_epoch=0.853, val_recall_epoch=0.986, val_f1_epoch=0.915, train_acc_epoch=0.000, train_precision_epoch=0.000, train_recall_epoch=0.000, train_f1_epoch=0.000]"
     ]
    },
    {
     "name": "stderr",
     "output_type": "stream",
     "text": [
      "Metric val_loss improved by 0.006 >= min_delta = 0.0. New best score: 0.664\n"
     ]
    },
    {
     "name": "stdout",
     "output_type": "stream",
     "text": [
      "Epoch 13: 100%|██████████| 261/261 [15:21<00:00,  0.28it/s, v_num=0, val_acc_epoch=0.864, val_precision_epoch=0.853, val_recall_epoch=0.986, val_f1_epoch=0.915, train_acc_epoch=0.000, train_precision_epoch=0.000, train_recall_epoch=0.000, train_f1_epoch=0.000]\n",
      "Validation: |          | 0/? [00:00<?, ?it/s]\u001B[A\n",
      "Validation:   0%|          | 0/1 [00:00<?, ?it/s]\u001B[A\n",
      "Validation DataLoader 0:   0%|          | 0/1 [00:00<?, ?it/s]\u001B[A\n",
      "Validation DataLoader 0: 100%|██████████| 1/1 [00:00<00:00,  3.91it/s]\u001B[A\n",
      "Epoch 14: 100%|██████████| 261/261 [16:31<00:00,  0.26it/s, v_num=0, val_acc_epoch=0.873, val_precision_epoch=0.864, val_recall_epoch=0.984, val_f1_epoch=0.920, train_acc_epoch=0.000, train_precision_epoch=0.000, train_recall_epoch=0.000, train_f1_epoch=0.000]\n",
      "Validation: |          | 0/? [00:00<?, ?it/s]\u001B[A\n",
      "Validation:   0%|          | 0/1 [00:00<?, ?it/s]\u001B[A\n",
      "Validation DataLoader 0:   0%|          | 0/1 [00:00<?, ?it/s]\u001B[A\n",
      "Validation DataLoader 0: 100%|██████████| 1/1 [00:00<00:00,  4.15it/s]\u001B[A\n",
      "Epoch 14: 100%|██████████| 261/261 [16:36<00:00,  0.26it/s, v_num=0, val_acc_epoch=0.885, val_precision_epoch=0.876, val_recall_epoch=0.984, val_f1_epoch=0.927, train_acc_epoch=0.000, train_precision_epoch=0.000, train_recall_epoch=0.000, train_f1_epoch=0.000]"
     ]
    },
    {
     "name": "stderr",
     "output_type": "stream",
     "text": [
      "Metric val_loss improved by 0.000 >= min_delta = 0.0. New best score: 0.664\n"
     ]
    },
    {
     "name": "stdout",
     "output_type": "stream",
     "text": [
      "Epoch 15: 100%|██████████| 261/261 [15:54<00:00,  0.27it/s, v_num=0, val_acc_epoch=0.885, val_precision_epoch=0.876, val_recall_epoch=0.984, val_f1_epoch=0.927, train_acc_epoch=0.000, train_precision_epoch=0.000, train_recall_epoch=0.000, train_f1_epoch=0.000]\n",
      "Validation: |          | 0/? [00:00<?, ?it/s]\u001B[A\n",
      "Validation:   0%|          | 0/1 [00:00<?, ?it/s]\u001B[A\n",
      "Validation DataLoader 0:   0%|          | 0/1 [00:00<?, ?it/s]\u001B[A\n",
      "Validation DataLoader 0: 100%|██████████| 1/1 [00:05<00:00,  0.17it/s]\u001B[A\n",
      "Epoch 15: 100%|██████████| 261/261 [16:01<00:00,  0.27it/s, v_num=0, val_acc_epoch=0.881, val_precision_epoch=0.874, val_recall_epoch=0.981, val_f1_epoch=0.924, train_acc_epoch=0.000, train_precision_epoch=0.000, train_recall_epoch=0.000, train_f1_epoch=0.000]"
     ]
    },
    {
     "name": "stderr",
     "output_type": "stream",
     "text": [
      "Metric val_loss improved by 0.005 >= min_delta = 0.0. New best score: 0.659\n"
     ]
    },
    {
     "name": "stdout",
     "output_type": "stream",
     "text": [
      "Epoch 16:  44%|████▍     | 115/261 [08:00<10:09,  0.24it/s, v_num=0, val_acc_epoch=0.881, val_precision_epoch=0.874, val_recall_epoch=0.981, val_f1_epoch=0.924, train_acc_epoch=0.000, train_precision_epoch=0.000, train_recall_epoch=0.000, train_f1_epoch=0.000]"
     ]
    },
    {
     "name": "stderr",
     "output_type": "stream",
     "text": [
      "\n",
      "Detected KeyboardInterrupt, attempting graceful shutdown ...\n"
     ]
    },
    {
     "ename": "NameError",
     "evalue": "name 'exit' is not defined",
     "output_type": "error",
     "traceback": [
      "\u001B[1;31m---------------------------------------------------------------------------\u001B[0m",
      "\u001B[1;31mKeyboardInterrupt\u001B[0m                         Traceback (most recent call last)",
      "File \u001B[1;32m~\\miniconda3\\envs\\pneumonia_detection\\Lib\\site-packages\\pytorch_lightning\\trainer\\call.py:47\u001B[0m, in \u001B[0;36m_call_and_handle_interrupt\u001B[1;34m(trainer, trainer_fn, *args, **kwargs)\u001B[0m\n\u001B[0;32m     46\u001B[0m         \u001B[38;5;28;01mreturn\u001B[39;00m trainer\u001B[38;5;241m.\u001B[39mstrategy\u001B[38;5;241m.\u001B[39mlauncher\u001B[38;5;241m.\u001B[39mlaunch(trainer_fn, \u001B[38;5;241m*\u001B[39margs, trainer\u001B[38;5;241m=\u001B[39mtrainer, \u001B[38;5;241m*\u001B[39m\u001B[38;5;241m*\u001B[39mkwargs)\n\u001B[1;32m---> 47\u001B[0m     \u001B[38;5;28;01mreturn\u001B[39;00m trainer_fn(\u001B[38;5;241m*\u001B[39margs, \u001B[38;5;241m*\u001B[39m\u001B[38;5;241m*\u001B[39mkwargs)\n\u001B[0;32m     49\u001B[0m \u001B[38;5;28;01mexcept\u001B[39;00m _TunerExitException:\n",
      "File \u001B[1;32m~\\miniconda3\\envs\\pneumonia_detection\\Lib\\site-packages\\pytorch_lightning\\trainer\\trainer.py:574\u001B[0m, in \u001B[0;36mTrainer._fit_impl\u001B[1;34m(self, model, train_dataloaders, val_dataloaders, datamodule, ckpt_path)\u001B[0m\n\u001B[0;32m    568\u001B[0m ckpt_path \u001B[38;5;241m=\u001B[39m \u001B[38;5;28mself\u001B[39m\u001B[38;5;241m.\u001B[39m_checkpoint_connector\u001B[38;5;241m.\u001B[39m_select_ckpt_path(\n\u001B[0;32m    569\u001B[0m     \u001B[38;5;28mself\u001B[39m\u001B[38;5;241m.\u001B[39mstate\u001B[38;5;241m.\u001B[39mfn,\n\u001B[0;32m    570\u001B[0m     ckpt_path,\n\u001B[0;32m    571\u001B[0m     model_provided\u001B[38;5;241m=\u001B[39m\u001B[38;5;28;01mTrue\u001B[39;00m,\n\u001B[0;32m    572\u001B[0m     model_connected\u001B[38;5;241m=\u001B[39m\u001B[38;5;28mself\u001B[39m\u001B[38;5;241m.\u001B[39mlightning_module \u001B[38;5;129;01mis\u001B[39;00m \u001B[38;5;129;01mnot\u001B[39;00m \u001B[38;5;28;01mNone\u001B[39;00m,\n\u001B[0;32m    573\u001B[0m )\n\u001B[1;32m--> 574\u001B[0m \u001B[38;5;28mself\u001B[39m\u001B[38;5;241m.\u001B[39m_run(model, ckpt_path\u001B[38;5;241m=\u001B[39mckpt_path)\n\u001B[0;32m    576\u001B[0m \u001B[38;5;28;01massert\u001B[39;00m \u001B[38;5;28mself\u001B[39m\u001B[38;5;241m.\u001B[39mstate\u001B[38;5;241m.\u001B[39mstopped\n",
      "File \u001B[1;32m~\\miniconda3\\envs\\pneumonia_detection\\Lib\\site-packages\\pytorch_lightning\\trainer\\trainer.py:981\u001B[0m, in \u001B[0;36mTrainer._run\u001B[1;34m(self, model, ckpt_path)\u001B[0m\n\u001B[0;32m    978\u001B[0m \u001B[38;5;66;03m# ----------------------------\u001B[39;00m\n\u001B[0;32m    979\u001B[0m \u001B[38;5;66;03m# RUN THE TRAINER\u001B[39;00m\n\u001B[0;32m    980\u001B[0m \u001B[38;5;66;03m# ----------------------------\u001B[39;00m\n\u001B[1;32m--> 981\u001B[0m results \u001B[38;5;241m=\u001B[39m \u001B[38;5;28mself\u001B[39m\u001B[38;5;241m.\u001B[39m_run_stage()\n\u001B[0;32m    983\u001B[0m \u001B[38;5;66;03m# ----------------------------\u001B[39;00m\n\u001B[0;32m    984\u001B[0m \u001B[38;5;66;03m# POST-Training CLEAN UP\u001B[39;00m\n\u001B[0;32m    985\u001B[0m \u001B[38;5;66;03m# ----------------------------\u001B[39;00m\n",
      "File \u001B[1;32m~\\miniconda3\\envs\\pneumonia_detection\\Lib\\site-packages\\pytorch_lightning\\trainer\\trainer.py:1025\u001B[0m, in \u001B[0;36mTrainer._run_stage\u001B[1;34m(self)\u001B[0m\n\u001B[0;32m   1024\u001B[0m \u001B[38;5;28;01mwith\u001B[39;00m torch\u001B[38;5;241m.\u001B[39mautograd\u001B[38;5;241m.\u001B[39mset_detect_anomaly(\u001B[38;5;28mself\u001B[39m\u001B[38;5;241m.\u001B[39m_detect_anomaly):\n\u001B[1;32m-> 1025\u001B[0m     \u001B[38;5;28mself\u001B[39m\u001B[38;5;241m.\u001B[39mfit_loop\u001B[38;5;241m.\u001B[39mrun()\n\u001B[0;32m   1026\u001B[0m \u001B[38;5;28;01mreturn\u001B[39;00m \u001B[38;5;28;01mNone\u001B[39;00m\n",
      "File \u001B[1;32m~\\miniconda3\\envs\\pneumonia_detection\\Lib\\site-packages\\pytorch_lightning\\loops\\fit_loop.py:205\u001B[0m, in \u001B[0;36m_FitLoop.run\u001B[1;34m(self)\u001B[0m\n\u001B[0;32m    204\u001B[0m \u001B[38;5;28mself\u001B[39m\u001B[38;5;241m.\u001B[39mon_advance_start()\n\u001B[1;32m--> 205\u001B[0m \u001B[38;5;28mself\u001B[39m\u001B[38;5;241m.\u001B[39madvance()\n\u001B[0;32m    206\u001B[0m \u001B[38;5;28mself\u001B[39m\u001B[38;5;241m.\u001B[39mon_advance_end()\n",
      "File \u001B[1;32m~\\miniconda3\\envs\\pneumonia_detection\\Lib\\site-packages\\pytorch_lightning\\loops\\fit_loop.py:363\u001B[0m, in \u001B[0;36m_FitLoop.advance\u001B[1;34m(self)\u001B[0m\n\u001B[0;32m    362\u001B[0m \u001B[38;5;28;01massert\u001B[39;00m \u001B[38;5;28mself\u001B[39m\u001B[38;5;241m.\u001B[39m_data_fetcher \u001B[38;5;129;01mis\u001B[39;00m \u001B[38;5;129;01mnot\u001B[39;00m \u001B[38;5;28;01mNone\u001B[39;00m\n\u001B[1;32m--> 363\u001B[0m \u001B[38;5;28mself\u001B[39m\u001B[38;5;241m.\u001B[39mepoch_loop\u001B[38;5;241m.\u001B[39mrun(\u001B[38;5;28mself\u001B[39m\u001B[38;5;241m.\u001B[39m_data_fetcher)\n",
      "File \u001B[1;32m~\\miniconda3\\envs\\pneumonia_detection\\Lib\\site-packages\\pytorch_lightning\\loops\\training_epoch_loop.py:140\u001B[0m, in \u001B[0;36m_TrainingEpochLoop.run\u001B[1;34m(self, data_fetcher)\u001B[0m\n\u001B[0;32m    139\u001B[0m \u001B[38;5;28;01mtry\u001B[39;00m:\n\u001B[1;32m--> 140\u001B[0m     \u001B[38;5;28mself\u001B[39m\u001B[38;5;241m.\u001B[39madvance(data_fetcher)\n\u001B[0;32m    141\u001B[0m     \u001B[38;5;28mself\u001B[39m\u001B[38;5;241m.\u001B[39mon_advance_end(data_fetcher)\n",
      "File \u001B[1;32m~\\miniconda3\\envs\\pneumonia_detection\\Lib\\site-packages\\pytorch_lightning\\loops\\training_epoch_loop.py:250\u001B[0m, in \u001B[0;36m_TrainingEpochLoop.advance\u001B[1;34m(self, data_fetcher)\u001B[0m\n\u001B[0;32m    248\u001B[0m \u001B[38;5;28;01mif\u001B[39;00m trainer\u001B[38;5;241m.\u001B[39mlightning_module\u001B[38;5;241m.\u001B[39mautomatic_optimization:\n\u001B[0;32m    249\u001B[0m     \u001B[38;5;66;03m# in automatic optimization, there can only be one optimizer\u001B[39;00m\n\u001B[1;32m--> 250\u001B[0m     batch_output \u001B[38;5;241m=\u001B[39m \u001B[38;5;28mself\u001B[39m\u001B[38;5;241m.\u001B[39mautomatic_optimization\u001B[38;5;241m.\u001B[39mrun(trainer\u001B[38;5;241m.\u001B[39moptimizers[\u001B[38;5;241m0\u001B[39m], batch_idx, kwargs)\n\u001B[0;32m    251\u001B[0m \u001B[38;5;28;01melse\u001B[39;00m:\n",
      "File \u001B[1;32m~\\miniconda3\\envs\\pneumonia_detection\\Lib\\site-packages\\pytorch_lightning\\loops\\optimization\\automatic.py:190\u001B[0m, in \u001B[0;36m_AutomaticOptimization.run\u001B[1;34m(self, optimizer, batch_idx, kwargs)\u001B[0m\n\u001B[0;32m    185\u001B[0m \u001B[38;5;66;03m# ------------------------------\u001B[39;00m\n\u001B[0;32m    186\u001B[0m \u001B[38;5;66;03m# BACKWARD PASS\u001B[39;00m\n\u001B[0;32m    187\u001B[0m \u001B[38;5;66;03m# ------------------------------\u001B[39;00m\n\u001B[0;32m    188\u001B[0m \u001B[38;5;66;03m# gradient update with accumulated gradients\u001B[39;00m\n\u001B[0;32m    189\u001B[0m \u001B[38;5;28;01melse\u001B[39;00m:\n\u001B[1;32m--> 190\u001B[0m     \u001B[38;5;28mself\u001B[39m\u001B[38;5;241m.\u001B[39m_optimizer_step(batch_idx, closure)\n\u001B[0;32m    192\u001B[0m result \u001B[38;5;241m=\u001B[39m closure\u001B[38;5;241m.\u001B[39mconsume_result()\n",
      "File \u001B[1;32m~\\miniconda3\\envs\\pneumonia_detection\\Lib\\site-packages\\pytorch_lightning\\loops\\optimization\\automatic.py:268\u001B[0m, in \u001B[0;36m_AutomaticOptimization._optimizer_step\u001B[1;34m(self, batch_idx, train_step_and_backward_closure)\u001B[0m\n\u001B[0;32m    267\u001B[0m \u001B[38;5;66;03m# model hook\u001B[39;00m\n\u001B[1;32m--> 268\u001B[0m call\u001B[38;5;241m.\u001B[39m_call_lightning_module_hook(\n\u001B[0;32m    269\u001B[0m     trainer,\n\u001B[0;32m    270\u001B[0m     \u001B[38;5;124m\"\u001B[39m\u001B[38;5;124moptimizer_step\u001B[39m\u001B[38;5;124m\"\u001B[39m,\n\u001B[0;32m    271\u001B[0m     trainer\u001B[38;5;241m.\u001B[39mcurrent_epoch,\n\u001B[0;32m    272\u001B[0m     batch_idx,\n\u001B[0;32m    273\u001B[0m     optimizer,\n\u001B[0;32m    274\u001B[0m     train_step_and_backward_closure,\n\u001B[0;32m    275\u001B[0m )\n\u001B[0;32m    277\u001B[0m \u001B[38;5;28;01mif\u001B[39;00m \u001B[38;5;129;01mnot\u001B[39;00m should_accumulate:\n",
      "File \u001B[1;32m~\\miniconda3\\envs\\pneumonia_detection\\Lib\\site-packages\\pytorch_lightning\\trainer\\call.py:167\u001B[0m, in \u001B[0;36m_call_lightning_module_hook\u001B[1;34m(trainer, hook_name, pl_module, *args, **kwargs)\u001B[0m\n\u001B[0;32m    166\u001B[0m \u001B[38;5;28;01mwith\u001B[39;00m trainer\u001B[38;5;241m.\u001B[39mprofiler\u001B[38;5;241m.\u001B[39mprofile(\u001B[38;5;124mf\u001B[39m\u001B[38;5;124m\"\u001B[39m\u001B[38;5;124m[LightningModule]\u001B[39m\u001B[38;5;132;01m{\u001B[39;00mpl_module\u001B[38;5;241m.\u001B[39m\u001B[38;5;18m__class__\u001B[39m\u001B[38;5;241m.\u001B[39m\u001B[38;5;18m__name__\u001B[39m\u001B[38;5;132;01m}\u001B[39;00m\u001B[38;5;124m.\u001B[39m\u001B[38;5;132;01m{\u001B[39;00mhook_name\u001B[38;5;132;01m}\u001B[39;00m\u001B[38;5;124m\"\u001B[39m):\n\u001B[1;32m--> 167\u001B[0m     output \u001B[38;5;241m=\u001B[39m fn(\u001B[38;5;241m*\u001B[39margs, \u001B[38;5;241m*\u001B[39m\u001B[38;5;241m*\u001B[39mkwargs)\n\u001B[0;32m    169\u001B[0m \u001B[38;5;66;03m# restore current_fx when nested context\u001B[39;00m\n",
      "File \u001B[1;32m~\\miniconda3\\envs\\pneumonia_detection\\Lib\\site-packages\\pytorch_lightning\\core\\module.py:1306\u001B[0m, in \u001B[0;36mLightningModule.optimizer_step\u001B[1;34m(self, epoch, batch_idx, optimizer, optimizer_closure)\u001B[0m\n\u001B[0;32m   1282\u001B[0m \u001B[38;5;250m\u001B[39m\u001B[38;5;124mr\u001B[39m\u001B[38;5;124;03m\"\"\"Override this method to adjust the default way the :class:`~pytorch_lightning.trainer.trainer.Trainer` calls\u001B[39;00m\n\u001B[0;32m   1283\u001B[0m \u001B[38;5;124;03mthe optimizer.\u001B[39;00m\n\u001B[0;32m   1284\u001B[0m \n\u001B[1;32m   (...)\u001B[0m\n\u001B[0;32m   1304\u001B[0m \n\u001B[0;32m   1305\u001B[0m \u001B[38;5;124;03m\"\"\"\u001B[39;00m\n\u001B[1;32m-> 1306\u001B[0m optimizer\u001B[38;5;241m.\u001B[39mstep(closure\u001B[38;5;241m=\u001B[39moptimizer_closure)\n",
      "File \u001B[1;32m~\\miniconda3\\envs\\pneumonia_detection\\Lib\\site-packages\\pytorch_lightning\\core\\optimizer.py:153\u001B[0m, in \u001B[0;36mLightningOptimizer.step\u001B[1;34m(self, closure, **kwargs)\u001B[0m\n\u001B[0;32m    152\u001B[0m \u001B[38;5;28;01massert\u001B[39;00m \u001B[38;5;28mself\u001B[39m\u001B[38;5;241m.\u001B[39m_strategy \u001B[38;5;129;01mis\u001B[39;00m \u001B[38;5;129;01mnot\u001B[39;00m \u001B[38;5;28;01mNone\u001B[39;00m\n\u001B[1;32m--> 153\u001B[0m step_output \u001B[38;5;241m=\u001B[39m \u001B[38;5;28mself\u001B[39m\u001B[38;5;241m.\u001B[39m_strategy\u001B[38;5;241m.\u001B[39moptimizer_step(\u001B[38;5;28mself\u001B[39m\u001B[38;5;241m.\u001B[39m_optimizer, closure, \u001B[38;5;241m*\u001B[39m\u001B[38;5;241m*\u001B[39mkwargs)\n\u001B[0;32m    155\u001B[0m \u001B[38;5;28mself\u001B[39m\u001B[38;5;241m.\u001B[39m_on_after_step()\n",
      "File \u001B[1;32m~\\miniconda3\\envs\\pneumonia_detection\\Lib\\site-packages\\pytorch_lightning\\strategies\\strategy.py:238\u001B[0m, in \u001B[0;36mStrategy.optimizer_step\u001B[1;34m(self, optimizer, closure, model, **kwargs)\u001B[0m\n\u001B[0;32m    237\u001B[0m \u001B[38;5;28;01massert\u001B[39;00m \u001B[38;5;28misinstance\u001B[39m(model, pl\u001B[38;5;241m.\u001B[39mLightningModule)\n\u001B[1;32m--> 238\u001B[0m \u001B[38;5;28;01mreturn\u001B[39;00m \u001B[38;5;28mself\u001B[39m\u001B[38;5;241m.\u001B[39mprecision_plugin\u001B[38;5;241m.\u001B[39moptimizer_step(optimizer, model\u001B[38;5;241m=\u001B[39mmodel, closure\u001B[38;5;241m=\u001B[39mclosure, \u001B[38;5;241m*\u001B[39m\u001B[38;5;241m*\u001B[39mkwargs)\n",
      "File \u001B[1;32m~\\miniconda3\\envs\\pneumonia_detection\\Lib\\site-packages\\pytorch_lightning\\plugins\\precision\\amp.py:78\u001B[0m, in \u001B[0;36mMixedPrecision.optimizer_step\u001B[1;34m(self, optimizer, model, closure, **kwargs)\u001B[0m\n\u001B[0;32m     77\u001B[0m     \u001B[38;5;28;01mraise\u001B[39;00m MisconfigurationException(\u001B[38;5;124m\"\u001B[39m\u001B[38;5;124mAMP and the LBFGS optimizer are not compatible.\u001B[39m\u001B[38;5;124m\"\u001B[39m)\n\u001B[1;32m---> 78\u001B[0m closure_result \u001B[38;5;241m=\u001B[39m closure()\n\u001B[0;32m     80\u001B[0m \u001B[38;5;66;03m# If backward was skipped in automatic optimization (return None), unscaling is not needed\u001B[39;00m\n",
      "File \u001B[1;32m~\\miniconda3\\envs\\pneumonia_detection\\Lib\\site-packages\\pytorch_lightning\\loops\\optimization\\automatic.py:144\u001B[0m, in \u001B[0;36mClosure.__call__\u001B[1;34m(self, *args, **kwargs)\u001B[0m\n\u001B[0;32m    142\u001B[0m \u001B[38;5;129m@override\u001B[39m\n\u001B[0;32m    143\u001B[0m \u001B[38;5;28;01mdef\u001B[39;00m \u001B[38;5;21m__call__\u001B[39m(\u001B[38;5;28mself\u001B[39m, \u001B[38;5;241m*\u001B[39margs: Any, \u001B[38;5;241m*\u001B[39m\u001B[38;5;241m*\u001B[39mkwargs: Any) \u001B[38;5;241m-\u001B[39m\u001B[38;5;241m>\u001B[39m Optional[Tensor]:\n\u001B[1;32m--> 144\u001B[0m     \u001B[38;5;28mself\u001B[39m\u001B[38;5;241m.\u001B[39m_result \u001B[38;5;241m=\u001B[39m \u001B[38;5;28mself\u001B[39m\u001B[38;5;241m.\u001B[39mclosure(\u001B[38;5;241m*\u001B[39margs, \u001B[38;5;241m*\u001B[39m\u001B[38;5;241m*\u001B[39mkwargs)\n\u001B[0;32m    145\u001B[0m     \u001B[38;5;28;01mreturn\u001B[39;00m \u001B[38;5;28mself\u001B[39m\u001B[38;5;241m.\u001B[39m_result\u001B[38;5;241m.\u001B[39mloss\n",
      "File \u001B[1;32m~\\miniconda3\\envs\\pneumonia_detection\\Lib\\site-packages\\torch\\utils\\_contextlib.py:116\u001B[0m, in \u001B[0;36mcontext_decorator.<locals>.decorate_context\u001B[1;34m(*args, **kwargs)\u001B[0m\n\u001B[0;32m    115\u001B[0m \u001B[38;5;28;01mwith\u001B[39;00m ctx_factory():\n\u001B[1;32m--> 116\u001B[0m     \u001B[38;5;28;01mreturn\u001B[39;00m func(\u001B[38;5;241m*\u001B[39margs, \u001B[38;5;241m*\u001B[39m\u001B[38;5;241m*\u001B[39mkwargs)\n",
      "File \u001B[1;32m~\\miniconda3\\envs\\pneumonia_detection\\Lib\\site-packages\\pytorch_lightning\\loops\\optimization\\automatic.py:129\u001B[0m, in \u001B[0;36mClosure.closure\u001B[1;34m(self, *args, **kwargs)\u001B[0m\n\u001B[0;32m    126\u001B[0m \u001B[38;5;129m@override\u001B[39m\n\u001B[0;32m    127\u001B[0m \u001B[38;5;129m@torch\u001B[39m\u001B[38;5;241m.\u001B[39menable_grad()\n\u001B[0;32m    128\u001B[0m \u001B[38;5;28;01mdef\u001B[39;00m \u001B[38;5;21mclosure\u001B[39m(\u001B[38;5;28mself\u001B[39m, \u001B[38;5;241m*\u001B[39margs: Any, \u001B[38;5;241m*\u001B[39m\u001B[38;5;241m*\u001B[39mkwargs: Any) \u001B[38;5;241m-\u001B[39m\u001B[38;5;241m>\u001B[39m ClosureResult:\n\u001B[1;32m--> 129\u001B[0m     step_output \u001B[38;5;241m=\u001B[39m \u001B[38;5;28mself\u001B[39m\u001B[38;5;241m.\u001B[39m_step_fn()\n\u001B[0;32m    131\u001B[0m     \u001B[38;5;28;01mif\u001B[39;00m step_output\u001B[38;5;241m.\u001B[39mclosure_loss \u001B[38;5;129;01mis\u001B[39;00m \u001B[38;5;28;01mNone\u001B[39;00m:\n",
      "File \u001B[1;32m~\\miniconda3\\envs\\pneumonia_detection\\Lib\\site-packages\\pytorch_lightning\\loops\\optimization\\automatic.py:317\u001B[0m, in \u001B[0;36m_AutomaticOptimization._training_step\u001B[1;34m(self, kwargs)\u001B[0m\n\u001B[0;32m    315\u001B[0m trainer \u001B[38;5;241m=\u001B[39m \u001B[38;5;28mself\u001B[39m\u001B[38;5;241m.\u001B[39mtrainer\n\u001B[1;32m--> 317\u001B[0m training_step_output \u001B[38;5;241m=\u001B[39m call\u001B[38;5;241m.\u001B[39m_call_strategy_hook(trainer, \u001B[38;5;124m\"\u001B[39m\u001B[38;5;124mtraining_step\u001B[39m\u001B[38;5;124m\"\u001B[39m, \u001B[38;5;241m*\u001B[39mkwargs\u001B[38;5;241m.\u001B[39mvalues())\n\u001B[0;32m    318\u001B[0m \u001B[38;5;28mself\u001B[39m\u001B[38;5;241m.\u001B[39mtrainer\u001B[38;5;241m.\u001B[39mstrategy\u001B[38;5;241m.\u001B[39mpost_training_step()  \u001B[38;5;66;03m# unused hook - call anyway for backward compatibility\u001B[39;00m\n",
      "File \u001B[1;32m~\\miniconda3\\envs\\pneumonia_detection\\Lib\\site-packages\\pytorch_lightning\\trainer\\call.py:319\u001B[0m, in \u001B[0;36m_call_strategy_hook\u001B[1;34m(trainer, hook_name, *args, **kwargs)\u001B[0m\n\u001B[0;32m    318\u001B[0m \u001B[38;5;28;01mwith\u001B[39;00m trainer\u001B[38;5;241m.\u001B[39mprofiler\u001B[38;5;241m.\u001B[39mprofile(\u001B[38;5;124mf\u001B[39m\u001B[38;5;124m\"\u001B[39m\u001B[38;5;124m[Strategy]\u001B[39m\u001B[38;5;132;01m{\u001B[39;00mtrainer\u001B[38;5;241m.\u001B[39mstrategy\u001B[38;5;241m.\u001B[39m\u001B[38;5;18m__class__\u001B[39m\u001B[38;5;241m.\u001B[39m\u001B[38;5;18m__name__\u001B[39m\u001B[38;5;132;01m}\u001B[39;00m\u001B[38;5;124m.\u001B[39m\u001B[38;5;132;01m{\u001B[39;00mhook_name\u001B[38;5;132;01m}\u001B[39;00m\u001B[38;5;124m\"\u001B[39m):\n\u001B[1;32m--> 319\u001B[0m     output \u001B[38;5;241m=\u001B[39m fn(\u001B[38;5;241m*\u001B[39margs, \u001B[38;5;241m*\u001B[39m\u001B[38;5;241m*\u001B[39mkwargs)\n\u001B[0;32m    321\u001B[0m \u001B[38;5;66;03m# restore current_fx when nested context\u001B[39;00m\n",
      "File \u001B[1;32m~\\miniconda3\\envs\\pneumonia_detection\\Lib\\site-packages\\pytorch_lightning\\strategies\\strategy.py:390\u001B[0m, in \u001B[0;36mStrategy.training_step\u001B[1;34m(self, *args, **kwargs)\u001B[0m\n\u001B[0;32m    389\u001B[0m     \u001B[38;5;28;01mreturn\u001B[39;00m \u001B[38;5;28mself\u001B[39m\u001B[38;5;241m.\u001B[39m_forward_redirection(\u001B[38;5;28mself\u001B[39m\u001B[38;5;241m.\u001B[39mmodel, \u001B[38;5;28mself\u001B[39m\u001B[38;5;241m.\u001B[39mlightning_module, \u001B[38;5;124m\"\u001B[39m\u001B[38;5;124mtraining_step\u001B[39m\u001B[38;5;124m\"\u001B[39m, \u001B[38;5;241m*\u001B[39margs, \u001B[38;5;241m*\u001B[39m\u001B[38;5;241m*\u001B[39mkwargs)\n\u001B[1;32m--> 390\u001B[0m \u001B[38;5;28;01mreturn\u001B[39;00m \u001B[38;5;28mself\u001B[39m\u001B[38;5;241m.\u001B[39mlightning_module\u001B[38;5;241m.\u001B[39mtraining_step(\u001B[38;5;241m*\u001B[39margs, \u001B[38;5;241m*\u001B[39m\u001B[38;5;241m*\u001B[39mkwargs)\n",
      "File \u001B[1;32m~\\Documents\\Studium\\Modules\\ComputerScienceProject\\MedicalImaging\\pneumonia_detection\\code\\classifier.py:95\u001B[0m, in \u001B[0;36mPneumoniaClassifier.training_step\u001B[1;34m(self, batch, batch_idx)\u001B[0m\n\u001B[0;32m     94\u001B[0m data, label \u001B[38;5;241m=\u001B[39m batch\n\u001B[1;32m---> 95\u001B[0m output \u001B[38;5;241m=\u001B[39m \u001B[38;5;28mself\u001B[39m\u001B[38;5;241m.\u001B[39mforward(data)\n\u001B[0;32m     96\u001B[0m loss \u001B[38;5;241m=\u001B[39m nn\u001B[38;5;241m.\u001B[39mCrossEntropyLoss()(output, label)\n",
      "File \u001B[1;32m~\\Documents\\Studium\\Modules\\ComputerScienceProject\\MedicalImaging\\pneumonia_detection\\code\\classifier.py:89\u001B[0m, in \u001B[0;36mPneumoniaClassifier.forward\u001B[1;34m(self, x)\u001B[0m\n\u001B[0;32m     88\u001B[0m \u001B[38;5;28;01mwith\u001B[39;00m torch\u001B[38;5;241m.\u001B[39mno_grad():\n\u001B[1;32m---> 89\u001B[0m     representations \u001B[38;5;241m=\u001B[39m \u001B[38;5;28mself\u001B[39m\u001B[38;5;241m.\u001B[39mfeature_extractor(x)\u001B[38;5;241m.\u001B[39mflatten(\u001B[38;5;241m1\u001B[39m)\n\u001B[0;32m     90\u001B[0m representations \u001B[38;5;241m=\u001B[39m \u001B[38;5;28mself\u001B[39m\u001B[38;5;241m.\u001B[39mdropout(representations)\n",
      "File \u001B[1;32m~\\miniconda3\\envs\\pneumonia_detection\\Lib\\site-packages\\torch\\nn\\modules\\module.py:1736\u001B[0m, in \u001B[0;36mModule._wrapped_call_impl\u001B[1;34m(self, *args, **kwargs)\u001B[0m\n\u001B[0;32m   1735\u001B[0m \u001B[38;5;28;01melse\u001B[39;00m:\n\u001B[1;32m-> 1736\u001B[0m     \u001B[38;5;28;01mreturn\u001B[39;00m \u001B[38;5;28mself\u001B[39m\u001B[38;5;241m.\u001B[39m_call_impl(\u001B[38;5;241m*\u001B[39margs, \u001B[38;5;241m*\u001B[39m\u001B[38;5;241m*\u001B[39mkwargs)\n",
      "File \u001B[1;32m~\\miniconda3\\envs\\pneumonia_detection\\Lib\\site-packages\\torch\\nn\\modules\\module.py:1747\u001B[0m, in \u001B[0;36mModule._call_impl\u001B[1;34m(self, *args, **kwargs)\u001B[0m\n\u001B[0;32m   1744\u001B[0m \u001B[38;5;28;01mif\u001B[39;00m \u001B[38;5;129;01mnot\u001B[39;00m (\u001B[38;5;28mself\u001B[39m\u001B[38;5;241m.\u001B[39m_backward_hooks \u001B[38;5;129;01mor\u001B[39;00m \u001B[38;5;28mself\u001B[39m\u001B[38;5;241m.\u001B[39m_backward_pre_hooks \u001B[38;5;129;01mor\u001B[39;00m \u001B[38;5;28mself\u001B[39m\u001B[38;5;241m.\u001B[39m_forward_hooks \u001B[38;5;129;01mor\u001B[39;00m \u001B[38;5;28mself\u001B[39m\u001B[38;5;241m.\u001B[39m_forward_pre_hooks\n\u001B[0;32m   1745\u001B[0m         \u001B[38;5;129;01mor\u001B[39;00m _global_backward_pre_hooks \u001B[38;5;129;01mor\u001B[39;00m _global_backward_hooks\n\u001B[0;32m   1746\u001B[0m         \u001B[38;5;129;01mor\u001B[39;00m _global_forward_hooks \u001B[38;5;129;01mor\u001B[39;00m _global_forward_pre_hooks):\n\u001B[1;32m-> 1747\u001B[0m     \u001B[38;5;28;01mreturn\u001B[39;00m forward_call(\u001B[38;5;241m*\u001B[39margs, \u001B[38;5;241m*\u001B[39m\u001B[38;5;241m*\u001B[39mkwargs)\n\u001B[0;32m   1749\u001B[0m result \u001B[38;5;241m=\u001B[39m \u001B[38;5;28;01mNone\u001B[39;00m\n",
      "File \u001B[1;32m~\\miniconda3\\envs\\pneumonia_detection\\Lib\\site-packages\\torch\\nn\\modules\\container.py:250\u001B[0m, in \u001B[0;36mSequential.forward\u001B[1;34m(self, input)\u001B[0m\n\u001B[0;32m    249\u001B[0m \u001B[38;5;28;01mfor\u001B[39;00m module \u001B[38;5;129;01min\u001B[39;00m \u001B[38;5;28mself\u001B[39m:\n\u001B[1;32m--> 250\u001B[0m     \u001B[38;5;28minput\u001B[39m \u001B[38;5;241m=\u001B[39m module(\u001B[38;5;28minput\u001B[39m)\n\u001B[0;32m    251\u001B[0m \u001B[38;5;28;01mreturn\u001B[39;00m \u001B[38;5;28minput\u001B[39m\n",
      "File \u001B[1;32m~\\miniconda3\\envs\\pneumonia_detection\\Lib\\site-packages\\torch\\nn\\modules\\module.py:1736\u001B[0m, in \u001B[0;36mModule._wrapped_call_impl\u001B[1;34m(self, *args, **kwargs)\u001B[0m\n\u001B[0;32m   1735\u001B[0m \u001B[38;5;28;01melse\u001B[39;00m:\n\u001B[1;32m-> 1736\u001B[0m     \u001B[38;5;28;01mreturn\u001B[39;00m \u001B[38;5;28mself\u001B[39m\u001B[38;5;241m.\u001B[39m_call_impl(\u001B[38;5;241m*\u001B[39margs, \u001B[38;5;241m*\u001B[39m\u001B[38;5;241m*\u001B[39mkwargs)\n",
      "File \u001B[1;32m~\\miniconda3\\envs\\pneumonia_detection\\Lib\\site-packages\\torch\\nn\\modules\\module.py:1747\u001B[0m, in \u001B[0;36mModule._call_impl\u001B[1;34m(self, *args, **kwargs)\u001B[0m\n\u001B[0;32m   1744\u001B[0m \u001B[38;5;28;01mif\u001B[39;00m \u001B[38;5;129;01mnot\u001B[39;00m (\u001B[38;5;28mself\u001B[39m\u001B[38;5;241m.\u001B[39m_backward_hooks \u001B[38;5;129;01mor\u001B[39;00m \u001B[38;5;28mself\u001B[39m\u001B[38;5;241m.\u001B[39m_backward_pre_hooks \u001B[38;5;129;01mor\u001B[39;00m \u001B[38;5;28mself\u001B[39m\u001B[38;5;241m.\u001B[39m_forward_hooks \u001B[38;5;129;01mor\u001B[39;00m \u001B[38;5;28mself\u001B[39m\u001B[38;5;241m.\u001B[39m_forward_pre_hooks\n\u001B[0;32m   1745\u001B[0m         \u001B[38;5;129;01mor\u001B[39;00m _global_backward_pre_hooks \u001B[38;5;129;01mor\u001B[39;00m _global_backward_hooks\n\u001B[0;32m   1746\u001B[0m         \u001B[38;5;129;01mor\u001B[39;00m _global_forward_hooks \u001B[38;5;129;01mor\u001B[39;00m _global_forward_pre_hooks):\n\u001B[1;32m-> 1747\u001B[0m     \u001B[38;5;28;01mreturn\u001B[39;00m forward_call(\u001B[38;5;241m*\u001B[39margs, \u001B[38;5;241m*\u001B[39m\u001B[38;5;241m*\u001B[39mkwargs)\n\u001B[0;32m   1749\u001B[0m result \u001B[38;5;241m=\u001B[39m \u001B[38;5;28;01mNone\u001B[39;00m\n",
      "File \u001B[1;32m~\\miniconda3\\envs\\pneumonia_detection\\Lib\\site-packages\\torch\\nn\\modules\\container.py:250\u001B[0m, in \u001B[0;36mSequential.forward\u001B[1;34m(self, input)\u001B[0m\n\u001B[0;32m    249\u001B[0m \u001B[38;5;28;01mfor\u001B[39;00m module \u001B[38;5;129;01min\u001B[39;00m \u001B[38;5;28mself\u001B[39m:\n\u001B[1;32m--> 250\u001B[0m     \u001B[38;5;28minput\u001B[39m \u001B[38;5;241m=\u001B[39m module(\u001B[38;5;28minput\u001B[39m)\n\u001B[0;32m    251\u001B[0m \u001B[38;5;28;01mreturn\u001B[39;00m \u001B[38;5;28minput\u001B[39m\n",
      "File \u001B[1;32m~\\miniconda3\\envs\\pneumonia_detection\\Lib\\site-packages\\torch\\nn\\modules\\module.py:1736\u001B[0m, in \u001B[0;36mModule._wrapped_call_impl\u001B[1;34m(self, *args, **kwargs)\u001B[0m\n\u001B[0;32m   1735\u001B[0m \u001B[38;5;28;01melse\u001B[39;00m:\n\u001B[1;32m-> 1736\u001B[0m     \u001B[38;5;28;01mreturn\u001B[39;00m \u001B[38;5;28mself\u001B[39m\u001B[38;5;241m.\u001B[39m_call_impl(\u001B[38;5;241m*\u001B[39margs, \u001B[38;5;241m*\u001B[39m\u001B[38;5;241m*\u001B[39mkwargs)\n",
      "File \u001B[1;32m~\\miniconda3\\envs\\pneumonia_detection\\Lib\\site-packages\\torch\\nn\\modules\\module.py:1747\u001B[0m, in \u001B[0;36mModule._call_impl\u001B[1;34m(self, *args, **kwargs)\u001B[0m\n\u001B[0;32m   1744\u001B[0m \u001B[38;5;28;01mif\u001B[39;00m \u001B[38;5;129;01mnot\u001B[39;00m (\u001B[38;5;28mself\u001B[39m\u001B[38;5;241m.\u001B[39m_backward_hooks \u001B[38;5;129;01mor\u001B[39;00m \u001B[38;5;28mself\u001B[39m\u001B[38;5;241m.\u001B[39m_backward_pre_hooks \u001B[38;5;129;01mor\u001B[39;00m \u001B[38;5;28mself\u001B[39m\u001B[38;5;241m.\u001B[39m_forward_hooks \u001B[38;5;129;01mor\u001B[39;00m \u001B[38;5;28mself\u001B[39m\u001B[38;5;241m.\u001B[39m_forward_pre_hooks\n\u001B[0;32m   1745\u001B[0m         \u001B[38;5;129;01mor\u001B[39;00m _global_backward_pre_hooks \u001B[38;5;129;01mor\u001B[39;00m _global_backward_hooks\n\u001B[0;32m   1746\u001B[0m         \u001B[38;5;129;01mor\u001B[39;00m _global_forward_hooks \u001B[38;5;129;01mor\u001B[39;00m _global_forward_pre_hooks):\n\u001B[1;32m-> 1747\u001B[0m     \u001B[38;5;28;01mreturn\u001B[39;00m forward_call(\u001B[38;5;241m*\u001B[39margs, \u001B[38;5;241m*\u001B[39m\u001B[38;5;241m*\u001B[39mkwargs)\n\u001B[0;32m   1749\u001B[0m result \u001B[38;5;241m=\u001B[39m \u001B[38;5;28;01mNone\u001B[39;00m\n",
      "File \u001B[1;32m~\\miniconda3\\envs\\pneumonia_detection\\Lib\\site-packages\\torchvision\\models\\resnet.py:161\u001B[0m, in \u001B[0;36mBottleneck.forward\u001B[1;34m(self, x)\u001B[0m\n\u001B[0;32m    160\u001B[0m out \u001B[38;5;241m+\u001B[39m\u001B[38;5;241m=\u001B[39m identity\n\u001B[1;32m--> 161\u001B[0m out \u001B[38;5;241m=\u001B[39m \u001B[38;5;28mself\u001B[39m\u001B[38;5;241m.\u001B[39mrelu(out)\n\u001B[0;32m    163\u001B[0m \u001B[38;5;28;01mreturn\u001B[39;00m out\n",
      "File \u001B[1;32m~\\miniconda3\\envs\\pneumonia_detection\\Lib\\site-packages\\torch\\nn\\modules\\module.py:1918\u001B[0m, in \u001B[0;36mModule.__getattr__\u001B[1;34m(self, name)\u001B[0m\n\u001B[0;32m   1911\u001B[0m \u001B[38;5;66;03m# On the return type:\u001B[39;00m\n\u001B[0;32m   1912\u001B[0m \u001B[38;5;66;03m# We choose to return `Any` in the `__getattr__` type signature instead of a more strict `Union[Tensor, Module]`.\u001B[39;00m\n\u001B[0;32m   1913\u001B[0m \u001B[38;5;66;03m# This is done for better interop with various type checkers for the end users.\u001B[39;00m\n\u001B[1;32m   (...)\u001B[0m\n\u001B[0;32m   1916\u001B[0m \u001B[38;5;66;03m# See full discussion on the problems with returning `Union` here\u001B[39;00m\n\u001B[0;32m   1917\u001B[0m \u001B[38;5;66;03m# https://github.com/microsoft/pyright/issues/4213\u001B[39;00m\n\u001B[1;32m-> 1918\u001B[0m \u001B[38;5;28;01mdef\u001B[39;00m \u001B[38;5;21m__getattr__\u001B[39m(\u001B[38;5;28mself\u001B[39m, name: \u001B[38;5;28mstr\u001B[39m) \u001B[38;5;241m-\u001B[39m\u001B[38;5;241m>\u001B[39m Any:\n\u001B[0;32m   1919\u001B[0m     \u001B[38;5;28;01mif\u001B[39;00m \u001B[38;5;124m\"\u001B[39m\u001B[38;5;124m_parameters\u001B[39m\u001B[38;5;124m\"\u001B[39m \u001B[38;5;129;01min\u001B[39;00m \u001B[38;5;28mself\u001B[39m\u001B[38;5;241m.\u001B[39m\u001B[38;5;18m__dict__\u001B[39m:\n",
      "\u001B[1;31mKeyboardInterrupt\u001B[0m: ",
      "\nDuring handling of the above exception, another exception occurred:\n",
      "\u001B[1;31mNameError\u001B[0m                                 Traceback (most recent call last)",
      "Cell \u001B[1;32mIn[11], line 22\u001B[0m\n\u001B[0;32m      7\u001B[0m config \u001B[38;5;241m=\u001B[39m Config(\n\u001B[0;32m      8\u001B[0m     backbone_name\u001B[38;5;241m=\u001B[39m\u001B[38;5;124m\"\u001B[39m\u001B[38;5;124mresnet50\u001B[39m\u001B[38;5;124m\"\u001B[39m,\n\u001B[0;32m      9\u001B[0m     transfer_learning\u001B[38;5;241m=\u001B[39m\u001B[38;5;28;01mFalse\u001B[39;00m,\n\u001B[1;32m   (...)\u001B[0m\n\u001B[0;32m     18\u001B[0m     optimizer_name \u001B[38;5;241m=\u001B[39m \u001B[38;5;124m\"\u001B[39m\u001B[38;5;124msgd\u001B[39m\u001B[38;5;124m\"\u001B[39m\n\u001B[0;32m     19\u001B[0m )\n\u001B[0;32m     21\u001B[0m model \u001B[38;5;241m=\u001B[39m PneumoniaClassifier(config, transform)\n\u001B[1;32m---> 22\u001B[0m model\u001B[38;5;241m.\u001B[39mtrain_model()\n\u001B[0;32m     24\u001B[0m checkpoint \u001B[38;5;241m=\u001B[39m torch\u001B[38;5;241m.\u001B[39mload(\u001B[38;5;124mf\u001B[39m\u001B[38;5;124m\"\u001B[39m\u001B[38;5;124m../checkpoints/\u001B[39m\u001B[38;5;132;01m{\u001B[39;00mconfig\u001B[38;5;241m.\u001B[39mmodel_name\u001B[38;5;132;01m}\u001B[39;00m\u001B[38;5;124m.ckpt\u001B[39m\u001B[38;5;124m\"\u001B[39m, weights_only\u001B[38;5;241m=\u001B[39m\u001B[38;5;28;01mTrue\u001B[39;00m)\n\u001B[0;32m     26\u001B[0m \u001B[38;5;66;03m# Access the metadata\u001B[39;00m\n",
      "File \u001B[1;32m~\\Documents\\Studium\\Modules\\ComputerScienceProject\\MedicalImaging\\pneumonia_detection\\code\\classifier.py:201\u001B[0m, in \u001B[0;36mPneumoniaClassifier.train_model\u001B[1;34m(self)\u001B[0m\n\u001B[0;32m    200\u001B[0m \u001B[38;5;28;01mdef\u001B[39;00m \u001B[38;5;21mtrain_model\u001B[39m(\u001B[38;5;28mself\u001B[39m):\n\u001B[1;32m--> 201\u001B[0m     \u001B[38;5;28mself\u001B[39m\u001B[38;5;241m.\u001B[39mtrainer\u001B[38;5;241m.\u001B[39mfit(\u001B[38;5;28mself\u001B[39m, \u001B[38;5;28mself\u001B[39m\u001B[38;5;241m.\u001B[39mtrain_loader, \u001B[38;5;28mself\u001B[39m\u001B[38;5;241m.\u001B[39mval_loader)\n",
      "File \u001B[1;32m~\\miniconda3\\envs\\pneumonia_detection\\Lib\\site-packages\\pytorch_lightning\\trainer\\trainer.py:538\u001B[0m, in \u001B[0;36mTrainer.fit\u001B[1;34m(self, model, train_dataloaders, val_dataloaders, datamodule, ckpt_path)\u001B[0m\n\u001B[0;32m    536\u001B[0m \u001B[38;5;28mself\u001B[39m\u001B[38;5;241m.\u001B[39mstate\u001B[38;5;241m.\u001B[39mstatus \u001B[38;5;241m=\u001B[39m TrainerStatus\u001B[38;5;241m.\u001B[39mRUNNING\n\u001B[0;32m    537\u001B[0m \u001B[38;5;28mself\u001B[39m\u001B[38;5;241m.\u001B[39mtraining \u001B[38;5;241m=\u001B[39m \u001B[38;5;28;01mTrue\u001B[39;00m\n\u001B[1;32m--> 538\u001B[0m call\u001B[38;5;241m.\u001B[39m_call_and_handle_interrupt(\n\u001B[0;32m    539\u001B[0m     \u001B[38;5;28mself\u001B[39m, \u001B[38;5;28mself\u001B[39m\u001B[38;5;241m.\u001B[39m_fit_impl, model, train_dataloaders, val_dataloaders, datamodule, ckpt_path\n\u001B[0;32m    540\u001B[0m )\n",
      "File \u001B[1;32m~\\miniconda3\\envs\\pneumonia_detection\\Lib\\site-packages\\pytorch_lightning\\trainer\\call.py:64\u001B[0m, in \u001B[0;36m_call_and_handle_interrupt\u001B[1;34m(trainer, trainer_fn, *args, **kwargs)\u001B[0m\n\u001B[0;32m     62\u001B[0m     \u001B[38;5;28;01mif\u001B[39;00m \u001B[38;5;28misinstance\u001B[39m(launcher, _SubprocessScriptLauncher):\n\u001B[0;32m     63\u001B[0m         launcher\u001B[38;5;241m.\u001B[39mkill(_get_sigkill_signal())\n\u001B[1;32m---> 64\u001B[0m     exit(\u001B[38;5;241m1\u001B[39m)\n\u001B[0;32m     66\u001B[0m \u001B[38;5;28;01mexcept\u001B[39;00m \u001B[38;5;167;01mBaseException\u001B[39;00m \u001B[38;5;28;01mas\u001B[39;00m exception:\n\u001B[0;32m     67\u001B[0m     _interrupt(trainer, exception)\n",
      "\u001B[1;31mNameError\u001B[0m: name 'exit' is not defined"
     ]
    }
   ],
   "execution_count": 11
  },
  {
   "metadata": {},
   "cell_type": "code",
   "outputs": [],
   "execution_count": null,
   "source": [
    "transform = transforms.Compose([\n",
    "    transforms.Resize((1000, 1000)),\n",
    "    transforms.ToTensor(),\n",
    "    transforms.Normalize(mean=[0.485, 0.456, 0.406], std=[0.229, 0.224, 0.225])\n",
    "])\n",
    "\n",
    "config = Config(\n",
    "    backbone_name=\"resnet18\",\n",
    "    transfer_learning=True,\n",
    "    learning_rate=1e-4,\n",
    "    batch_size=20,\n",
    "    max_epochs=100,\n",
    "    weight_decay=1e-4,\n",
    "    dropout=0.5,\n",
    "    num_workers=31,\n",
    "    model_name=\"ResNet18_transfer\",\n",
    "    version=\"001\",\n",
    "    optimizer_name = \"sgd\"\n",
    ")\n",
    "\n",
    "model = PneumoniaClassifier(config, transform)\n",
    "model.train_model()\n",
    "\n",
    "checkpoint = torch.load(f\"../checkpoints/{config.model_name}.ckpt\", weights_only=True)\n",
    "\n",
    "# Access the metadata\n",
    "metadata = checkpoint.get(\"metadata\", {})\n",
    "\n",
    "# Initialize the models\n",
    "model = PneumoniaClassifier(config, transform)\n",
    "# Test the models\n",
    "metadata = model.test_model(f\"../checkpoints/{config.model_name}.ckpt\")\n",
    "\n",
    "# Print the metadata\n",
    "print(metadata)"
   ],
   "id": "f176a3a06cdb953"
  },
  {
   "metadata": {},
   "cell_type": "code",
   "outputs": [],
   "execution_count": null,
   "source": [
    "transform = transforms.Compose([\n",
    "    transforms.Resize((1000, 1000)),\n",
    "    transforms.ToTensor(),\n",
    "    transforms.Normalize(mean=[0.485, 0.456, 0.406], std=[0.229, 0.224, 0.225])\n",
    "])\n",
    "\n",
    "config = Config(\n",
    "    backbone_name=\"resnet18\",\n",
    "    transfer_learning=False,\n",
    "    learning_rate=1e-4,\n",
    "    batch_size=20,\n",
    "    max_epochs=100,\n",
    "    weight_decay=1e-4,\n",
    "    dropout=0.5,\n",
    "    num_workers=31,\n",
    "    model_name=\"ResNet18\",\n",
    "    version=\"001\",\n",
    "    optimizer_name = \"sgd\"\n",
    ")\n",
    "\n",
    "model = PneumoniaClassifier(config, transform)\n",
    "model.train_model()\n",
    "\n",
    "checkpoint = torch.load(f\"../checkpoints/{config.model_name}.ckpt\", weights_only=True)\n",
    "\n",
    "# Access the metadata\n",
    "metadata = checkpoint.get(\"metadata\", {})\n",
    "\n",
    "# Initialize the models\n",
    "model = PneumoniaClassifier(config, transform)\n",
    "# Test the models\n",
    "metadata = model.test_model(f\"../checkpoints/{config.model_name}.ckpt\")\n",
    "\n",
    "# Print the metadata\n",
    "print(metadata)"
   ],
   "id": "af5acc198a915725"
  },
  {
   "metadata": {
    "ExecuteTime": {
     "end_time": "2024-11-25T07:16:04.061467800Z",
     "start_time": "2024-11-19T18:43:28.127075Z"
    }
   },
   "cell_type": "code",
   "source": [
    "# Start TensorBoard and point it to the log directory\n",
    "%tensorboard --logdir tb_logs/ResNet50_transfer/version_2"
   ],
   "id": "ef3158b5a2ae5988",
   "outputs": [
    {
     "name": "stdout",
     "output_type": "stream",
     "text": [
      "The tensorboard extension is already loaded. To reload it, use:\n",
      "  %reload_ext tensorboard\n"
     ]
    },
    {
     "data": {
      "text/plain": [
       "Reusing TensorBoard on port 6007 (pid 39112), started 2 days, 4:06:44 ago. (Use '!kill 39112' to kill it.)"
      ]
     },
     "metadata": {},
     "output_type": "display_data"
    },
    {
     "data": {
      "text/plain": [
       "<IPython.core.display.HTML object>"
      ],
      "text/html": [
       "\n",
       "      <iframe id=\"tensorboard-frame-23f40109614d52b7\" width=\"100%\" height=\"800\" frameborder=\"0\">\n",
       "      </iframe>\n",
       "      <script>\n",
       "        (function() {\n",
       "          const frame = document.getElementById(\"tensorboard-frame-23f40109614d52b7\");\n",
       "          const url = new URL(\"/\", window.location);\n",
       "          const port = 6007;\n",
       "          if (port) {\n",
       "            url.port = port;\n",
       "          }\n",
       "          frame.src = url;\n",
       "        })();\n",
       "      </script>\n",
       "    "
      ]
     },
     "metadata": {},
     "output_type": "display_data"
    }
   ],
   "execution_count": 19
  },
  {
   "metadata": {},
   "cell_type": "markdown",
   "source": "# Add Regularization",
   "id": "e934eec0c876e1ae"
  },
  {
   "metadata": {},
   "cell_type": "code",
   "outputs": [],
   "execution_count": null,
   "source": "",
   "id": "66c72093ed0d46c4"
  }
 ],
 "metadata": {
  "kernelspec": {
   "display_name": "Python 3",
   "language": "python",
   "name": "python3"
  },
  "language_info": {
   "codemirror_mode": {
    "name": "ipython",
    "version": 2
   },
   "file_extension": ".py",
   "mimetype": "text/x-python",
   "name": "python",
   "nbconvert_exporter": "python",
   "pygments_lexer": "ipython2",
   "version": "2.7.6"
  }
 },
 "nbformat": 4,
 "nbformat_minor": 5
}
