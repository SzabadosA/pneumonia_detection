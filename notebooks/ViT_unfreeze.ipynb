{
 "cells": [
  {
   "cell_type": "markdown",
   "id": "edef74c71e6ebce5",
   "metadata": {},
   "source": [
    "# Import Libraries"
   ]
  },
  {
   "cell_type": "code",
   "execution_count": null,
   "id": "initial_id",
   "metadata": {
    "ExecuteTime": {
     "end_time": "2024-12-05T20:45:22.138831Z",
     "start_time": "2024-12-05T20:45:22.132302Z"
    },
    "collapsed": true,
    "execution": {
     "iopub.execute_input": "2024-12-07T11:53:30.194533Z",
     "iopub.status.busy": "2024-12-07T11:53:30.194533Z",
     "iopub.status.idle": "2024-12-07T11:53:38.627307Z",
     "shell.execute_reply": "2024-12-07T11:53:38.626284Z"
    }
   },
   "outputs": [],
   "source": [
    "\n",
    "import os\n",
    "from torchvision.transforms import Compose, Resize, InterpolationMode, ToTensor, Normalize, RandomCrop, RandomHorizontalFlip\n",
    "import torch\n",
    "from code.classifier import PneumoniaClassifier, Config\n",
    "from code.plot_random_image import plot_random_image_from_loader\n",
    "from code.classify_random_images import plot_random_images_with_labels\n",
    "from sklearn.metrics import ConfusionMatrixDisplay, confusion_matrix\n",
    "import matplotlib.pyplot as plt\n",
    "from torchvision import transforms\n",
    "from code.classifier import PneumoniaClassifier\n",
    "from code.dataloader import DataLoader\n",
    "\n"
   ]
  },
  {
   "cell_type": "code",
   "execution_count": null,
   "id": "4376ace1b8695239",
   "metadata": {
    "ExecuteTime": {
     "end_time": "2024-12-05T20:45:22.412364Z",
     "start_time": "2024-12-05T20:45:22.403419Z"
    },
    "execution": {
     "iopub.execute_input": "2024-12-07T11:53:38.631320Z",
     "iopub.status.busy": "2024-12-07T11:53:38.630282Z",
     "iopub.status.idle": "2024-12-07T11:53:38.649480Z",
     "shell.execute_reply": "2024-12-07T11:53:38.648458Z"
    }
   },
   "outputs": [],
   "source": [
    "\n",
    "# Load the TensorBoard\n",
    "%reload_ext tensorboard\n",
    "%load_ext tensorboard\n"
   ]
  },
  {
   "cell_type": "code",
   "execution_count": null,
   "id": "69e053f3a82f28da",
   "metadata": {
    "ExecuteTime": {
     "end_time": "2024-12-05T20:45:22.425403Z",
     "start_time": "2024-12-05T20:45:22.419388Z"
    },
    "execution": {
     "iopub.execute_input": "2024-12-07T11:53:38.652468Z",
     "iopub.status.busy": "2024-12-07T11:53:38.652468Z",
     "iopub.status.idle": "2024-12-07T11:53:38.657479Z",
     "shell.execute_reply": "2024-12-07T11:53:38.656471Z"
    }
   },
   "outputs": [],
   "source": [
    "# Enable CUDA Launch Blocking\n",
    "os.environ['CUDA_LAUNCH_BLOCKING'] = '1'\n",
    "# Set float32 matrix multiplication precision to 'medium' to utilize Tensor Cores\n",
    "torch.set_float32_matmul_precision('medium')\n",
    "torch.serialization.add_safe_globals([Compose, Resize, set, Config, InterpolationMode, ToTensor, Normalize, RandomHorizontalFlip])"
   ]
  },
  {
   "cell_type": "markdown",
   "id": "c4e73085475698cb",
   "metadata": {},
   "source": [
    "# Check GPU Availability"
   ]
  },
  {
   "cell_type": "code",
   "execution_count": null,
   "id": "ba465dcd3a376771",
   "metadata": {
    "ExecuteTime": {
     "end_time": "2024-12-05T20:45:23.140604Z",
     "start_time": "2024-12-05T20:45:22.955616Z"
    },
    "execution": {
     "iopub.execute_input": "2024-12-07T11:53:38.660481Z",
     "iopub.status.busy": "2024-12-07T11:53:38.660481Z",
     "iopub.status.idle": "2024-12-07T11:53:38.840195Z",
     "shell.execute_reply": "2024-12-07T11:53:38.839196Z"
    }
   },
   "outputs": [],
   "source": [
    "gpu_info = !nvidia-smi\n",
    "gpu_info = '\\n'.join(gpu_info)\n",
    "if gpu_info.find('failed') >= 0:\n",
    "    print('Not connected to a GPU')\n",
    "else:\n",
    "    print(gpu_info)"
   ]
  },
  {
   "cell_type": "markdown",
   "id": "72000018a252c38",
   "metadata": {},
   "source": [
    "# Setup Model"
   ]
  },
  {
   "cell_type": "code",
   "execution_count": null,
   "id": "4014586acf1f2311",
   "metadata": {
    "ExecuteTime": {
     "end_time": "2024-12-05T20:45:30.258667Z",
     "start_time": "2024-12-05T20:45:23.150642Z"
    },
    "execution": {
     "iopub.execute_input": "2024-12-07T11:53:38.843196Z",
     "iopub.status.busy": "2024-12-07T11:53:38.843196Z",
     "iopub.status.idle": "2024-12-07T11:53:40.094442Z",
     "shell.execute_reply": "2024-12-07T11:53:40.093446Z"
    }
   },
   "outputs": [],
   "source": [
    "config = Config(\n",
    "    backbone_name=\"google/vit-base-patch16-224\",\n",
    "    transfer_learning=True,\n",
    "    learning_rate=1e-5,\n",
    "    batch_size=32,\n",
    "    max_epochs=100,\n",
    "    weight_decay=1e-5,\n",
    "    dropout=0.3,\n",
    "    num_workers=16,\n",
    "    model_name=\"Vit-unfreeze\",\n",
    "    version=\"001\",\n",
    "    optimizer_name = \"adam\",\n",
    "    use_class_weights=True,\n",
    "    image_res=384,\n",
    "    patience = 10,\n",
    "    image_type=3\n",
    ")\n",
    "model = PneumoniaClassifier(config)\n",
    "device = torch.device(\"cuda\" if torch.cuda.is_available() else \"cpu\")\n",
    "model = model.to(device)\n",
    "\n",
    "\n"
   ]
  },
  {
   "cell_type": "markdown",
   "id": "f9fad1c4b6515630",
   "metadata": {},
   "source": [
    "# Plot random images from all datasets"
   ]
  },
  {
   "cell_type": "code",
   "execution_count": null,
   "id": "484a34133e6799cb",
   "metadata": {
    "ExecuteTime": {
     "end_time": "2024-12-05T20:45:30.263668200Z",
     "start_time": "2024-12-05T19:13:47.397765Z"
    }
   },
   "outputs": [],
   "source": [
    "plot_random_image_from_loader(model.train_loader.dataset, \"Train Dataset\", normalize=False)"
   ]
  },
  {
   "cell_type": "code",
   "execution_count": null,
   "id": "8fd665ef08dafd7f",
   "metadata": {
    "ExecuteTime": {
     "end_time": "2024-12-05T20:45:30.263668200Z",
     "start_time": "2024-12-05T19:13:47.887104Z"
    }
   },
   "outputs": [],
   "source": [
    "plot_random_image_from_loader(model.val_loader.dataset, \"Validation Dataset\", normalize=False)"
   ]
  },
  {
   "cell_type": "code",
   "execution_count": null,
   "id": "c3529628b6269dc4",
   "metadata": {
    "ExecuteTime": {
     "end_time": "2024-12-05T20:45:30.264703500Z",
     "start_time": "2024-12-05T19:13:48.403241Z"
    }
   },
   "outputs": [],
   "source": [
    "plot_random_image_from_loader(model.test_loader.dataset, \"Test Dataset\", normalize=False)"
   ]
  },
  {
   "cell_type": "markdown",
   "id": "9f803b343bf2619b",
   "metadata": {},
   "source": [
    "# Train Model"
   ]
  },
  {
   "cell_type": "code",
   "execution_count": null,
   "id": "d08c054aa7b21aa",
   "metadata": {
    "ExecuteTime": {
     "end_time": "2024-12-05T20:45:30.274666600Z",
     "start_time": "2024-12-05T19:13:48.875001Z"
    }
   },
   "outputs": [],
   "source": [
    "\n",
    "# Train Model\n",
    "model.train_model()\n",
    "torch.save({\n",
    "    \"state_dict\": model.state_dict(),\n",
    "    \"config\": config\n",
    "}, f\"../models/{config.model_name}_final.pt\")"
   ]
  },
  {
   "cell_type": "markdown",
   "id": "389fe2c9d480ef8b",
   "metadata": {},
   "source": [
    "# Load Model"
   ]
  },
  {
   "cell_type": "code",
   "execution_count": null,
   "id": "1fa424496604d224",
   "metadata": {
    "ExecuteTime": {
     "end_time": "2024-12-05T20:45:30.275698700Z",
     "start_time": "2024-12-05T20:09:27.536132Z"
    }
   },
   "outputs": [],
   "source": [
    "\n",
    "checkpoint = torch.load(f\"../models/{config.model_name}_final.pt\")\n",
    "loaded_config = checkpoint[\"config\"]\n",
    "model = PneumoniaClassifier(loaded_config)\n",
    "model.load_state_dict(checkpoint[\"state_dict\"])\n",
    "model.eval()\n",
    "model = model.to(device)"
   ]
  },
  {
   "cell_type": "markdown",
   "id": "8b74b21135f88787",
   "metadata": {},
   "source": [
    "# Test Model"
   ]
  },
  {
   "cell_type": "code",
   "execution_count": null,
   "id": "b3ada03ddef1ef1a",
   "metadata": {
    "ExecuteTime": {
     "end_time": "2024-12-05T20:45:30.285693700Z",
     "start_time": "2024-12-05T20:33:45.378959Z"
    }
   },
   "outputs": [],
   "source": [
    "# Run testing\n",
    "print(\"Testing the model...\")\n",
    "checkpoint_path = f\"../checkpoints/{config.model_name}.ckpt\"\n",
    "test_metadata = model.test_model(checkpoint_path)  # Ensure this uses the correct test_loader"
   ]
  },
  {
   "cell_type": "markdown",
   "id": "980063058cafcab9",
   "metadata": {},
   "source": [
    "# Plot Confusion Matrix"
   ]
  },
  {
   "cell_type": "code",
   "execution_count": null,
   "id": "d1339a78e765a1d",
   "metadata": {
    "ExecuteTime": {
     "end_time": "2024-12-05T20:45:30.286668300Z",
     "start_time": "2024-12-05T20:34:31.471041Z"
    }
   },
   "outputs": [],
   "source": [
    "def plot_confusion_matrix(model, dataloader, class_names):\n",
    "    all_preds = []\n",
    "    all_labels = []\n",
    "\n",
    "    # Get predictions and true labels\n",
    "    device = torch.device(\"cuda\" if torch.cuda.is_available() else \"cpu\")\n",
    "    model = model.to(device)\n",
    "    model.eval()\n",
    "    with torch.no_grad():\n",
    "        for data, labels, _ in dataloader:\n",
    "            data = data.cuda()  # Move data to GPU if available\n",
    "            labels = labels.cuda()\n",
    "            preds = torch.argmax(model(data), dim=1)\n",
    "            all_preds.extend(preds.cpu().numpy())\n",
    "            all_labels.extend(labels.cpu().numpy())\n",
    "\n",
    "    # Compute confusion matrix\n",
    "    cm = confusion_matrix(all_labels, all_preds)\n",
    "    disp = ConfusionMatrixDisplay(cm, display_labels=class_names)\n",
    "    disp.plot(cmap=\"Blues\")\n",
    "    plt.title(\"Confusion Matrix\")\n",
    "    plt.show()\n",
    "\n",
    "# Call this after training/testing\n",
    "plot_confusion_matrix(model, model.test_loader, class_names=[\"Normal\", \"Pneumonia\"])"
   ]
  },
  {
   "cell_type": "markdown",
   "id": "dcfca44f0df1056b",
   "metadata": {},
   "source": [
    "# Plot ROC/AUC Score"
   ]
  },
  {
   "cell_type": "code",
   "execution_count": null,
   "id": "e76ce3f3a224e341",
   "metadata": {
    "ExecuteTime": {
     "end_time": "2024-12-05T20:45:30.292667700Z",
     "start_time": "2024-12-05T20:35:14.767612Z"
    }
   },
   "outputs": [],
   "source": [
    "from sklearn.metrics import roc_curve, roc_auc_score\n",
    "\n",
    "def plot_roc_auc(model, dataloader):\n",
    "    all_preds = []\n",
    "    all_labels = []\n",
    "\n",
    "    # Get predictions and true labels\n",
    "    model.eval()\n",
    "    with torch.no_grad():\n",
    "        for data, labels, _ in dataloader:\n",
    "            data = data.cuda()\n",
    "            labels = labels.cuda()\n",
    "            preds = model(data)\n",
    "            probs = torch.softmax(preds, dim=1)[:, 1]  # Probabilities for class 1\n",
    "            all_preds.extend(probs.cpu().numpy())\n",
    "            all_labels.extend(labels.cpu().numpy())\n",
    "\n",
    "    # Compute ROC curve and AUC\n",
    "    fpr, tpr, _ = roc_curve(all_labels, all_preds)\n",
    "    auc = roc_auc_score(all_labels, all_preds)\n",
    "\n",
    "    # Plot ROC curve\n",
    "    plt.figure()\n",
    "    plt.plot(fpr, tpr, color='darkorange', lw=2, label=f'ROC curve (AUC = {auc:.2f})')\n",
    "    plt.plot([0, 1], [0, 1], color='navy', lw=2, linestyle='--')\n",
    "    plt.xlabel('False Positive Rate')\n",
    "    plt.ylabel('True Positive Rate')\n",
    "    plt.title('ROC Curve')\n",
    "    plt.legend(loc=\"lower right\")\n",
    "    plt.show()\n",
    "\n",
    "plot_roc_auc(model, model.test_loader)"
   ]
  },
  {
   "cell_type": "markdown",
   "id": "7ede0abe2194aaec",
   "metadata": {},
   "source": [
    "# Plot Gradcam"
   ]
  },
  {
   "cell_type": "code",
   "execution_count": null,
   "id": "f63382fe6cdfe619",
   "metadata": {
    "ExecuteTime": {
     "end_time": "2024-12-05T20:45:30.293696600Z",
     "start_time": "2024-12-05T20:38:30.404469Z"
    }
   },
   "outputs": [],
   "source": [
    "for param in model.feature_extractor.parameters():\n",
    "    param.requires_grad = True\n",
    "\n",
    "from pytorch_grad_cam import GradCAM\n",
    "from pytorch_grad_cam.utils.image import show_cam_on_image\n",
    "import numpy as np\n",
    "\n",
    "def reshape_transform(tensor):\n",
    "    activations = tensor[:, 1:, :]\n",
    "    activations = activations.reshape(activations.shape[0], int(np.sqrt(activations.shape[1])), -1, activations.shape[2])\n",
    "    return activations.permute(0, 3, 1, 2)\n",
    "\n",
    "# Use the last layer of the encoder as the target\n",
    "target_layer = model.feature_extractor.vit.encoder.layer[-1]\n",
    "\n",
    "# Initialize Grad-CAM\n",
    "cam = GradCAM(model=model, target_layers=[target_layer], reshape_transform=reshape_transform)\n",
    "\n",
    "# Pass input image tensor\n",
    "input_tensor = inputs  # Your input tensor\n",
    "grayscale_cam = cam(input_tensor=input_tensor)\n",
    "\n",
    "# Visualize Grad-CAM\n",
    "heatmap = show_cam_on_image(rgb_image, grayscale_cam[0], use_rgb=True)\n",
    "\n"
   ]
  },
  {
   "cell_type": "markdown",
   "id": "1f602b5c09fdb60",
   "metadata": {},
   "source": [
    "# Evaluate Metrics in Tensorboard"
   ]
  },
  {
   "cell_type": "code",
   "execution_count": null,
   "id": "41a571c74fefdaeb",
   "metadata": {
    "ExecuteTime": {
     "end_time": "2024-12-05T20:45:30.293696600Z",
     "start_time": "2024-12-05T07:27:44.252297Z"
    }
   },
   "outputs": [],
   "source": [
    "# Load TensorBoard extension\n",
    "%load_ext tensorboard\n",
    "\n",
    "# Specify the log directory\n",
    "log_dir = f\"tb_logs/{config.model_name}\"\n",
    "\n",
    "# Start TensorBoard\n",
    "%tensorboard --logdir {log_dir}"
   ]
  },
  {
   "cell_type": "markdown",
   "id": "dd4ed1a3bb63373a",
   "metadata": {},
   "source": [
    "# Classify random images"
   ]
  },
  {
   "cell_type": "code",
   "execution_count": null,
   "id": "dd1605ee6782ad12",
   "metadata": {
    "ExecuteTime": {
     "end_time": "2024-12-05T20:45:30.294696800Z",
     "start_time": "2024-12-05T07:27:55.066124Z"
    }
   },
   "outputs": [],
   "source": [
    "plot_random_images_with_labels(model, model.test_loader, num_images=20)"
   ]
  }
 ],
 "metadata": {
  "kernelspec": {
   "display_name": "Python 3",
   "language": "python",
   "name": "python3"
  },
  "language_info": {
   "codemirror_mode": {
    "name": "ipython",
    "version": 3
   },
   "file_extension": ".py",
   "mimetype": "text/x-python",
   "name": "python",
   "nbconvert_exporter": "python",
   "pygments_lexer": "ipython3",
   "version": "3.12.3"
  }
 },
 "nbformat": 4,
 "nbformat_minor": 5
}
