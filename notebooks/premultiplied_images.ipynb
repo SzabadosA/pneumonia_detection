{
 "cells": [
  {
   "cell_type": "code",
   "execution_count": null,
   "id": "initial_id",
   "metadata": {
    "ExecuteTime": {
     "end_time": "2024-12-01T10:36:31.167889Z",
     "start_time": "2024-12-01T10:24:48.020134Z"
    },
    "collapsed": true,
    "execution": {
     "iopub.execute_input": "2025-01-18T03:56:32.886766Z",
     "iopub.status.busy": "2025-01-18T03:56:32.886766Z",
     "iopub.status.idle": "2025-01-18T04:05:29.374093Z",
     "shell.execute_reply": "2025-01-18T04:05:29.374093Z"
    }
   },
   "outputs": [],
   "source": [
    "import os\n",
    "from IPython import get_ipython\n",
    "get_ipython().run_line_magic(\"matplotlib\", \"inline\")\n",
    "from PIL import Image\n",
    "import numpy as np\n",
    "\n",
    "def process_images(equalized_dir, masked_dir, output_dir):\n",
    "    for root, dirs, files in os.walk(equalized_dir):\n",
    "        for file in files:\n",
    "            if file.endswith(('.jpg', '.jpeg', '.png')):\n",
    "                # Get the relative path for maintaining folder structure\n",
    "                relative_path = os.path.relpath(root, equalized_dir)\n",
    "\n",
    "                # Paths to the equalized image and corresponding mask\n",
    "                equalized_path = os.path.join(root, file)\n",
    "                mask_path = os.path.join(masked_dir, relative_path, file)\n",
    "                mask_path = mask_path.replace(\".jpeg\", \"_mask.png\")  # Adjust for mask naming conventions\n",
    "\n",
    "                # Ensure the mask exists\n",
    "                if not os.path.exists(mask_path):\n",
    "                    print(f\"Mask not found for: {equalized_path}\")\n",
    "                    continue\n",
    "\n",
    "                # Open the equalized image and mask\n",
    "                equalized_image = Image.open(equalized_path).convert('RGB')\n",
    "                mask_image = Image.open(mask_path).convert('L')  # Convert mask to grayscale\n",
    "\n",
    "                # Resize the mask to match the image dimensions\n",
    "                mask_image = mask_image.resize(equalized_image.size, resample=Image.BILINEAR)\n",
    "\n",
    "                # Multiply the image and mask\n",
    "                equalized_array = np.array(equalized_image)\n",
    "                mask_array = np.array(mask_image) / 255.0  # Normalize mask to [0, 1]\n",
    "                masked_image = (equalized_array * mask_array[..., None]).astype(np.uint8)\n",
    "\n",
    "                # Create the output directory structure\n",
    "                output_folder = os.path.join(output_dir, relative_path)\n",
    "                os.makedirs(output_folder, exist_ok=True)\n",
    "\n",
    "                # Save the masked image\n",
    "                output_path = os.path.join(output_folder, file)\n",
    "                Image.fromarray(masked_image).save(output_path)\n",
    "\n",
    "                print(f\"Processed and saved: {output_path}\")\n",
    "\n",
    "# Input and output directories\n",
    "equalized_dir = \"../data/equalized\"\n",
    "masked_dir = \"../data/masked\"\n",
    "output_dir = \"../data/premultiplied\"\n",
    "\n",
    "# Process the images\n",
    "process_images(equalized_dir, masked_dir, output_dir)\n"
   ]
  }
 ],
 "metadata": {
  "kernelspec": {
   "display_name": "Python 3",
   "language": "python",
   "name": "python3"
  },
  "language_info": {
   "codemirror_mode": {
    "name": "ipython",
    "version": 3
   },
   "file_extension": ".py",
   "mimetype": "text/x-python",
   "name": "python",
   "nbconvert_exporter": "python",
   "pygments_lexer": "ipython3",
   "version": "3.12.8"
  }
 },
 "nbformat": 4,
 "nbformat_minor": 5
}
