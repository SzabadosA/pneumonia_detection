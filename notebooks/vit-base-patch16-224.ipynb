{
 "cells": [
  {
   "cell_type": "markdown",
   "id": "edef74c71e6ebce5",
   "metadata": {},
   "source": [
    "# Import Libraries"
   ]
  },
  {
   "metadata": {},
   "cell_type": "code",
   "outputs": [],
   "execution_count": null,
   "source": [
    "\n",
    "import os\n",
    "from IPython import get_ipython\n",
    "get_ipython().run_line_magic(\"matplotlib\", \"inline\")\n",
    "from torchvision.transforms import Compose, Resize, InterpolationMode, ToTensor, Normalize, RandomCrop, RandomHorizontalFlip\n",
    "import torch\n",
    "from code.classifier import ViTPneumoniaClassifier, Config\n",
    "from code.plot_random_image import plot_random_image_from_loader\n",
    "from code.classify_random_images import plot_random_images_with_labels\n",
    "from sklearn.metrics import ConfusionMatrixDisplay, confusion_matrix\n",
    "import matplotlib.pyplot as plt\n",
    "\n",
    "\n"
   ],
   "id": "c832e911650bd5a1"
  },
  {
   "metadata": {},
   "cell_type": "code",
   "outputs": [],
   "execution_count": null,
   "source": [
    "\n",
    "# Load the TensorBoard\n",
    "%reload_ext tensorboard\n",
    "%load_ext tensorboard\n"
   ],
   "id": "db6e0f4ccd9bbd31"
  },
  {
   "cell_type": "code",
   "execution_count": null,
   "id": "69e053f3a82f28da",
   "metadata": {
    "ExecuteTime": {
     "end_time": "2024-12-07T20:36:48.535353Z",
     "start_time": "2024-12-07T20:36:48.530074Z"
    },
    "execution": {
     "iopub.execute_input": "2025-01-19T00:18:00.333169Z",
     "iopub.status.busy": "2025-01-19T00:18:00.333169Z",
     "iopub.status.idle": "2025-01-19T00:18:00.338397Z",
     "shell.execute_reply": "2025-01-19T00:18:00.337387Z"
    }
   },
   "outputs": [],
   "source": [
    "# Enable CUDA Launch Blocking\n",
    "os.environ['CUDA_LAUNCH_BLOCKING'] = '1'\n",
    "# Set float32 matrix multiplication precision to 'medium' to utilize Tensor Cores\n",
    "torch.set_float32_matmul_precision('medium')\n",
    "torch.serialization.add_safe_globals([Compose, Resize, set, Config, InterpolationMode, ToTensor, Normalize, RandomHorizontalFlip])"
   ]
  },
  {
   "cell_type": "markdown",
   "id": "c4e73085475698cb",
   "metadata": {},
   "source": [
    "# Check GPU Availability"
   ]
  },
  {
   "cell_type": "code",
   "execution_count": null,
   "id": "ba465dcd3a376771",
   "metadata": {
    "ExecuteTime": {
     "end_time": "2024-12-07T20:36:49.004578Z",
     "start_time": "2024-12-07T20:36:48.800265Z"
    },
    "execution": {
     "iopub.execute_input": "2025-01-19T00:18:00.341403Z",
     "iopub.status.busy": "2025-01-19T00:18:00.341403Z",
     "iopub.status.idle": "2025-01-19T00:18:00.535226Z",
     "shell.execute_reply": "2025-01-19T00:18:00.534216Z"
    }
   },
   "outputs": [],
   "source": [
    "gpu_info = !nvidia-smi\n",
    "gpu_info = '\\n'.join(gpu_info)\n",
    "if gpu_info.find('failed') >= 0:\n",
    "    print('Not connected to a GPU')\n",
    "else:\n",
    "    print(gpu_info)"
   ]
  },
  {
   "cell_type": "markdown",
   "id": "72000018a252c38",
   "metadata": {},
   "source": [
    "# Setup Model"
   ]
  },
  {
   "metadata": {},
   "cell_type": "code",
   "outputs": [],
   "execution_count": null,
   "source": [
    "config = Config(\n",
    "    backbone_name=\"google/vit-base-patch16-224\",\n",
    "    transfer_learning=True,\n",
    "    learning_rate=1e-5,\n",
    "    batch_size=32,\n",
    "    max_epochs=50,\n",
    "    weight_decay=1e-5,\n",
    "    dropout=0.3,\n",
    "    num_workers=16,\n",
    "    model_name=\"vit-base-patch16-224\",\n",
    "    version=\"001\",\n",
    "    optimizer_name = \"adam\",\n",
    "    use_class_weights=True,\n",
    "    image_res=224,\n",
    "    patience = 10,\n",
    "    image_type=3\n",
    ")\n",
    "model = ViTPneumoniaClassifier(config)\n",
    "device = torch.device(\"cuda\" if torch.cuda.is_available() else \"cpu\")\n",
    "model = model.to(device)\n",
    "\n",
    "\n"
   ],
   "id": "69fa04ba61a79430"
  },
  {
   "cell_type": "markdown",
   "id": "f9fad1c4b6515630",
   "metadata": {},
   "source": [
    "# Plot random images from all datasets"
   ]
  },
  {
   "cell_type": "code",
   "execution_count": null,
   "id": "484a34133e6799cb",
   "metadata": {
    "ExecuteTime": {
     "end_time": "2024-12-07T20:36:52.076312Z",
     "start_time": "2024-12-07T20:36:51.776779Z"
    },
    "execution": {
     "iopub.execute_input": "2025-01-19T00:18:02.877858Z",
     "iopub.status.busy": "2025-01-19T00:18:02.877858Z",
     "iopub.status.idle": "2025-01-19T00:18:03.422865Z",
     "shell.execute_reply": "2025-01-19T00:18:03.421880Z"
    }
   },
   "outputs": [],
   "source": [
    "plot_random_image_from_loader(model.train_loader.dataset, \"Train Dataset\", normalize=False)"
   ]
  },
  {
   "cell_type": "code",
   "execution_count": null,
   "id": "8fd665ef08dafd7f",
   "metadata": {
    "ExecuteTime": {
     "end_time": "2024-12-07T20:36:52.560301Z",
     "start_time": "2024-12-07T20:36:52.328707Z"
    },
    "execution": {
     "iopub.execute_input": "2025-01-19T00:18:03.426866Z",
     "iopub.status.busy": "2025-01-19T00:18:03.425866Z",
     "iopub.status.idle": "2025-01-19T00:18:03.785470Z",
     "shell.execute_reply": "2025-01-19T00:18:03.784445Z"
    }
   },
   "outputs": [],
   "source": [
    "plot_random_image_from_loader(model.val_loader.dataset, \"Validation Dataset\", normalize=False)"
   ]
  },
  {
   "cell_type": "code",
   "execution_count": null,
   "id": "c3529628b6269dc4",
   "metadata": {
    "ExecuteTime": {
     "end_time": "2024-12-07T14:40:29.287360Z",
     "start_time": "2024-12-07T14:40:29.027755Z"
    },
    "execution": {
     "iopub.execute_input": "2025-01-19T00:18:03.790469Z",
     "iopub.status.busy": "2025-01-19T00:18:03.789469Z",
     "iopub.status.idle": "2025-01-19T00:18:04.136770Z",
     "shell.execute_reply": "2025-01-19T00:18:04.135751Z"
    }
   },
   "outputs": [],
   "source": [
    "plot_random_image_from_loader(model.test_loader.dataset, \"Test Dataset\", normalize=False)"
   ]
  },
  {
   "cell_type": "markdown",
   "id": "9f803b343bf2619b",
   "metadata": {},
   "source": [
    "# Train Model"
   ]
  },
  {
   "metadata": {},
   "cell_type": "code",
   "outputs": [],
   "execution_count": null,
   "source": [
    "\n",
    "# Train Model - Uncomment to train model\n",
    "model.train_model()\n",
    "torch.save({\n",
    "    \"state_dict\": model.state_dict(),\n",
    "    \"config\": vars(config)\n",
    "}, f\"../models/{config.model_name}_final.pt\")"
   ],
   "id": "6f7558a6210c5857"
  },
  {
   "cell_type": "markdown",
   "id": "389fe2c9d480ef8b",
   "metadata": {},
   "source": [
    "# Load Model"
   ]
  },
  {
   "cell_type": "code",
   "execution_count": null,
   "id": "1fa424496604d224",
   "metadata": {
    "ExecuteTime": {
     "end_time": "2024-12-07T20:37:03.457443Z",
     "start_time": "2024-12-07T20:37:00.445683Z"
    },
    "execution": {
     "iopub.execute_input": "2025-01-19T00:46:41.592252Z",
     "iopub.status.busy": "2025-01-19T00:46:41.592252Z",
     "iopub.status.idle": "2025-01-19T00:46:43.834583Z",
     "shell.execute_reply": "2025-01-19T00:46:43.833559Z"
    }
   },
   "outputs": [],
   "source": [
    "\n",
    "checkpoint = torch.load(f\"../models/{config.model_name}_final.pt\")\n",
    "loaded_config = Config(**checkpoint[\"config\"])\n",
    "model = ViTPneumoniaClassifier(loaded_config)\n",
    "model.load_state_dict(checkpoint[\"state_dict\"])\n",
    "model.eval()\n",
    "model = model.to(device)"
   ]
  },
  {
   "cell_type": "markdown",
   "id": "8b74b21135f88787",
   "metadata": {},
   "source": [
    "# Test Model"
   ]
  },
  {
   "cell_type": "code",
   "execution_count": null,
   "id": "b3ada03ddef1ef1a",
   "metadata": {
    "ExecuteTime": {
     "end_time": "2024-12-07T20:37:41.387936Z",
     "start_time": "2024-12-07T20:37:07.387676Z"
    },
    "execution": {
     "iopub.execute_input": "2025-01-19T00:46:43.837584Z",
     "iopub.status.busy": "2025-01-19T00:46:43.837584Z",
     "iopub.status.idle": "2025-01-19T00:49:58.369861Z",
     "shell.execute_reply": "2025-01-19T00:49:58.368911Z"
    }
   },
   "outputs": [],
   "source": [
    "# Run testing\n",
    "print(\"Testing the model...\")\n",
    "checkpoint_path = f\"../checkpoints/{config.model_name}.ckpt\"\n",
    "test_metadata = model.test_model(checkpoint_path)  # Ensure this uses the correct test_loader"
   ]
  },
  {
   "cell_type": "markdown",
   "id": "980063058cafcab9",
   "metadata": {},
   "source": [
    "# Plot Confusion Matrix"
   ]
  },
  {
   "cell_type": "code",
   "execution_count": null,
   "id": "d1339a78e765a1d",
   "metadata": {
    "ExecuteTime": {
     "end_time": "2024-12-07T20:38:10.042681Z",
     "start_time": "2024-12-07T20:37:41.400007Z"
    },
    "execution": {
     "iopub.execute_input": "2025-01-19T00:49:58.373863Z",
     "iopub.status.busy": "2025-01-19T00:49:58.373863Z",
     "iopub.status.idle": "2025-01-19T00:53:10.476410Z",
     "shell.execute_reply": "2025-01-19T00:53:10.476410Z"
    }
   },
   "outputs": [],
   "source": [
    "def plot_confusion_matrix(model, dataloader, class_names):\n",
    "    all_preds = []\n",
    "    all_labels = []\n",
    "\n",
    "    # Get predictions and true labels\n",
    "    device = torch.device(\"cuda\" if torch.cuda.is_available() else \"cpu\")\n",
    "    model = model.to(device)\n",
    "    model.eval()\n",
    "    with torch.no_grad():\n",
    "        for data, labels, _ in dataloader:\n",
    "            data = data.cuda()  # Move data to GPU if available\n",
    "            labels = labels.cuda()\n",
    "            preds = torch.argmax(model(data), dim=1)\n",
    "            all_preds.extend(preds.cpu().numpy())\n",
    "            all_labels.extend(labels.cpu().numpy())\n",
    "\n",
    "    # Compute confusion matrix\n",
    "    cm = confusion_matrix(all_labels, all_preds)\n",
    "    disp = ConfusionMatrixDisplay(cm, display_labels=class_names)\n",
    "    disp.plot(cmap=\"Blues\")\n",
    "    plt.title(\"Confusion Matrix\")\n",
    "    plt.show()\n",
    "\n",
    "# Call this after training/testing\n",
    "plot_confusion_matrix(model, model.test_loader, class_names=[\"Normal\", \"Pneumonia\"])"
   ]
  },
  {
   "cell_type": "markdown",
   "id": "dcfca44f0df1056b",
   "metadata": {},
   "source": [
    "# Plot ROC/AUC Score"
   ]
  },
  {
   "cell_type": "code",
   "execution_count": null,
   "id": "e76ce3f3a224e341",
   "metadata": {
    "ExecuteTime": {
     "end_time": "2024-12-07T20:38:23.815697Z",
     "start_time": "2024-12-07T20:38:10.342125Z"
    },
    "execution": {
     "iopub.execute_input": "2025-01-19T00:53:10.481426Z",
     "iopub.status.busy": "2025-01-19T00:53:10.480419Z",
     "iopub.status.idle": "2025-01-19T00:53:15.674417Z",
     "shell.execute_reply": "2025-01-19T00:53:15.673820Z"
    }
   },
   "outputs": [],
   "source": [
    "from sklearn.metrics import roc_curve, roc_auc_score\n",
    "\n",
    "def plot_roc_auc(model, dataloader):\n",
    "    all_preds = []\n",
    "    all_labels = []\n",
    "\n",
    "    # Get predictions and true labels\n",
    "    model.eval()\n",
    "    with torch.no_grad():\n",
    "        for data, labels, _ in dataloader:\n",
    "            data = data.cuda()\n",
    "            labels = labels.cuda()\n",
    "            preds = model(data)\n",
    "            probs = torch.softmax(preds, dim=1)[:, 1]  # Probabilities for class 1\n",
    "            all_preds.extend(probs.cpu().numpy())\n",
    "            all_labels.extend(labels.cpu().numpy())\n",
    "\n",
    "    # Compute ROC curve and AUC\n",
    "    fpr, tpr, _ = roc_curve(all_labels, all_preds)\n",
    "    auc = roc_auc_score(all_labels, all_preds)\n",
    "\n",
    "    # Plot ROC curve\n",
    "    plt.figure()\n",
    "    plt.plot(fpr, tpr, color='darkorange', lw=2, label=f'ROC curve (AUC = {auc:.2f})')\n",
    "    plt.plot([0, 1], [0, 1], color='navy', lw=2, linestyle='--')\n",
    "    plt.xlabel('False Positive Rate')\n",
    "    plt.ylabel('True Positive Rate')\n",
    "    plt.title('ROC Curve')\n",
    "    plt.legend(loc=\"lower right\")\n",
    "    plt.show()\n",
    "\n",
    "plot_roc_auc(model, model.test_loader)"
   ]
  },
  {
   "cell_type": "markdown",
   "id": "7ede0abe2194aaec",
   "metadata": {},
   "source": [
    "# Plot Gradcam"
   ]
  },
  {
   "metadata": {},
   "cell_type": "code",
   "outputs": [],
   "execution_count": null,
   "source": "model.visualize_gradcam(num_samples=4,target_layer_index=-3)",
   "id": "95aba1ec55889c35"
  },
  {
   "metadata": {},
   "cell_type": "markdown",
   "source": "# Evaluate Metrics in Tensorboard",
   "id": "fe87e987b1c0f9b0"
  },
  {
   "metadata": {},
   "cell_type": "code",
   "outputs": [],
   "execution_count": null,
   "source": [
    "# Load TensorBoard extension\n",
    "%load_ext tensorboard\n",
    "\n",
    "# Specify the log directory\n",
    "log_dir = f\"tb_logs/{config.model_name}\"\n",
    "\n",
    "# Start TensorBoard\n",
    "%tensorboard --logdir {log_dir}"
   ],
   "id": "34b8a64613a245d2"
  },
  {
   "cell_type": "markdown",
   "id": "dd4ed1a3bb63373a",
   "metadata": {},
   "source": [
    "# Classify random images"
   ]
  },
  {
   "cell_type": "code",
   "execution_count": null,
   "id": "dd1605ee6782ad12",
   "metadata": {
    "ExecuteTime": {
     "end_time": "2024-12-07T20:38:38.578787Z",
     "start_time": "2024-12-07T20:38:33.532286Z"
    },
    "execution": {
     "iopub.execute_input": "2025-01-19T00:53:22.193453Z",
     "iopub.status.busy": "2025-01-19T00:53:22.192431Z",
     "iopub.status.idle": "2025-01-19T00:53:26.950650Z",
     "shell.execute_reply": "2025-01-19T00:53:26.949636Z"
    }
   },
   "outputs": [],
   "source": [
    "plot_random_images_with_labels(model, model.test_loader, num_images=20)"
   ]
  }
 ],
 "metadata": {
  "kernelspec": {
   "display_name": "Python 3",
   "language": "python",
   "name": "python3"
  },
  "language_info": {
   "codemirror_mode": {
    "name": "ipython",
    "version": 3
   },
   "file_extension": ".py",
   "mimetype": "text/x-python",
   "name": "python",
   "nbconvert_exporter": "python",
   "pygments_lexer": "ipython3",
   "version": "3.12.8"
  }
 },
 "nbformat": 4,
 "nbformat_minor": 5
}
