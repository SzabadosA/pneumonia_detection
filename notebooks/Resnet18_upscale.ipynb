{
 "cells": [
  {
   "cell_type": "markdown",
   "id": "edef74c71e6ebce5",
   "metadata": {},
   "source": [
    "# Import Libraries"
   ]
  },
  {
   "cell_type": "code",
   "execution_count": null,
   "id": "initial_id",
   "metadata": {
    "ExecuteTime": {
     "end_time": "2024-12-02T18:31:56.500713Z",
     "start_time": "2024-12-02T18:31:48.817477Z"
    },
    "collapsed": true,
    "execution": {
     "iopub.execute_input": "2024-12-06T22:55:38.100325Z",
     "iopub.status.busy": "2024-12-06T22:55:38.100325Z",
     "iopub.status.idle": "2024-12-06T22:55:46.505404Z",
     "shell.execute_reply": "2024-12-06T22:55:46.504381Z"
    }
   },
   "outputs": [],
   "source": [
    "\n",
    "import os\n",
    "from torchvision.transforms import Compose, Resize, InterpolationMode, ToTensor, Normalize, RandomCrop, RandomHorizontalFlip\n",
    "import torch\n",
    "from code.classifier import CNNPneumoniaClassifier, Config\n",
    "from code.plot_random_image import plot_random_image_from_loader\n",
    "from code.classify_random_images import plot_random_images_with_labels\n",
    "from sklearn.metrics import ConfusionMatrixDisplay, confusion_matrix\n",
    "import matplotlib.pyplot as plt\n",
    "\n"
   ]
  },
  {
   "cell_type": "code",
   "execution_count": null,
   "id": "4376ace1b8695239",
   "metadata": {
    "ExecuteTime": {
     "end_time": "2024-12-02T18:31:56.534761Z",
     "start_time": "2024-12-02T18:31:56.510736Z"
    },
    "execution": {
     "iopub.execute_input": "2024-12-06T22:55:46.509401Z",
     "iopub.status.busy": "2024-12-06T22:55:46.509401Z",
     "iopub.status.idle": "2024-12-06T22:55:46.527739Z",
     "shell.execute_reply": "2024-12-06T22:55:46.526718Z"
    }
   },
   "outputs": [],
   "source": [
    "\n",
    "# Load the TensorBoard\n",
    "%reload_ext tensorboard\n",
    "%load_ext tensorboard\n"
   ]
  },
  {
   "cell_type": "code",
   "execution_count": null,
   "id": "69e053f3a82f28da",
   "metadata": {
    "ExecuteTime": {
     "end_time": "2024-12-02T18:31:57.856278Z",
     "start_time": "2024-12-02T18:31:57.851096Z"
    },
    "execution": {
     "iopub.execute_input": "2024-12-06T22:55:46.530739Z",
     "iopub.status.busy": "2024-12-06T22:55:46.530739Z",
     "iopub.status.idle": "2024-12-06T22:55:46.536017Z",
     "shell.execute_reply": "2024-12-06T22:55:46.535018Z"
    }
   },
   "outputs": [],
   "source": [
    "# Enable CUDA Launch Blocking\n",
    "os.environ['CUDA_LAUNCH_BLOCKING'] = '1'\n",
    "# Set float32 matrix multiplication precision to 'medium' to utilize Tensor Cores\n",
    "torch.set_float32_matmul_precision('medium')\n",
    "torch.serialization.add_safe_globals([Compose, Resize, set, Config, InterpolationMode, ToTensor, Normalize, RandomHorizontalFlip])"
   ]
  },
  {
   "cell_type": "markdown",
   "id": "c4e73085475698cb",
   "metadata": {},
   "source": [
    "# Check GPU Availability"
   ]
  },
  {
   "cell_type": "code",
   "execution_count": null,
   "id": "ba465dcd3a376771",
   "metadata": {
    "ExecuteTime": {
     "end_time": "2024-12-02T18:31:58.300336Z",
     "start_time": "2024-12-02T18:31:58.104476Z"
    },
    "execution": {
     "iopub.execute_input": "2024-12-06T22:55:46.539018Z",
     "iopub.status.busy": "2024-12-06T22:55:46.539018Z",
     "iopub.status.idle": "2024-12-06T22:55:46.717918Z",
     "shell.execute_reply": "2024-12-06T22:55:46.716881Z"
    }
   },
   "outputs": [],
   "source": [
    "gpu_info = !nvidia-smi\n",
    "gpu_info = '\\n'.join(gpu_info)\n",
    "if gpu_info.find('failed') >= 0:\n",
    "    print('Not connected to a GPU')\n",
    "else:\n",
    "    print(gpu_info)"
   ]
  },
  {
   "cell_type": "markdown",
   "id": "72000018a252c38",
   "metadata": {},
   "source": [
    "# Setup Model"
   ]
  },
  {
   "cell_type": "code",
   "execution_count": null,
   "id": "4014586acf1f2311",
   "metadata": {
    "ExecuteTime": {
     "end_time": "2024-12-02T18:31:59.225469Z",
     "start_time": "2024-12-02T18:31:58.545376Z"
    },
    "execution": {
     "iopub.execute_input": "2024-12-06T22:55:46.721902Z",
     "iopub.status.busy": "2024-12-06T22:55:46.720882Z",
     "iopub.status.idle": "2024-12-06T22:55:47.355881Z",
     "shell.execute_reply": "2024-12-06T22:55:47.354876Z"
    }
   },
   "outputs": [],
   "source": [
    "config = Config(\n",
    "    backbone_name=\"resnet18\",\n",
    "    transfer_learning=True,\n",
    "    learning_rate=1e-4,\n",
    "    batch_size=20,\n",
    "    max_epochs=50,\n",
    "    weight_decay=1e-4,\n",
    "    dropout=0.2,\n",
    "    num_workers=16,\n",
    "    model_name=\"ResNet18_upscale\",\n",
    "    version=\"001\",\n",
    "    optimizer_name = \"sgd\",\n",
    "    use_class_weights=True,\n",
    "    image_res=896,\n",
    "    patience = 10,\n",
    "    image_type=3\n",
    ")\n",
    "model = CNNPneumoniaClassifier(config)\n",
    "device = torch.device(\"cuda\" if torch.cuda.is_available() else \"cpu\")\n",
    "model = model.to(device)\n"
   ]
  },
  {
   "cell_type": "markdown",
   "id": "f9fad1c4b6515630",
   "metadata": {},
   "source": [
    "# Plot random images from all datasets"
   ]
  },
  {
   "cell_type": "code",
   "execution_count": null,
   "id": "484a34133e6799cb",
   "metadata": {
    "ExecuteTime": {
     "end_time": "2024-12-02T18:31:59.742094Z",
     "start_time": "2024-12-02T18:31:59.457463Z"
    },
    "execution": {
     "iopub.execute_input": "2024-12-06T22:55:47.359900Z",
     "iopub.status.busy": "2024-12-06T22:55:47.358885Z",
     "iopub.status.idle": "2024-12-06T22:55:47.772875Z",
     "shell.execute_reply": "2024-12-06T22:55:47.771835Z"
    }
   },
   "outputs": [],
   "source": [
    "plot_random_image_from_loader(model.train_loader.dataset, \"Train Dataset\")"
   ]
  },
  {
   "cell_type": "code",
   "execution_count": null,
   "id": "8fd665ef08dafd7f",
   "metadata": {
    "ExecuteTime": {
     "end_time": "2024-12-02T18:32:00.236379Z",
     "start_time": "2024-12-02T18:32:00.000358Z"
    },
    "execution": {
     "iopub.execute_input": "2024-12-06T22:55:47.776855Z",
     "iopub.status.busy": "2024-12-06T22:55:47.776855Z",
     "iopub.status.idle": "2024-12-06T22:55:48.102434Z",
     "shell.execute_reply": "2024-12-06T22:55:48.101409Z"
    }
   },
   "outputs": [],
   "source": [
    "plot_random_image_from_loader(model.val_loader.dataset, \"Validation Dataset\")"
   ]
  },
  {
   "cell_type": "code",
   "execution_count": null,
   "id": "c3529628b6269dc4",
   "metadata": {
    "ExecuteTime": {
     "end_time": "2024-12-02T18:32:00.663424Z",
     "start_time": "2024-12-02T18:32:00.471151Z"
    },
    "execution": {
     "iopub.execute_input": "2024-12-06T22:55:48.106428Z",
     "iopub.status.busy": "2024-12-06T22:55:48.105411Z",
     "iopub.status.idle": "2024-12-06T22:55:48.472404Z",
     "shell.execute_reply": "2024-12-06T22:55:48.471404Z"
    }
   },
   "outputs": [],
   "source": [
    "plot_random_image_from_loader(model.test_loader.dataset, \"Test Dataset\")"
   ]
  },
  {
   "cell_type": "markdown",
   "id": "9f803b343bf2619b",
   "metadata": {},
   "source": [
    "# Train Model"
   ]
  },
  {
   "cell_type": "code",
   "execution_count": null,
   "id": "d08c054aa7b21aa",
   "metadata": {
    "ExecuteTime": {
     "start_time": "2024-12-02T18:32:00.914955Z"
    },
    "execution": {
     "iopub.execute_input": "2024-12-06T22:55:48.476404Z",
     "iopub.status.busy": "2024-12-06T22:55:48.476404Z",
     "iopub.status.idle": "2024-12-06T23:43:03.485767Z",
     "shell.execute_reply": "2024-12-06T23:43:03.484758Z"
    },
    "jupyter": {
     "is_executing": true
    }
   },
   "outputs": [],
   "source": [
    "\n",
    "# Train Model\n",
    "model.train_model()\n",
    "torch.save({\n",
    "    \"state_dict\": model.state_dict(),\n",
    "    \"config\": config\n",
    "}, f\"../models/{config.model_name}_final.pt\")"
   ]
  },
  {
   "cell_type": "markdown",
   "id": "389fe2c9d480ef8b",
   "metadata": {},
   "source": [
    "# Load Model"
   ]
  },
  {
   "cell_type": "code",
   "execution_count": null,
   "id": "1fa424496604d224",
   "metadata": {
    "ExecuteTime": {
     "end_time": "2024-12-02T18:21:13.561642Z",
     "start_time": "2024-12-02T18:21:13.034129Z"
    },
    "execution": {
     "iopub.execute_input": "2024-12-06T23:43:03.489759Z",
     "iopub.status.busy": "2024-12-06T23:43:03.489759Z",
     "iopub.status.idle": "2024-12-06T23:43:03.948854Z",
     "shell.execute_reply": "2024-12-06T23:43:03.948285Z"
    }
   },
   "outputs": [],
   "source": [
    "\n",
    "checkpoint = torch.load(f\"../models/{config.model_name}_final.pt\")\n",
    "loaded_config = checkpoint[\"config\"]\n",
    "model = CNNPneumoniaClassifier(loaded_config)\n",
    "model.load_state_dict(checkpoint[\"state_dict\"])\n",
    "model.eval()\n",
    "model = model.to(device)"
   ]
  },
  {
   "cell_type": "markdown",
   "id": "8b74b21135f88787",
   "metadata": {},
   "source": [
    "# Test Model"
   ]
  },
  {
   "cell_type": "code",
   "execution_count": null,
   "id": "b3ada03ddef1ef1a",
   "metadata": {
    "ExecuteTime": {
     "end_time": "2024-12-02T18:21:31.353482Z",
     "start_time": "2024-12-02T18:21:13.571182Z"
    },
    "execution": {
     "iopub.execute_input": "2024-12-06T23:43:03.954813Z",
     "iopub.status.busy": "2024-12-06T23:43:03.954813Z",
     "iopub.status.idle": "2024-12-06T23:43:48.675725Z",
     "shell.execute_reply": "2024-12-06T23:43:48.674727Z"
    }
   },
   "outputs": [],
   "source": [
    "# Run testing\n",
    "print(\"Testing the model...\")\n",
    "checkpoint_path = f\"../checkpoints/{config.model_name}.ckpt\"\n",
    "test_metadata = model.test_model(checkpoint_path)  # Ensure this uses the correct test_loader"
   ]
  },
  {
   "cell_type": "markdown",
   "id": "980063058cafcab9",
   "metadata": {},
   "source": [
    "# Plot Confusion Matrix"
   ]
  },
  {
   "cell_type": "code",
   "execution_count": null,
   "id": "d1339a78e765a1d",
   "metadata": {
    "ExecuteTime": {
     "end_time": "2024-12-02T18:21:47.229572Z",
     "start_time": "2024-12-02T18:21:31.646980Z"
    },
    "execution": {
     "iopub.execute_input": "2024-12-06T23:43:48.679726Z",
     "iopub.status.busy": "2024-12-06T23:43:48.679726Z",
     "iopub.status.idle": "2024-12-06T23:44:31.642680Z",
     "shell.execute_reply": "2024-12-06T23:44:31.641681Z"
    }
   },
   "outputs": [],
   "source": [
    "def plot_confusion_matrix(model, dataloader, class_names):\n",
    "    all_preds = []\n",
    "    all_labels = []\n",
    "\n",
    "    # Get predictions and true labels\n",
    "    device = torch.device(\"cuda\" if torch.cuda.is_available() else \"cpu\")\n",
    "    model = model.to(device)\n",
    "    model.eval()\n",
    "    with torch.no_grad():\n",
    "        for data, labels, _ in dataloader:\n",
    "            data = data.cuda()  # Move data to GPU if available\n",
    "            labels = labels.cuda()\n",
    "            preds = torch.argmax(model(data), dim=1)\n",
    "            all_preds.extend(preds.cpu().numpy())\n",
    "            all_labels.extend(labels.cpu().numpy())\n",
    "\n",
    "    # Compute confusion matrix\n",
    "    cm = confusion_matrix(all_labels, all_preds)\n",
    "    disp = ConfusionMatrixDisplay(cm, display_labels=class_names)\n",
    "    disp.plot(cmap=\"Blues\")\n",
    "    plt.title(\"Confusion Matrix\")\n",
    "    plt.show()\n",
    "\n",
    "# Call this after training/testing\n",
    "plot_confusion_matrix(model, model.test_loader, class_names=[\"Normal\", \"Pneumonia\"])"
   ]
  },
  {
   "cell_type": "markdown",
   "id": "dcfca44f0df1056b",
   "metadata": {},
   "source": [
    "# Plot ROC/AUC Score"
   ]
  },
  {
   "cell_type": "code",
   "execution_count": null,
   "id": "e76ce3f3a224e341",
   "metadata": {
    "ExecuteTime": {
     "end_time": "2024-12-02T18:21:50.786863Z",
     "start_time": "2024-12-02T18:21:47.709570Z"
    },
    "execution": {
     "iopub.execute_input": "2024-12-06T23:44:31.646683Z",
     "iopub.status.busy": "2024-12-06T23:44:31.645679Z",
     "iopub.status.idle": "2024-12-06T23:44:49.317732Z",
     "shell.execute_reply": "2024-12-06T23:44:49.316682Z"
    }
   },
   "outputs": [],
   "source": [
    "from sklearn.metrics import roc_curve, roc_auc_score\n",
    "\n",
    "def plot_roc_auc(model, dataloader):\n",
    "    all_preds = []\n",
    "    all_labels = []\n",
    "\n",
    "    # Get predictions and true labels\n",
    "    model.eval()\n",
    "    with torch.no_grad():\n",
    "        for data, labels, _ in dataloader:\n",
    "            data = data.cuda()\n",
    "            labels = labels.cuda()\n",
    "            preds = model(data)\n",
    "            probs = torch.softmax(preds, dim=1)[:, 1]  # Probabilities for class 1\n",
    "            all_preds.extend(probs.cpu().numpy())\n",
    "            all_labels.extend(labels.cpu().numpy())\n",
    "\n",
    "    # Compute ROC curve and AUC\n",
    "    fpr, tpr, _ = roc_curve(all_labels, all_preds)\n",
    "    auc = roc_auc_score(all_labels, all_preds)\n",
    "\n",
    "    # Plot ROC curve\n",
    "    plt.figure()\n",
    "    plt.plot(fpr, tpr, color='darkorange', lw=2, label=f'ROC curve (AUC = {auc:.2f})')\n",
    "    plt.plot([0, 1], [0, 1], color='navy', lw=2, linestyle='--')\n",
    "    plt.xlabel('False Positive Rate')\n",
    "    plt.ylabel('True Positive Rate')\n",
    "    plt.title('ROC Curve')\n",
    "    plt.legend(loc=\"lower right\")\n",
    "    plt.show()\n",
    "\n",
    "plot_roc_auc(model, model.test_loader)"
   ]
  },
  {
   "cell_type": "markdown",
   "id": "7ede0abe2194aaec",
   "metadata": {},
   "source": [
    "# Plot Gradcam"
   ]
  },
  {
   "cell_type": "code",
   "execution_count": null,
   "id": "f63382fe6cdfe619",
   "metadata": {
    "ExecuteTime": {
     "end_time": "2024-12-02T18:21:52.274409Z",
     "start_time": "2024-12-02T18:21:51.033906Z"
    },
    "execution": {
     "iopub.execute_input": "2024-12-06T23:44:49.321709Z",
     "iopub.status.busy": "2024-12-06T23:44:49.320716Z",
     "iopub.status.idle": "2024-12-06T23:44:51.594560Z",
     "shell.execute_reply": "2024-12-06T23:44:51.593560Z"
    }
   },
   "outputs": [],
   "source": [
    "for param in model.feature_extractor.parameters():\n",
    "    param.requires_grad = True\n",
    "model.visualize_gradcam(num_samples=4, target_layer=7, class_names=[\"Normal\", \"Pneumonia\"], threshold=0.6)\n"
   ]
  },
  {
   "cell_type": "markdown",
   "id": "1f602b5c09fdb60",
   "metadata": {},
   "source": [
    "# Evaluate Metrics in Tensorboard"
   ]
  },
  {
   "cell_type": "code",
   "execution_count": null,
   "id": "41a571c74fefdaeb",
   "metadata": {
    "ExecuteTime": {
     "end_time": "2024-12-02T18:21:57.157308Z",
     "start_time": "2024-12-02T18:21:52.548189Z"
    },
    "execution": {
     "iopub.execute_input": "2024-12-06T23:44:51.598560Z",
     "iopub.status.busy": "2024-12-06T23:44:51.598560Z",
     "iopub.status.idle": "2024-12-06T23:44:56.713346Z",
     "shell.execute_reply": "2024-12-06T23:44:56.712322Z"
    }
   },
   "outputs": [],
   "source": [
    "# Load TensorBoard extension\n",
    "%load_ext tensorboard\n",
    "\n",
    "# Specify the log directory\n",
    "log_dir = f\"tb_logs/{config.model_name}\"\n",
    "\n",
    "# Start TensorBoard\n",
    "%tensorboard --logdir {log_dir}"
   ]
  },
  {
   "cell_type": "markdown",
   "id": "dd4ed1a3bb63373a",
   "metadata": {},
   "source": [
    "# Classify random images"
   ]
  },
  {
   "cell_type": "code",
   "execution_count": null,
   "id": "dd1605ee6782ad12",
   "metadata": {
    "ExecuteTime": {
     "end_time": "2024-12-02T18:22:02.010245Z",
     "start_time": "2024-12-02T18:21:57.471954Z"
    },
    "execution": {
     "iopub.execute_input": "2024-12-06T23:44:56.717344Z",
     "iopub.status.busy": "2024-12-06T23:44:56.716324Z",
     "iopub.status.idle": "2024-12-06T23:45:03.523952Z",
     "shell.execute_reply": "2024-12-06T23:45:03.522924Z"
    }
   },
   "outputs": [],
   "source": [
    "plot_random_images_with_labels(model, model.test_loader, num_images=20)"
   ]
  }
 ],
 "metadata": {
  "kernelspec": {
   "display_name": "Python 3",
   "language": "python",
   "name": "python3"
  },
  "language_info": {
   "codemirror_mode": {
    "name": "ipython",
    "version": 3
   },
   "file_extension": ".py",
   "mimetype": "text/x-python",
   "name": "python",
   "nbconvert_exporter": "python",
   "pygments_lexer": "ipython3",
   "version": "3.12.3"
  }
 },
 "nbformat": 4,
 "nbformat_minor": 5
}
