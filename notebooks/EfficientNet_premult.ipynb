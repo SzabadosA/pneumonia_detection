{
 "cells": [
  {
   "cell_type": "markdown",
   "id": "edef74c71e6ebce5",
   "metadata": {},
   "source": [
    "# Import Libraries"
   ]
  },
  {
   "cell_type": "code",
   "execution_count": null,
   "id": "initial_id",
   "metadata": {
    "ExecuteTime": {
     "end_time": "2024-12-05T22:24:14.315459Z",
     "start_time": "2024-12-05T22:24:05.337396Z"
    },
    "collapsed": true,
    "execution": {
     "iopub.execute_input": "2024-12-06T18:15:06.410301Z",
     "iopub.status.busy": "2024-12-06T18:15:06.410301Z",
     "iopub.status.idle": "2024-12-06T18:15:14.902192Z",
     "shell.execute_reply": "2024-12-06T18:15:14.901167Z"
    }
   },
   "outputs": [],
   "source": [
    "\n",
    "import os\n",
    "from torchvision.transforms import Compose, Resize, InterpolationMode, ToTensor, Normalize, RandomCrop, RandomHorizontalFlip\n",
    "import torch\n",
    "from code.classifier import CNNPneumoniaClassifier, Config\n",
    "from code.plot_random_image import plot_random_image_from_loader\n",
    "from code.classify_random_images import plot_random_images_with_labels\n",
    "from sklearn.metrics import ConfusionMatrixDisplay, confusion_matrix\n",
    "import matplotlib.pyplot as plt\n",
    "\n"
   ]
  },
  {
   "cell_type": "code",
   "execution_count": null,
   "id": "4376ace1b8695239",
   "metadata": {
    "ExecuteTime": {
     "end_time": "2024-12-05T22:24:14.346476Z",
     "start_time": "2024-12-05T22:24:14.325493Z"
    },
    "execution": {
     "iopub.execute_input": "2024-12-06T18:15:14.906187Z",
     "iopub.status.busy": "2024-12-06T18:15:14.906187Z",
     "iopub.status.idle": "2024-12-06T18:15:14.925234Z",
     "shell.execute_reply": "2024-12-06T18:15:14.924265Z"
    }
   },
   "outputs": [],
   "source": [
    "\n",
    "# Load the TensorBoard\n",
    "%reload_ext tensorboard\n",
    "%load_ext tensorboard\n"
   ]
  },
  {
   "cell_type": "code",
   "execution_count": null,
   "id": "69e053f3a82f28da",
   "metadata": {
    "ExecuteTime": {
     "end_time": "2024-12-05T22:24:15.109970Z",
     "start_time": "2024-12-05T22:24:15.104297Z"
    },
    "execution": {
     "iopub.execute_input": "2024-12-06T18:15:14.928237Z",
     "iopub.status.busy": "2024-12-06T18:15:14.928237Z",
     "iopub.status.idle": "2024-12-06T18:15:14.932367Z",
     "shell.execute_reply": "2024-12-06T18:15:14.932367Z"
    }
   },
   "outputs": [],
   "source": [
    "# Enable CUDA Launch Blocking\n",
    "os.environ['CUDA_LAUNCH_BLOCKING'] = '1'\n",
    "# Set float32 matrix multiplication precision to 'medium' to utilize Tensor Cores\n",
    "torch.set_float32_matmul_precision('medium')\n",
    "torch.serialization.add_safe_globals([Compose, Resize, set, Config, InterpolationMode, ToTensor, Normalize, RandomHorizontalFlip])"
   ]
  },
  {
   "cell_type": "markdown",
   "id": "c4e73085475698cb",
   "metadata": {},
   "source": [
    "# Check GPU Availability"
   ]
  },
  {
   "cell_type": "code",
   "execution_count": null,
   "id": "ba465dcd3a376771",
   "metadata": {
    "ExecuteTime": {
     "end_time": "2024-12-05T22:24:15.542943Z",
     "start_time": "2024-12-05T22:24:15.352013Z"
    },
    "execution": {
     "iopub.execute_input": "2024-12-06T18:15:14.936390Z",
     "iopub.status.busy": "2024-12-06T18:15:14.936390Z",
     "iopub.status.idle": "2024-12-06T18:15:15.121566Z",
     "shell.execute_reply": "2024-12-06T18:15:15.120546Z"
    }
   },
   "outputs": [],
   "source": [
    "gpu_info = !nvidia-smi\n",
    "gpu_info = '\\n'.join(gpu_info)\n",
    "if gpu_info.find('failed') >= 0:\n",
    "    print('Not connected to a GPU')\n",
    "else:\n",
    "    print(gpu_info)"
   ]
  },
  {
   "cell_type": "markdown",
   "id": "72000018a252c38",
   "metadata": {},
   "source": [
    "# Setup Model"
   ]
  },
  {
   "cell_type": "code",
   "execution_count": null,
   "id": "4014586acf1f2311",
   "metadata": {
    "ExecuteTime": {
     "end_time": "2024-12-05T22:24:16.828481Z",
     "start_time": "2024-12-05T22:24:15.794034Z"
    },
    "execution": {
     "iopub.execute_input": "2024-12-06T18:15:15.124565Z",
     "iopub.status.busy": "2024-12-06T18:15:15.124565Z",
     "iopub.status.idle": "2024-12-06T18:15:15.900734Z",
     "shell.execute_reply": "2024-12-06T18:15:15.899722Z"
    }
   },
   "outputs": [],
   "source": [
    "config = Config(\n",
    "    backbone_name=\"efficientnet_b3\",\n",
    "    transfer_learning=True,\n",
    "    learning_rate=1e-4,\n",
    "    batch_size=20,\n",
    "    max_epochs=50,\n",
    "    weight_decay=1e-4,\n",
    "    dropout=0.2,\n",
    "    num_workers=16,\n",
    "    model_name=\"EfficientNet_premult\",\n",
    "    version=\"001\",\n",
    "    optimizer_name = \"sgd\",\n",
    "    use_class_weights=True,\n",
    "    image_res=300,\n",
    "    patience = 10,\n",
    "    image_type=3\n",
    ")\n",
    "model = CNNPneumoniaClassifier(config)\n",
    "device = torch.device(\"cuda\" if torch.cuda.is_available() else \"cpu\")\n",
    "model = model.to(device)\n"
   ]
  },
  {
   "cell_type": "markdown",
   "id": "f9fad1c4b6515630",
   "metadata": {},
   "source": [
    "# Plot random images from all datasets"
   ]
  },
  {
   "cell_type": "code",
   "execution_count": null,
   "id": "484a34133e6799cb",
   "metadata": {
    "ExecuteTime": {
     "end_time": "2024-12-05T22:24:17.334470Z",
     "start_time": "2024-12-05T22:24:17.063046Z"
    },
    "execution": {
     "iopub.execute_input": "2024-12-06T18:15:15.904750Z",
     "iopub.status.busy": "2024-12-06T18:15:15.904750Z",
     "iopub.status.idle": "2024-12-06T18:15:16.204079Z",
     "shell.execute_reply": "2024-12-06T18:15:16.203087Z"
    }
   },
   "outputs": [],
   "source": [
    "plot_random_image_from_loader(model.train_loader.dataset, \"Train Dataset\")"
   ]
  },
  {
   "cell_type": "code",
   "execution_count": null,
   "id": "8fd665ef08dafd7f",
   "metadata": {
    "ExecuteTime": {
     "end_time": "2024-12-05T22:24:17.767593Z",
     "start_time": "2024-12-05T22:24:17.576576Z"
    },
    "execution": {
     "iopub.execute_input": "2024-12-06T18:15:16.208092Z",
     "iopub.status.busy": "2024-12-06T18:15:16.207079Z",
     "iopub.status.idle": "2024-12-06T18:15:16.440776Z",
     "shell.execute_reply": "2024-12-06T18:15:16.439779Z"
    }
   },
   "outputs": [],
   "source": [
    "plot_random_image_from_loader(model.val_loader.dataset, \"Validation Dataset\")"
   ]
  },
  {
   "cell_type": "code",
   "execution_count": null,
   "id": "c3529628b6269dc4",
   "metadata": {
    "ExecuteTime": {
     "end_time": "2024-12-05T22:24:18.228057Z",
     "start_time": "2024-12-05T22:24:18.044352Z"
    },
    "execution": {
     "iopub.execute_input": "2024-12-06T18:15:16.444776Z",
     "iopub.status.busy": "2024-12-06T18:15:16.443781Z",
     "iopub.status.idle": "2024-12-06T18:15:16.665867Z",
     "shell.execute_reply": "2024-12-06T18:15:16.665316Z"
    }
   },
   "outputs": [],
   "source": [
    "plot_random_image_from_loader(model.test_loader.dataset, \"Test Dataset\")"
   ]
  },
  {
   "cell_type": "markdown",
   "id": "9f803b343bf2619b",
   "metadata": {},
   "source": [
    "# Train Model"
   ]
  },
  {
   "cell_type": "code",
   "execution_count": null,
   "id": "d08c054aa7b21aa",
   "metadata": {
    "ExecuteTime": {
     "end_time": "2024-12-05T22:27:12.949377Z",
     "start_time": "2024-12-05T22:24:18.750126Z"
    },
    "execution": {
     "iopub.execute_input": "2024-12-06T18:15:16.671843Z",
     "iopub.status.busy": "2024-12-06T18:15:16.671843Z",
     "iopub.status.idle": "2024-12-06T18:39:39.208072Z",
     "shell.execute_reply": "2024-12-06T18:39:39.207071Z"
    }
   },
   "outputs": [],
   "source": [
    "\n",
    "# Train Model\n",
    "model.train_model()\n",
    "torch.save({\n",
    "    \"state_dict\": model.state_dict(),\n",
    "    \"config\": config\n",
    "}, f\"../models/{config.model_name}_final.pt\")"
   ]
  },
  {
   "cell_type": "markdown",
   "id": "389fe2c9d480ef8b",
   "metadata": {},
   "source": [
    "# Load Model"
   ]
  },
  {
   "cell_type": "code",
   "execution_count": null,
   "id": "1fa424496604d224",
   "metadata": {
    "ExecuteTime": {
     "end_time": "2024-12-05T22:27:13.000374400Z",
     "start_time": "2024-12-03T18:17:18.746722Z"
    },
    "execution": {
     "iopub.execute_input": "2024-12-06T18:39:39.212071Z",
     "iopub.status.busy": "2024-12-06T18:39:39.212071Z",
     "iopub.status.idle": "2024-12-06T18:39:39.877817Z",
     "shell.execute_reply": "2024-12-06T18:39:39.876819Z"
    }
   },
   "outputs": [],
   "source": [
    "\n",
    "checkpoint = torch.load(f\"../models/{config.model_name}_final.pt\")\n",
    "loaded_config = checkpoint[\"config\"]\n",
    "model = CNNPneumoniaClassifier(loaded_config)\n",
    "model.load_state_dict(checkpoint[\"state_dict\"])\n",
    "model.eval()\n",
    "model = model.to(device)"
   ]
  },
  {
   "cell_type": "markdown",
   "id": "8b74b21135f88787",
   "metadata": {},
   "source": [
    "# Test Model"
   ]
  },
  {
   "cell_type": "code",
   "execution_count": null,
   "id": "b3ada03ddef1ef1a",
   "metadata": {
    "ExecuteTime": {
     "end_time": "2024-12-05T22:27:13.003374400Z",
     "start_time": "2024-12-03T18:17:19.501027Z"
    },
    "execution": {
     "iopub.execute_input": "2024-12-06T18:39:39.881820Z",
     "iopub.status.busy": "2024-12-06T18:39:39.881820Z",
     "iopub.status.idle": "2024-12-06T18:40:18.525619Z",
     "shell.execute_reply": "2024-12-06T18:40:18.524625Z"
    }
   },
   "outputs": [],
   "source": [
    "# Run testing\n",
    "print(\"Testing the model...\")\n",
    "checkpoint_path = f\"../checkpoints/{config.model_name}.ckpt\"\n",
    "test_metadata = model.test_model(checkpoint_path)  # Ensure this uses the correct test_loader"
   ]
  },
  {
   "cell_type": "markdown",
   "id": "980063058cafcab9",
   "metadata": {},
   "source": [
    "# Plot Confusion Matrix"
   ]
  },
  {
   "cell_type": "code",
   "execution_count": null,
   "id": "d1339a78e765a1d",
   "metadata": {
    "ExecuteTime": {
     "end_time": "2024-12-05T22:27:13.005374200Z",
     "start_time": "2024-12-03T18:17:40.881913Z"
    },
    "execution": {
     "iopub.execute_input": "2024-12-06T18:40:18.529618Z",
     "iopub.status.busy": "2024-12-06T18:40:18.529618Z",
     "iopub.status.idle": "2024-12-06T18:40:54.367416Z",
     "shell.execute_reply": "2024-12-06T18:40:54.366402Z"
    }
   },
   "outputs": [],
   "source": [
    "def plot_confusion_matrix(model, dataloader, class_names):\n",
    "    all_preds = []\n",
    "    all_labels = []\n",
    "\n",
    "    # Get predictions and true labels\n",
    "    device = torch.device(\"cuda\" if torch.cuda.is_available() else \"cpu\")\n",
    "    model = model.to(device)\n",
    "    model.eval()\n",
    "    with torch.no_grad():\n",
    "        for data, labels, _ in dataloader:\n",
    "            data = data.cuda()  # Move data to GPU if available\n",
    "            labels = labels.cuda()\n",
    "            preds = torch.argmax(model(data), dim=1)\n",
    "            all_preds.extend(preds.cpu().numpy())\n",
    "            all_labels.extend(labels.cpu().numpy())\n",
    "\n",
    "    # Compute confusion matrix\n",
    "    cm = confusion_matrix(all_labels, all_preds)\n",
    "    disp = ConfusionMatrixDisplay(cm, display_labels=class_names)\n",
    "    disp.plot(cmap=\"Blues\")\n",
    "    plt.title(\"Confusion Matrix\")\n",
    "    plt.show()\n",
    "\n",
    "# Call this after training/testing\n",
    "plot_confusion_matrix(model, model.test_loader, class_names=[\"Normal\", \"Pneumonia\"])"
   ]
  },
  {
   "cell_type": "markdown",
   "id": "dcfca44f0df1056b",
   "metadata": {},
   "source": [
    "# Plot ROC/AUC Score"
   ]
  },
  {
   "cell_type": "code",
   "execution_count": null,
   "id": "e76ce3f3a224e341",
   "metadata": {
    "ExecuteTime": {
     "end_time": "2024-12-05T22:27:13.052374200Z",
     "start_time": "2024-12-03T18:17:59.437219Z"
    },
    "execution": {
     "iopub.execute_input": "2024-12-06T18:40:54.372416Z",
     "iopub.status.busy": "2024-12-06T18:40:54.372416Z",
     "iopub.status.idle": "2024-12-06T18:41:00.593569Z",
     "shell.execute_reply": "2024-12-06T18:41:00.592565Z"
    }
   },
   "outputs": [],
   "source": [
    "from sklearn.metrics import roc_curve, roc_auc_score\n",
    "\n",
    "def plot_roc_auc(model, dataloader):\n",
    "    all_preds = []\n",
    "    all_labels = []\n",
    "\n",
    "    # Get predictions and true labels\n",
    "    model.eval()\n",
    "    with torch.no_grad():\n",
    "        for data, labels, _ in dataloader:\n",
    "            data = data.cuda()\n",
    "            labels = labels.cuda()\n",
    "            preds = model(data)\n",
    "            probs = torch.softmax(preds, dim=1)[:, 1]  # Probabilities for class 1\n",
    "            all_preds.extend(probs.cpu().numpy())\n",
    "            all_labels.extend(labels.cpu().numpy())\n",
    "\n",
    "    # Compute ROC curve and AUC\n",
    "    fpr, tpr, _ = roc_curve(all_labels, all_preds)\n",
    "    auc = roc_auc_score(all_labels, all_preds)\n",
    "\n",
    "    # Plot ROC curve\n",
    "    plt.figure()\n",
    "    plt.plot(fpr, tpr, color='darkorange', lw=2, label=f'ROC curve (AUC = {auc:.2f})')\n",
    "    plt.plot([0, 1], [0, 1], color='navy', lw=2, linestyle='--')\n",
    "    plt.xlabel('False Positive Rate')\n",
    "    plt.ylabel('True Positive Rate')\n",
    "    plt.title('ROC Curve')\n",
    "    plt.legend(loc=\"lower right\")\n",
    "    plt.show()\n",
    "\n",
    "plot_roc_auc(model, model.test_loader)"
   ]
  },
  {
   "cell_type": "markdown",
   "id": "7ede0abe2194aaec",
   "metadata": {},
   "source": [
    "# Plot Gradcam"
   ]
  },
  {
   "cell_type": "code",
   "execution_count": null,
   "id": "f63382fe6cdfe619",
   "metadata": {
    "ExecuteTime": {
     "end_time": "2024-12-05T22:27:13.053374100Z",
     "start_time": "2024-12-03T18:18:05.399956Z"
    },
    "execution": {
     "iopub.execute_input": "2024-12-06T18:41:00.597569Z",
     "iopub.status.busy": "2024-12-06T18:41:00.597569Z",
     "iopub.status.idle": "2024-12-06T18:41:02.207355Z",
     "shell.execute_reply": "2024-12-06T18:41:02.206352Z"
    }
   },
   "outputs": [],
   "source": [
    "for param in model.feature_extractor.parameters():\n",
    "    param.requires_grad = True\n",
    "model.visualize_gradcam(num_samples=4, target_layer=7, class_names=[\"Normal\", \"Pneumonia\"], threshold=0.6)\n"
   ]
  },
  {
   "cell_type": "markdown",
   "id": "1f602b5c09fdb60",
   "metadata": {},
   "source": [
    "# Evaluate Metrics in Tensorboard"
   ]
  },
  {
   "cell_type": "code",
   "execution_count": null,
   "id": "41a571c74fefdaeb",
   "metadata": {
    "ExecuteTime": {
     "end_time": "2024-12-05T22:27:13.054375200Z",
     "start_time": "2024-12-02T23:01:37.063720Z"
    }
   },
   "outputs": [],
   "source": [
    "# Load TensorBoard extension\n",
    "%load_ext tensorboard\n",
    "\n",
    "# Specify the log directory\n",
    "log_dir = f\"tb_logs/{config.model_name}\"\n",
    "\n",
    "# Start TensorBoard\n",
    "%tensorboard --logdir {log_dir}"
   ]
  },
  {
   "cell_type": "markdown",
   "id": "dd4ed1a3bb63373a",
   "metadata": {},
   "source": [
    "# Classify random images"
   ]
  },
  {
   "cell_type": "code",
   "execution_count": null,
   "id": "dd1605ee6782ad12",
   "metadata": {
    "ExecuteTime": {
     "end_time": "2024-12-05T22:27:13.055374100Z",
     "start_time": "2024-12-02T23:01:41.913756Z"
    }
   },
   "outputs": [],
   "source": [
    "plot_random_images_with_labels(model, model.test_loader, num_images=20)"
   ]
  }
 ],
 "metadata": {
  "kernelspec": {
   "display_name": "Python 3",
   "language": "python",
   "name": "python3"
  },
  "language_info": {
   "codemirror_mode": {
    "name": "ipython",
    "version": 3
   },
   "file_extension": ".py",
   "mimetype": "text/x-python",
   "name": "python",
   "nbconvert_exporter": "python",
   "pygments_lexer": "ipython3",
   "version": "3.12.3"
  }
 },
 "nbformat": 4,
 "nbformat_minor": 5
}
