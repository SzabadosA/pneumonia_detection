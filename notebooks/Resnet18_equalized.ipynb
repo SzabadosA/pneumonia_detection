{
 "cells": [
  {
   "cell_type": "markdown",
   "id": "edef74c71e6ebce5",
   "metadata": {},
   "source": [
    "# Import Libraries"
   ]
  },
  {
   "cell_type": "code",
   "execution_count": null,
   "id": "initial_id",
   "metadata": {
    "ExecuteTime": {
     "end_time": "2024-12-07T20:08:48.401755Z",
     "start_time": "2024-12-07T20:08:39.204314Z"
    },
    "collapsed": true,
    "execution": {
     "iopub.execute_input": "2025-01-18T04:05:32.734947Z",
     "iopub.status.busy": "2025-01-18T04:05:32.734947Z",
     "iopub.status.idle": "2025-01-18T04:05:43.037665Z",
     "shell.execute_reply": "2025-01-18T04:05:43.036604Z"
    }
   },
   "outputs": [],
   "source": [
    "\n",
    "import os\n",
    "from IPython import get_ipython\n",
    "get_ipython().run_line_magic(\"matplotlib\", \"inline\")\n",
    "from torchvision.transforms import Compose, Resize, InterpolationMode, ToTensor, Normalize, RandomCrop, RandomHorizontalFlip\n",
    "import torch\n",
    "from code.classifier import CNNPneumoniaClassifier, Config\n",
    "from code.plot_random_image import plot_random_image_from_loader\n",
    "from code.classify_random_images import plot_random_images_with_labels\n",
    "from sklearn.metrics import ConfusionMatrixDisplay, confusion_matrix\n",
    "import matplotlib.pyplot as plt\n",
    "\n"
   ]
  },
  {
   "cell_type": "code",
   "execution_count": null,
   "id": "4376ace1b8695239",
   "metadata": {
    "ExecuteTime": {
     "end_time": "2024-12-07T20:08:48.447960Z",
     "start_time": "2024-12-07T20:08:48.427792Z"
    },
    "execution": {
     "iopub.execute_input": "2025-01-18T04:05:43.041667Z",
     "iopub.status.busy": "2025-01-18T04:05:43.040641Z",
     "iopub.status.idle": "2025-01-18T04:05:43.062800Z",
     "shell.execute_reply": "2025-01-18T04:05:43.061766Z"
    }
   },
   "outputs": [],
   "source": [
    "\n",
    "# Load the TensorBoard\n",
    "%reload_ext tensorboard\n",
    "%load_ext tensorboard\n"
   ]
  },
  {
   "cell_type": "code",
   "execution_count": null,
   "id": "69e053f3a82f28da",
   "metadata": {
    "ExecuteTime": {
     "end_time": "2024-12-07T20:08:50.139725Z",
     "start_time": "2024-12-07T20:08:50.135027Z"
    },
    "execution": {
     "iopub.execute_input": "2025-01-18T04:05:43.065804Z",
     "iopub.status.busy": "2025-01-18T04:05:43.065804Z",
     "iopub.status.idle": "2025-01-18T04:05:43.070016Z",
     "shell.execute_reply": "2025-01-18T04:05:43.070016Z"
    }
   },
   "outputs": [],
   "source": [
    "# Enable CUDA Launch Blocking\n",
    "os.environ['CUDA_LAUNCH_BLOCKING'] = '1'\n",
    "# Set float32 matrix multiplication precision to 'medium' to utilize Tensor Cores\n",
    "torch.set_float32_matmul_precision('medium')\n",
    "torch.serialization.add_safe_globals([Compose, Resize, set, Config, InterpolationMode, ToTensor, Normalize, RandomHorizontalFlip])"
   ]
  },
  {
   "cell_type": "markdown",
   "id": "c4e73085475698cb",
   "metadata": {},
   "source": [
    "# Check GPU Availability"
   ]
  },
  {
   "cell_type": "code",
   "execution_count": null,
   "id": "ba465dcd3a376771",
   "metadata": {
    "ExecuteTime": {
     "end_time": "2024-12-07T20:08:50.574551Z",
     "start_time": "2024-12-07T20:08:50.390513Z"
    },
    "execution": {
     "iopub.execute_input": "2025-01-18T04:05:43.074047Z",
     "iopub.status.busy": "2025-01-18T04:05:43.073053Z",
     "iopub.status.idle": "2025-01-18T04:05:43.280484Z",
     "shell.execute_reply": "2025-01-18T04:05:43.279453Z"
    }
   },
   "outputs": [],
   "source": [
    "gpu_info = !nvidia-smi\n",
    "gpu_info = '\\n'.join(gpu_info)\n",
    "if gpu_info.find('failed') >= 0:\n",
    "    print('Not connected to a GPU')\n",
    "else:\n",
    "    print(gpu_info)"
   ]
  },
  {
   "cell_type": "markdown",
   "id": "72000018a252c38",
   "metadata": {},
   "source": [
    "# Setup Model"
   ]
  },
  {
   "cell_type": "code",
   "execution_count": null,
   "id": "4014586acf1f2311",
   "metadata": {
    "ExecuteTime": {
     "end_time": "2024-12-07T20:08:51.636896Z",
     "start_time": "2024-12-07T20:08:50.820934Z"
    },
    "execution": {
     "iopub.execute_input": "2025-01-18T04:05:43.284482Z",
     "iopub.status.busy": "2025-01-18T04:05:43.283486Z",
     "iopub.status.idle": "2025-01-18T04:05:43.970522Z",
     "shell.execute_reply": "2025-01-18T04:05:43.969532Z"
    }
   },
   "outputs": [],
   "source": [
    "config = Config(\n",
    "    backbone_name=\"resnet18\",\n",
    "    transfer_learning=True,\n",
    "    learning_rate=1e-4,\n",
    "    batch_size=20,\n",
    "    max_epochs=50,\n",
    "    weight_decay=1e-4,\n",
    "    dropout=0.2,\n",
    "    num_workers=16,\n",
    "    model_name=\"ResNet18_equalized\",\n",
    "    version=\"001\",\n",
    "    optimizer_name = \"sgd\",\n",
    "    use_class_weights=True,\n",
    "    image_res=224,\n",
    "    patience = 10,\n",
    "    image_type=2\n",
    ")\n",
    "model = CNNPneumoniaClassifier(config)\n",
    "device = torch.device(\"cuda\" if torch.cuda.is_available() else \"cpu\")\n",
    "model = model.to(device)\n"
   ]
  },
  {
   "cell_type": "markdown",
   "id": "f9fad1c4b6515630",
   "metadata": {},
   "source": [
    "# Plot random images from all datasets"
   ]
  },
  {
   "cell_type": "code",
   "execution_count": null,
   "id": "484a34133e6799cb",
   "metadata": {
    "ExecuteTime": {
     "end_time": "2024-12-07T20:08:52.207011Z",
     "start_time": "2024-12-07T20:08:51.900973Z"
    },
    "execution": {
     "iopub.execute_input": "2025-01-18T04:05:43.974500Z",
     "iopub.status.busy": "2025-01-18T04:05:43.973501Z",
     "iopub.status.idle": "2025-01-18T04:05:44.292522Z",
     "shell.execute_reply": "2025-01-18T04:05:44.291520Z"
    }
   },
   "outputs": [],
   "source": [
    "plot_random_image_from_loader(model.train_loader.dataset, \"Train Dataset\")"
   ]
  },
  {
   "cell_type": "code",
   "execution_count": null,
   "id": "8fd665ef08dafd7f",
   "metadata": {
    "ExecuteTime": {
     "end_time": "2024-12-07T20:08:52.692120Z",
     "start_time": "2024-12-07T20:08:52.458038Z"
    },
    "execution": {
     "iopub.execute_input": "2025-01-18T04:05:44.296528Z",
     "iopub.status.busy": "2025-01-18T04:05:44.295527Z",
     "iopub.status.idle": "2025-01-18T04:05:44.606414Z",
     "shell.execute_reply": "2025-01-18T04:05:44.606414Z"
    }
   },
   "outputs": [],
   "source": [
    "plot_random_image_from_loader(model.val_loader.dataset, \"Validation Dataset\")"
   ]
  },
  {
   "cell_type": "code",
   "execution_count": null,
   "id": "c3529628b6269dc4",
   "metadata": {
    "ExecuteTime": {
     "end_time": "2024-12-07T19:23:38.133002Z",
     "start_time": "2024-12-07T19:23:37.595002Z"
    },
    "execution": {
     "iopub.execute_input": "2025-01-18T04:05:44.611411Z",
     "iopub.status.busy": "2025-01-18T04:05:44.610413Z",
     "iopub.status.idle": "2025-01-18T04:05:44.854316Z",
     "shell.execute_reply": "2025-01-18T04:05:44.853322Z"
    }
   },
   "outputs": [],
   "source": [
    "plot_random_image_from_loader(model.test_loader.dataset, \"Test Dataset\")"
   ]
  },
  {
   "cell_type": "markdown",
   "id": "9f803b343bf2619b",
   "metadata": {},
   "source": [
    "# Train Model"
   ]
  },
  {
   "cell_type": "code",
   "execution_count": null,
   "id": "d08c054aa7b21aa",
   "metadata": {
    "ExecuteTime": {
     "end_time": "2024-12-02T19:42:37.830008Z",
     "start_time": "2024-12-02T19:28:40.105859Z"
    },
    "execution": {
     "iopub.execute_input": "2025-01-18T04:05:44.858316Z",
     "iopub.status.busy": "2025-01-18T04:05:44.857318Z",
     "iopub.status.idle": "2025-01-18T04:20:30.659530Z",
     "shell.execute_reply": "2025-01-18T04:20:30.658570Z"
    }
   },
   "outputs": [],
   "source": [
    "\n",
    "# Train Model - Uncomment to train model\n",
    "#model.train_model()\n",
    "#torch.save({\n",
    "#    \"state_dict\": model.state_dict(),\n",
    "#    \"config\": vars(config)\n",
    "#}, f\"../models/{config.model_name}_final.pt\")"
   ]
  },
  {
   "cell_type": "markdown",
   "id": "389fe2c9d480ef8b",
   "metadata": {},
   "source": [
    "# Load Model"
   ]
  },
  {
   "cell_type": "code",
   "execution_count": null,
   "id": "1fa424496604d224",
   "metadata": {
    "ExecuteTime": {
     "end_time": "2024-12-07T20:08:53.449179Z",
     "start_time": "2024-12-07T20:08:52.939181Z"
    },
    "execution": {
     "iopub.execute_input": "2025-01-18T04:20:30.662531Z",
     "iopub.status.busy": "2025-01-18T04:20:30.662531Z",
     "iopub.status.idle": "2025-01-18T04:20:31.163397Z",
     "shell.execute_reply": "2025-01-18T04:20:31.162406Z"
    }
   },
   "outputs": [],
   "source": [
    "\n",
    "checkpoint = torch.load(f\"../models/{config.model_name}_final.pt\")\n",
    "loaded_config = Config(**checkpoint[\"config\"])\n",
    "model = CNNPneumoniaClassifier(loaded_config)\n",
    "model.load_state_dict(checkpoint[\"state_dict\"])\n",
    "model.eval()\n",
    "model = model.to(device)"
   ]
  },
  {
   "cell_type": "markdown",
   "id": "8b74b21135f88787",
   "metadata": {},
   "source": [
    "# Test Model"
   ]
  },
  {
   "cell_type": "code",
   "execution_count": null,
   "id": "b3ada03ddef1ef1a",
   "metadata": {
    "ExecuteTime": {
     "end_time": "2024-12-07T20:09:22.059644Z",
     "start_time": "2024-12-07T20:08:53.764255Z"
    },
    "execution": {
     "iopub.execute_input": "2025-01-18T04:20:31.168396Z",
     "iopub.status.busy": "2025-01-18T04:20:31.168396Z",
     "iopub.status.idle": "2025-01-18T04:23:42.417232Z",
     "shell.execute_reply": "2025-01-18T04:23:42.416234Z"
    }
   },
   "outputs": [],
   "source": [
    "# Run testing\n",
    "print(\"Testing the model...\")\n",
    "checkpoint_path = f\"../checkpoints/{config.model_name}.ckpt\"\n",
    "test_metadata = model.test_model(checkpoint_path)  # Ensure this uses the correct test_loader"
   ]
  },
  {
   "cell_type": "markdown",
   "id": "980063058cafcab9",
   "metadata": {},
   "source": [
    "# Plot Confusion Matrix"
   ]
  },
  {
   "cell_type": "code",
   "execution_count": null,
   "id": "d1339a78e765a1d",
   "metadata": {
    "ExecuteTime": {
     "end_time": "2024-12-07T20:10:05.603602Z",
     "start_time": "2024-12-07T20:09:22.621741Z"
    },
    "execution": {
     "iopub.execute_input": "2025-01-18T04:23:42.421231Z",
     "iopub.status.busy": "2025-01-18T04:23:42.421231Z",
     "iopub.status.idle": "2025-01-18T04:26:50.972863Z",
     "shell.execute_reply": "2025-01-18T04:26:50.971879Z"
    }
   },
   "outputs": [],
   "source": [
    "def plot_confusion_matrix(model, dataloader, class_names):\n",
    "    all_preds = []\n",
    "    all_labels = []\n",
    "\n",
    "    # Get predictions and true labels\n",
    "    device = torch.device(\"cuda\" if torch.cuda.is_available() else \"cpu\")\n",
    "    model = model.to(device)\n",
    "    model.eval()\n",
    "    with torch.no_grad():\n",
    "        for data, labels, _ in dataloader:\n",
    "            data = data.cuda()  # Move data to GPU if available\n",
    "            labels = labels.cuda()\n",
    "            preds = torch.argmax(model(data), dim=1)\n",
    "            all_preds.extend(preds.cpu().numpy())\n",
    "            all_labels.extend(labels.cpu().numpy())\n",
    "\n",
    "    # Compute confusion matrix\n",
    "    cm = confusion_matrix(all_labels, all_preds)\n",
    "    disp = ConfusionMatrixDisplay(cm, display_labels=class_names)\n",
    "    disp.plot(cmap=\"Blues\")\n",
    "    plt.title(\"Confusion Matrix\")\n",
    "    plt.show()\n",
    "\n",
    "# Call this after training/testing\n",
    "plot_confusion_matrix(model, model.test_loader, class_names=[\"Normal\", \"Pneumonia\"])"
   ]
  },
  {
   "cell_type": "markdown",
   "id": "dcfca44f0df1056b",
   "metadata": {},
   "source": [
    "# Plot ROC/AUC Score"
   ]
  },
  {
   "cell_type": "code",
   "execution_count": null,
   "id": "e76ce3f3a224e341",
   "metadata": {
    "ExecuteTime": {
     "end_time": "2024-12-07T20:10:14.654487Z",
     "start_time": "2024-12-07T20:10:06.180794Z"
    },
    "execution": {
     "iopub.execute_input": "2025-01-18T04:26:50.977888Z",
     "iopub.status.busy": "2025-01-18T04:26:50.976885Z",
     "iopub.status.idle": "2025-01-18T04:26:54.837743Z",
     "shell.execute_reply": "2025-01-18T04:26:54.836703Z"
    }
   },
   "outputs": [],
   "source": [
    "from sklearn.metrics import roc_curve, roc_auc_score\n",
    "\n",
    "def plot_roc_auc(model, dataloader):\n",
    "    all_preds = []\n",
    "    all_labels = []\n",
    "\n",
    "    # Get predictions and true labels\n",
    "    model.eval()\n",
    "    with torch.no_grad():\n",
    "        for data, labels, _ in dataloader:\n",
    "            data = data.cuda()\n",
    "            labels = labels.cuda()\n",
    "            preds = model(data)\n",
    "            probs = torch.softmax(preds, dim=1)[:, 1]  # Probabilities for class 1\n",
    "            all_preds.extend(probs.cpu().numpy())\n",
    "            all_labels.extend(labels.cpu().numpy())\n",
    "\n",
    "    # Compute ROC curve and AUC\n",
    "    fpr, tpr, _ = roc_curve(all_labels, all_preds)\n",
    "    auc = roc_auc_score(all_labels, all_preds)\n",
    "\n",
    "    # Plot ROC curve\n",
    "    plt.figure()\n",
    "    plt.plot(fpr, tpr, color='darkorange', lw=2, label=f'ROC curve (AUC = {auc:.2f})')\n",
    "    plt.plot([0, 1], [0, 1], color='navy', lw=2, linestyle='--')\n",
    "    plt.xlabel('False Positive Rate')\n",
    "    plt.ylabel('True Positive Rate')\n",
    "    plt.title('ROC Curve')\n",
    "    plt.legend(loc=\"lower right\")\n",
    "    plt.show()\n",
    "\n",
    "plot_roc_auc(model, model.test_loader)"
   ]
  },
  {
   "cell_type": "markdown",
   "id": "7ede0abe2194aaec",
   "metadata": {},
   "source": [
    "# Plot Gradcam"
   ]
  },
  {
   "cell_type": "code",
   "execution_count": null,
   "id": "f63382fe6cdfe619",
   "metadata": {
    "ExecuteTime": {
     "end_time": "2024-12-07T20:10:19.284250Z",
     "start_time": "2024-12-07T20:10:15.398671Z"
    },
    "execution": {
     "iopub.execute_input": "2025-01-18T04:26:54.841719Z",
     "iopub.status.busy": "2025-01-18T04:26:54.840716Z",
     "iopub.status.idle": "2025-01-18T04:26:56.444227Z",
     "shell.execute_reply": "2025-01-18T04:26:56.443228Z"
    }
   },
   "outputs": [],
   "source": [
    "for param in model.feature_extractor.parameters():\n",
    "    param.requires_grad = True\n",
    "model.visualize_gradcam(num_samples=4, target_layer=7, class_names=[\"Normal\", \"Pneumonia\"], threshold=0.6)\n"
   ]
  },
  {
   "cell_type": "markdown",
   "id": "1f602b5c09fdb60",
   "metadata": {},
   "source": [
    "# Evaluate Metrics in Tensorboard"
   ]
  },
  {
   "cell_type": "code",
   "execution_count": null,
   "id": "41a571c74fefdaeb",
   "metadata": {
    "ExecuteTime": {
     "end_time": "2024-12-07T20:10:20.016126Z",
     "start_time": "2024-12-07T20:10:19.968188Z"
    },
    "execution": {
     "iopub.execute_input": "2025-01-18T04:26:56.448226Z",
     "iopub.status.busy": "2025-01-18T04:26:56.448226Z",
     "iopub.status.idle": "2025-01-18T04:27:02.009653Z",
     "shell.execute_reply": "2025-01-18T04:27:02.008634Z"
    }
   },
   "outputs": [],
   "source": [
    "# Load TensorBoard extension\n",
    "%load_ext tensorboard\n",
    "\n",
    "# Specify the log directory\n",
    "log_dir = f\"tb_logs/{config.model_name}\"\n",
    "\n",
    "# Start TensorBoard\n",
    "%tensorboard --logdir {log_dir}"
   ]
  },
  {
   "cell_type": "markdown",
   "id": "dd4ed1a3bb63373a",
   "metadata": {},
   "source": [
    "# Classify random images"
   ]
  },
  {
   "cell_type": "code",
   "execution_count": null,
   "id": "dd1605ee6782ad12",
   "metadata": {
    "ExecuteTime": {
     "end_time": "2024-12-07T20:10:30.909256Z",
     "start_time": "2024-12-07T20:10:20.615120Z"
    },
    "execution": {
     "iopub.execute_input": "2025-01-18T04:27:02.013651Z",
     "iopub.status.busy": "2025-01-18T04:27:02.013651Z",
     "iopub.status.idle": "2025-01-18T04:27:06.529231Z",
     "shell.execute_reply": "2025-01-18T04:27:06.528206Z"
    }
   },
   "outputs": [],
   "source": [
    "plot_random_images_with_labels(model, model.test_loader, num_images=20)"
   ]
  }
 ],
 "metadata": {
  "kernelspec": {
   "display_name": "Python 3",
   "language": "python",
   "name": "python3"
  },
  "language_info": {
   "codemirror_mode": {
    "name": "ipython",
    "version": 3
   },
   "file_extension": ".py",
   "mimetype": "text/x-python",
   "name": "python",
   "nbconvert_exporter": "python",
   "pygments_lexer": "ipython3",
   "version": "3.12.8"
  }
 },
 "nbformat": 4,
 "nbformat_minor": 5
}
