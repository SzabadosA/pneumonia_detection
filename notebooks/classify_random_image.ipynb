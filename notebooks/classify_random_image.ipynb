{
 "cells": [
  {
   "metadata": {},
   "cell_type": "markdown",
   "source": "# Classify Random Image with given model",
   "id": "f0cd231c9c39a676"
  },
  {
   "metadata": {
    "ExecuteTime": {
     "end_time": "2024-12-01T19:32:54.388529Z",
     "start_time": "2024-12-01T19:32:47.463204Z"
    }
   },
   "cell_type": "code",
   "source": [
    "import random\n",
    "from PIL import Image\n",
    "import torch\n",
    "import os\n",
    "import os\n",
    "from torchvision.transforms import Compose, Resize, InterpolationMode, ToTensor, Normalize\n",
    "import torch\n",
    "from torchvision import transforms\n",
    "from code.classifier import PneumoniaClassifier, Config"
   ],
   "id": "391a7b280791584a",
   "outputs": [],
   "execution_count": 1
  },
  {
   "metadata": {
    "ExecuteTime": {
     "end_time": "2024-12-01T19:32:54.401565Z",
     "start_time": "2024-12-01T19:32:54.394536Z"
    }
   },
   "cell_type": "code",
   "source": [
    "def classify_random_image(model, dataset_dir, transform):\n",
    "    # Pick a random image from the dataset directory\n",
    "    pneumonia_dir = os.path.join(dataset_dir, \"PNEUMONIA\")\n",
    "    normal_dir = os.path.join(dataset_dir, \"NORMAL\")\n",
    "    all_images = [\n",
    "        os.path.join(pneumonia_dir, img) for img in os.listdir(pneumonia_dir)\n",
    "    ] + [\n",
    "        os.path.join(normal_dir, img) for img in os.listdir(normal_dir)\n",
    "    ]\n",
    "    random_image_path = random.choice(all_images)\n",
    "    print(f\"Classifying image: {random_image_path}\")\n",
    "\n",
    "    # Load and preprocess the image\n",
    "    image = Image.open(random_image_path).convert(\"RGB\")\n",
    "    image = transform(image).unsqueeze(0)  # Add batch dimension\n",
    "\n",
    "    # Put the models in evaluation mode\n",
    "    model.eval()\n",
    "    with torch.no_grad():\n",
    "        logits = model(image)  # Get raw logits\n",
    "        probabilities = torch.softmax(logits, dim=1)  # Convert to probabilities\n",
    "        predicted_class = torch.argmax(probabilities, dim=1).item()  # Get predicted class index\n",
    "\n",
    "    # Map the predicted class index to label\n",
    "    class_map = {0: \"NORMAL\", 1: \"PNEUMONIA\"}\n",
    "    print(f\"Predicted: {class_map[predicted_class]} with probability {probabilities[0, predicted_class].item():.2f}\")"
   ],
   "id": "f30b8bc0fdd85e57",
   "outputs": [],
   "execution_count": 2
  },
  {
   "metadata": {
    "ExecuteTime": {
     "end_time": "2024-12-01T19:32:56.074404Z",
     "start_time": "2024-12-01T19:32:55.660865Z"
    }
   },
   "cell_type": "code",
   "source": [
    "checkpoint_path = \"../checkpoints/ResNet18.ckpt\"\n",
    "model = PneumoniaClassifier.load_from_checkpoint(checkpoint_path)\n",
    "model.eval()"
   ],
   "id": "5e88674370014302",
   "outputs": [
    {
     "name": "stderr",
     "output_type": "stream",
     "text": [
      "C:\\Users\\aszab\\Documents\\Studium\\Modules\\ComputerScienceProject\\MedicalImaging\\pneumonia_detection\\code\\classifier.py:174: FutureWarning: You are using `torch.load` with `weights_only=False` (the current default value), which uses the default pickle module implicitly. It is possible to construct malicious pickle data which will execute arbitrary code during unpickling (See https://github.com/pytorch/pytorch/blob/main/SECURITY.md#untrusted-models for more details). In a future release, the default value for `weights_only` will be flipped to `True`. This limits the functions that could be executed during unpickling. Arbitrary objects will no longer be allowed to be loaded via this mode unless they are explicitly allowlisted by the user via `torch.serialization.add_safe_globals`. We recommend you start setting `weights_only=True` for any use case where you don't have full control of the loaded file. Please open an issue on GitHub for any issues related to this experimental feature.\n",
      "  checkpoint = torch.load(checkpoint_path)\n"
     ]
    },
    {
     "ename": "KeyError",
     "evalue": "'config'",
     "output_type": "error",
     "traceback": [
      "\u001B[1;31m---------------------------------------------------------------------------\u001B[0m",
      "\u001B[1;31mKeyError\u001B[0m                                  Traceback (most recent call last)",
      "Cell \u001B[1;32mIn[3], line 2\u001B[0m\n\u001B[0;32m      1\u001B[0m checkpoint_path \u001B[38;5;241m=\u001B[39m \u001B[38;5;124m\"\u001B[39m\u001B[38;5;124m../checkpoints/ResNet18.ckpt\u001B[39m\u001B[38;5;124m\"\u001B[39m\n\u001B[1;32m----> 2\u001B[0m model \u001B[38;5;241m=\u001B[39m PneumoniaClassifier\u001B[38;5;241m.\u001B[39mload_from_checkpoint(checkpoint_path)\n\u001B[0;32m      3\u001B[0m model\u001B[38;5;241m.\u001B[39meval()\n",
      "File \u001B[1;32m~\\Documents\\Studium\\Modules\\ComputerScienceProject\\MedicalImaging\\pneumonia_detection\\code\\classifier.py:175\u001B[0m, in \u001B[0;36mPneumoniaClassifier.load_from_checkpoint\u001B[1;34m(cls, checkpoint_path)\u001B[0m\n\u001B[0;32m    172\u001B[0m \u001B[38;5;129m@classmethod\u001B[39m\n\u001B[0;32m    173\u001B[0m \u001B[38;5;28;01mdef\u001B[39;00m \u001B[38;5;21mload_from_checkpoint\u001B[39m(\u001B[38;5;28mcls\u001B[39m, checkpoint_path):\n\u001B[0;32m    174\u001B[0m     checkpoint \u001B[38;5;241m=\u001B[39m torch\u001B[38;5;241m.\u001B[39mload(checkpoint_path)\n\u001B[1;32m--> 175\u001B[0m     config \u001B[38;5;241m=\u001B[39m checkpoint[\u001B[38;5;124m'\u001B[39m\u001B[38;5;124mconfig\u001B[39m\u001B[38;5;124m'\u001B[39m]\n\u001B[0;32m    176\u001B[0m     model \u001B[38;5;241m=\u001B[39m \u001B[38;5;28mcls\u001B[39m(config)\n\u001B[0;32m    177\u001B[0m     model\u001B[38;5;241m.\u001B[39mload_state_dict(checkpoint[\u001B[38;5;124m'\u001B[39m\u001B[38;5;124mstate_dict\u001B[39m\u001B[38;5;124m'\u001B[39m])\n",
      "\u001B[1;31mKeyError\u001B[0m: 'config'"
     ]
    }
   ],
   "execution_count": 3
  },
  {
   "metadata": {},
   "cell_type": "code",
   "outputs": [],
   "execution_count": null,
   "source": "",
   "id": "626640c87e2b0717"
  }
 ],
 "metadata": {
  "kernelspec": {
   "display_name": "Python 3",
   "language": "python",
   "name": "python3"
  },
  "language_info": {
   "codemirror_mode": {
    "name": "ipython",
    "version": 2
   },
   "file_extension": ".py",
   "mimetype": "text/x-python",
   "name": "python",
   "nbconvert_exporter": "python",
   "pygments_lexer": "ipython2",
   "version": "2.7.6"
  }
 },
 "nbformat": 4,
 "nbformat_minor": 5
}
