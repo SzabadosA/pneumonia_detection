{
 "cells": [
  {
   "cell_type": "markdown",
   "id": "edef74c71e6ebce5",
   "metadata": {},
   "source": [
    "# Import Libraries"
   ]
  },
  {
   "cell_type": "code",
   "execution_count": null,
   "id": "initial_id",
   "metadata": {
    "ExecuteTime": {
     "end_time": "2025-01-13T18:40:59.661108Z",
     "start_time": "2025-01-13T18:40:50.489235Z"
    },
    "collapsed": true,
    "execution": {
     "iopub.execute_input": "2025-01-18T07:13:23.849314Z",
     "iopub.status.busy": "2025-01-18T07:13:23.849314Z",
     "iopub.status.idle": "2025-01-18T07:13:34.229567Z",
     "shell.execute_reply": "2025-01-18T07:13:34.228556Z"
    }
   },
   "outputs": [],
   "source": [
    "\n",
    "import os\n",
    "from IPython import get_ipython\n",
    "get_ipython().run_line_magic(\"matplotlib\", \"inline\")\n",
    "from torchvision.transforms import Compose, Resize, InterpolationMode, ToTensor, Normalize, RandomCrop, RandomHorizontalFlip\n",
    "import torch\n",
    "from code.classifier import CNNPneumoniaClassifier, Config\n",
    "from code.plot_random_image import plot_random_image_from_loader\n",
    "from code.classify_random_images import plot_random_images_with_labels\n",
    "from sklearn.metrics import ConfusionMatrixDisplay, confusion_matrix\n",
    "import matplotlib.pyplot as plt\n",
    "\n"
   ]
  },
  {
   "cell_type": "code",
   "execution_count": null,
   "id": "4376ace1b8695239",
   "metadata": {
    "ExecuteTime": {
     "end_time": "2025-01-13T18:40:59.689370Z",
     "start_time": "2025-01-13T18:40:59.669133Z"
    },
    "execution": {
     "iopub.execute_input": "2025-01-18T07:13:34.233568Z",
     "iopub.status.busy": "2025-01-18T07:13:34.232593Z",
     "iopub.status.idle": "2025-01-18T07:13:34.251456Z",
     "shell.execute_reply": "2025-01-18T07:13:34.251456Z"
    }
   },
   "outputs": [],
   "source": [
    "\n",
    "# Load the TensorBoard\n",
    "%reload_ext tensorboard\n",
    "%load_ext tensorboard\n"
   ]
  },
  {
   "cell_type": "code",
   "execution_count": null,
   "id": "69e053f3a82f28da",
   "metadata": {
    "ExecuteTime": {
     "end_time": "2025-01-13T18:41:01.340967Z",
     "start_time": "2025-01-13T18:41:01.335885Z"
    },
    "execution": {
     "iopub.execute_input": "2025-01-18T07:13:34.255486Z",
     "iopub.status.busy": "2025-01-18T07:13:34.254491Z",
     "iopub.status.idle": "2025-01-18T07:13:34.260031Z",
     "shell.execute_reply": "2025-01-18T07:13:34.259021Z"
    }
   },
   "outputs": [],
   "source": [
    "# Enable CUDA Launch Blocking\n",
    "os.environ['CUDA_LAUNCH_BLOCKING'] = '1'\n",
    "# Set float32 matrix multiplication precision to 'medium' to utilize Tensor Cores\n",
    "torch.set_float32_matmul_precision('medium')\n",
    "torch.serialization.add_safe_globals([Compose, Resize, set, Config, InterpolationMode, ToTensor, Normalize, RandomHorizontalFlip])"
   ]
  },
  {
   "cell_type": "markdown",
   "id": "c4e73085475698cb",
   "metadata": {},
   "source": [
    "# Check GPU Availability"
   ]
  },
  {
   "cell_type": "code",
   "execution_count": null,
   "id": "ba465dcd3a376771",
   "metadata": {
    "ExecuteTime": {
     "end_time": "2025-01-13T18:41:01.793501Z",
     "start_time": "2025-01-13T18:41:01.584286Z"
    },
    "execution": {
     "iopub.execute_input": "2025-01-18T07:13:34.263031Z",
     "iopub.status.busy": "2025-01-18T07:13:34.263031Z",
     "iopub.status.idle": "2025-01-18T07:13:34.452298Z",
     "shell.execute_reply": "2025-01-18T07:13:34.451318Z"
    }
   },
   "outputs": [],
   "source": [
    "gpu_info = !nvidia-smi\n",
    "gpu_info = '\\n'.join(gpu_info)\n",
    "if gpu_info.find('failed') >= 0:\n",
    "    print('Not connected to a GPU')\n",
    "else:\n",
    "    print(gpu_info)"
   ]
  },
  {
   "cell_type": "markdown",
   "id": "72000018a252c38",
   "metadata": {},
   "source": [
    "# Setup Model"
   ]
  },
  {
   "cell_type": "code",
   "execution_count": null,
   "id": "4014586acf1f2311",
   "metadata": {
    "ExecuteTime": {
     "end_time": "2025-01-13T18:41:02.731250Z",
     "start_time": "2025-01-13T18:41:02.054731Z"
    },
    "execution": {
     "iopub.execute_input": "2025-01-18T07:13:34.456299Z",
     "iopub.status.busy": "2025-01-18T07:13:34.455324Z",
     "iopub.status.idle": "2025-01-18T07:13:35.122494Z",
     "shell.execute_reply": "2025-01-18T07:13:35.121504Z"
    }
   },
   "outputs": [],
   "source": [
    "config = Config(\n",
    "    backbone_name=\"resnet18\",\n",
    "    transfer_learning=True,\n",
    "    learning_rate=1e-4,\n",
    "    batch_size=20,\n",
    "    max_epochs=50,\n",
    "    weight_decay=1e-4,\n",
    "    dropout=0.2,\n",
    "    num_workers=16,\n",
    "    model_name=\"ResNet18_upscale\",\n",
    "    version=\"001\",\n",
    "    optimizer_name = \"sgd\",\n",
    "    use_class_weights=True,\n",
    "    image_res=896,\n",
    "    patience = 10,\n",
    "    image_type=3\n",
    ")\n",
    "model = CNNPneumoniaClassifier(config)\n",
    "device = torch.device(\"cuda\" if torch.cuda.is_available() else \"cpu\")\n",
    "model = model.to(device)\n"
   ]
  },
  {
   "cell_type": "markdown",
   "id": "f9fad1c4b6515630",
   "metadata": {},
   "source": [
    "# Plot random images from all datasets"
   ]
  },
  {
   "cell_type": "code",
   "execution_count": null,
   "id": "484a34133e6799cb",
   "metadata": {
    "ExecuteTime": {
     "end_time": "2024-12-07T20:15:42.024522Z",
     "start_time": "2024-12-07T20:15:41.123999Z"
    },
    "execution": {
     "iopub.execute_input": "2025-01-18T07:13:35.126516Z",
     "iopub.status.busy": "2025-01-18T07:13:35.125523Z",
     "iopub.status.idle": "2025-01-18T07:13:35.504441Z",
     "shell.execute_reply": "2025-01-18T07:13:35.503444Z"
    }
   },
   "outputs": [],
   "source": [
    "plot_random_image_from_loader(model.train_loader.dataset, \"Train Dataset\")"
   ]
  },
  {
   "cell_type": "code",
   "execution_count": null,
   "id": "8fd665ef08dafd7f",
   "metadata": {
    "ExecuteTime": {
     "end_time": "2024-12-07T20:15:43.820577Z",
     "start_time": "2024-12-07T20:15:43.176577Z"
    },
    "execution": {
     "iopub.execute_input": "2025-01-18T07:13:35.507441Z",
     "iopub.status.busy": "2025-01-18T07:13:35.507441Z",
     "iopub.status.idle": "2025-01-18T07:13:35.832143Z",
     "shell.execute_reply": "2025-01-18T07:13:35.831146Z"
    }
   },
   "outputs": [],
   "source": [
    "plot_random_image_from_loader(model.val_loader.dataset, \"Validation Dataset\")"
   ]
  },
  {
   "cell_type": "code",
   "execution_count": null,
   "id": "c3529628b6269dc4",
   "metadata": {
    "ExecuteTime": {
     "end_time": "2024-12-07T20:15:44.472575Z",
     "start_time": "2024-12-07T20:15:43.887578Z"
    },
    "execution": {
     "iopub.execute_input": "2025-01-18T07:13:35.836143Z",
     "iopub.status.busy": "2025-01-18T07:13:35.835143Z",
     "iopub.status.idle": "2025-01-18T07:13:36.171570Z",
     "shell.execute_reply": "2025-01-18T07:13:36.170589Z"
    }
   },
   "outputs": [],
   "source": [
    "plot_random_image_from_loader(model.test_loader.dataset, \"Test Dataset\")"
   ]
  },
  {
   "cell_type": "markdown",
   "id": "9f803b343bf2619b",
   "metadata": {},
   "source": [
    "# Train Model"
   ]
  },
  {
   "cell_type": "code",
   "execution_count": null,
   "id": "d08c054aa7b21aa",
   "metadata": {
    "ExecuteTime": {
     "start_time": "2024-12-02T18:32:00.914955Z"
    },
    "execution": {
     "iopub.execute_input": "2025-01-18T07:13:36.175607Z",
     "iopub.status.busy": "2025-01-18T07:13:36.174581Z",
     "iopub.status.idle": "2025-01-18T08:13:29.437327Z",
     "shell.execute_reply": "2025-01-18T08:13:29.436284Z"
    },
    "jupyter": {
     "is_executing": true
    }
   },
   "outputs": [],
   "source": [
    "\n",
    "# Train Model - Uncomment to train model\n",
    "#model.train_model()\n",
    "#torch.save({\n",
    "#    \"state_dict\": model.state_dict(),\n",
    "#    \"config\": vars(config)\n",
    "#}, f\"../models/{config.model_name}_final.pt\")"
   ]
  },
  {
   "cell_type": "markdown",
   "id": "389fe2c9d480ef8b",
   "metadata": {},
   "source": [
    "# Load Model"
   ]
  },
  {
   "cell_type": "code",
   "execution_count": null,
   "id": "1fa424496604d224",
   "metadata": {
    "ExecuteTime": {
     "end_time": "2025-01-13T18:41:03.521918Z",
     "start_time": "2025-01-13T18:41:02.978782Z"
    },
    "execution": {
     "iopub.execute_input": "2025-01-18T08:13:29.441299Z",
     "iopub.status.busy": "2025-01-18T08:13:29.441299Z",
     "iopub.status.idle": "2025-01-18T08:13:29.941790Z",
     "shell.execute_reply": "2025-01-18T08:13:29.940765Z"
    }
   },
   "outputs": [],
   "source": [
    "\n",
    "checkpoint = torch.load(f\"../models/{config.model_name}_final.pt\")\n",
    "loaded_config = Config(**checkpoint[\"config\"])\n",
    "model = CNNPneumoniaClassifier(loaded_config)\n",
    "model.load_state_dict(checkpoint[\"state_dict\"])\n",
    "model.eval()\n",
    "model = model.to(device)"
   ]
  },
  {
   "cell_type": "markdown",
   "id": "8b74b21135f88787",
   "metadata": {},
   "source": [
    "# Test Model"
   ]
  },
  {
   "cell_type": "code",
   "execution_count": null,
   "id": "b3ada03ddef1ef1a",
   "metadata": {
    "ExecuteTime": {
     "end_time": "2024-12-07T20:17:03.635670Z",
     "start_time": "2024-12-07T20:15:46.750549Z"
    },
    "execution": {
     "iopub.execute_input": "2025-01-18T08:13:29.947804Z",
     "iopub.status.busy": "2025-01-18T08:13:29.947804Z",
     "iopub.status.idle": "2025-01-18T08:16:52.137616Z",
     "shell.execute_reply": "2025-01-18T08:16:52.136597Z"
    }
   },
   "outputs": [],
   "source": [
    "# Run testing\n",
    "print(\"Testing the model...\")\n",
    "checkpoint_path = f\"../checkpoints/{config.model_name}.ckpt\"\n",
    "test_metadata = model.test_model(checkpoint_path)  # Ensure this uses the correct test_loader"
   ]
  },
  {
   "cell_type": "markdown",
   "id": "980063058cafcab9",
   "metadata": {},
   "source": [
    "# Plot Confusion Matrix"
   ]
  },
  {
   "cell_type": "code",
   "execution_count": null,
   "id": "d1339a78e765a1d",
   "metadata": {
    "ExecuteTime": {
     "start_time": "2024-12-07T20:17:04.905036Z"
    },
    "execution": {
     "iopub.execute_input": "2025-01-18T08:16:52.141616Z",
     "iopub.status.busy": "2025-01-18T08:16:52.140637Z",
     "iopub.status.idle": "2025-01-18T08:20:13.345817Z",
     "shell.execute_reply": "2025-01-18T08:20:13.345817Z"
    },
    "jupyter": {
     "is_executing": true
    }
   },
   "outputs": [],
   "source": [
    "def plot_confusion_matrix(model, dataloader, class_names):\n",
    "    all_preds = []\n",
    "    all_labels = []\n",
    "\n",
    "    # Get predictions and true labels\n",
    "    device = torch.device(\"cuda\" if torch.cuda.is_available() else \"cpu\")\n",
    "    model = model.to(device)\n",
    "    model.eval()\n",
    "    with torch.no_grad():\n",
    "        for data, labels, _ in dataloader:\n",
    "            data = data.cuda()  # Move data to GPU if available\n",
    "            labels = labels.cuda()\n",
    "            preds = torch.argmax(model(data), dim=1)\n",
    "            all_preds.extend(preds.cpu().numpy())\n",
    "            all_labels.extend(labels.cpu().numpy())\n",
    "\n",
    "    # Compute confusion matrix\n",
    "    cm = confusion_matrix(all_labels, all_preds)\n",
    "    disp = ConfusionMatrixDisplay(cm, display_labels=class_names)\n",
    "    disp.plot(cmap=\"Blues\")\n",
    "    plt.title(\"Confusion Matrix\")\n",
    "    plt.show()\n",
    "\n",
    "# Call this after training/testing\n",
    "plot_confusion_matrix(model, model.test_loader, class_names=[\"Normal\", \"Pneumonia\"])"
   ]
  },
  {
   "cell_type": "markdown",
   "id": "dcfca44f0df1056b",
   "metadata": {},
   "source": [
    "# Plot ROC/AUC Score"
   ]
  },
  {
   "cell_type": "code",
   "execution_count": null,
   "id": "e76ce3f3a224e341",
   "metadata": {
    "ExecuteTime": {
     "end_time": "2024-12-07T19:24:07.610009Z",
     "start_time": "2024-12-07T19:23:39.156664Z"
    },
    "execution": {
     "iopub.execute_input": "2025-01-18T08:20:13.350820Z",
     "iopub.status.busy": "2025-01-18T08:20:13.349844Z",
     "iopub.status.idle": "2025-01-18T08:20:30.847022Z",
     "shell.execute_reply": "2025-01-18T08:20:30.846024Z"
    }
   },
   "outputs": [],
   "source": [
    "from sklearn.metrics import roc_curve, roc_auc_score\n",
    "\n",
    "def plot_roc_auc(model, dataloader):\n",
    "    all_preds = []\n",
    "    all_labels = []\n",
    "\n",
    "    # Get predictions and true labels\n",
    "    model.eval()\n",
    "    with torch.no_grad():\n",
    "        for data, labels, _ in dataloader:\n",
    "            data = data.cuda()\n",
    "            labels = labels.cuda()\n",
    "            preds = model(data)\n",
    "            probs = torch.softmax(preds, dim=1)[:, 1]  # Probabilities for class 1\n",
    "            all_preds.extend(probs.cpu().numpy())\n",
    "            all_labels.extend(labels.cpu().numpy())\n",
    "\n",
    "    # Compute ROC curve and AUC\n",
    "    fpr, tpr, _ = roc_curve(all_labels, all_preds)\n",
    "    auc = roc_auc_score(all_labels, all_preds)\n",
    "\n",
    "    # Plot ROC curve\n",
    "    plt.figure()\n",
    "    plt.plot(fpr, tpr, color='darkorange', lw=2, label=f'ROC curve (AUC = {auc:.2f})')\n",
    "    plt.plot([0, 1], [0, 1], color='navy', lw=2, linestyle='--')\n",
    "    plt.xlabel('False Positive Rate')\n",
    "    plt.ylabel('True Positive Rate')\n",
    "    plt.title('ROC Curve')\n",
    "    plt.legend(loc=\"lower right\")\n",
    "    plt.show()\n",
    "\n",
    "plot_roc_auc(model, model.test_loader)"
   ]
  },
  {
   "cell_type": "markdown",
   "id": "7ede0abe2194aaec",
   "metadata": {},
   "source": [
    "# Plot Gradcam"
   ]
  },
  {
   "cell_type": "code",
   "execution_count": null,
   "id": "f63382fe6cdfe619",
   "metadata": {
    "ExecuteTime": {
     "end_time": "2025-01-13T18:42:25.872898Z",
     "start_time": "2025-01-13T18:42:24.348842Z"
    },
    "execution": {
     "iopub.execute_input": "2025-01-18T08:20:30.851023Z",
     "iopub.status.busy": "2025-01-18T08:20:30.851023Z",
     "iopub.status.idle": "2025-01-18T08:20:32.601760Z",
     "shell.execute_reply": "2025-01-18T08:20:32.600736Z"
    }
   },
   "outputs": [],
   "source": [
    "for param in model.feature_extractor.parameters():\n",
    "    param.requires_grad = True\n",
    "model.visualize_gradcam(num_samples=4, target_layer=7, class_names=[\"Normal\", \"Pneumonia\"], threshold=0.5)\n"
   ]
  },
  {
   "cell_type": "markdown",
   "id": "1f602b5c09fdb60",
   "metadata": {},
   "source": [
    "# Evaluate Metrics in Tensorboard"
   ]
  },
  {
   "cell_type": "code",
   "execution_count": null,
   "id": "41a571c74fefdaeb",
   "metadata": {
    "ExecuteTime": {
     "end_time": "2024-12-07T19:24:24.717228Z",
     "start_time": "2024-12-07T19:24:24.635589Z"
    },
    "execution": {
     "iopub.execute_input": "2025-01-18T08:20:32.605759Z",
     "iopub.status.busy": "2025-01-18T08:20:32.605759Z",
     "iopub.status.idle": "2025-01-18T08:20:38.191561Z",
     "shell.execute_reply": "2025-01-18T08:20:38.190576Z"
    }
   },
   "outputs": [],
   "source": [
    "# Load TensorBoard extension\n",
    "%load_ext tensorboard\n",
    "\n",
    "# Specify the log directory\n",
    "log_dir = f\"tb_logs/{config.model_name}\"\n",
    "\n",
    "# Start TensorBoard\n",
    "%tensorboard --logdir {log_dir}"
   ]
  },
  {
   "cell_type": "markdown",
   "id": "dd4ed1a3bb63373a",
   "metadata": {},
   "source": [
    "# Classify random images"
   ]
  },
  {
   "cell_type": "code",
   "execution_count": null,
   "id": "dd1605ee6782ad12",
   "metadata": {
    "ExecuteTime": {
     "end_time": "2024-12-07T19:25:29.041958Z",
     "start_time": "2024-12-07T19:24:25.540184Z"
    },
    "execution": {
     "iopub.execute_input": "2025-01-18T08:20:38.195600Z",
     "iopub.status.busy": "2025-01-18T08:20:38.195600Z",
     "iopub.status.idle": "2025-01-18T08:20:45.390505Z",
     "shell.execute_reply": "2025-01-18T08:20:45.388948Z"
    }
   },
   "outputs": [],
   "source": [
    "plot_random_images_with_labels(model, model.test_loader, num_images=20)"
   ]
  }
 ],
 "metadata": {
  "kernelspec": {
   "display_name": "Python 3",
   "language": "python",
   "name": "python3"
  },
  "language_info": {
   "codemirror_mode": {
    "name": "ipython",
    "version": 3
   },
   "file_extension": ".py",
   "mimetype": "text/x-python",
   "name": "python",
   "nbconvert_exporter": "python",
   "pygments_lexer": "ipython3",
   "version": "3.12.8"
  }
 },
 "nbformat": 4,
 "nbformat_minor": 5
}
