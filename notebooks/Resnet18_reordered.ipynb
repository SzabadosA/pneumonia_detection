{
 "cells": [
  {
   "cell_type": "markdown",
   "id": "edef74c71e6ebce5",
   "metadata": {},
   "source": [
    "# Import Libraries"
   ]
  },
  {
   "cell_type": "code",
   "execution_count": null,
   "id": "initial_id",
   "metadata": {
    "ExecuteTime": {
     "end_time": "2025-01-13T18:39:01.197931Z",
     "start_time": "2025-01-13T18:38:51.930037Z"
    },
    "collapsed": true,
    "execution": {
     "iopub.execute_input": "2025-01-18T05:49:05.962947Z",
     "iopub.status.busy": "2025-01-18T05:49:05.962947Z",
     "iopub.status.idle": "2025-01-18T05:49:16.372140Z",
     "shell.execute_reply": "2025-01-18T05:49:16.371109Z"
    }
   },
   "outputs": [],
   "source": [
    "\n",
    "import os\n",
    "from IPython import get_ipython\n",
    "get_ipython().run_line_magic(\"matplotlib\", \"inline\")\n",
    "from torchvision.transforms import Compose, Resize, InterpolationMode, ToTensor, Normalize, RandomCrop, RandomHorizontalFlip\n",
    "import torch\n",
    "from code.classifier import CNNPneumoniaClassifier, Config\n",
    "from code.plot_random_image import plot_random_image_from_loader\n",
    "from code.classify_random_images import plot_random_images_with_labels\n",
    "from sklearn.metrics import ConfusionMatrixDisplay, confusion_matrix\n",
    "import matplotlib.pyplot as plt\n",
    "\n"
   ]
  },
  {
   "cell_type": "code",
   "execution_count": null,
   "id": "4376ace1b8695239",
   "metadata": {
    "ExecuteTime": {
     "end_time": "2025-01-13T18:39:01.231Z",
     "start_time": "2025-01-13T18:39:01.209927Z"
    },
    "execution": {
     "iopub.execute_input": "2025-01-18T05:49:16.376146Z",
     "iopub.status.busy": "2025-01-18T05:49:16.375124Z",
     "iopub.status.idle": "2025-01-18T05:49:16.393920Z",
     "shell.execute_reply": "2025-01-18T05:49:16.393920Z"
    }
   },
   "outputs": [],
   "source": [
    "\n",
    "# Load the TensorBoard\n",
    "%reload_ext tensorboard\n",
    "%load_ext tensorboard\n"
   ]
  },
  {
   "cell_type": "code",
   "execution_count": null,
   "id": "69e053f3a82f28da",
   "metadata": {
    "ExecuteTime": {
     "end_time": "2025-01-13T18:39:02.937975Z",
     "start_time": "2025-01-13T18:39:02.932965Z"
    },
    "execution": {
     "iopub.execute_input": "2025-01-18T05:49:16.397954Z",
     "iopub.status.busy": "2025-01-18T05:49:16.396951Z",
     "iopub.status.idle": "2025-01-18T05:49:16.401869Z",
     "shell.execute_reply": "2025-01-18T05:49:16.401869Z"
    }
   },
   "outputs": [],
   "source": [
    "# Enable CUDA Launch Blocking\n",
    "os.environ['CUDA_LAUNCH_BLOCKING'] = '1'\n",
    "# Set float32 matrix multiplication precision to 'medium' to utilize Tensor Cores\n",
    "torch.set_float32_matmul_precision('medium')\n",
    "torch.serialization.add_safe_globals([Compose, Resize, set, Config, InterpolationMode, ToTensor, Normalize, RandomHorizontalFlip])"
   ]
  },
  {
   "cell_type": "markdown",
   "id": "c4e73085475698cb",
   "metadata": {},
   "source": [
    "# Check GPU Availability"
   ]
  },
  {
   "cell_type": "code",
   "execution_count": null,
   "id": "ba465dcd3a376771",
   "metadata": {
    "ExecuteTime": {
     "end_time": "2025-01-13T18:39:03.402091Z",
     "start_time": "2025-01-13T18:39:03.206853Z"
    },
    "execution": {
     "iopub.execute_input": "2025-01-18T05:49:16.404887Z",
     "iopub.status.busy": "2025-01-18T05:49:16.404887Z",
     "iopub.status.idle": "2025-01-18T05:49:16.596773Z",
     "shell.execute_reply": "2025-01-18T05:49:16.596773Z"
    }
   },
   "outputs": [],
   "source": [
    "gpu_info = !nvidia-smi\n",
    "gpu_info = '\\n'.join(gpu_info)\n",
    "if gpu_info.find('failed') >= 0:\n",
    "    print('Not connected to a GPU')\n",
    "else:\n",
    "    print(gpu_info)"
   ]
  },
  {
   "cell_type": "markdown",
   "id": "72000018a252c38",
   "metadata": {},
   "source": [
    "# Setup Model"
   ]
  },
  {
   "cell_type": "code",
   "execution_count": null,
   "id": "4014586acf1f2311",
   "metadata": {
    "ExecuteTime": {
     "end_time": "2025-01-13T18:39:04.357764Z",
     "start_time": "2025-01-13T18:39:03.647693Z"
    },
    "execution": {
     "iopub.execute_input": "2025-01-18T05:49:16.600786Z",
     "iopub.status.busy": "2025-01-18T05:49:16.600786Z",
     "iopub.status.idle": "2025-01-18T05:49:17.276810Z",
     "shell.execute_reply": "2025-01-18T05:49:17.275810Z"
    }
   },
   "outputs": [],
   "source": [
    "config = Config(\n",
    "    backbone_name=\"resnet18\",\n",
    "    transfer_learning=True,\n",
    "    learning_rate=1e-4,\n",
    "    batch_size=20,\n",
    "    max_epochs=50,\n",
    "    weight_decay=1e-4,\n",
    "    dropout=0.2,\n",
    "    num_workers=16,\n",
    "    model_name=\"ResNet18_reordered\",\n",
    "    version=\"001\",\n",
    "    optimizer_name = \"sgd\",\n",
    "    use_class_weights=False,\n",
    "    image_res=224,\n",
    "    patience = 10,\n",
    "    image_type=1\n",
    ")\n",
    "model = CNNPneumoniaClassifier(config)\n",
    "device = torch.device(\"cuda\" if torch.cuda.is_available() else \"cpu\")\n",
    "model = model.to(device)\n"
   ]
  },
  {
   "cell_type": "markdown",
   "id": "f9fad1c4b6515630",
   "metadata": {},
   "source": [
    "# Plot random images from all datasets"
   ]
  },
  {
   "cell_type": "code",
   "execution_count": null,
   "id": "484a34133e6799cb",
   "metadata": {
    "ExecuteTime": {
     "end_time": "2024-12-07T20:10:05.371036Z",
     "start_time": "2024-12-07T20:10:04.834035Z"
    },
    "execution": {
     "iopub.execute_input": "2025-01-18T05:49:17.280810Z",
     "iopub.status.busy": "2025-01-18T05:49:17.279786Z",
     "iopub.status.idle": "2025-01-18T05:49:17.584846Z",
     "shell.execute_reply": "2025-01-18T05:49:17.583880Z"
    }
   },
   "outputs": [],
   "source": [
    "plot_random_image_from_loader(model.train_loader.dataset, \"Train Dataset\")"
   ]
  },
  {
   "cell_type": "code",
   "execution_count": null,
   "id": "8fd665ef08dafd7f",
   "metadata": {
    "ExecuteTime": {
     "end_time": "2024-12-07T20:10:06.426782Z",
     "start_time": "2024-12-07T20:10:05.984125Z"
    },
    "execution": {
     "iopub.execute_input": "2025-01-18T05:49:17.588859Z",
     "iopub.status.busy": "2025-01-18T05:49:17.587835Z",
     "iopub.status.idle": "2025-01-18T05:49:17.817816Z",
     "shell.execute_reply": "2025-01-18T05:49:17.816816Z"
    }
   },
   "outputs": [],
   "source": [
    "plot_random_image_from_loader(model.val_loader.dataset, \"Validation Dataset\")"
   ]
  },
  {
   "cell_type": "code",
   "execution_count": null,
   "id": "c3529628b6269dc4",
   "metadata": {
    "ExecuteTime": {
     "end_time": "2024-12-07T19:21:57.411747Z",
     "start_time": "2024-12-07T19:21:56.769710Z"
    },
    "execution": {
     "iopub.execute_input": "2025-01-18T05:49:17.821816Z",
     "iopub.status.busy": "2025-01-18T05:49:17.820819Z",
     "iopub.status.idle": "2025-01-18T05:49:18.095884Z",
     "shell.execute_reply": "2025-01-18T05:49:18.095345Z"
    }
   },
   "outputs": [],
   "source": [
    "plot_random_image_from_loader(model.test_loader.dataset, \"Test Dataset\")"
   ]
  },
  {
   "cell_type": "markdown",
   "id": "9f803b343bf2619b",
   "metadata": {},
   "source": [
    "# Train Model"
   ]
  },
  {
   "cell_type": "code",
   "execution_count": null,
   "id": "d08c054aa7b21aa",
   "metadata": {
    "ExecuteTime": {
     "end_time": "2024-12-02T19:02:21.611740Z",
     "start_time": "2024-12-02T18:42:10.180138Z"
    },
    "execution": {
     "iopub.execute_input": "2025-01-18T05:49:18.099874Z",
     "iopub.status.busy": "2025-01-18T05:49:18.099874Z",
     "iopub.status.idle": "2025-01-18T06:12:46.058004Z",
     "shell.execute_reply": "2025-01-18T06:12:46.056980Z"
    }
   },
   "outputs": [],
   "source": [
    "\n",
    "# Train Model - Uncomment to train model\n",
    "#model.train_model()\n",
    "#torch.save({\n",
    "#    \"state_dict\": model.state_dict(),\n",
    "#    \"config\": vars(config)\n",
    "#}, f\"../models/{config.model_name}_final.pt\")"
   ]
  },
  {
   "cell_type": "markdown",
   "id": "389fe2c9d480ef8b",
   "metadata": {},
   "source": [
    "# Load Model"
   ]
  },
  {
   "cell_type": "code",
   "execution_count": null,
   "id": "1fa424496604d224",
   "metadata": {
    "ExecuteTime": {
     "end_time": "2025-01-13T18:39:05.134062Z",
     "start_time": "2025-01-13T18:39:04.599427Z"
    },
    "execution": {
     "iopub.execute_input": "2025-01-18T06:12:46.062003Z",
     "iopub.status.busy": "2025-01-18T06:12:46.062003Z",
     "iopub.status.idle": "2025-01-18T06:12:46.529907Z",
     "shell.execute_reply": "2025-01-18T06:12:46.528913Z"
    }
   },
   "outputs": [],
   "source": [
    "\n",
    "checkpoint = torch.load(f\"../models/{config.model_name}_final.pt\")\n",
    "loaded_config = Config(**checkpoint[\"config\"])\n",
    "model = CNNPneumoniaClassifier(loaded_config)\n",
    "model.load_state_dict(checkpoint[\"state_dict\"])\n",
    "model.eval()\n",
    "model = model.to(device)"
   ]
  },
  {
   "cell_type": "markdown",
   "id": "8b74b21135f88787",
   "metadata": {},
   "source": [
    "# Test Model"
   ]
  },
  {
   "cell_type": "code",
   "execution_count": null,
   "id": "b3ada03ddef1ef1a",
   "metadata": {
    "ExecuteTime": {
     "end_time": "2024-12-07T20:11:12.460566Z",
     "start_time": "2024-12-07T20:10:12.418876Z"
    },
    "execution": {
     "iopub.execute_input": "2025-01-18T06:12:46.534907Z",
     "iopub.status.busy": "2025-01-18T06:12:46.534907Z",
     "iopub.status.idle": "2025-01-18T06:15:57.036767Z",
     "shell.execute_reply": "2025-01-18T06:15:57.035769Z"
    }
   },
   "outputs": [],
   "source": [
    "# Run testing\n",
    "print(\"Testing the model...\")\n",
    "checkpoint_path = f\"../checkpoints/{config.model_name}.ckpt\"\n",
    "test_metadata = model.test_model(checkpoint_path)  # Ensure this uses the correct test_loader"
   ]
  },
  {
   "cell_type": "markdown",
   "id": "980063058cafcab9",
   "metadata": {},
   "source": [
    "# Plot Confusion Matrix"
   ]
  },
  {
   "cell_type": "code",
   "execution_count": null,
   "id": "d1339a78e765a1d",
   "metadata": {
    "ExecuteTime": {
     "end_time": "2024-12-07T20:11:47.287548Z",
     "start_time": "2024-12-07T20:11:13.174540Z"
    },
    "execution": {
     "iopub.execute_input": "2025-01-18T06:15:57.040767Z",
     "iopub.status.busy": "2025-01-18T06:15:57.039768Z",
     "iopub.status.idle": "2025-01-18T06:19:03.951165Z",
     "shell.execute_reply": "2025-01-18T06:19:03.950141Z"
    }
   },
   "outputs": [],
   "source": [
    "def plot_confusion_matrix(model, dataloader, class_names):\n",
    "    all_preds = []\n",
    "    all_labels = []\n",
    "\n",
    "    # Get predictions and true labels\n",
    "    device = torch.device(\"cuda\" if torch.cuda.is_available() else \"cpu\")\n",
    "    model = model.to(device)\n",
    "    model.eval()\n",
    "    with torch.no_grad():\n",
    "        for data, labels, _ in dataloader:\n",
    "            data = data.cuda()  # Move data to GPU if available\n",
    "            labels = labels.cuda()\n",
    "            preds = torch.argmax(model(data), dim=1)\n",
    "            all_preds.extend(preds.cpu().numpy())\n",
    "            all_labels.extend(labels.cpu().numpy())\n",
    "\n",
    "    # Compute confusion matrix\n",
    "    cm = confusion_matrix(all_labels, all_preds)\n",
    "    disp = ConfusionMatrixDisplay(cm, display_labels=class_names)\n",
    "    disp.plot(cmap=\"Blues\")\n",
    "    plt.title(\"Confusion Matrix\")\n",
    "    plt.show()\n",
    "\n",
    "# Call this after training/testing\n",
    "plot_confusion_matrix(model, model.test_loader, class_names=[\"Normal\", \"Pneumonia\"])"
   ]
  },
  {
   "cell_type": "markdown",
   "id": "dcfca44f0df1056b",
   "metadata": {},
   "source": [
    "# Plot ROC/AUC Score"
   ]
  },
  {
   "cell_type": "code",
   "execution_count": null,
   "id": "e76ce3f3a224e341",
   "metadata": {
    "ExecuteTime": {
     "end_time": "2024-12-07T20:11:51.233445Z",
     "start_time": "2024-12-07T20:11:47.292548Z"
    },
    "execution": {
     "iopub.execute_input": "2025-01-18T06:19:03.955161Z",
     "iopub.status.busy": "2025-01-18T06:19:03.955161Z",
     "iopub.status.idle": "2025-01-18T06:19:07.154808Z",
     "shell.execute_reply": "2025-01-18T06:19:07.154808Z"
    }
   },
   "outputs": [],
   "source": [
    "from sklearn.metrics import roc_curve, roc_auc_score\n",
    "\n",
    "def plot_roc_auc(model, dataloader):\n",
    "    all_preds = []\n",
    "    all_labels = []\n",
    "\n",
    "    # Get predictions and true labels\n",
    "    model.eval()\n",
    "    with torch.no_grad():\n",
    "        for data, labels, _ in dataloader:\n",
    "            data = data.cuda()\n",
    "            labels = labels.cuda()\n",
    "            preds = model(data)\n",
    "            probs = torch.softmax(preds, dim=1)[:, 1]  # Probabilities for class 1\n",
    "            all_preds.extend(probs.cpu().numpy())\n",
    "            all_labels.extend(labels.cpu().numpy())\n",
    "\n",
    "    # Compute ROC curve and AUC\n",
    "    fpr, tpr, _ = roc_curve(all_labels, all_preds)\n",
    "    auc = roc_auc_score(all_labels, all_preds)\n",
    "\n",
    "    # Plot ROC curve\n",
    "    plt.figure()\n",
    "    plt.plot(fpr, tpr, color='darkorange', lw=2, label=f'ROC curve (AUC = {auc:.2f})')\n",
    "    plt.plot([0, 1], [0, 1], color='navy', lw=2, linestyle='--')\n",
    "    plt.xlabel('False Positive Rate')\n",
    "    plt.ylabel('True Positive Rate')\n",
    "    plt.title('ROC Curve')\n",
    "    plt.legend(loc=\"lower right\")\n",
    "    plt.show()\n",
    "\n",
    "plot_roc_auc(model, model.test_loader)"
   ]
  },
  {
   "cell_type": "markdown",
   "id": "7ede0abe2194aaec",
   "metadata": {},
   "source": [
    "# Plot Gradcam"
   ]
  },
  {
   "cell_type": "code",
   "execution_count": null,
   "id": "f63382fe6cdfe619",
   "metadata": {
    "ExecuteTime": {
     "end_time": "2025-01-13T18:39:16.043428Z",
     "start_time": "2025-01-13T18:39:15.344831Z"
    },
    "execution": {
     "iopub.execute_input": "2025-01-18T06:19:07.159826Z",
     "iopub.status.busy": "2025-01-18T06:19:07.158835Z",
     "iopub.status.idle": "2025-01-18T06:19:08.186677Z",
     "shell.execute_reply": "2025-01-18T06:19:08.185680Z"
    }
   },
   "outputs": [],
   "source": [
    "for param in model.feature_extractor.parameters():\n",
    "    param.requires_grad = True\n",
    "model.visualize_gradcam(num_samples=4, target_layer=7, class_names=[\"Normal\", \"Pneumonia\"], threshold=0.6)\n"
   ]
  },
  {
   "cell_type": "markdown",
   "id": "1f602b5c09fdb60",
   "metadata": {},
   "source": [
    "# Evaluate Metrics in Tensorboard"
   ]
  },
  {
   "cell_type": "code",
   "execution_count": null,
   "id": "41a571c74fefdaeb",
   "metadata": {
    "ExecuteTime": {
     "end_time": "2024-12-07T20:11:53.414912Z",
     "start_time": "2024-12-07T20:11:53.386664Z"
    },
    "execution": {
     "iopub.execute_input": "2025-01-18T06:19:08.190676Z",
     "iopub.status.busy": "2025-01-18T06:19:08.189676Z",
     "iopub.status.idle": "2025-01-18T06:19:14.267373Z",
     "shell.execute_reply": "2025-01-18T06:19:14.266358Z"
    }
   },
   "outputs": [],
   "source": [
    "# Load TensorBoard extension\n",
    "%load_ext tensorboard\n",
    "\n",
    "# Specify the log directory\n",
    "log_dir = f\"tb_logs/{config.model_name}\"\n",
    "\n",
    "# Start TensorBoard\n",
    "%tensorboard --logdir {log_dir}"
   ]
  },
  {
   "cell_type": "markdown",
   "id": "dd4ed1a3bb63373a",
   "metadata": {},
   "source": [
    "# Classify random images"
   ]
  },
  {
   "cell_type": "code",
   "execution_count": null,
   "id": "dd1605ee6782ad12",
   "metadata": {
    "ExecuteTime": {
     "end_time": "2024-12-07T20:11:58.046827Z",
     "start_time": "2024-12-07T20:11:53.683352Z"
    },
    "execution": {
     "iopub.execute_input": "2025-01-18T06:19:14.270390Z",
     "iopub.status.busy": "2025-01-18T06:19:14.270390Z",
     "iopub.status.idle": "2025-01-18T06:19:18.651182Z",
     "shell.execute_reply": "2025-01-18T06:19:18.650196Z"
    }
   },
   "outputs": [],
   "source": [
    "plot_random_images_with_labels(model, model.test_loader, num_images=20)"
   ]
  }
 ],
 "metadata": {
  "kernelspec": {
   "display_name": "Python 3",
   "language": "python",
   "name": "python3"
  },
  "language_info": {
   "codemirror_mode": {
    "name": "ipython",
    "version": 3
   },
   "file_extension": ".py",
   "mimetype": "text/x-python",
   "name": "python",
   "nbconvert_exporter": "python",
   "pygments_lexer": "ipython3",
   "version": "3.12.8"
  }
 },
 "nbformat": 4,
 "nbformat_minor": 5
}
