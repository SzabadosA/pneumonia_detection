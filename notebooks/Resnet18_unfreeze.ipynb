{
 "cells": [
  {
   "cell_type": "markdown",
   "id": "edef74c71e6ebce5",
   "metadata": {},
   "source": [
    "# Import Libraries"
   ]
  },
  {
   "cell_type": "code",
   "execution_count": null,
   "id": "initial_id",
   "metadata": {
    "ExecuteTime": {
     "end_time": "2025-01-13T18:16:06.320703Z",
     "start_time": "2025-01-13T18:15:57.135584Z"
    },
    "collapsed": true,
    "execution": {
     "iopub.execute_input": "2025-01-18T06:41:44.071822Z",
     "iopub.status.busy": "2025-01-18T06:41:44.071822Z",
     "iopub.status.idle": "2025-01-18T06:41:54.897816Z",
     "shell.execute_reply": "2025-01-18T06:41:54.897223Z"
    }
   },
   "outputs": [],
   "source": [
    "\n",
    "import os\n",
    "from IPython import get_ipython\n",
    "get_ipython().run_line_magic(\"matplotlib\", \"inline\")\n",
    "from torchvision.transforms import Compose, Resize, InterpolationMode, ToTensor, Normalize, RandomCrop, RandomHorizontalFlip\n",
    "import torch\n",
    "from code.classifier import CNNPneumoniaClassifier, Config\n",
    "from code.plot_random_image import plot_random_image_from_loader\n",
    "from code.classify_random_images import plot_random_images_with_labels\n",
    "from sklearn.metrics import ConfusionMatrixDisplay, confusion_matrix\n",
    "import matplotlib.pyplot as plt\n",
    "\n"
   ]
  },
  {
   "cell_type": "code",
   "execution_count": null,
   "id": "4376ace1b8695239",
   "metadata": {
    "ExecuteTime": {
     "end_time": "2025-01-13T18:16:06.347858Z",
     "start_time": "2025-01-13T18:16:06.328648Z"
    },
    "execution": {
     "iopub.execute_input": "2025-01-18T06:41:54.901785Z",
     "iopub.status.busy": "2025-01-18T06:41:54.901785Z",
     "iopub.status.idle": "2025-01-18T06:41:54.923557Z",
     "shell.execute_reply": "2025-01-18T06:41:54.922519Z"
    }
   },
   "outputs": [],
   "source": [
    "\n",
    "# Load the TensorBoard\n",
    "%reload_ext tensorboard\n",
    "%load_ext tensorboard\n"
   ]
  },
  {
   "cell_type": "code",
   "execution_count": null,
   "id": "69e053f3a82f28da",
   "metadata": {
    "ExecuteTime": {
     "end_time": "2025-01-13T18:16:07.927215Z",
     "start_time": "2025-01-13T18:16:07.922232Z"
    },
    "execution": {
     "iopub.execute_input": "2025-01-18T06:41:54.926544Z",
     "iopub.status.busy": "2025-01-18T06:41:54.926544Z",
     "iopub.status.idle": "2025-01-18T06:41:54.932587Z",
     "shell.execute_reply": "2025-01-18T06:41:54.931655Z"
    }
   },
   "outputs": [],
   "source": [
    "# Enable CUDA Launch Blocking\n",
    "os.environ['CUDA_LAUNCH_BLOCKING'] = '1'\n",
    "# Set float32 matrix multiplication precision to 'medium' to utilize Tensor Cores\n",
    "torch.set_float32_matmul_precision('medium')\n",
    "torch.serialization.add_safe_globals([Compose, Resize, set, Config, InterpolationMode, ToTensor, Normalize, RandomHorizontalFlip])"
   ]
  },
  {
   "cell_type": "markdown",
   "id": "c4e73085475698cb",
   "metadata": {},
   "source": [
    "# Check GPU Availability"
   ]
  },
  {
   "cell_type": "code",
   "execution_count": null,
   "id": "ba465dcd3a376771",
   "metadata": {
    "ExecuteTime": {
     "end_time": "2025-01-13T18:16:08.363285Z",
     "start_time": "2025-01-13T18:16:08.159151Z"
    },
    "execution": {
     "iopub.execute_input": "2025-01-18T06:41:54.935590Z",
     "iopub.status.busy": "2025-01-18T06:41:54.935590Z",
     "iopub.status.idle": "2025-01-18T06:41:55.133171Z",
     "shell.execute_reply": "2025-01-18T06:41:55.132141Z"
    }
   },
   "outputs": [],
   "source": [
    "gpu_info = !nvidia-smi\n",
    "gpu_info = '\\n'.join(gpu_info)\n",
    "if gpu_info.find('failed') >= 0:\n",
    "    print('Not connected to a GPU')\n",
    "else:\n",
    "    print(gpu_info)"
   ]
  },
  {
   "cell_type": "markdown",
   "id": "72000018a252c38",
   "metadata": {},
   "source": [
    "# Setup Model"
   ]
  },
  {
   "cell_type": "code",
   "execution_count": null,
   "id": "4014586acf1f2311",
   "metadata": {
    "ExecuteTime": {
     "end_time": "2025-01-13T18:16:09.193040Z",
     "start_time": "2025-01-13T18:16:08.595061Z"
    },
    "execution": {
     "iopub.execute_input": "2025-01-18T06:41:55.137165Z",
     "iopub.status.busy": "2025-01-18T06:41:55.136160Z",
     "iopub.status.idle": "2025-01-18T06:41:55.813801Z",
     "shell.execute_reply": "2025-01-18T06:41:55.812768Z"
    }
   },
   "outputs": [],
   "source": [
    "config = Config(\n",
    "    backbone_name=\"resnet18\",\n",
    "    transfer_learning=False,\n",
    "    learning_rate=1e-4,\n",
    "    batch_size=20,\n",
    "    max_epochs=50,\n",
    "    weight_decay=1e-4,\n",
    "    dropout=0.2,\n",
    "    num_workers=16,\n",
    "    model_name=\"ResNet18_unfreeze\",\n",
    "    version=\"001\",\n",
    "    optimizer_name = \"sgd\",\n",
    "    use_class_weights=True,\n",
    "    image_res=224,\n",
    "    patience = 10,\n",
    "    image_type=3\n",
    ")\n",
    "model = CNNPneumoniaClassifier(config)\n",
    "device = torch.device(\"cuda\" if torch.cuda.is_available() else \"cpu\")\n",
    "model = model.to(device)\n"
   ]
  },
  {
   "cell_type": "markdown",
   "id": "f9fad1c4b6515630",
   "metadata": {},
   "source": [
    "# Plot random images from all datasets"
   ]
  },
  {
   "cell_type": "code",
   "execution_count": null,
   "id": "484a34133e6799cb",
   "metadata": {
    "ExecuteTime": {
     "end_time": "2025-01-13T17:57:28.133861Z",
     "start_time": "2025-01-13T17:57:27.809133Z"
    },
    "execution": {
     "iopub.execute_input": "2025-01-18T06:41:55.817784Z",
     "iopub.status.busy": "2025-01-18T06:41:55.817784Z",
     "iopub.status.idle": "2025-01-18T06:41:56.092833Z",
     "shell.execute_reply": "2025-01-18T06:41:56.091904Z"
    }
   },
   "outputs": [],
   "source": [
    "plot_random_image_from_loader(model.train_loader.dataset, \"Train Dataset\")"
   ]
  },
  {
   "cell_type": "code",
   "execution_count": null,
   "id": "8fd665ef08dafd7f",
   "metadata": {
    "ExecuteTime": {
     "end_time": "2024-12-07T20:15:30.067007Z",
     "start_time": "2024-12-07T20:15:29.737008Z"
    },
    "execution": {
     "iopub.execute_input": "2025-01-18T06:41:56.096837Z",
     "iopub.status.busy": "2025-01-18T06:41:56.095808Z",
     "iopub.status.idle": "2025-01-18T06:41:56.332910Z",
     "shell.execute_reply": "2025-01-18T06:41:56.331943Z"
    }
   },
   "outputs": [],
   "source": [
    "plot_random_image_from_loader(model.val_loader.dataset, \"Validation Dataset\")"
   ]
  },
  {
   "cell_type": "code",
   "execution_count": null,
   "id": "c3529628b6269dc4",
   "metadata": {
    "ExecuteTime": {
     "end_time": "2024-12-07T20:15:30.373007Z",
     "start_time": "2024-12-07T20:15:30.077007Z"
    },
    "execution": {
     "iopub.execute_input": "2025-01-18T06:41:56.336883Z",
     "iopub.status.busy": "2025-01-18T06:41:56.335923Z",
     "iopub.status.idle": "2025-01-18T06:41:56.561867Z",
     "shell.execute_reply": "2025-01-18T06:41:56.561272Z"
    }
   },
   "outputs": [],
   "source": [
    "plot_random_image_from_loader(model.test_loader.dataset, \"Test Dataset\")"
   ]
  },
  {
   "cell_type": "markdown",
   "id": "9f803b343bf2619b",
   "metadata": {},
   "source": [
    "# Train Model"
   ]
  },
  {
   "cell_type": "code",
   "execution_count": null,
   "id": "d08c054aa7b21aa",
   "metadata": {
    "ExecuteTime": {
     "end_time": "2024-12-02T20:49:38.979398Z",
     "start_time": "2024-12-02T20:34:28.410350Z"
    },
    "execution": {
     "iopub.execute_input": "2025-01-18T06:41:56.567839Z",
     "iopub.status.busy": "2025-01-18T06:41:56.566849Z",
     "iopub.status.idle": "2025-01-18T07:06:39.773163Z",
     "shell.execute_reply": "2025-01-18T07:06:39.772151Z"
    }
   },
   "outputs": [],
   "source": [
    "\n",
    "# Train Model - Uncomment to train model\n",
    "#model.train_model()\n",
    "#torch.save({\n",
    "#    \"state_dict\": model.state_dict(),\n",
    "#    \"config\": vars(config)\n",
    "#}, f\"../models/{config.model_name}_final.pt\")"
   ]
  },
  {
   "cell_type": "markdown",
   "id": "389fe2c9d480ef8b",
   "metadata": {},
   "source": [
    "# Load Model"
   ]
  },
  {
   "cell_type": "code",
   "execution_count": null,
   "id": "1fa424496604d224",
   "metadata": {
    "ExecuteTime": {
     "end_time": "2025-01-13T18:16:09.819525Z",
     "start_time": "2025-01-13T18:16:09.430586Z"
    },
    "execution": {
     "iopub.execute_input": "2025-01-18T07:06:39.777150Z",
     "iopub.status.busy": "2025-01-18T07:06:39.776150Z",
     "iopub.status.idle": "2025-01-18T07:06:40.269103Z",
     "shell.execute_reply": "2025-01-18T07:06:40.268109Z"
    }
   },
   "outputs": [],
   "source": [
    "\n",
    "checkpoint = torch.load(f\"../models/{config.model_name}_final.pt\")\n",
    "loaded_config = Config(**checkpoint[\"config\"])\n",
    "model = CNNPneumoniaClassifier(loaded_config)\n",
    "model.load_state_dict(checkpoint[\"state_dict\"])\n",
    "model.eval()\n",
    "model = model.to(device)"
   ]
  },
  {
   "cell_type": "markdown",
   "id": "8b74b21135f88787",
   "metadata": {},
   "source": [
    "# Test Model"
   ]
  },
  {
   "cell_type": "code",
   "execution_count": null,
   "id": "b3ada03ddef1ef1a",
   "metadata": {
    "ExecuteTime": {
     "end_time": "2025-01-13T17:58:00.923127Z",
     "start_time": "2025-01-13T17:57:37.009762Z"
    },
    "execution": {
     "iopub.execute_input": "2025-01-18T07:06:40.274131Z",
     "iopub.status.busy": "2025-01-18T07:06:40.273108Z",
     "iopub.status.idle": "2025-01-18T07:09:53.660185Z",
     "shell.execute_reply": "2025-01-18T07:09:53.659161Z"
    }
   },
   "outputs": [],
   "source": [
    "# Run testing\n",
    "print(\"Testing the model...\")\n",
    "checkpoint_path = f\"../checkpoints/{config.model_name}.ckpt\"\n",
    "test_metadata = model.test_model(checkpoint_path)  # Ensure this uses the correct test_loader"
   ]
  },
  {
   "cell_type": "markdown",
   "id": "980063058cafcab9",
   "metadata": {},
   "source": [
    "# Plot Confusion Matrix"
   ]
  },
  {
   "cell_type": "code",
   "execution_count": null,
   "id": "d1339a78e765a1d",
   "metadata": {
    "ExecuteTime": {
     "end_time": "2024-12-07T20:17:25.067257Z",
     "start_time": "2024-12-07T20:16:13.949541Z"
    },
    "execution": {
     "iopub.execute_input": "2025-01-18T07:09:53.664186Z",
     "iopub.status.busy": "2025-01-18T07:09:53.663187Z",
     "iopub.status.idle": "2025-01-18T07:13:02.145088Z",
     "shell.execute_reply": "2025-01-18T07:13:02.144092Z"
    }
   },
   "outputs": [],
   "source": [
    "def plot_confusion_matrix(model, dataloader, class_names):\n",
    "    all_preds = []\n",
    "    all_labels = []\n",
    "\n",
    "    # Get predictions and true labels\n",
    "    device = torch.device(\"cuda\" if torch.cuda.is_available() else \"cpu\")\n",
    "    model = model.to(device)\n",
    "    model.eval()\n",
    "    with torch.no_grad():\n",
    "        for data, labels, _ in dataloader:\n",
    "            data = data.cuda()  # Move data to GPU if available\n",
    "            labels = labels.cuda()\n",
    "            preds = torch.argmax(model(data), dim=1)\n",
    "            all_preds.extend(preds.cpu().numpy())\n",
    "            all_labels.extend(labels.cpu().numpy())\n",
    "\n",
    "    # Compute confusion matrix\n",
    "    cm = confusion_matrix(all_labels, all_preds)\n",
    "    disp = ConfusionMatrixDisplay(cm, display_labels=class_names)\n",
    "    disp.plot(cmap=\"Blues\")\n",
    "    plt.title(\"Confusion Matrix\")\n",
    "    plt.show()\n",
    "\n",
    "# Call this after training/testing\n",
    "plot_confusion_matrix(model, model.test_loader, class_names=[\"Normal\", \"Pneumonia\"])"
   ]
  },
  {
   "cell_type": "markdown",
   "id": "dcfca44f0df1056b",
   "metadata": {},
   "source": [
    "# Plot ROC/AUC Score"
   ]
  },
  {
   "cell_type": "code",
   "execution_count": null,
   "id": "e76ce3f3a224e341",
   "metadata": {
    "ExecuteTime": {
     "end_time": "2024-12-07T20:17:35.769791Z",
     "start_time": "2024-12-07T20:17:26.272469Z"
    },
    "execution": {
     "iopub.execute_input": "2025-01-18T07:13:02.149131Z",
     "iopub.status.busy": "2025-01-18T07:13:02.149131Z",
     "iopub.status.idle": "2025-01-18T07:13:06.141153Z",
     "shell.execute_reply": "2025-01-18T07:13:06.140201Z"
    }
   },
   "outputs": [],
   "source": [
    "from sklearn.metrics import roc_curve, roc_auc_score\n",
    "\n",
    "def plot_roc_auc(model, dataloader):\n",
    "    all_preds = []\n",
    "    all_labels = []\n",
    "\n",
    "    # Get predictions and true labels\n",
    "    model.eval()\n",
    "    with torch.no_grad():\n",
    "        for data, labels, _ in dataloader:\n",
    "            data = data.cuda()\n",
    "            labels = labels.cuda()\n",
    "            preds = model(data)\n",
    "            probs = torch.softmax(preds, dim=1)[:, 1]  # Probabilities for class 1\n",
    "            all_preds.extend(probs.cpu().numpy())\n",
    "            all_labels.extend(labels.cpu().numpy())\n",
    "\n",
    "    # Compute ROC curve and AUC\n",
    "    fpr, tpr, _ = roc_curve(all_labels, all_preds)\n",
    "    auc = roc_auc_score(all_labels, all_preds)\n",
    "\n",
    "    # Plot ROC curve\n",
    "    plt.figure()\n",
    "    plt.plot(fpr, tpr, color='darkorange', lw=2, label=f'ROC curve (AUC = {auc:.2f})')\n",
    "    plt.plot([0, 1], [0, 1], color='navy', lw=2, linestyle='--')\n",
    "    plt.xlabel('False Positive Rate')\n",
    "    plt.ylabel('True Positive Rate')\n",
    "    plt.title('ROC Curve')\n",
    "    plt.legend(loc=\"lower right\")\n",
    "    plt.show()\n",
    "\n",
    "plot_roc_auc(model, model.test_loader)"
   ]
  },
  {
   "cell_type": "markdown",
   "id": "7ede0abe2194aaec",
   "metadata": {},
   "source": [
    "# Plot Gradcam"
   ]
  },
  {
   "cell_type": "code",
   "execution_count": null,
   "id": "f63382fe6cdfe619",
   "metadata": {
    "ExecuteTime": {
     "end_time": "2025-01-13T18:16:36.436657Z",
     "start_time": "2025-01-13T18:16:35.414033Z"
    },
    "execution": {
     "iopub.execute_input": "2025-01-18T07:13:06.147147Z",
     "iopub.status.busy": "2025-01-18T07:13:06.146153Z",
     "iopub.status.idle": "2025-01-18T07:13:07.381147Z",
     "shell.execute_reply": "2025-01-18T07:13:07.380147Z"
    }
   },
   "outputs": [],
   "source": [
    "for param in model.feature_extractor.parameters():\n",
    "    param.requires_grad = True\n",
    "model.visualize_gradcam(num_samples=4, target_layer=7, class_names=[\"Normal\", \"Pneumonia\"], threshold=0.5)\n"
   ]
  },
  {
   "cell_type": "markdown",
   "id": "1f602b5c09fdb60",
   "metadata": {},
   "source": [
    "# Evaluate Metrics in Tensorboard"
   ]
  },
  {
   "cell_type": "code",
   "execution_count": null,
   "id": "41a571c74fefdaeb",
   "metadata": {
    "ExecuteTime": {
     "end_time": "2024-12-07T20:17:39.754427Z",
     "start_time": "2024-12-07T20:17:39.679103Z"
    },
    "execution": {
     "iopub.execute_input": "2025-01-18T07:13:07.386146Z",
     "iopub.status.busy": "2025-01-18T07:13:07.386146Z",
     "iopub.status.idle": "2025-01-18T07:13:13.474797Z",
     "shell.execute_reply": "2025-01-18T07:13:13.473810Z"
    }
   },
   "outputs": [],
   "source": [
    "# Load TensorBoard extension\n",
    "%load_ext tensorboard\n",
    "\n",
    "# Specify the log directory\n",
    "log_dir = f\"tb_logs/{config.model_name}\"\n",
    "\n",
    "# Start TensorBoard\n",
    "%tensorboard --logdir {log_dir}"
   ]
  },
  {
   "cell_type": "markdown",
   "id": "dd4ed1a3bb63373a",
   "metadata": {},
   "source": [
    "# Classify random images"
   ]
  },
  {
   "cell_type": "code",
   "execution_count": null,
   "id": "dd1605ee6782ad12",
   "metadata": {
    "ExecuteTime": {
     "end_time": "2024-12-07T20:17:48.946160Z",
     "start_time": "2024-12-07T20:17:41.022803Z"
    },
    "execution": {
     "iopub.execute_input": "2025-01-18T07:13:13.478805Z",
     "iopub.status.busy": "2025-01-18T07:13:13.478805Z",
     "iopub.status.idle": "2025-01-18T07:13:17.503305Z",
     "shell.execute_reply": "2025-01-18T07:13:17.502284Z"
    }
   },
   "outputs": [],
   "source": [
    "plot_random_images_with_labels(model, model.test_loader, num_images=20)"
   ]
  }
 ],
 "metadata": {
  "kernelspec": {
   "display_name": "Python 3",
   "language": "python",
   "name": "python3"
  },
  "language_info": {
   "codemirror_mode": {
    "name": "ipython",
    "version": 3
   },
   "file_extension": ".py",
   "mimetype": "text/x-python",
   "name": "python",
   "nbconvert_exporter": "python",
   "pygments_lexer": "ipython3",
   "version": "3.12.8"
  }
 },
 "nbformat": 4,
 "nbformat_minor": 5
}
